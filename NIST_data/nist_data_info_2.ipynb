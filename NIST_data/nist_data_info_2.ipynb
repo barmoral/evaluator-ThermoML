{
 "cells": [
  {
   "cell_type": "markdown",
   "metadata": {},
   "source": [
    "# Core Imports and Setup"
   ]
  },
  {
   "cell_type": "code",
   "execution_count": 1,
   "metadata": {},
   "outputs": [],
   "source": [
    "import os\n",
    "import pandas as pd\n",
    "from pathlib import Path\n",
    "\n",
    "import warnings\n",
    "warnings.filterwarnings(\"ignore\")\n",
    "\n",
    "import logging\n",
    "# logging.getLogger(\"openff.toolkit\").setLevel(logging.ERROR)\n",
    "# logging.basicConfig(level=logging.DEBUG)\n",
    "\n",
    "import json\n",
    "from openff import toolkit, evaluator"
   ]
  },
  {
   "cell_type": "code",
   "execution_count": 2,
   "metadata": {},
   "outputs": [],
   "source": [
    "from rdkit import Chem\n",
    "from rdkit.Chem.Draw import IPythonConsole\n",
    "from rdkit.Chem import Draw, MolFromSmiles\n",
    "from rdkit.Chem.Draw import MolsToGridImage, rdMolDraw2D, MolsMatrixToGridImage\n",
    "import pubchempy\n",
    "from PIL import Image, ImageDraw, ImageFont\n",
    "IPythonConsole.ipython_useSVG=False  #< set this to False if you want PNGs instead of SVGs"
   ]
  },
  {
   "cell_type": "code",
   "execution_count": 3,
   "metadata": {},
   "outputs": [],
   "source": [
    "from rdkit.Chem import rdMolDescriptors\n",
    "import pubchempy as pcp\n",
    "import math"
   ]
  },
  {
   "cell_type": "code",
   "execution_count": 4,
   "metadata": {},
   "outputs": [],
   "source": [
    "from openff.evaluator.datasets import PhysicalProperty, PropertyPhase\n",
    "from openff.evaluator.datasets.thermoml import thermoml_property\n",
    "from openff.evaluator import properties\n",
    "from openff.units import unit\n",
    "from openff.evaluator.datasets.thermoml import ThermoMLDataSet\n",
    "from openff.evaluator.datasets import PhysicalProperty, PropertyPhase, PhysicalPropertyDataSet"
   ]
  },
  {
   "cell_type": "code",
   "execution_count": 5,
   "metadata": {},
   "outputs": [],
   "source": [
    "from openff.evaluator.datasets.curation.components.filtering import FilterByPropertyTypes, FilterByPropertyTypesSchema\n",
    "from openff.evaluator.datasets.curation.components.filtering import FilterByTemperature, FilterByTemperatureSchema\n",
    "from openff.evaluator.datasets.curation.components.filtering import FilterByPressure, FilterByPressureSchema\n",
    "from openff.evaluator.datasets.curation.components.filtering import FilterBySmiles, FilterBySmilesSchema\n",
    "from openff.evaluator.datasets.curation.components.filtering import FilterByNComponents, FilterByNComponentsSchema\n"
   ]
  },
  {
   "cell_type": "markdown",
   "metadata": {},
   "source": [
    "# Functions"
   ]
  },
  {
   "cell_type": "code",
   "execution_count": 6,
   "metadata": {},
   "outputs": [],
   "source": [
    "def get_smiles(data_set_choice):\n",
    "    print(f'Number of initial data points: {len(data_set_choice)}')\n",
    "    subs=list(set(data_set_choice.substances))\n",
    "    print(f'Number of individual mixtures: {len(subs)}')\n",
    "    smiles_list=[]\n",
    "    comps=[]\n",
    "\n",
    "    for i in subs:\n",
    "        if len(i.components) == 3:\n",
    "            comps.append(i.components[0].smiles)\n",
    "            comps.append(i.components[1].smiles)\n",
    "            comps.append(i.components[2].smiles)\n",
    "        elif len(i.components) == 2:\n",
    "            comps.append(i.components[0].smiles)\n",
    "            comps.append(i.components[1].smiles)\n",
    "        elif len(i.components) == 1:\n",
    "            comps.append(i.components[0].smiles)\n",
    "\n",
    "    # comps.remove('O')\n",
    "\n",
    "    [smiles_list.append(o) for o in set(comps)]\n",
    "\n",
    "    print(f'Number of individual components: {len(smiles_list)}')\n",
    "\n",
    "    return(smiles_list)"
   ]
  },
  {
   "cell_type": "code",
   "execution_count": 7,
   "metadata": {},
   "outputs": [],
   "source": [
    "def smiles_to_figures(smiles_list):\n",
    "    func_group_mols=[]\n",
    "    matchlegend=[]\n",
    "    for m in set(smiles_list):\n",
    "        if m != 'O':\n",
    "            compounds=pubchempy.get_compounds(m, namespace='smiles')\n",
    "            match = compounds[0]\n",
    "            match_name=str(match.iupac_name)\n",
    "            matchlegend.append(match_name)\n",
    "            mol=Chem.MolFromSmiles(m)\n",
    "            func_group_mols.append(mol)\n",
    "    init_fig=MolsToGridImage(mols=func_group_mols, legends=matchlegend, molsPerRow=10, returnPNG=False)\n",
    "    return init_fig"
   ]
  },
  {
   "cell_type": "code",
   "execution_count": 8,
   "metadata": {},
   "outputs": [],
   "source": [
    "def smiles_to_iupac(df, smiles_column, new_column_name='IUPAC'):\n",
    " \n",
    "    iupac_names = []\n",
    "\n",
    "\n",
    "    for smiles in df[smiles_column]:\n",
    "        try:\n",
    "            # Convert the SMILES string to a molecule object using RDKit\n",
    "            mol = Chem.MolFromSmiles(smiles)\n",
    "            \n",
    "            if mol: \n",
    "                # Get the molecular formula for reference (not necessary)\n",
    "                formula = rdMolDescriptors.CalcMolFormula(mol)\n",
    "                \n",
    "                # Use PubChemPy to search for the IUPAC name by molecular formula or SMILES\n",
    "                compounds = pcp.get_compounds(smiles, 'smiles')\n",
    "                \n",
    "                if compounds:\n",
    "                    iupac_name = compounds[0].iupac_name  # Get the IUPAC name from the first match\n",
    "                else:\n",
    "                    iupac_name = None\n",
    "            else:\n",
    "                iupac_name = None\n",
    "        except Exception as e:\n",
    "            iupac_name = None\n",
    "        \n",
    "        # Append the IUPAC name (or None) to the list\n",
    "        iupac_names.append(iupac_name)\n",
    "\n",
    "    # Find the position of the reference column (smiles_column)\n",
    "    col_position = df.columns.get_loc(smiles_column)\n",
    "    \n",
    "    # Insert the new column with IUPAC names right next to the SMILES column\n",
    "    df.insert(col_position + 1, new_column_name, iupac_names)\n",
    "\n",
    "    return df\n",
    "\n"
   ]
  },
  {
   "cell_type": "code",
   "execution_count": 9,
   "metadata": {},
   "outputs": [],
   "source": [
    "def get_unique_temperature_pressure_strict(data, component_columns=['Component 1', 'Component 2']):\n",
    "    \"\"\"\n",
    "    Loops through a dataframe and returns a dictionary where each unique\n",
    "    combination of specified component columns is a key. The value for each key is \n",
    "    a dictionary containing a unique list of tuples with temperatures and pressures for that mixture \n",
    "    and the count of occurrences of each unique mixture.\n",
    "\n",
    "    Parameters:\n",
    "    - data (pd.DataFrame): DataFrame containing the data\n",
    "    - component_columns (list): List of column names representing the mixture components\n",
    "                                 Defaults to ['Component 1', 'Component 2', 'Component 3'].\n",
    "\n",
    "    Returns:\n",
    "    - dict: A dictionary with unique mixtures as keys and a dictionary with temperature-pressure\n",
    "            information and counts as values.\n",
    "    \"\"\"\n",
    "    mixtures_dict = {}\n",
    "    unique_mixtures = set()\n",
    "\n",
    "\n",
    "    for _, row in data.iterrows():\n",
    "        # Create a tuple of the mixture components\n",
    "        mixture_key = tuple(row[component] for component in component_columns)\n",
    "\n",
    "        # Add to unique mixtures set (ignores duplicates)\n",
    "        unique_mixtures.add(mixture_key)\n",
    "        \n",
    "        # Extract temperature and pressure\n",
    "        temp_pressure = (row['Temperature (K)'], row['Pressure (kPa)'])\n",
    "        \n",
    "        # Only add to the dictionary if both temperature and pressure are valid numbers\n",
    "        if not (math.isnan(temp_pressure[0]) or math.isnan(temp_pressure[1])):\n",
    "            if mixture_key not in mixtures_dict:\n",
    "                mixtures_dict[mixture_key] = {\"temp_pressures\": set(), \"count\": 0}\n",
    "            \n",
    "            # Add the temperature-pressure pair and increment the count\n",
    "            mixtures_dict[mixture_key][\"temp_pressures\"].add(temp_pressure)\n",
    "            mixtures_dict[mixture_key][\"count\"] += 1\n",
    "\n",
    "    # Convert the sets back to lists for readability\n",
    "    mixtures_dict = {\n",
    "        key: {\"temp_pressures\": list(value[\"temp_pressures\"]), \"count\": value[\"count\"]}\n",
    "        for key, value in mixtures_dict.items()\n",
    "    }\n",
    "    \n",
    "    # Add deduplicated list of unique mixtures\n",
    "    mixtures_dict['unique_mixtures'] = list(unique_mixtures)\n",
    "    \n",
    "    return mixtures_dict\n"
   ]
  },
  {
   "cell_type": "code",
   "execution_count": 10,
   "metadata": {},
   "outputs": [],
   "source": [
    "def get_unique_temperature_pressure_for_mixtures(data, component_columns=['Component 1', 'Component 2', 'Component 3']):\n",
    "    \"\"\"\n",
    "    Loops through a dataframe and returns a dictionary where each unique\n",
    "    combination of specified component columns is a key. The value for each key is \n",
    "    a dictionary containing a unique list of tuples with temperatures and pressures for that mixture \n",
    "    and the count of occurrences of each unique mixture.\n",
    "\n",
    "    Parameters:\n",
    "    - data (pd.DataFrame): DataFrame containing the data\n",
    "    - component_columns (list): List of column names representing the mixture components\n",
    "                                 Defaults to ['Component 1', 'Component 2', 'Component 3'].\n",
    "\n",
    "    Returns:\n",
    "    - dict: A dictionary with unique mixtures as keys and a dictionary with temperature-pressure\n",
    "            information and counts as values.\n",
    "    \"\"\"\n",
    "    mixtures_dict = {}\n",
    "    unique_mixtures = set()\n",
    "\n",
    "\n",
    "    for _, row in data.iterrows():\n",
    "        # Create a tuple of the mixture components\n",
    "        mixture_key = tuple(row[component] for component in component_columns)\n",
    "\n",
    "        # Add to unique mixtures set (ignores duplicates)\n",
    "        unique_mixtures.add(mixture_key)\n",
    "        \n",
    "        # Extract temperature and pressure\n",
    "        temp_pressure = (row['Temperature (K)'], row['Pressure (kPa)'])\n",
    "        \n",
    "        # Only add to the dictionary if both temperature and pressure are valid numbers\n",
    "        if not (math.isnan(temp_pressure[0]) or math.isnan(temp_pressure[1])):\n",
    "            if mixture_key not in mixtures_dict:\n",
    "                mixtures_dict[mixture_key] = {\"temp_pressures\": set(), \"count\": 0}\n",
    "            \n",
    "            # Add the temperature-pressure pair and increment the count\n",
    "            mixtures_dict[mixture_key][\"temp_pressures\"].add(temp_pressure)\n",
    "            mixtures_dict[mixture_key][\"count\"] += 1\n",
    "\n",
    "    # Convert the sets back to lists for readability\n",
    "    mixtures_dict = {\n",
    "        key: {\"temp_pressures\": list(value[\"temp_pressures\"]), \"count\": value[\"count\"]}\n",
    "        for key, value in mixtures_dict.items()\n",
    "    }\n",
    "    \n",
    "    # Add deduplicated list of unique mixtures\n",
    "    mixtures_dict['unique_mixtures'] = list(unique_mixtures)\n",
    "    \n",
    "    return mixtures_dict\n"
   ]
  },
  {
   "cell_type": "code",
   "execution_count": 11,
   "metadata": {},
   "outputs": [],
   "source": [
    "def extract_data_dois(dois_json,csv_cached):\n",
    "    CACHED_PROP_PATH = Path(csv_cached)\n",
    "\n",
    "    if CACHED_PROP_PATH.exists():\n",
    "        prop_df = pd.read_csv(CACHED_PROP_PATH, index_col=0)\n",
    "        # delete rows with underfined thermo params to avoid pesky indexing errors\n",
    "        prop_df = prop_df.dropna(subset=['Temperature (K)'])\n",
    "        prop_df = prop_df.dropna(subset=['Pressure (kPa)'])\n",
    "        data_set = ThermoMLDataSet.from_pandas(prop_df)\n",
    "    else:\n",
    "        with open(dois_json) as f:\n",
    "            doi_dat = json.load(f)\n",
    "            data_set = ThermoMLDataSet.from_doi(*doi_dat['working'])\n",
    "\n",
    "        initial_df = data_set.to_pandas()\n",
    "        with CACHED_PROP_PATH.open('w') as file:\n",
    "            initial_df.to_csv(CACHED_PROP_PATH)\n",
    "    return data_set"
   ]
  },
  {
   "cell_type": "markdown",
   "metadata": {},
   "source": [
    "# Hmix + Density"
   ]
  },
  {
   "cell_type": "markdown",
   "metadata": {},
   "source": [
    "## 1) Loading ThermoML Data Sets"
   ]
  },
  {
   "cell_type": "code",
   "execution_count": 16,
   "metadata": {},
   "outputs": [],
   "source": [
    "# ThermoML\n",
    "hmix_data_set=extract_data_dois('sorted_hmix_dois.json','hmix_data.csv')"
   ]
  },
  {
   "cell_type": "code",
   "execution_count": 17,
   "metadata": {},
   "outputs": [],
   "source": [
    "# Sage\n",
    "hmix_dens_data_set_sage = PhysicalPropertyDataSet.from_json(\"sage-training-set.json\")"
   ]
  },
  {
   "cell_type": "markdown",
   "metadata": {},
   "source": [
    "## 2) Filtering data set"
   ]
  },
  {
   "cell_type": "markdown",
   "metadata": {},
   "source": [
    "### Filtering properties schemas"
   ]
  },
  {
   "cell_type": "code",
   "execution_count": 22,
   "metadata": {},
   "outputs": [],
   "source": [
    "hmix_schema = FilterByPropertyTypesSchema(property_types=[\"EnthalpyOfMixing\"])\n",
    "dens_schema = FilterByPropertyTypesSchema(property_types=[\"Density\"])\n",
    "hmix_dens_schema = FilterByPropertyTypesSchema(property_types=[\"EnthalpyOfMixing\",\"Density\"])\n",
    "ncomp_schema = FilterByNComponentsSchema(n_components=[2])\n",
    "hmix_dens_strict_schema = FilterByPropertyTypesSchema(property_types=[\"EnthalpyOfMixing\",\"Density\"], strict=True)\n",
    "pressure_schema= FilterByPressureSchema(minimum_pressure = 90.0, maximum_pressure = 110.0)\n",
    "temp_schema=FilterByTemperatureSchema(minimum_temperature = 273.15, maximum_temperature=373.0)"
   ]
  },
  {
   "cell_type": "markdown",
   "metadata": {},
   "source": [
    "### ThermoML dois for Hmix of binary mixtures"
   ]
  },
  {
   "cell_type": "code",
   "execution_count": 23,
   "metadata": {},
   "outputs": [
    {
     "name": "stdout",
     "output_type": "stream",
     "text": [
      "47709\n"
     ]
    }
   ],
   "source": [
    "# Hmix + density\n",
    "data_set_hmix_dens= FilterByPropertyTypes.apply(hmix_data_set, hmix_dens_schema)\n",
    "print(len(data_set_hmix_dens))"
   ]
  },
  {
   "cell_type": "code",
   "execution_count": 24,
   "metadata": {},
   "outputs": [
    {
     "name": "stdout",
     "output_type": "stream",
     "text": [
      "41394\n"
     ]
    }
   ],
   "source": [
    "data_set_2comps= FilterByNComponents.apply(data_set_hmix_dens, ncomp_schema)\n",
    "print(len(data_set_2comps))"
   ]
  },
  {
   "cell_type": "code",
   "execution_count": 25,
   "metadata": {},
   "outputs": [
    {
     "name": "stdout",
     "output_type": "stream",
     "text": [
      "20001\n"
     ]
    }
   ],
   "source": [
    "data_set_hmix_dens_strict= FilterByPropertyTypes.apply(data_set_2comps, hmix_dens_strict_schema)\n",
    "print(len(data_set_hmix_dens_strict))"
   ]
  },
  {
   "cell_type": "code",
   "execution_count": 27,
   "metadata": {},
   "outputs": [
    {
     "name": "stdout",
     "output_type": "stream",
     "text": [
      "19676\n"
     ]
    }
   ],
   "source": [
    "data_set_hd_strict_usable= FilterByPressure.apply(data_set_hmix_dens_strict, pressure_schema)\n",
    "tml_hd_usable= FilterByTemperature.apply(data_set_hd_strict_usable, temp_schema)\n",
    "print(len(tml_hd_usable))"
   ]
  },
  {
   "cell_type": "code",
   "execution_count": 28,
   "metadata": {},
   "outputs": [],
   "source": [
    "# save for future use\n",
    "tml_hmix_dens_path = Path('tml_filtered_hmix_dens_strict_usable.json')\n",
    "tml_hd_usable.json(tml_hmix_dens_path, format=True)\n",
    "\n",
    "df_hmix_dens=tml_hd_usable.to_pandas()\n",
    "df_hmix_dens.to_csv('tml_hmix_dens_strict_usable_database.csv',index=False)"
   ]
  },
  {
   "cell_type": "code",
   "execution_count": 29,
   "metadata": {},
   "outputs": [],
   "source": [
    "# Hmix only\n",
    "data_set_hmix = FilterByPropertyTypes.apply(hmix_data_set, hmix_schema)\n",
    "data_set_hmix_usable= FilterByPressure.apply(data_set_hmix, pressure_schema)\n",
    "tml_hmix_usable= FilterByTemperature.apply(data_set_hmix_usable, temp_schema)\n",
    "\n",
    "# save for future use\n",
    "tml_hmix_path = Path('tml_filtered_hmix_usable.json')\n",
    "tml_hmix_usable.json(tml_hmix_path, format=True)\n",
    "\n",
    "df_hmix=tml_hmix_usable.to_pandas()\n",
    "df_hmix.to_csv('tml_hmix_usable_database.csv',index=False)\n",
    "# df_hmix.head()\n",
    "# df_hmix.columns.to_list()\n",
    "\n"
   ]
  },
  {
   "cell_type": "code",
   "execution_count": 30,
   "metadata": {},
   "outputs": [],
   "source": [
    "# Density only\n",
    "data_set_dens= FilterByPropertyTypes.apply(hmix_data_set, dens_schema)\n",
    "data_set_dens_usable= FilterByPressure.apply(data_set_dens, pressure_schema)\n",
    "tml_dens_usable= FilterByTemperature.apply(data_set_dens_usable, temp_schema)\n",
    "\n",
    "# save for future use\n",
    "tml_dens_path = Path('tml_filtered_dens_usable.json')\n",
    "tml_dens_usable.json(tml_dens_path, format=True)\n",
    "\n",
    "df_dens=tml_dens_usable.to_pandas()\n",
    "df_dens.to_csv('tml_dens_usable_database.csv',index=False)"
   ]
  },
  {
   "cell_type": "code",
   "execution_count": 37,
   "metadata": {},
   "outputs": [
    {
     "name": "stdout",
     "output_type": "stream",
     "text": [
      "ThermoML - Number of initial data points: 51130\n",
      "ThermoML - Number of hmix+density data points: 19676\n",
      "ThermoML - Number of hmix data points: 27004\n",
      "ThermoML - Number of density data points: 16186\n"
     ]
    }
   ],
   "source": [
    "print(f'ThermoML - Number of initial data points: {len(hmix_data_set)}')\n",
    "print(f'ThermoML - Number of hmix+density data points: {len(tml_hd_usable)}')\n",
    "print(f'ThermoML - Number of hmix data points: {len(tml_hmix_usable)}')\n",
    "print(f'ThermoML - Number of density data points: {len(tml_dens_usable)}')"
   ]
  },
  {
   "cell_type": "code",
   "execution_count": 32,
   "metadata": {},
   "outputs": [],
   "source": [
    "# df_hd_select=df_hmix_dens[(df_hmix_dens['Temperature (K)'] > 273.15) & (df_hmix_dens['Temperature (K)'] < 373.0) & (df_hmix_dens['Pressure (kPa)'] > 90 ) & (df_hmix_dens['Pressure (kPa)'] < 110 )]"
   ]
  },
  {
   "cell_type": "code",
   "execution_count": 33,
   "metadata": {},
   "outputs": [],
   "source": [
    "# df_hd_select.to_csv('tml_usable_hmix_dens.csv', index=False)"
   ]
  },
  {
   "cell_type": "code",
   "execution_count": 34,
   "metadata": {},
   "outputs": [],
   "source": [
    "# df_select=df_osmotic[(df_osmotic['Temperature (K)'] > 293.0) & (df_osmotic['Temperature (K)'] < 300.0) & (df_osmotic['Pressure (kPa)'] == 101 ) & (df_osmotic['N Components'] == 2) & (df_osmotic['Component 2'] == 'O')]\n"
   ]
  },
  {
   "cell_type": "markdown",
   "metadata": {},
   "source": [
    "### Sage hmix+density training set"
   ]
  },
  {
   "cell_type": "code",
   "execution_count": 36,
   "metadata": {},
   "outputs": [
    {
     "name": "stdout",
     "output_type": "stream",
     "text": [
      "943\n"
     ]
    }
   ],
   "source": [
    "# Hmix + density\n",
    "sage_hmix_dens= FilterByPropertyTypes.apply(hmix_dens_data_set_sage, hmix_dens_schema)\n",
    "sage_2comps= FilterByNComponents.apply(sage_hmix_dens, ncomp_schema)\n",
    "sage_hmix_dens_strict= FilterByPropertyTypes.apply(sage_2comps, hmix_dens_strict_schema)\n",
    "\n",
    "sage_hd_strict_usable= FilterByPressure.apply(sage_hmix_dens_strict, pressure_schema)\n",
    "sage_hd_usable= FilterByTemperature.apply(sage_hd_strict_usable, temp_schema)\n",
    "print(len(sage_hd_usable))\n",
    "\n",
    "# save for future use\n",
    "sage_hmix_dens_path = Path('sage_filtered_hmix_dens_strict_usable.json')\n",
    "sage_hd_usable.json(sage_hmix_dens_path, format=True)\n",
    "\n",
    "df_sage_hmix_dens=sage_hd_usable.to_pandas()\n",
    "df_sage_hmix_dens.to_csv('sage_hmix_dens_strict_usable_database.csv',index=False)"
   ]
  },
  {
   "cell_type": "code",
   "execution_count": 38,
   "metadata": {},
   "outputs": [],
   "source": [
    "# Hmix only\n",
    "sage_hmix = FilterByPropertyTypes.apply(hmix_dens_data_set_sage, hmix_schema)\n",
    "sage_hmix_p_usable= FilterByPressure.apply(sage_hmix, pressure_schema)\n",
    "sage_hmix_usable= FilterByTemperature.apply(sage_hmix_p_usable, temp_schema)\n",
    "\n",
    "# save for future use\n",
    "sage_hmix_path = Path('sage_filtered_hmix_usable.json')\n",
    "sage_hmix_usable.json(sage_hmix_path, format=True)\n",
    "\n",
    "df_sage_hmix=sage_hmix_usable.to_pandas()\n",
    "df_sage_hmix.to_csv('sage_hmix_usable_database.csv',index=False)"
   ]
  },
  {
   "cell_type": "code",
   "execution_count": 39,
   "metadata": {},
   "outputs": [],
   "source": [
    "# Density only\n",
    "sage_dens = FilterByPropertyTypes.apply(hmix_dens_data_set_sage, dens_schema)\n",
    "sage_dens_p_usable= FilterByPressure.apply(sage_dens, pressure_schema)\n",
    "sage_dens_usable= FilterByTemperature.apply(sage_dens_p_usable, temp_schema)\n",
    "\n",
    "# save for future use\n",
    "sage_dens_path = Path('sage_filtered_dens_usable.json')\n",
    "sage_dens_usable.json(sage_dens_path, format=True)\n",
    "\n",
    "df_sage_dens=sage_dens_usable.to_pandas()\n",
    "df_sage_dens.to_csv('sage_dens_usable_database.csv',index=False)"
   ]
  },
  {
   "cell_type": "code",
   "execution_count": 40,
   "metadata": {},
   "outputs": [
    {
     "name": "stdout",
     "output_type": "stream",
     "text": [
      "Sage - Number of initial data points: 1032\n",
      "Sage - Number of hmix+density data points: 943\n",
      "Sage - Number of hmix data points: 477\n",
      "Sage - Number of density data points: 555\n"
     ]
    }
   ],
   "source": [
    "print(f'Sage - Number of initial data points: {len(hmix_dens_data_set_sage)}')\n",
    "print(f'Sage - Number of hmix+density data points: {len(sage_hd_usable)}')\n",
    "print(f'Sage - Number of hmix data points: {len(sage_hmix_usable)}')\n",
    "print(f'Sage - Number of density data points: {len(sage_dens_usable)}')"
   ]
  },
  {
   "cell_type": "markdown",
   "metadata": {},
   "source": [
    "## 3) Get data information"
   ]
  },
  {
   "cell_type": "markdown",
   "metadata": {},
   "source": [
    "### ThermoML"
   ]
  },
  {
   "cell_type": "markdown",
   "metadata": {},
   "source": [
    "#### Hmix+dens"
   ]
  },
  {
   "cell_type": "code",
   "execution_count": 41,
   "metadata": {},
   "outputs": [
    {
     "name": "stdout",
     "output_type": "stream",
     "text": [
      "Number of initial data points: 19676\n",
      "Number of individual mixtures: 14201\n",
      "Number of individual components: 141\n"
     ]
    }
   ],
   "source": [
    "hmix_dens_indiv_compnts=get_smiles(tml_hd_usable)\n",
    "hmix_dens_indiv_compnts_df=pd.DataFrame(hmix_dens_indiv_compnts)\n",
    "hmix_dens_indiv_compnts_df.to_csv('tml_hmix_dens_indiv_comps_usable.csv')"
   ]
  },
  {
   "cell_type": "code",
   "execution_count": 42,
   "metadata": {},
   "outputs": [
    {
     "name": "stdout",
     "output_type": "stream",
     "text": [
      "ThermoML - Number of hmix+dens unique mixtures: 360\n"
     ]
    }
   ],
   "source": [
    "# Get the unique mixtures data with counts\n",
    "hmix_dens_unique_mixtures_temperatures_pressures = get_unique_temperature_pressure_strict(df_hmix_dens)\n",
    "\n",
    "# Prepare data for saving to a CSV file, excluding the 'unique_mixtures' entry itself\n",
    "mixtures_list = []\n",
    "\n",
    "for mixture, details in hmix_dens_unique_mixtures_temperatures_pressures.items():\n",
    "    # Skip the 'unique_mixtures' key as it's not part of the temperature/pressure data\n",
    "    if mixture == 'unique_mixtures':\n",
    "        continue\n",
    "    # Extract temperature-pressure pairs and count for each mixture\n",
    "    count = details[\"count\"]\n",
    "    for temp, press in details[\"temp_pressures\"]:\n",
    "        mixtures_list.append({\n",
    "            \"Mixture\": \" | \".join([str(comp) for comp in mixture if pd.notna(comp)]),\n",
    "            \"Temperature\": temp,\n",
    "            \"Pressure\": press,\n",
    "            \"Count\": count\n",
    "        })\n",
    "\n",
    "# Convert to DataFrame\n",
    "mixtures_df = pd.DataFrame(mixtures_list)\n",
    "\n",
    "# Save to CSV with the additional 'Count' column\n",
    "output_path = 'tml_hmix_dens_uniqmix_temp_press_usable.csv'\n",
    "mixtures_df.to_csv(output_path, index=False)\n",
    "\n",
    "# Prepare a list to store each unique mixture and its count for the CSV\n",
    "hmix_dens_umix_list = [\n",
    "    {\n",
    "        \"Mixture\": \" | \".join([str(comp) for comp in mixture if pd.notna(comp)]),\n",
    "        \"Count\": hmix_dens_unique_mixtures_temperatures_pressures[mixture][\"count\"]\n",
    "    }\n",
    "    for mixture in hmix_dens_unique_mixtures_temperatures_pressures[\"unique_mixtures\"]\n",
    "]\n",
    "\n",
    "# Convert to DataFrame\n",
    "hmix_umixtures_df = pd.DataFrame(hmix_dens_umix_list)\n",
    "\n",
    "# Save to CSV with the additional 'Count' column\n",
    "output_path2 = 'tml_hmix_dens_usable_uniqmixs.csv'\n",
    "hmix_umixtures_df.to_csv(output_path2, index=False)\n",
    "\n",
    "print(f'ThermoML - Number of hmix+dens unique mixtures: {len(hmix_dens_umix_list)}')\n"
   ]
  },
  {
   "cell_type": "markdown",
   "metadata": {},
   "source": [
    "##### Hmix"
   ]
  },
  {
   "cell_type": "code",
   "execution_count": 43,
   "metadata": {},
   "outputs": [
    {
     "name": "stdout",
     "output_type": "stream",
     "text": [
      "Number of initial data points: 27004\n",
      "Number of individual mixtures: 23547\n",
      "Number of individual components: 310\n"
     ]
    }
   ],
   "source": [
    "hmix_indiv_compnts=get_smiles(tml_hmix_usable)\n",
    "hmix_indiv_compnts_df=pd.DataFrame(hmix_indiv_compnts)\n",
    "hmix_indiv_compnts_df.to_csv('tml_hmix_indiv_comps_usable.csv')\n"
   ]
  },
  {
   "cell_type": "code",
   "execution_count": 44,
   "metadata": {},
   "outputs": [
    {
     "name": "stdout",
     "output_type": "stream",
     "text": [
      "ThermoML - Number of hmix unique mixtures: 1158\n"
     ]
    }
   ],
   "source": [
    "# Get the unique mixtures data with counts\n",
    "hmix_unique_mixtures_temperatures_pressures = get_unique_temperature_pressure_for_mixtures(df_hmix)\n",
    "\n",
    "# Prepare data for saving to a CSV file, excluding the 'unique_mixtures' entry itself\n",
    "mixtures_list = []\n",
    "\n",
    "for mixture, details in hmix_unique_mixtures_temperatures_pressures.items():\n",
    "    # Skip the 'unique_mixtures' key as it's not part of the temperature/pressure data\n",
    "    if mixture == 'unique_mixtures':\n",
    "        continue\n",
    "    # Extract temperature-pressure pairs and count for each mixture\n",
    "    count = details[\"count\"]\n",
    "    for temp, press in details[\"temp_pressures\"]:\n",
    "        mixtures_list.append({\n",
    "            \"Mixture\": \" | \".join([str(comp) for comp in mixture if pd.notna(comp)]),\n",
    "            \"Temperature\": temp,\n",
    "            \"Pressure\": press,\n",
    "            \"Count\": count\n",
    "        })\n",
    "\n",
    "# Convert to DataFrame\n",
    "mixtures_df = pd.DataFrame(mixtures_list)\n",
    "\n",
    "# Save to CSV with the additional 'Count' column\n",
    "output_path = 'tml_hmix_uniqmix_temp_press_usable.csv'\n",
    "mixtures_df.to_csv(output_path, index=False)\n",
    "\n",
    "# Prepare a list to store each unique mixture and its count for the CSV\n",
    "hmix_umix_list = [\n",
    "    {\n",
    "        \"Mixture\": \" | \".join([str(comp) for comp in mixture if pd.notna(comp)]),\n",
    "        \"Count\": hmix_unique_mixtures_temperatures_pressures[mixture][\"count\"]\n",
    "    }\n",
    "    for mixture in hmix_unique_mixtures_temperatures_pressures[\"unique_mixtures\"]\n",
    "]\n",
    "\n",
    "# Convert to DataFrame\n",
    "hmix_umixtures_df = pd.DataFrame(hmix_umix_list)\n",
    "\n",
    "# Save to CSV with the additional 'Count' column\n",
    "output_path2 = 'tml_hmix_uniqmixs_usable.csv'\n",
    "hmix_umixtures_df.to_csv(output_path2, index=False)\n",
    "\n",
    "print(f'ThermoML - Number of hmix unique mixtures: {len(hmix_umix_list)}')"
   ]
  },
  {
   "cell_type": "markdown",
   "metadata": {},
   "source": [
    "#### Density"
   ]
  },
  {
   "cell_type": "code",
   "execution_count": 45,
   "metadata": {},
   "outputs": [
    {
     "name": "stdout",
     "output_type": "stream",
     "text": [
      "Number of initial data points: 16186\n",
      "Number of individual mixtures: 8809\n",
      "Number of individual components: 254\n"
     ]
    }
   ],
   "source": [
    "dens_indiv_compnts=get_smiles(tml_dens_usable)\n",
    "dens_indiv_compnts_df=pd.DataFrame(dens_indiv_compnts)\n",
    "dens_indiv_compnts_df.to_csv('tml_dens_indiv_comps_usable.csv')"
   ]
  },
  {
   "cell_type": "code",
   "execution_count": 46,
   "metadata": {},
   "outputs": [
    {
     "name": "stdout",
     "output_type": "stream",
     "text": [
      "ThermoML - Number of dens unique mixtures: 656\n"
     ]
    }
   ],
   "source": [
    "# Get the unique mixtures data with counts\n",
    "dens_unique_mixtures_temperatures_pressures = get_unique_temperature_pressure_for_mixtures(df_dens)\n",
    "\n",
    "# Prepare data for saving to a CSV file, excluding the 'unique_mixtures' entry itself\n",
    "mixtures_list = []\n",
    "\n",
    "for mixture, details in dens_unique_mixtures_temperatures_pressures.items():\n",
    "    # Skip the 'unique_mixtures' key as it's not part of the temperature/pressure data\n",
    "    if mixture == 'unique_mixtures':\n",
    "        continue\n",
    "    # Extract temperature-pressure pairs and count for each mixture\n",
    "    count = details[\"count\"]\n",
    "    for temp, press in details[\"temp_pressures\"]:\n",
    "        mixtures_list.append({\n",
    "            \"Mixture\": \" | \".join([str(comp) for comp in mixture if pd.notna(comp)]),\n",
    "            \"Temperature\": temp,\n",
    "            \"Pressure\": press,\n",
    "            \"Count\": count\n",
    "        })\n",
    "\n",
    "# Convert to DataFrame\n",
    "mixtures_df = pd.DataFrame(mixtures_list)\n",
    "\n",
    "# Save to CSV with the additional 'Count' column\n",
    "output_path = 'tml_dens_uniqmix_temp_press_usable.csv'\n",
    "mixtures_df.to_csv(output_path, index=False)\n",
    "\n",
    "# Prepare a list to store each unique mixture and its count for the CSV\n",
    "dens_umix_list = [\n",
    "    {\n",
    "        \"Mixture\": \" | \".join([str(comp) for comp in mixture if pd.notna(comp)]),\n",
    "        \"Count\": dens_unique_mixtures_temperatures_pressures[mixture][\"count\"]\n",
    "    }\n",
    "    for mixture in dens_unique_mixtures_temperatures_pressures[\"unique_mixtures\"]\n",
    "]\n",
    "\n",
    "# Convert to DataFrame\n",
    "hmix_umixtures_df = pd.DataFrame(dens_umix_list)\n",
    "\n",
    "# Save to CSV with the additional 'Count' column\n",
    "output_path2 = 'tml_dens_uniqmixs_usable.csv'\n",
    "hmix_umixtures_df.to_csv(output_path2, index=False)\n",
    "\n",
    "print(f'ThermoML - Number of dens unique mixtures: {len(dens_umix_list)}')"
   ]
  },
  {
   "cell_type": "markdown",
   "metadata": {},
   "source": [
    "### Sage"
   ]
  },
  {
   "cell_type": "markdown",
   "metadata": {},
   "source": [
    "#### Hmix + Density"
   ]
  },
  {
   "cell_type": "code",
   "execution_count": 47,
   "metadata": {},
   "outputs": [
    {
     "name": "stdout",
     "output_type": "stream",
     "text": [
      "Number of initial data points: 943\n",
      "Number of individual mixtures: 927\n",
      "Number of individual components: 109\n"
     ]
    }
   ],
   "source": [
    "sage_hmix_dens_indiv_compnts=get_smiles(sage_hd_usable)\n",
    "sage_hmix_dens_indiv_compnts_df=pd.DataFrame(sage_hmix_dens_indiv_compnts)\n",
    "sage_hmix_dens_indiv_compnts_df.to_csv('sage_hmix_dens_indiv_comps_usable.csv')"
   ]
  },
  {
   "cell_type": "code",
   "execution_count": 48,
   "metadata": {},
   "outputs": [
    {
     "name": "stdout",
     "output_type": "stream",
     "text": [
      "Sage - Number of hmix+dens unique mixtures: 159\n"
     ]
    }
   ],
   "source": [
    "# Get the unique mixtures data with counts\n",
    "sage_hmix_dens_unique_mixtures_temperatures_pressures = get_unique_temperature_pressure_strict(df_sage_hmix_dens,component_columns=['Component 1', 'Component 2'])\n",
    "\n",
    "# Prepare data for saving to a CSV file, excluding the 'unique_mixtures' entry itself\n",
    "mixtures_list = []\n",
    "\n",
    "for mixture, details in sage_hmix_dens_unique_mixtures_temperatures_pressures.items():\n",
    "    # Skip the 'unique_mixtures' key as it's not part of the temperature/pressure data\n",
    "    if mixture == 'unique_mixtures':\n",
    "        continue\n",
    "    # Extract temperature-pressure pairs and count for each mixture\n",
    "    count = details[\"count\"]\n",
    "    for temp, press in details[\"temp_pressures\"]:\n",
    "        mixtures_list.append({\n",
    "            \"Mixture\": \" | \".join([str(comp) for comp in mixture if pd.notna(comp)]),\n",
    "            \"Temperature\": temp,\n",
    "            \"Pressure\": press,\n",
    "            \"Count\": count\n",
    "        })\n",
    "\n",
    "# Convert to DataFrame\n",
    "mixtures_df = pd.DataFrame(mixtures_list)\n",
    "\n",
    "# Save to CSV with the additional 'Count' column\n",
    "output_path = 'sage_hmix_dens_uniqmix_temp_press_usable.csv'\n",
    "mixtures_df.to_csv(output_path, index=False)\n",
    "\n",
    "# Prepare a list to store each unique mixture and its count for the CSV\n",
    "hmix_dens_umix_list = [\n",
    "    {\n",
    "        \"Mixture\": \" | \".join([str(comp) for comp in mixture if pd.notna(comp)]),\n",
    "        \"Count\": sage_hmix_dens_unique_mixtures_temperatures_pressures[mixture][\"count\"]\n",
    "    }\n",
    "    for mixture in sage_hmix_dens_unique_mixtures_temperatures_pressures[\"unique_mixtures\"]\n",
    "]\n",
    "\n",
    "# Convert to DataFrame\n",
    "hmix_umixtures_df = pd.DataFrame(hmix_dens_umix_list)\n",
    "\n",
    "# Save to CSV with the additional 'Count' column\n",
    "output_path2 = 'sage_hmix_dens_uniqmixs_usable.csv'\n",
    "hmix_umixtures_df.to_csv(output_path2, index=False)\n",
    "\n",
    "print(f'Sage - Number of hmix+dens unique mixtures: {len(hmix_dens_umix_list)}')"
   ]
  },
  {
   "cell_type": "markdown",
   "metadata": {},
   "source": [
    "#### Hmix"
   ]
  },
  {
   "cell_type": "code",
   "execution_count": 49,
   "metadata": {},
   "outputs": [
    {
     "name": "stdout",
     "output_type": "stream",
     "text": [
      "Number of initial data points: 477\n",
      "Number of individual mixtures: 477\n",
      "Number of individual components: 110\n"
     ]
    }
   ],
   "source": [
    "sage_hmix_indiv_compnts=get_smiles(sage_hmix_usable)\n",
    "sage_hmix_indiv_compnts_df=pd.DataFrame(sage_hmix_indiv_compnts)\n",
    "sage_hmix_indiv_compnts_df.to_csv('sage_hmix_indiv_comps_usable.csv')"
   ]
  },
  {
   "cell_type": "code",
   "execution_count": 50,
   "metadata": {},
   "outputs": [
    {
     "name": "stdout",
     "output_type": "stream",
     "text": [
      "Sage - Number of hmix unique mixtures: 160\n"
     ]
    }
   ],
   "source": [
    "# Get the unique mixtures data with counts\n",
    "sage_hmix_unique_mixtures_temperatures_pressures = get_unique_temperature_pressure_for_mixtures(df_sage_hmix,component_columns=['Component 1', 'Component 2'])\n",
    "\n",
    "# Prepare data for saving to a CSV file, excluding the 'unique_mixtures' entry itself\n",
    "mixtures_list = []\n",
    "\n",
    "for mixture, details in sage_hmix_unique_mixtures_temperatures_pressures.items():\n",
    "    # Skip the 'unique_mixtures' key as it's not part of the temperature/pressure data\n",
    "    if mixture == 'unique_mixtures':\n",
    "        continue\n",
    "    # Extract temperature-pressure pairs and count for each mixture\n",
    "    count = details[\"count\"]\n",
    "    for temp, press in details[\"temp_pressures\"]:\n",
    "        mixtures_list.append({\n",
    "            \"Mixture\": \" | \".join([str(comp) for comp in mixture if pd.notna(comp)]),\n",
    "            \"Temperature\": temp,\n",
    "            \"Pressure\": press,\n",
    "            \"Count\": count\n",
    "        })\n",
    "\n",
    "# Convert to DataFrame\n",
    "mixtures_df = pd.DataFrame(mixtures_list)\n",
    "\n",
    "# Save to CSV with the additional 'Count' column\n",
    "output_path = 'sage_hmix_uniqmix_temp_press_usable.csv'\n",
    "mixtures_df.to_csv(output_path, index=False)\n",
    "\n",
    "# Prepare a list to store each unique mixture and its count for the CSV\n",
    "hmix_umix_list = [\n",
    "    {\n",
    "        \"Mixture\": \" | \".join([str(comp) for comp in mixture if pd.notna(comp)]),\n",
    "        \"Count\": sage_hmix_unique_mixtures_temperatures_pressures[mixture][\"count\"]\n",
    "    }\n",
    "    for mixture in sage_hmix_unique_mixtures_temperatures_pressures[\"unique_mixtures\"]\n",
    "]\n",
    "\n",
    "# Convert to DataFrame\n",
    "hmix_umixtures_df = pd.DataFrame(hmix_umix_list)\n",
    "\n",
    "# Save to CSV with the additional 'Count' column\n",
    "output_path2 = 'sage_hmix_uniqmixs_usable.csv'\n",
    "hmix_umixtures_df.to_csv(output_path2, index=False)\n",
    "\n",
    "print(f'Sage - Number of hmix unique mixtures: {len(hmix_umix_list)}')"
   ]
  },
  {
   "cell_type": "markdown",
   "metadata": {},
   "source": [
    "#### Density"
   ]
  },
  {
   "cell_type": "code",
   "execution_count": 51,
   "metadata": {},
   "outputs": [
    {
     "name": "stdout",
     "output_type": "stream",
     "text": [
      "Number of initial data points: 555\n",
      "Number of individual mixtures: 555\n",
      "Number of individual components: 121\n"
     ]
    }
   ],
   "source": [
    "sage_dens_indiv_compnts=get_smiles(sage_dens_usable)\n",
    "sage_dens_indiv_compnts_df=pd.DataFrame(sage_dens_indiv_compnts)\n",
    "sage_dens_indiv_compnts_df.to_csv('sage_dens_indiv_comps_usable.csv')"
   ]
  },
  {
   "cell_type": "code",
   "execution_count": 52,
   "metadata": {},
   "outputs": [
    {
     "name": "stdout",
     "output_type": "stream",
     "text": [
      "Sage - Number of dens unique mixtures: 234\n"
     ]
    }
   ],
   "source": [
    "# Get the unique mixtures data with counts\n",
    "sage_dens_unique_mixtures_temperatures_pressures = get_unique_temperature_pressure_for_mixtures(df_sage_dens,component_columns=['Component 1', 'Component 2'])\n",
    "\n",
    "# Prepare data for saving to a CSV file, excluding the 'unique_mixtures' entry itself\n",
    "mixtures_list = []\n",
    "\n",
    "for mixture, details in sage_dens_unique_mixtures_temperatures_pressures.items():\n",
    "    # Skip the 'unique_mixtures' key as it's not part of the temperature/pressure data\n",
    "    if mixture == 'unique_mixtures':\n",
    "        continue\n",
    "    # Extract temperature-pressure pairs and count for each mixture\n",
    "    count = details[\"count\"]\n",
    "    for temp, press in details[\"temp_pressures\"]:\n",
    "        mixtures_list.append({\n",
    "            \"Mixture\": \" | \".join([str(comp) for comp in mixture if pd.notna(comp)]),\n",
    "            \"Temperature\": temp,\n",
    "            \"Pressure\": press,\n",
    "            \"Count\": count\n",
    "        })\n",
    "\n",
    "# Convert to DataFrame\n",
    "mixtures_df = pd.DataFrame(mixtures_list)\n",
    "\n",
    "# Save to CSV with the additional 'Count' column\n",
    "output_path = 'sage_dens_uniqmix_temp_press_usable.csv'\n",
    "mixtures_df.to_csv(output_path, index=False)\n",
    "\n",
    "# Prepare a list to store each unique mixture and its count for the CSV\n",
    "dens_umix_list = [\n",
    "    {\n",
    "        \"Mixture\": \" | \".join([str(comp) for comp in mixture if pd.notna(comp)]),\n",
    "        \"Count\": sage_dens_unique_mixtures_temperatures_pressures[mixture][\"count\"]\n",
    "    }\n",
    "    for mixture in sage_dens_unique_mixtures_temperatures_pressures[\"unique_mixtures\"]\n",
    "]\n",
    "\n",
    "# Convert to DataFrame\n",
    "dens_umixtures_df = pd.DataFrame(dens_umix_list)\n",
    "\n",
    "# Save to CSV with the additional 'Count' column\n",
    "output_path2 = 'sage_dens_uniqmixs_usable.csv'\n",
    "dens_umixtures_df.to_csv(output_path2, index=False)\n",
    "\n",
    "print(f'Sage - Number of dens unique mixtures: {len(dens_umix_list)}')"
   ]
  },
  {
   "cell_type": "markdown",
   "metadata": {},
   "source": [
    "# Osmotic Coefficients"
   ]
  },
  {
   "cell_type": "markdown",
   "metadata": {},
   "source": [
    "## 0) Registering Custom ThermoML Properties"
   ]
  },
  {
   "cell_type": "code",
   "execution_count": 53,
   "metadata": {},
   "outputs": [
    {
     "data": {
      "text/plain": [
       "functools.partial(<function _default_mapping at 0x7f20d01decb0>, <class '__main__.OsmoticCoefficient'>)"
      ]
     },
     "execution_count": 53,
     "metadata": {},
     "output_type": "execute_result"
    }
   ],
   "source": [
    "@thermoml_property(\"Osmotic coefficient\", supported_phases=PropertyPhase.Liquid | PropertyPhase.Gas)\n",
    "class OsmoticCoefficient(PhysicalProperty):\n",
    "    \"\"\"A class representation of a osmotic coeff property\"\"\"\n",
    "\n",
    "    @classmethod\n",
    "    def default_unit(cls):\n",
    "        return unit.dimensionless\n",
    "    \n",
    "setattr(properties, OsmoticCoefficient.__name__, OsmoticCoefficient)\n",
    "\n",
    "ThermoMLDataSet.registered_properties['Osmotic coefficient'].conversion_function"
   ]
  },
  {
   "cell_type": "markdown",
   "metadata": {},
   "source": [
    "## 1) Loading ThermoML Data Sets"
   ]
  },
  {
   "cell_type": "code",
   "execution_count": 54,
   "metadata": {},
   "outputs": [],
   "source": [
    "oc_data_set=extract_data_dois('sorted_oc_dois.json','osmotic_data.csv')"
   ]
  },
  {
   "cell_type": "markdown",
   "metadata": {},
   "source": [
    "## 2) Filtering data set"
   ]
  },
  {
   "cell_type": "code",
   "execution_count": 57,
   "metadata": {},
   "outputs": [],
   "source": [
    "schema = FilterByPropertyTypesSchema(property_types=[\"OsmoticCoefficient\"], strict=False)"
   ]
  },
  {
   "cell_type": "code",
   "execution_count": 59,
   "metadata": {},
   "outputs": [],
   "source": [
    "data_set_osmotic = FilterByPropertyTypes.apply(oc_data_set, schema)"
   ]
  },
  {
   "cell_type": "code",
   "execution_count": 60,
   "metadata": {},
   "outputs": [],
   "source": [
    "data_set_oc_p= FilterByPressure.apply(data_set_osmotic, pressure_schema)"
   ]
  },
  {
   "cell_type": "code",
   "execution_count": 61,
   "metadata": {},
   "outputs": [],
   "source": [
    "tml_oc_usable= FilterByTemperature.apply(data_set_oc_p, temp_schema)"
   ]
  },
  {
   "cell_type": "code",
   "execution_count": 62,
   "metadata": {},
   "outputs": [],
   "source": [
    "\n",
    "# save for future use\n",
    "tml_oc_path = Path('tml_filtered_oc_usable.json')\n",
    "tml_oc_usable.json(tml_oc_path, format=True)\n",
    "\n",
    "df_osmotic=tml_oc_usable.to_pandas()\n",
    "df_osmotic.to_csv('osmotic_usable_database.csv',index=False)\n",
    "# df_osmotic.head()\n",
    "# df_osmotic.columns.to_list()\n"
   ]
  },
  {
   "cell_type": "code",
   "execution_count": 63,
   "metadata": {},
   "outputs": [
    {
     "name": "stdout",
     "output_type": "stream",
     "text": [
      "Number of initial data points: 3390\n",
      "Number of osmotic coefficient data points: 2711\n"
     ]
    }
   ],
   "source": [
    "print(f'Number of initial data points: {len(oc_data_set)}')\n",
    "print(f'Number of osmotic coefficient data points: {len(tml_oc_usable)}')"
   ]
  },
  {
   "cell_type": "markdown",
   "metadata": {},
   "source": [
    "## 3) Get data information"
   ]
  },
  {
   "cell_type": "code",
   "execution_count": 64,
   "metadata": {},
   "outputs": [
    {
     "name": "stdout",
     "output_type": "stream",
     "text": [
      "Number of initial data points: 2711\n",
      "Number of individual mixtures: 1356\n",
      "Number of individual components: 58\n"
     ]
    }
   ],
   "source": [
    "oc_indiv_compnts=get_smiles(tml_oc_usable)\n",
    "oc_indiv_compnts_df=pd.DataFrame(oc_indiv_compnts)\n",
    "oc_indiv_compnts_df.to_csv('osmotic_indiv_comps_usable.csv')\n"
   ]
  },
  {
   "cell_type": "code",
   "execution_count": 65,
   "metadata": {},
   "outputs": [
    {
     "name": "stdout",
     "output_type": "stream",
     "text": [
      "Number of unique mixtures: 103\n"
     ]
    }
   ],
   "source": [
    "# Get the unique mixtures data with counts\n",
    "osmotic_unique_mixtures_temperatures_pressures = get_unique_temperature_pressure_for_mixtures(df_osmotic)\n",
    "\n",
    "# Prepare data for saving to a CSV file, excluding the 'unique_mixtures' entry itself\n",
    "mixtures_list = []\n",
    "\n",
    "for mixture, details in osmotic_unique_mixtures_temperatures_pressures.items():\n",
    "    # Skip the 'unique_mixtures' key as it's not part of the temperature/pressure data\n",
    "    if mixture == 'unique_mixtures':\n",
    "        continue\n",
    "    # Extract temperature-pressure pairs and count for each mixture\n",
    "    count = details[\"count\"]\n",
    "    for temp, press in details[\"temp_pressures\"]:\n",
    "        mixtures_list.append({\n",
    "            \"Mixture\": \" | \".join([str(comp) for comp in mixture if pd.notna(comp)]),\n",
    "            \"Temperature\": temp,\n",
    "            \"Pressure\": press,\n",
    "            \"Count\": count\n",
    "        })\n",
    "\n",
    "mixtures_df = pd.DataFrame(mixtures_list)\n",
    "\n",
    "output_path = 'osmotic_unique_mixtures_temperatures_pressures_usable.csv'\n",
    "mixtures_df.to_csv(output_path, index=False)\n",
    "\n",
    "# Prepare a list to store each unique mixture and its count for the CSV\n",
    "oc_umix_list = [\n",
    "    {\n",
    "        \"Mixture\": \" | \".join([str(comp) for comp in mixture if pd.notna(comp)]),\n",
    "        \"Count\": osmotic_unique_mixtures_temperatures_pressures[mixture][\"count\"]\n",
    "    }\n",
    "    for mixture in osmotic_unique_mixtures_temperatures_pressures[\"unique_mixtures\"]\n",
    "]\n",
    "\n",
    "oc_umixtures_df = pd.DataFrame(oc_umix_list)\n",
    "\n",
    "output_path2 = 'osmotic_unique_mixs_usable.csv'\n",
    "oc_umixtures_df.to_csv(output_path2, index=False)\n",
    "\n",
    "print(f'Number of unique mixtures: {len(oc_umix_list)}')\n"
   ]
  },
  {
   "cell_type": "code",
   "execution_count": null,
   "metadata": {},
   "outputs": [],
   "source": []
  }
 ],
 "metadata": {
  "kernelspec": {
   "display_name": "evaluator-openff",
   "language": "python",
   "name": "python3"
  },
  "language_info": {
   "codemirror_mode": {
    "name": "ipython",
    "version": 3
   },
   "file_extension": ".py",
   "mimetype": "text/x-python",
   "name": "python",
   "nbconvert_exporter": "python",
   "pygments_lexer": "ipython3",
   "version": "3.10.13"
  },
  "orig_nbformat": 4
 },
 "nbformat": 4,
 "nbformat_minor": 2
}
