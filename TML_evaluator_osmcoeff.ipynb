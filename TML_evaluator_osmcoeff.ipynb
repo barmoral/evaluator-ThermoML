{
 "cells": [
  {
   "cell_type": "markdown",
   "metadata": {},
   "source": [
    "# Core Imports and Setup"
   ]
  },
  {
   "cell_type": "code",
   "execution_count": 1,
   "metadata": {},
   "outputs": [],
   "source": [
    "import os\n",
    "from pathlib import Path\n",
    "\n",
    "import warnings\n",
    "warnings.filterwarnings(\"ignore\")\n",
    "\n",
    "import logging\n",
    "# logging.basicConfig(level=logging.DEBUG)\n",
    "logging.getLogger(\"openff.toolkit\").setLevel(logging.ERROR)\n",
    "\n",
    "from openff import toolkit, evaluator\n",
    "\n",
    "import pandas as pd\n",
    "import json"
   ]
  },
  {
   "cell_type": "code",
   "execution_count": 2,
   "metadata": {},
   "outputs": [],
   "source": [
    "from openff.evaluator.datasets import PhysicalProperty, PropertyPhase\n",
    "from openff.evaluator.datasets.thermoml import thermoml_property\n",
    "from openff.evaluator import properties\n",
    "from openff.units import unit"
   ]
  },
  {
   "cell_type": "code",
   "execution_count": 3,
   "metadata": {},
   "outputs": [],
   "source": [
    "from openff.evaluator.datasets import PhysicalProperty, PropertyPhase\n",
    "from openff.evaluator.datasets.thermoml import thermoml_property\n",
    "from openff.units import unit\n",
    "from openff.evaluator.datasets.thermoml import ThermoMLDataSet\n",
    "from openff.evaluator.datasets.thermoml.thermoml import _Compound\n",
    "from openff.toolkit import Molecule\n",
    "from rdkit import Chem\n",
    "from rdkit.Chem.Draw import IPythonConsole"
   ]
  },
  {
   "cell_type": "markdown",
   "metadata": {},
   "source": [
    "# 0) Registering Custom ThermoML Properties"
   ]
  },
  {
   "cell_type": "code",
   "execution_count": 5,
   "metadata": {},
   "outputs": [],
   "source": [
    "@thermoml_property(\"Osmotic coefficient\", supported_phases=PropertyPhase.Liquid | PropertyPhase.Gas)\n",
    "class OsmoticCoefficient(PhysicalProperty):\n",
    "    \"\"\"A class representation of a osmotic coeff property\"\"\"\n",
    "\n",
    "    @classmethod\n",
    "    def default_unit(cls):\n",
    "        return unit.dimensionless\n",
    "    \n",
    "setattr(properties, OsmoticCoefficient.__name__, OsmoticCoefficient)"
   ]
  },
  {
   "cell_type": "markdown",
   "metadata": {},
   "source": [
    "# 1) - Loading ThermoML Data Sets"
   ]
  },
  {
   "cell_type": "markdown",
   "metadata": {},
   "source": [
    "### Testing OpenEye (and other) chemical resolvers"
   ]
  },
  {
   "cell_type": "code",
   "execution_count": null,
   "metadata": {},
   "outputs": [],
   "source": [
    "# smi = 'C([C@@H]1[C@@H]2[C@@H]([C@H]([C@H](O1)O[C@@H]3[C@H](O[C@@H]([C@@H]([C@H]3O)O)O[C@@H]4[C@H](O[C@@H]([C@@H]([C@H]4O)O)O[C@@H]5[C@H](O[C@@H]([C@@H]([C@H]5O)O)O[C@@H]6[C@H](O[C@@H]([C@@H]([C@H]6O)O)O[C@@H]7[C@H](O[C@H](O2)[C@@H]([C@H]7O)O)CO)CO)CO)CO)CO)O)O)O'\n",
    "# Chem.MolFromSmiles(smi)"
   ]
  },
  {
   "cell_type": "code",
   "execution_count": null,
   "metadata": {},
   "outputs": [],
   "source": [
    "import cirpy\n",
    "\n",
    "cirpy.resolve('1,4-benzenediol', 'smiles')"
   ]
  },
  {
   "cell_type": "code",
   "execution_count": null,
   "metadata": {},
   "outputs": [],
   "source": [
    "mol = Molecule.from_iupac('1,4-benzenediol')\n",
    "mol.visualize()"
   ]
  },
  {
   "cell_type": "code",
   "execution_count": null,
   "metadata": {},
   "outputs": [],
   "source": [
    "import pubchempy as pcp"
   ]
  },
  {
   "cell_type": "code",
   "execution_count": null,
   "metadata": {},
   "outputs": [],
   "source": [
    "pcp.get_compounds('p-quinol', namespace='iupac_name')"
   ]
  },
  {
   "cell_type": "markdown",
   "metadata": {},
   "source": [
    "### Custom query over ThermoML xml"
   ]
  },
  {
   "cell_type": "code",
   "execution_count": null,
   "metadata": {},
   "outputs": [],
   "source": [
    "import requests\n",
    "from urllib.error import HTTPError\n",
    "from xml.etree import ElementTree\n",
    "\n",
    "\n",
    "doi = '10.1021/je800307g'\n",
    "url = f\"https://trc.nist.gov/ThermoML/{doi}.xml\"\n",
    "try:\n",
    "    request = requests.get(url)\n",
    "    request.raise_for_status()\n",
    "\n",
    "    # Handle the case where ThermoML returns a 404 error code, but rather\n",
    "    # redirects to an error page with code 200.\n",
    "    if request.text.startswith(\"<html>\"):\n",
    "        raise HTTPError(url, 404, \"Not found\", None, None)\n",
    "\n",
    "except (HTTPError, requests.exceptions.HTTPError):\n",
    "    print(f\"No ThermoML file could not be found at {url}\")"
   ]
  },
  {
   "cell_type": "code",
   "execution_count": null,
   "metadata": {},
   "outputs": [],
   "source": [
    "import re\n",
    "from collections import defaultdict\n",
    "from openff.toolkit.utils.exceptions import InvalidIUPACNameError\n",
    "\n",
    "tree = ElementTree.fromstring(request.text)\n",
    "\n",
    "namespace_string = re.search(r\"{.*\\}\", tree.tag).group(0)[1:-1]\n",
    "namespace = {\"ThermoML\": namespace_string}\n",
    "\n",
    "xml_res = []\n",
    "for node in tree.findall(\"ThermoML:Compound\", namespace):\n",
    "    inchi_identifier_nodes  = node.findall(\"ThermoML:sStandardInChI\", namespace)\n",
    "    smiles_identifier_nodes = node.findall(\"ThermoML:sSmiles\", namespace)\n",
    "    common_identifier_nodes = node.findall(\"ThermoML:sCommonName\", namespace)\n",
    "\n",
    "    querydict = defaultdict(dict)\n",
    "    for inchi_node in inchi_identifier_nodes:\n",
    "        inchi_key = inchi_node.text\n",
    "        rdmol = Chem.MolFromInchi(inchi_key)\n",
    "        querydict['Inchi'][inchi_key] = rdmol\n",
    "\n",
    "    for subnode in common_identifier_nodes:\n",
    "        common_name = subnode.text\n",
    "        try:\n",
    "            mol = Molecule.from_iupac(common_name)\n",
    "            querydict['Common name'][common_name] = True\n",
    "            # offmoldict[common_name] = mol\n",
    "        except InvalidIUPACNameError:\n",
    "            querydict['Common name'][common_name] = False\n",
    "    xml_res.append(querydict)"
   ]
  },
  {
   "cell_type": "code",
   "execution_count": null,
   "metadata": {},
   "outputs": [],
   "source": [
    "inchi = 'InChI=1S/C36H60O30/c37-1-7-25-13(43)19(49)31(55-7)62-26-8(2-38)57-33(21(51)15(26)45)64-28-10(4-40)59-35(23(53)17(28)47)66-30-12(6-42)60-36(24(54)18(30)48)65-29-11(5-41)58-34(22(52)16(29)46)63-27-9(3-39)56-32(61-25)20(50)14(27)44/h7-54H,1-6H2/t7-,8-,9-,10-,11-,12-,13-,14-,15-,16-,17-,18-,19-,20-,21-,22-,23-,24-,25-,26-,27-,28-,29-,30-,31-,32-,33-,34-,35-,36-/m1/s1'\n",
    "smi = cirpy.resolve(inchi, 'smiles')\n",
    "mol = Chem.MolFromSmiles(smi)\n",
    "display(mol)"
   ]
  },
  {
   "cell_type": "code",
   "execution_count": null,
   "metadata": {},
   "outputs": [],
   "source": []
  },
  {
   "cell_type": "code",
   "execution_count": null,
   "metadata": {},
   "outputs": [],
   "source": []
  },
  {
   "cell_type": "markdown",
   "metadata": {},
   "source": [
    "## Extracting data from ThermoML"
   ]
  },
  {
   "cell_type": "code",
   "execution_count": 6,
   "metadata": {},
   "outputs": [
    {
     "name": "stderr",
     "output_type": "stream",
     "text": [
      "DEBUG:urllib3.connectionpool:Starting new HTTPS connection (1): trc.nist.gov:443\n",
      "DEBUG:urllib3.connectionpool:https://trc.nist.gov:443 \"GET /ThermoML/10.1021/je800307g.xml HTTP/1.1\" 200 3964\n",
      "DEBUG:charset_normalizer:Encoding detection: utf_8 is most likely the one.\n",
      "DEBUG:charset_normalizer:Encoding detection: utf_8 is most likely the one.\n",
      "DEBUG:root:An unsupported property was found ((Relative) activity) and will be skipped.\n",
      "DEBUG:root:An unsupported property was found ((Relative) activity) and will be skipped.\n"
     ]
    }
   ],
   "source": [
    "import logging\n",
    "logging.basicConfig(level=logging.DEBUG)\n",
    "\n",
    "data_set = ThermoMLDataSet.from_doi('10.1021/je800307g')\n",
    "# data_set.substances"
   ]
  },
  {
   "cell_type": "code",
   "execution_count": null,
   "metadata": {},
   "outputs": [],
   "source": [
    "# import logging\n",
    "# logging.basicConfig(level=logging.DEBUG)\n",
    "\n",
    "# with open('sorted_dois.json') as f:\n",
    "#     doi_dat = json.load(f)\n",
    "#     data_set = ThermoMLDataSet.from_doi(*doi_dat['working'])a"
   ]
  },
  {
   "cell_type": "code",
   "execution_count": null,
   "metadata": {},
   "outputs": [],
   "source": [
    "len(data_set), data_set.property_types"
   ]
  },
  {
   "cell_type": "code",
   "execution_count": null,
   "metadata": {},
   "outputs": [],
   "source": [
    "from openff.evaluator.datasets.curation.components.filtering import FilterByPropertyTypes, FilterByPropertyTypesSchema\n",
    "from openff.evaluator.datasets.curation.components.filtering import FilterByNComponents, FilterByNComponentsSchema\n",
    "\n",
    "data_set = FilterByNComponents.apply(\n",
    "    data_set, FilterByNComponentsSchema(n_components=[2])\n",
    ")\n",
    "\n",
    "print(len(data_set))"
   ]
  },
  {
   "cell_type": "code",
   "execution_count": null,
   "metadata": {},
   "outputs": [],
   "source": [
    "df = data_set.to_pandas()\n",
    "df.to_csv(\"filtered_data_set_1.csv\")"
   ]
  },
  {
   "cell_type": "code",
   "execution_count": null,
   "metadata": {},
   "outputs": [],
   "source": [
    "# liqgas = df[df['Phase'] == 'Liquid + Gas']\n",
    "# liqgas"
   ]
  },
  {
   "cell_type": "code",
   "execution_count": null,
   "metadata": {},
   "outputs": [],
   "source": [
    "# df['Component 2'].unique()"
   ]
  },
  {
   "cell_type": "code",
   "execution_count": null,
   "metadata": {},
   "outputs": [],
   "source": [
    "# Chem.MolFromSmiles('CC(=O)[O-].[K+]')"
   ]
  },
  {
   "cell_type": "markdown",
   "metadata": {},
   "source": [
    "## Filtering data set"
   ]
  },
  {
   "cell_type": "code",
   "execution_count": null,
   "metadata": {},
   "outputs": [],
   "source": [
    "from openff.evaluator.datasets.curation.components.filtering import FilterByPropertyTypes, FilterByPropertyTypesSchema\n",
    "from openff.evaluator.datasets.curation.components.filtering import FilterByTemperature, FilterByTemperatureSchema\n",
    "from openff.evaluator.datasets.curation.components.filtering import FilterByPressure, FilterByPressureSchema\n",
    "from openff.evaluator.datasets.curation.components.filtering import FilterBySmiles, FilterBySmilesSchema\n",
    "\n",
    "# Property\n",
    "data_set = FilterByPropertyTypes.apply(\n",
    "    data_set, FilterByPropertyTypesSchema(property_types=[\"OsmoticCoefficient\"])\n",
    ")\n",
    "print(f\"There are now {len(data_set)} properties after filtering\")"
   ]
  },
  {
   "cell_type": "code",
   "execution_count": null,
   "metadata": {},
   "outputs": [],
   "source": [
    "data_set.to_pandas()"
   ]
  },
  {
   "cell_type": "code",
   "execution_count": null,
   "metadata": {},
   "outputs": [],
   "source": [
    "from openff.evaluator.datasets.curation.components.filtering import FilterByPropertyTypes, FilterByPropertyTypesSchema\n",
    "from openff.evaluator.datasets.curation.components.filtering import FilterByTemperature, FilterByTemperatureSchema\n",
    "from openff.evaluator.datasets.curation.components.filtering import FilterByPressure, FilterByPressureSchema\n",
    "from openff.evaluator.datasets.curation.components.filtering import FilterBySmiles, FilterBySmilesSchema\n",
    "\n",
    "# # Property\n",
    "# data_set = FilterByPropertyTypes.apply(\n",
    "#     data_set, FilterByPropertyTypesSchema(property_types=[\"Density\"])\n",
    "# )\n",
    "\n",
    "# Temperature\n",
    "data_set = FilterByTemperature.apply(\n",
    "    data_set, FilterByTemperatureSchema(minimum_temperature=295.0, maximum_temperature=305.0)\n",
    ")\n",
    "\n",
    "# Pressure\n",
    "data_set = FilterByPressure.apply(\n",
    "    data_set, FilterByPressureSchema(minimum_pressure=100.0, maximum_pressure=102.0)\n",
    ")\n",
    "\n",
    "# # SMILES\n",
    "# data_set = FilterBySmiles.apply(\n",
    "#     data_set, FilterBySmilesSchema(smiles_to_include=[\"[Na+].[Cl-]\"])\n",
    "# )\n",
    "\n",
    "print(len(data_set))"
   ]
  },
  {
   "cell_type": "code",
   "execution_count": null,
   "metadata": {},
   "outputs": [],
   "source": [
    "pandas_data_set = data_set.to_pandas()\n",
    "pandas_data_set[\n",
    "    [\n",
    "        \"Temperature (K)\",\n",
    "        \"Pressure (kPa)\",\n",
    "        \"Component 1\",\n",
    "        \"OsmoticCoefficient Value ()\",\n",
    "        \"Source\",\n",
    "    ]\n",
    "].head()"
   ]
  },
  {
   "cell_type": "code",
   "execution_count": null,
   "metadata": {},
   "outputs": [],
   "source": [
    "pandas_data_set.to_csv(\"filtered_data_set.csv\")\n",
    "#pandas_data_set.to_excel(\"filtered_data_set.csv\")"
   ]
  },
  {
   "cell_type": "code",
   "execution_count": null,
   "metadata": {},
   "outputs": [],
   "source": []
  }
 ],
 "metadata": {
  "kernelspec": {
   "display_name": "Python 3",
   "language": "python",
   "name": "python3"
  },
  "language_info": {
   "codemirror_mode": {
    "name": "ipython",
    "version": 3
   },
   "file_extension": ".py",
   "mimetype": "text/x-python",
   "name": "python",
   "nbconvert_exporter": "python",
   "pygments_lexer": "ipython3",
   "version": "3.10.13"
  },
  "orig_nbformat": 4
 },
 "nbformat": 4,
 "nbformat_minor": 2
}
