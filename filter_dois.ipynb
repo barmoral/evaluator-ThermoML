{
 "cells": [
  {
   "cell_type": "code",
   "execution_count": 1,
   "metadata": {},
   "outputs": [],
   "source": [
    "from pathlib import Path\n",
    "import json\n",
    "\n",
    "from rich.progress import track\n",
    "from collections import defaultdict\n",
    "\n",
    "from openff.toolkit.utils.exceptions import UndefinedStereochemistryError\n",
    "from openff.evaluator.datasets.thermoml import ThermoMLDataSet"
   ]
  },
  {
   "cell_type": "code",
   "execution_count": 2,
   "metadata": {},
   "outputs": [],
   "source": [
    "PROP_BROWSE_URL = 'https://trc.nist.gov/ThermoML/Browse'\n",
    "osm_coeff_dois = [\n",
    "\"10.1016/j.jct.2013.08.018\",\n",
    "\"10.1016/j.fluid.2016.02.030\",\n",
    "\"10.1016/j.tca.2012.09.009\",\n",
    "\"10.1016/j.fluid.2012.05.002\",\n",
    "\"10.1016/j.fluid.2006.09.025\",\n",
    "\"10.1016/j.jct.2013.05.027\",\n",
    "\"10.1016/j.jct.2009.06.024\",\n",
    "\"10.1016/j.jct.2011.03.012\",\n",
    "\"10.1016/j.jct.2008.12.021\",\n",
    "\"10.1021/je400821q\",\n",
    "\"10.1016/j.fluid.2005.12.016\",\n",
    "\"10.1016/j.fluid.2011.09.037\",\n",
    "\"10.1016/j.jct.2013.01.032\",\n",
    "\"10.1016/j.jct.2016.01.026\",\n",
    "\"10.1021/je4008475\",\n",
    "\"10.1016/j.jct.2013.09.041\",\n",
    "\"10.1016/j.jct.2011.01.010\",\n",
    "\"10.1021/je2009413\",\n",
    "\"10.1016/j.jct.2013.12.002\",\n",
    "\"10.1016/j.jct.2009.12.001\",\n",
    "\"10.1021/je900216m\",\n",
    "\"10.1016/j.jct.2012.02.007\",\n",
    "\"10.1016/j.jct.2011.06.018\",\n",
    "\"10.1016/j.jct.2008.05.011\",\n",
    "\"10.1016/j.fluid.2014.02.004\",\n",
    "\"10.1021/je500772z\",\n",
    "\"10.1021/je100720x\",\n",
    "\"10.1016/j.fluid.2007.03.019\",\n",
    "\"10.1016/j.fluid.2015.07.004\",\n",
    "\"10.1016/j.jct.2008.08.011\",\n",
    "\"10.1016/j.jct.2012.01.007\",\n",
    "\"10.1016/j.fluid.2006.08.020\",\n",
    "\"10.1016/j.fluid.2015.08.035\",\n",
    "\"10.1016/j.jct.2008.07.011\",\n",
    "\"10.1016/j.fluid.2009.02.007\",\n",
    "\"10.1021/je3006985\",\n",
    "\"10.1016/j.fluid.2006.10.012\",\n",
    "\"10.1016/j.jct.2018.08.021\",\n",
    "\"10.1016/j.jct.2017.05.006\",\n",
    "\"10.1016/j.jct.2014.11.014\",\n",
    "\"10.1016/j.jct.2016.07.003\",\n",
    "\"10.1021/acs.jced.5b00184\",\n",
    "\"10.1021/je800609u\",\n",
    "\"10.1021/acs.jced.8b00400\",\n",
    "\"10.1016/j.jct.2014.10.008\",\n",
    "\"10.1016/j.fluid.2012.11.011\",\n",
    "\"10.1021/je100864e\",\n",
    "\"10.1016/j.fluid.2010.03.012\",\n",
    "\"10.1021/je050348f\",\n",
    "\"10.1016/j.jct.2016.06.034\",\n",
    "\"10.1007/s10765-009-0566-6\",\n",
    "\"10.1016/j.fluid.2004.11.022\",\n",
    "\"10.1021/je800307g\",\n",
    "\"10.1021/je100760v\",\n",
    "\"10.1021/je700751a\",\n",
    "\"10.1016/j.jct.2019.105878\",\n",
    "\"10.1016/j.fluid.2015.03.014\",\n",
    "\"10.1016/j.jct.2013.03.003\",\n",
    "\"10.1016/j.jct.2017.09.012\",\n",
    "\"10.1021/je900457z\",\n",
    "\"10.1021/acs.jced.9b00112\",\n",
    "\"10.1016/j.jct.2014.07.010\",\n",
    "\"10.1021/je500271z\",\n",
    "\"10.1016/j.jct.2013.08.018\",\n",
    "\"10.1016/j.fluid.2016.02.030\",\n",
    "\"10.1016/j.tca.2012.09.009\",\n",
    "\"10.1016/j.fluid.2012.05.002\",\n",
    "\"10.1016/j.fluid.2006.09.025\",\n",
    "\"10.1016/j.jct.2013.05.027\",\n",
    "\"10.1016/j.jct.2009.06.024\",\n",
    "\"10.1016/j.jct.2011.03.012\",\n",
    "\"10.1016/j.jct.2008.12.021\",\n",
    "\"10.1021/je400821q\",\n",
    "\"10.1016/j.fluid.2005.12.016\",\n",
    "\"10.1016/j.fluid.2011.09.037\",\n",
    "\"10.1016/j.jct.2013.01.032\",\n",
    "\"10.1016/j.jct.2016.01.026\",\n",
    "\"10.1021/je4008475\",\n",
    "\"10.1016/j.jct.2013.09.041\",\n",
    "\"10.1016/j.jct.2011.01.010\",\n",
    "\"10.1021/je2009413\",\n",
    "\"10.1016/j.jct.2013.12.002\",\n",
    "\"10.1016/j.jct.2009.12.001\",\n",
    "\"10.1021/je900216m\",\n",
    "\"10.1016/j.jct.2012.02.007\",\n",
    "\"10.1016/j.jct.2011.06.018\",\n",
    "\"10.1016/j.jct.2008.05.011\",\n",
    "\"10.1016/j.fluid.2014.02.004\",\n",
    "\"10.1021/je500772z\",\n",
    "\"10.1021/je100720x\",\n",
    "\"10.1016/j.fluid.2007.03.019\",\n",
    "\"10.1016/j.fluid.2015.07.004\",\n",
    "\"10.1016/j.jct.2008.08.011\",\n",
    "\"10.1016/j.jct.2012.01.007\",\n",
    "\"10.1016/j.fluid.2006.08.020\",\n",
    "\"10.1016/j.fluid.2015.08.035\",\n",
    "\"10.1016/j.jct.2008.07.011\",\n",
    "\"10.1016/j.fluid.2009.02.007\",\n",
    "\"10.1021/je3006985\",\n",
    "\"10.1016/j.fluid.2006.10.012\",\n",
    "\"10.1016/j.jct.2018.08.021\",\n",
    "\"10.1016/j.jct.2017.05.006\",\n",
    "\"10.1016/j.jct.2014.11.014\",\n",
    "\"10.1016/j.jct.2016.07.003\",\n",
    "\"10.1021/acs.jced.5b00184\",\n",
    "\"10.1021/je800609u\",\n",
    "\"10.1021/acs.jced.8b00400\",\n",
    "\"10.1016/j.jct.2014.10.008\",\n",
    "\"10.1016/j.fluid.2012.11.011\",\n",
    "\"10.1021/je100864e\",\n",
    "\"10.1016/j.fluid.2010.03.012\",\n",
    "\"10.1021/je050348f\",\n",
    "\"10.1016/j.jct.2016.06.034\",\n",
    "\"10.1007/s10765-009-0566-6\",\n",
    "\"10.1016/j.fluid.2004.11.022\",\n",
    "\"10.1021/je800307g\",\n",
    "\"10.1021/je100760v\",\n",
    "\"10.1021/je700751a\",\n",
    "\"10.1016/j.jct.2019.105878\",\n",
    "\"10.1016/j.fluid.2015.03.014\",\n",
    "\"10.1016/j.jct.2013.03.003\",\n",
    "\"10.1016/j.jct.2017.09.012\",\n",
    "\"10.1021/je900457z\",\n",
    "\"10.1021/acs.jced.9b00112\",\n",
    "\"10.1016/j.jct.2014.07.010\",\n",
    "\"10.1021/je500271z\",\n",
    "\"10.1016/j.jct.2013.08.018\",\n",
    "\"10.1016/j.fluid.2016.02.030\",\n",
    "\"10.1016/j.tca.2012.09.009\",\n",
    "\"10.1016/j.fluid.2012.05.002\",\n",
    "\"10.1016/j.fluid.2006.09.025\",\n",
    "\"10.1016/j.jct.2013.05.027\",\n",
    "\"10.1016/j.jct.2009.06.024\",\n",
    "\"10.1016/j.jct.2011.03.012\",\n",
    "\"10.1016/j.jct.2008.12.021\",\n",
    "\"10.1021/je400821q\",\n",
    "\"10.1016/j.fluid.2005.12.016\",\n",
    "\"10.1016/j.fluid.2011.09.037\",\n",
    "\"10.1016/j.jct.2013.01.032\",\n",
    "\"10.1016/j.jct.2016.01.026\",\n",
    "\"10.1021/je4008475\",\n",
    "\"10.1016/j.jct.2013.09.041\",\n",
    "\"10.1016/j.jct.2011.01.010\",\n",
    "\"10.1021/je2009413\",\n",
    "\"10.1016/j.jct.2013.12.002\",\n",
    "\"10.1016/j.jct.2009.12.001\",\n",
    "\"10.1021/je900216m\",\n",
    "\"10.1016/j.jct.2012.02.007\",\n",
    "\"10.1016/j.jct.2011.06.018\",\n",
    "\"10.1016/j.jct.2008.05.011\",\n",
    "\"10.1016/j.fluid.2014.02.004\",\n",
    "\"10.1021/je500772z\",\n",
    "\"10.1021/je100720x\",\n",
    "\"10.1016/j.fluid.2007.03.019\",\n",
    "\"10.1016/j.fluid.2015.07.004\",\n",
    "\"10.1016/j.jct.2008.08.011\",\n",
    "\"10.1016/j.jct.2012.01.007\",\n",
    "\"10.1016/j.fluid.2006.08.020\",\n",
    "\"10.1016/j.fluid.2015.08.035\",\n",
    "\"10.1016/j.jct.2008.07.011\",\n",
    "\"10.1016/j.fluid.2009.02.007\",\n",
    "\"10.1021/je3006985\",\n",
    "\"10.1016/j.fluid.2006.10.012\",\n",
    "\"10.1016/j.jct.2018.08.021\",\n",
    "\"10.1016/j.jct.2017.05.006\",\n",
    "\"10.1016/j.jct.2014.11.014\",\n",
    "\"10.1016/j.jct.2016.07.003\",\n",
    "\"10.1021/acs.jced.5b00184\",\n",
    "\"10.1021/je800609u\",\n",
    "\"10.1021/acs.jced.8b00400\",\n",
    "\"10.1016/j.jct.2014.10.008\",\n",
    "\"10.1016/j.fluid.2012.11.011\",\n",
    "\"10.1021/je100864e\",\n",
    "\"10.1016/j.fluid.2010.03.012\",\n",
    "\"10.1021/je050348f\",\n",
    "\"10.1016/j.jct.2016.06.034\",\n",
    "\"10.1007/s10765-009-0566-6\",\n",
    "\"10.1016/j.fluid.2004.11.022\",\n",
    "\"10.1021/je800307g\",\n",
    "\"10.1021/je100760v\",\n",
    "\"10.1021/je700751a\",\n",
    "\"10.1016/j.jct.2019.105878\",\n",
    "\"10.1016/j.fluid.2015.03.014\",\n",
    "\"10.1016/j.jct.2013.03.003\",\n",
    "\"10.1016/j.jct.2017.09.012\",\n",
    "\"10.1021/je900457z\",\n",
    "\"10.1021/acs.jced.9b00112\",\n",
    "\"10.1016/j.jct.2014.07.010\",\n",
    "\"10.1021/je500271z\",\n",
    "\"10.1016/j.jct.2013.08.018\",\n",
    "\"10.1016/j.fluid.2016.02.030\",\n",
    "\"10.1016/j.tca.2012.09.009\",\n",
    "\"10.1016/j.fluid.2012.05.002\",\n",
    "\"10.1016/j.fluid.2006.09.025\",\n",
    "\"10.1016/j.jct.2013.05.027\",\n",
    "\"10.1016/j.jct.2009.06.024\",\n",
    "\"10.1016/j.jct.2011.03.012\",\n",
    "\"10.1016/j.jct.2008.12.021\",\n",
    "\"10.1021/je400821q\",\n",
    "\"10.1016/j.fluid.2005.12.016\",\n",
    "\"10.1016/j.fluid.2011.09.037\",\n",
    "\"10.1016/j.jct.2013.01.032\",\n",
    "\"10.1016/j.jct.2016.01.026\",\n",
    "\"10.1021/je4008475\",\n",
    "\"10.1016/j.jct.2013.09.041\",\n",
    "\"10.1016/j.jct.2011.01.010\",\n",
    "\"10.1021/je2009413\",\n",
    "\"10.1016/j.jct.2013.12.002\",\n",
    "\"10.1016/j.jct.2009.12.001\",\n",
    "\"10.1021/je900216m\",\n",
    "\"10.1016/j.jct.2012.02.007\",\n",
    "\"10.1016/j.jct.2011.06.018\",\n",
    "\"10.1016/j.jct.2008.05.011\",\n",
    "\"10.1016/j.fluid.2014.02.004\",\n",
    "\"10.1021/je500772z\",\n",
    "\"10.1021/je100720x\",\n",
    "\"10.1016/j.fluid.2007.03.019\",\n",
    "\"10.1016/j.fluid.2015.07.004\",\n",
    "\"10.1016/j.jct.2008.08.011\",\n",
    "\"10.1016/j.jct.2012.01.007\",\n",
    "\"10.1016/j.fluid.2006.08.020\",\n",
    "\"10.1016/j.fluid.2015.08.035\",\n",
    "\"10.1016/j.jct.2008.07.011\",\n",
    "\"10.1016/j.fluid.2009.02.007\",\n",
    "\"10.1021/je3006985\",\n",
    "\"10.1016/j.fluid.2006.10.012\",\n",
    "\"10.1016/j.jct.2018.08.021\",\n",
    "\"10.1016/j.jct.2017.05.006\",\n",
    "\"10.1016/j.jct.2014.11.014\",\n",
    "\"10.1016/j.jct.2016.07.003\",\n",
    "\"10.1021/acs.jced.5b00184\",\n",
    "\"10.1021/je800609u\",\n",
    "\"10.1021/acs.jced.8b00400\",\n",
    "\"10.1016/j.jct.2014.10.008\",\n",
    "\"10.1016/j.fluid.2012.11.011\",\n",
    "\"10.1021/je100864e\",\n",
    "\"10.1016/j.fluid.2010.03.012\",\n",
    "\"10.1021/je050348f\",\n",
    "\"10.1016/j.jct.2016.06.034\",\n",
    "\"10.1007/s10765-009-0566-6\",\n",
    "\"10.1016/j.fluid.2004.11.022\",\n",
    "\"10.1021/je800307g\",\n",
    "\"10.1021/je100760v\",\n",
    "\"10.1021/je700751a\",\n",
    "\"10.1016/j.jct.2019.105878\",\n",
    "\"10.1016/j.fluid.2015.03.014\",\n",
    "\"10.1016/j.jct.2013.03.003\",\n",
    "\"10.1016/j.jct.2017.09.012\",\n",
    "\"10.1021/je900457z\",\n",
    "\"10.1021/acs.jced.9b00112\",\n",
    "\"10.1016/j.jct.2014.07.010\",\n",
    "\"10.1021/je500271z\",\n",
    "]\n",
    "\n",
    "with Path('osm_coeff_dois.json').open('w') as file:\n",
    "    json.dump(osm_coeff_dois, file, indent=4)"
   ]
  },
  {
   "cell_type": "code",
   "execution_count": 3,
   "metadata": {},
   "outputs": [
    {
     "data": {
      "application/vnd.jupyter.widget-view+json": {
       "model_id": "258c418ef1494ad594d159eb315943fa",
       "version_major": 2,
       "version_minor": 0
      },
      "text/plain": [
       "Output()"
      ]
     },
     "metadata": {},
     "output_type": "display_data"
    },
    {
     "data": {
      "text/html": [
       "<pre style=\"white-space:pre;overflow-x:auto;line-height:normal;font-family:Menlo,'DejaVu Sans Mono',consolas,'Courier New',monospace\">[14:35:25] Explicit valence for atom # 6 Si, 8, is greater than permitted\n",
       "</pre>\n"
      ],
      "text/plain": [
       "[14:35:25] Explicit valence for atom # 6 Si, 8, is greater than permitted\n"
      ]
     },
     "metadata": {},
     "output_type": "display_data"
    },
    {
     "data": {
      "text/html": [
       "<pre style=\"white-space:pre;overflow-x:auto;line-height:normal;font-family:Menlo,'DejaVu Sans Mono',consolas,'Courier New',monospace\">[14:35:25] ERROR: Explicit valence for atom # 6 Si, 8, is greater than permitted\n",
       "</pre>\n"
      ],
      "text/plain": [
       "[14:35:25] ERROR: Explicit valence for atom # 6 Si, 8, is greater than permitted\n"
      ]
     },
     "metadata": {},
     "output_type": "display_data"
    },
    {
     "data": {
      "text/html": [
       "<pre style=\"white-space:pre;overflow-x:auto;line-height:normal;font-family:Menlo,'DejaVu Sans Mono',consolas,'Courier New',monospace\">\n",
       "</pre>\n"
      ],
      "text/plain": [
       "\n"
      ]
     },
     "metadata": {},
     "output_type": "display_data"
    },
    {
     "data": {
      "text/html": [
       "<pre style=\"white-space:pre;overflow-x:auto;line-height:normal;font-family:Menlo,'DejaVu Sans Mono',consolas,'Courier New',monospace\">[14:35:36] Explicit valence for atom # 6 Si, 8, is greater than permitted\n",
       "</pre>\n"
      ],
      "text/plain": [
       "[14:35:36] Explicit valence for atom # 6 Si, 8, is greater than permitted\n"
      ]
     },
     "metadata": {},
     "output_type": "display_data"
    },
    {
     "data": {
      "text/html": [
       "<pre style=\"white-space:pre;overflow-x:auto;line-height:normal;font-family:Menlo,'DejaVu Sans Mono',consolas,'Courier New',monospace\">[14:35:36] ERROR: Explicit valence for atom # 6 Si, 8, is greater than permitted\n",
       "</pre>\n"
      ],
      "text/plain": [
       "[14:35:36] ERROR: Explicit valence for atom # 6 Si, 8, is greater than permitted\n"
      ]
     },
     "metadata": {},
     "output_type": "display_data"
    },
    {
     "data": {
      "text/html": [
       "<pre style=\"white-space:pre;overflow-x:auto;line-height:normal;font-family:Menlo,'DejaVu Sans Mono',consolas,'Courier New',monospace\">\n",
       "</pre>\n"
      ],
      "text/plain": [
       "\n"
      ]
     },
     "metadata": {},
     "output_type": "display_data"
    },
    {
     "data": {
      "text/html": [
       "<pre style=\"white-space:pre;overflow-x:auto;line-height:normal;font-family:Menlo,'DejaVu Sans Mono',consolas,'Courier New',monospace\">[14:35:48] Explicit valence for atom # 6 Si, 8, is greater than permitted\n",
       "</pre>\n"
      ],
      "text/plain": [
       "[14:35:48] Explicit valence for atom # 6 Si, 8, is greater than permitted\n"
      ]
     },
     "metadata": {},
     "output_type": "display_data"
    },
    {
     "data": {
      "text/html": [
       "<pre style=\"white-space:pre;overflow-x:auto;line-height:normal;font-family:Menlo,'DejaVu Sans Mono',consolas,'Courier New',monospace\">[14:35:48] ERROR: Explicit valence for atom # 6 Si, 8, is greater than permitted\n",
       "</pre>\n"
      ],
      "text/plain": [
       "[14:35:48] ERROR: Explicit valence for atom # 6 Si, 8, is greater than permitted\n"
      ]
     },
     "metadata": {},
     "output_type": "display_data"
    },
    {
     "data": {
      "text/html": [
       "<pre style=\"white-space:pre;overflow-x:auto;line-height:normal;font-family:Menlo,'DejaVu Sans Mono',consolas,'Courier New',monospace\">\n",
       "</pre>\n"
      ],
      "text/plain": [
       "\n"
      ]
     },
     "metadata": {},
     "output_type": "display_data"
    },
    {
     "data": {
      "text/html": [
       "<pre style=\"white-space:pre;overflow-x:auto;line-height:normal;font-family:Menlo,'DejaVu Sans Mono',consolas,'Courier New',monospace\"></pre>\n"
      ],
      "text/plain": []
     },
     "metadata": {},
     "output_type": "display_data"
    },
    {
     "data": {
      "text/html": [
       "<pre style=\"white-space:pre;overflow-x:auto;line-height:normal;font-family:Menlo,'DejaVu Sans Mono',consolas,'Courier New',monospace\">\n",
       "</pre>\n"
      ],
      "text/plain": [
       "\n"
      ]
     },
     "metadata": {},
     "output_type": "display_data"
    }
   ],
   "source": [
    "sorted_dois = defaultdict(list)\n",
    "for doi in track(osm_coeff_dois, description='Filtering DOIs...'):\n",
    "    try:\n",
    "        dataset = ThermoMLDataSet.from_doi(doi)\n",
    "        sorted_dois['working'].append(doi)\n",
    "    except UndefinedStereochemistryError:\n",
    "        sorted_dois['stereo_fail'].append(doi)\n",
    "    except Exception as other_exc:\n",
    "        sorted_dois[other_exc.__class__.__name__].append(doi)\n",
    "\n",
    "with Path('sorted_dois.json').open('w') as file:\n",
    "    json.dump(sorted_dois, file, indent=4)"
   ]
  },
  {
   "cell_type": "code",
   "execution_count": null,
   "metadata": {},
   "outputs": [],
   "source": []
  }
 ],
 "metadata": {
  "kernelspec": {
   "display_name": "evaluator-env",
   "language": "python",
   "name": "python3"
  },
  "language_info": {
   "codemirror_mode": {
    "name": "ipython",
    "version": 3
   },
   "file_extension": ".py",
   "mimetype": "text/x-python",
   "name": "python",
   "nbconvert_exporter": "python",
   "pygments_lexer": "ipython3",
   "version": "3.10.13"
  }
 },
 "nbformat": 4,
 "nbformat_minor": 2
}
