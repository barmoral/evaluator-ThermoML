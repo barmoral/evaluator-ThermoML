{
 "cells": [
  {
   "cell_type": "code",
   "execution_count": 1,
   "metadata": {},
   "outputs": [],
   "source": [
    "from pathlib import Path\n",
    "import json\n",
    "\n",
    "from rich.progress import track\n",
    "from collections import defaultdict\n",
    "\n",
    "from openff.toolkit.utils.exceptions import UndefinedStereochemistryError\n",
    "from openff.evaluator.datasets.thermoml import ThermoMLDataSet"
   ]
  },
  {
   "cell_type": "code",
   "execution_count": 2,
   "metadata": {},
   "outputs": [],
   "source": [
    "PROP_BROWSE_URL = 'https://trc.nist.gov/ThermoML/Browse'\n",
    "\n",
    "with Path('osm_coeff_dois.json').open('r') as file:\n",
    "    osm_coeff_dois=json.load(file)\n",
    "\n",
    "with Path('hmix_dois.json').open('r') as filehmix:\n",
    "    hmix_dois=json.load(filehmix)"
   ]
  },
  {
   "cell_type": "code",
   "execution_count": 3,
   "metadata": {},
   "outputs": [],
   "source": [
    "def sort_dois(dois_list,filename):\n",
    "    sorted_dois = defaultdict(list)\n",
    "\n",
    "    for doi in track(dois_list, description='Filtering DOIs...'):\n",
    "        try:\n",
    "            dataset = ThermoMLDataSet.from_doi(doi)\n",
    "            sorted_dois['working'].append(doi)\n",
    "        except UndefinedStereochemistryError:\n",
    "            sorted_dois['stereo_fail'].append(doi)\n",
    "        except Exception as other_exc:\n",
    "            sorted_dois[other_exc.__class__.__name__].append(doi)\n",
    "\n",
    "    with Path(filename).open('w') as file:\n",
    "        json.dump(sorted_dois, file, indent=4)"
   ]
  },
  {
   "cell_type": "code",
   "execution_count": null,
   "metadata": {},
   "outputs": [],
   "source": [
    "sort_dois(osm_coeff_dois,'sorted_oc_dois.json')"
   ]
  },
  {
   "cell_type": "code",
   "execution_count": 4,
   "metadata": {},
   "outputs": [
    {
     "data": {
      "application/vnd.jupyter.widget-view+json": {
       "model_id": "e1322775ea6f46d98868798f2250e28e",
       "version_major": 2,
       "version_minor": 0
      },
      "text/plain": [
       "Output()"
      ]
     },
     "metadata": {},
     "output_type": "display_data"
    },
    {
     "data": {
      "text/html": [
       "<pre style=\"white-space:pre;overflow-x:auto;line-height:normal;font-family:Menlo,'DejaVu Sans Mono',consolas,'Courier New',monospace\">[15:48:31] Unusual charge on atom 3 number of radical electrons set to zero\n",
       "</pre>\n"
      ],
      "text/plain": [
       "[15:48:31] Unusual charge on atom 3 number of radical electrons set to zero\n"
      ]
     },
     "metadata": {},
     "output_type": "display_data"
    },
    {
     "data": {
      "text/html": [
       "<pre style=\"white-space:pre;overflow-x:auto;line-height:normal;font-family:Menlo,'DejaVu Sans Mono',consolas,'Courier New',monospace\">[15:48:31] Unusual charge on atom 3 number of radical electrons set to zero\n",
       "</pre>\n"
      ],
      "text/plain": [
       "[15:48:31] Unusual charge on atom 3 number of radical electrons set to zero\n"
      ]
     },
     "metadata": {},
     "output_type": "display_data"
    },
    {
     "data": {
      "text/html": [
       "<pre style=\"white-space:pre;overflow-x:auto;line-height:normal;font-family:Menlo,'DejaVu Sans Mono',consolas,'Courier New',monospace\"></pre>\n"
      ],
      "text/plain": []
     },
     "metadata": {},
     "output_type": "display_data"
    },
    {
     "data": {
      "text/html": [
       "<pre style=\"white-space:pre;overflow-x:auto;line-height:normal;font-family:Menlo,'DejaVu Sans Mono',consolas,'Courier New',monospace\">\n",
       "</pre>\n"
      ],
      "text/plain": [
       "\n"
      ]
     },
     "metadata": {},
     "output_type": "display_data"
    }
   ],
   "source": [
    "sort_dois(hmix_dois,'sorted_hmix_dois.json')"
   ]
  },
  {
   "cell_type": "code",
   "execution_count": null,
   "metadata": {},
   "outputs": [],
   "source": []
  }
 ],
 "metadata": {
  "kernelspec": {
   "display_name": "evaluator-openff",
   "language": "python",
   "name": "python3"
  },
  "language_info": {
   "codemirror_mode": {
    "name": "ipython",
    "version": 3
   },
   "file_extension": ".py",
   "mimetype": "text/x-python",
   "name": "python",
   "nbconvert_exporter": "python",
   "pygments_lexer": "ipython3",
   "version": "3.10.13"
  }
 },
 "nbformat": 4,
 "nbformat_minor": 2
}
