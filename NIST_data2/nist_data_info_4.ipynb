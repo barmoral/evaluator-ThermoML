{
 "cells": [
  {
   "cell_type": "markdown",
   "metadata": {},
   "source": [
    "# Core Imports and Setup"
   ]
  },
  {
   "cell_type": "code",
   "execution_count": 1,
   "metadata": {},
   "outputs": [],
   "source": [
    "import os\n",
    "import pandas as pd\n",
    "from pathlib import Path\n",
    "\n",
    "import warnings\n",
    "warnings.filterwarnings(\"ignore\")\n",
    "\n",
    "import logging\n",
    "# logging.getLogger(\"openff.toolkit\").setLevel(logging.ERROR)\n",
    "# logging.basicConfig(level=logging.DEBUG)\n",
    "\n",
    "import json\n",
    "from openff import toolkit, evaluator"
   ]
  },
  {
   "cell_type": "code",
   "execution_count": 2,
   "metadata": {},
   "outputs": [],
   "source": [
    "from rdkit import Chem\n",
    "from rdkit.Chem.Draw import IPythonConsole\n",
    "from rdkit.Chem import Draw, MolFromSmiles\n",
    "from rdkit.Chem.Draw import MolsToGridImage, rdMolDraw2D, MolsMatrixToGridImage\n",
    "import pubchempy\n",
    "from PIL import Image, ImageDraw, ImageFont\n",
    "IPythonConsole.ipython_useSVG=False  #< set this to False if you want PNGs instead of SVGs"
   ]
  },
  {
   "cell_type": "code",
   "execution_count": 3,
   "metadata": {},
   "outputs": [],
   "source": [
    "from rdkit.Chem import rdMolDescriptors\n",
    "import pubchempy as pcp\n",
    "import math"
   ]
  },
  {
   "cell_type": "code",
   "execution_count": 4,
   "metadata": {},
   "outputs": [],
   "source": [
    "from openff.evaluator.datasets import PhysicalProperty, PropertyPhase\n",
    "from openff.evaluator.datasets.thermoml import thermoml_property\n",
    "from openff.evaluator import properties\n",
    "from openff.units import unit\n",
    "from openff.evaluator.datasets.thermoml import ThermoMLDataSet\n",
    "from openff.evaluator.datasets import PhysicalProperty, PropertyPhase, PhysicalPropertyDataSet"
   ]
  },
  {
   "cell_type": "code",
   "execution_count": 5,
   "metadata": {},
   "outputs": [],
   "source": [
    "from openff.evaluator.datasets.curation.components.filtering import FilterByPropertyTypes, FilterByPropertyTypesSchema\n",
    "from openff.evaluator.datasets.curation.components.filtering import FilterByTemperature, FilterByTemperatureSchema\n",
    "from openff.evaluator.datasets.curation.components.filtering import FilterByPressure, FilterByPressureSchema\n",
    "from openff.evaluator.datasets.curation.components.filtering import FilterBySmiles, FilterBySmilesSchema\n",
    "from openff.evaluator.datasets.curation.components.filtering import FilterByNComponents, FilterByNComponentsSchema\n"
   ]
  },
  {
   "cell_type": "code",
   "execution_count": 6,
   "metadata": {},
   "outputs": [],
   "source": [
    "from rich.progress import track\n",
    "from collections import defaultdict\n",
    "from openff.toolkit.utils.exceptions import UndefinedStereochemistryError"
   ]
  },
  {
   "cell_type": "markdown",
   "metadata": {},
   "source": [
    "# Registering New Properties"
   ]
  },
  {
   "cell_type": "code",
   "execution_count": 7,
   "metadata": {},
   "outputs": [
    {
     "data": {
      "text/plain": [
       "functools.partial(<function _default_mapping at 0x7f11ee312cb0>, <class '__main__.OsmoticCoefficient'>)"
      ]
     },
     "execution_count": 7,
     "metadata": {},
     "output_type": "execute_result"
    }
   ],
   "source": [
    "@thermoml_property(\"Osmotic coefficient\", supported_phases=PropertyPhase.Liquid | PropertyPhase.Gas)\n",
    "class OsmoticCoefficient(PhysicalProperty):\n",
    "    \"\"\"A class representation of a osmotic coeff property\"\"\"\n",
    "\n",
    "    @classmethod\n",
    "    def default_unit(cls):\n",
    "        return unit.dimensionless\n",
    "    \n",
    "setattr(properties, OsmoticCoefficient.__name__, OsmoticCoefficient)\n",
    "\n",
    "ThermoMLDataSet.registered_properties['Osmotic coefficient'].conversion_function"
   ]
  },
  {
   "cell_type": "code",
   "execution_count": 8,
   "metadata": {},
   "outputs": [
    {
     "data": {
      "text/plain": [
       "functools.partial(<function _default_mapping at 0x7f11ee312cb0>, <class '__main__.ActivityCoefficient'>)"
      ]
     },
     "execution_count": 8,
     "metadata": {},
     "output_type": "execute_result"
    }
   ],
   "source": [
    "@thermoml_property(\"Activity coefficient\", supported_phases=PropertyPhase.Liquid | PropertyPhase.Gas)\n",
    "class ActivityCoefficient(PhysicalProperty):\n",
    "    \"\"\"A class representation of a Activity coeff property\"\"\"\n",
    "\n",
    "    @classmethod\n",
    "    def default_unit(cls):\n",
    "        return unit.dimensionless\n",
    "    \n",
    "setattr(properties, ActivityCoefficient.__name__, ActivityCoefficient)\n",
    "\n",
    "ThermoMLDataSet.registered_properties['Activity coefficient'].conversion_function"
   ]
  },
  {
   "cell_type": "code",
   "execution_count": 9,
   "metadata": {},
   "outputs": [
    {
     "data": {
      "text/plain": [
       "functools.partial(<function _default_mapping at 0x7f11ee312cb0>, <class '__main__.SpeedOfSound'>)"
      ]
     },
     "execution_count": 9,
     "metadata": {},
     "output_type": "execute_result"
    }
   ],
   "source": [
    "@thermoml_property(\"Speed Of Sound (m/s)\", supported_phases=PropertyPhase.Liquid | PropertyPhase.Gas)\n",
    "class SpeedOfSound(PhysicalProperty):\n",
    "    \"\"\"A class representation of a Speed Of Sound property\"\"\"\n",
    "\n",
    "    @classmethod\n",
    "    def default_unit(cls):\n",
    "        return unit.meter / unit.second\n",
    "    \n",
    "setattr(properties, SpeedOfSound.__name__, SpeedOfSound)\n",
    "\n",
    "ThermoMLDataSet.registered_properties['Speed Of Sound (m/s)'].conversion_function"
   ]
  },
  {
   "cell_type": "markdown",
   "metadata": {},
   "source": [
    "# Functions"
   ]
  },
  {
   "cell_type": "code",
   "execution_count": 10,
   "metadata": {},
   "outputs": [],
   "source": [
    "def filter_database (unfiltered_directory):\n",
    "    data_set=[]\n",
    "    # Loop through all files in the directory\n",
    "    for filename in os.listdir(unfiltered_directory):\n",
    "        # Check if the file ends with .json\n",
    "        if filename.endswith('.xml'):\n",
    "            # Full path to the file\n",
    "            file_path = os.path.join(unfiltered_directory, filename)\n",
    "            data_set.append(file_path)\n",
    "    \n",
    "    sorted_dois = defaultdict(list)\n",
    "    for doi in track(data_set, description='Filtering DOIs...'):\n",
    "        try:\n",
    "            dataset = ThermoMLDataSet._from_file(doi)\n",
    "            sorted_dois['working'].append(doi)\n",
    "        except UndefinedStereochemistryError:\n",
    "            sorted_dois['stereo_fail'].append(doi)\n",
    "        except Exception as other_exc:\n",
    "            sorted_dois[other_exc.__class__.__name__].append(doi)\n",
    "\n",
    "    print('Amount of failing files: %i/%i' % (len(sorted_dois['stereo_fail']),len(data_set)))\n",
    "    print('Amount of working files: %i/%i' % (len(sorted_dois['working']),len(data_set)))\n",
    "\n",
    "    return sorted_dois['working']"
   ]
  },
  {
   "cell_type": "code",
   "execution_count": 11,
   "metadata": {},
   "outputs": [],
   "source": [
    "def extract_database (database_directory, csv_cached):\n",
    "    CACHED_PROP_PATH = Path(csv_cached)\n",
    "\n",
    "    if CACHED_PROP_PATH.exists():\n",
    "        prop_df = pd.read_csv(CACHED_PROP_PATH, index_col=0)\n",
    "        # delete rows with underfined thermo params to avoid pesky indexing errors\n",
    "        prop_df = prop_df.dropna(subset=['Temperature (K)'])\n",
    "        prop_df = prop_df.dropna(subset=['Pressure (kPa)'])\n",
    "        data_set = ThermoMLDataSet.from_pandas(prop_df)\n",
    "    else:\n",
    "        sorted_files=filter_database(database_directory)\n",
    "        data_set=ThermoMLDataSet.from_file(*sorted_files)\n",
    "\n",
    "        initial_df = data_set.to_pandas()\n",
    "        with CACHED_PROP_PATH.open('w') as file:\n",
    "            initial_df.to_csv(CACHED_PROP_PATH)\n",
    "    return data_set"
   ]
  },
  {
   "cell_type": "markdown",
   "metadata": {},
   "source": [
    "# Import Directory"
   ]
  },
  {
   "cell_type": "code",
   "execution_count": 12,
   "metadata": {},
   "outputs": [],
   "source": [
    "# # Ensure database_directory is defined\n",
    "database_directory = '10.1016'\n",
    "# database_directory = 'tests'\n",
    "tml_data_set = extract_database(database_directory, 'tml_database_16.csv')"
   ]
  },
  {
   "cell_type": "code",
   "execution_count": 13,
   "metadata": {},
   "outputs": [
    {
     "data": {
      "text/plain": [
       "<PhysicalPropertyDataSet n_properties=323174 n_substances=74688 n_sources=323174>"
      ]
     },
     "execution_count": 13,
     "metadata": {},
     "output_type": "execute_result"
    }
   ],
   "source": [
    "tml_data_set"
   ]
  },
  {
   "cell_type": "code",
   "execution_count": 14,
   "metadata": {},
   "outputs": [],
   "source": [
    "tml_df=tml_data_set.to_pandas()"
   ]
  },
  {
   "cell_type": "code",
   "execution_count": 15,
   "metadata": {},
   "outputs": [
    {
     "data": {
      "text/plain": [
       "323174"
      ]
     },
     "execution_count": 15,
     "metadata": {},
     "output_type": "execute_result"
    }
   ],
   "source": [
    "len(tml_df)"
   ]
  },
  {
   "cell_type": "markdown",
   "metadata": {},
   "source": [
    "# Filtering database dataframe --> Usable"
   ]
  },
  {
   "cell_type": "code",
   "execution_count": 16,
   "metadata": {},
   "outputs": [
    {
     "name": "stdout",
     "output_type": "stream",
     "text": [
      "79689\n"
     ]
    }
   ],
   "source": [
    "# Define valid and invalid characters\n",
    "valid_chars = \"HCNOSPFBClI\"\n",
    "invalid_chars = r\"[.+-]\"\n",
    "\n",
    "# Define the regular expression pattern for valid characters\n",
    "valid_pattern = f\"[{valid_chars}]\"\n",
    "\n",
    "# Apply the filters\n",
    "filtered_df_final = tml_df[\n",
    "    (\n",
    "        (tml_df['Temperature (K)'] >= 273) & (tml_df['Temperature (K)'] <= 373) &\n",
    "        (tml_df['Pressure (kPa)'] >= 90) & (tml_df['Pressure (kPa)'] <= 110) &\n",
    "        (tml_df['N Components'] == 2)\n",
    "    ) &\n",
    "    tml_df['Component 1'].str.contains(valid_pattern, regex=True, na=False) &\n",
    "    tml_df['Component 2'].str.contains(valid_pattern, regex=True, na=False) &\n",
    "    ~tml_df['Component 1'].str.contains(invalid_chars, regex=True, na=False) &\n",
    "    ~tml_df['Component 2'].str.contains(invalid_chars, regex=True, na=False)\n",
    "]\n",
    "print(len(filtered_df_final))"
   ]
  },
  {
   "cell_type": "code",
   "execution_count": 17,
   "metadata": {},
   "outputs": [
    {
     "data": {
      "text/html": [
       "<div>\n",
       "<style scoped>\n",
       "    .dataframe tbody tr th:only-of-type {\n",
       "        vertical-align: middle;\n",
       "    }\n",
       "\n",
       "    .dataframe tbody tr th {\n",
       "        vertical-align: top;\n",
       "    }\n",
       "\n",
       "    .dataframe thead th {\n",
       "        text-align: right;\n",
       "    }\n",
       "</style>\n",
       "<table border=\"1\" class=\"dataframe\">\n",
       "  <thead>\n",
       "    <tr style=\"text-align: right;\">\n",
       "      <th></th>\n",
       "      <th>Id</th>\n",
       "      <th>Temperature (K)</th>\n",
       "      <th>Pressure (kPa)</th>\n",
       "      <th>Phase</th>\n",
       "      <th>N Components</th>\n",
       "      <th>Component 1</th>\n",
       "      <th>Role 1</th>\n",
       "      <th>Mole Fraction 1</th>\n",
       "      <th>Exact Amount 1</th>\n",
       "      <th>Component 2</th>\n",
       "      <th>...</th>\n",
       "      <th>Density Uncertainty (g / ml)</th>\n",
       "      <th>EnthalpyOfMixing Value (kJ / mol)</th>\n",
       "      <th>EnthalpyOfMixing Uncertainty (kJ / mol)</th>\n",
       "      <th>DielectricConstant Value ()</th>\n",
       "      <th>DielectricConstant Uncertainty ()</th>\n",
       "      <th>OsmoticCoefficient Value ()</th>\n",
       "      <th>OsmoticCoefficient Uncertainty ()</th>\n",
       "      <th>ExcessMolarVolume Value (cm ** 3 / mol)</th>\n",
       "      <th>ExcessMolarVolume Uncertainty (cm ** 3 / mol)</th>\n",
       "      <th>Source</th>\n",
       "    </tr>\n",
       "  </thead>\n",
       "  <tbody>\n",
       "    <tr>\n",
       "      <th>2</th>\n",
       "      <td>f0a0939b69b74660916619f191ef7e24</td>\n",
       "      <td>298.15</td>\n",
       "      <td>100.0</td>\n",
       "      <td>Liquid</td>\n",
       "      <td>2</td>\n",
       "      <td>O=C1OCCO1</td>\n",
       "      <td>Solvent</td>\n",
       "      <td>0.022225</td>\n",
       "      <td>None</td>\n",
       "      <td>O</td>\n",
       "      <td>...</td>\n",
       "      <td>0.000600</td>\n",
       "      <td>NaN</td>\n",
       "      <td>NaN</td>\n",
       "      <td>NaN</td>\n",
       "      <td>NaN</td>\n",
       "      <td>NaN</td>\n",
       "      <td>NaN</td>\n",
       "      <td>NaN</td>\n",
       "      <td>NaN</td>\n",
       "      <td>10.1016/j.jct.2016.03.027</td>\n",
       "    </tr>\n",
       "    <tr>\n",
       "      <th>3</th>\n",
       "      <td>8652f16c78964edfa313b0bb1a000a7c</td>\n",
       "      <td>298.15</td>\n",
       "      <td>100.0</td>\n",
       "      <td>Liquid</td>\n",
       "      <td>2</td>\n",
       "      <td>O=C1OCCO1</td>\n",
       "      <td>Solvent</td>\n",
       "      <td>0.048655</td>\n",
       "      <td>None</td>\n",
       "      <td>O</td>\n",
       "      <td>...</td>\n",
       "      <td>0.000605</td>\n",
       "      <td>NaN</td>\n",
       "      <td>NaN</td>\n",
       "      <td>NaN</td>\n",
       "      <td>NaN</td>\n",
       "      <td>NaN</td>\n",
       "      <td>NaN</td>\n",
       "      <td>NaN</td>\n",
       "      <td>NaN</td>\n",
       "      <td>10.1016/j.jct.2016.03.027</td>\n",
       "    </tr>\n",
       "    <tr>\n",
       "      <th>4</th>\n",
       "      <td>8cddd5632ec547138cf96aa7f4a7a53b</td>\n",
       "      <td>298.15</td>\n",
       "      <td>100.0</td>\n",
       "      <td>Liquid</td>\n",
       "      <td>2</td>\n",
       "      <td>O=C1OCCO1</td>\n",
       "      <td>Solvent</td>\n",
       "      <td>0.080608</td>\n",
       "      <td>None</td>\n",
       "      <td>O</td>\n",
       "      <td>...</td>\n",
       "      <td>0.000610</td>\n",
       "      <td>NaN</td>\n",
       "      <td>NaN</td>\n",
       "      <td>NaN</td>\n",
       "      <td>NaN</td>\n",
       "      <td>NaN</td>\n",
       "      <td>NaN</td>\n",
       "      <td>NaN</td>\n",
       "      <td>NaN</td>\n",
       "      <td>10.1016/j.jct.2016.03.027</td>\n",
       "    </tr>\n",
       "    <tr>\n",
       "      <th>5</th>\n",
       "      <td>155d70754afa43889ff6a09724e5b8fc</td>\n",
       "      <td>298.15</td>\n",
       "      <td>100.0</td>\n",
       "      <td>Liquid</td>\n",
       "      <td>2</td>\n",
       "      <td>O=C1OCCO1</td>\n",
       "      <td>Solvent</td>\n",
       "      <td>0.120015</td>\n",
       "      <td>None</td>\n",
       "      <td>O</td>\n",
       "      <td>...</td>\n",
       "      <td>0.000615</td>\n",
       "      <td>NaN</td>\n",
       "      <td>NaN</td>\n",
       "      <td>NaN</td>\n",
       "      <td>NaN</td>\n",
       "      <td>NaN</td>\n",
       "      <td>NaN</td>\n",
       "      <td>NaN</td>\n",
       "      <td>NaN</td>\n",
       "      <td>10.1016/j.jct.2016.03.027</td>\n",
       "    </tr>\n",
       "    <tr>\n",
       "      <th>156</th>\n",
       "      <td>3f689bfe845b44c98f4fe77761a4e39b</td>\n",
       "      <td>303.15</td>\n",
       "      <td>101.0</td>\n",
       "      <td>Liquid</td>\n",
       "      <td>2</td>\n",
       "      <td>CCN(CC)CCCN</td>\n",
       "      <td>Solvent</td>\n",
       "      <td>0.050300</td>\n",
       "      <td>None</td>\n",
       "      <td>CCCCCCC</td>\n",
       "      <td>...</td>\n",
       "      <td>NaN</td>\n",
       "      <td>0.2700</td>\n",
       "      <td>0.00550</td>\n",
       "      <td>NaN</td>\n",
       "      <td>NaN</td>\n",
       "      <td>NaN</td>\n",
       "      <td>NaN</td>\n",
       "      <td>NaN</td>\n",
       "      <td>NaN</td>\n",
       "      <td>10.1016/j.jct.2008.01.012</td>\n",
       "    </tr>\n",
       "    <tr>\n",
       "      <th>...</th>\n",
       "      <td>...</td>\n",
       "      <td>...</td>\n",
       "      <td>...</td>\n",
       "      <td>...</td>\n",
       "      <td>...</td>\n",
       "      <td>...</td>\n",
       "      <td>...</td>\n",
       "      <td>...</td>\n",
       "      <td>...</td>\n",
       "      <td>...</td>\n",
       "      <td>...</td>\n",
       "      <td>...</td>\n",
       "      <td>...</td>\n",
       "      <td>...</td>\n",
       "      <td>...</td>\n",
       "      <td>...</td>\n",
       "      <td>...</td>\n",
       "      <td>...</td>\n",
       "      <td>...</td>\n",
       "      <td>...</td>\n",
       "      <td>...</td>\n",
       "    </tr>\n",
       "    <tr>\n",
       "      <th>323169</th>\n",
       "      <td>f791928658874ee692d8e3ef826b2ef7</td>\n",
       "      <td>303.15</td>\n",
       "      <td>101.0</td>\n",
       "      <td>Liquid</td>\n",
       "      <td>2</td>\n",
       "      <td>CC(C)OC(C)C</td>\n",
       "      <td>Solvent</td>\n",
       "      <td>0.483000</td>\n",
       "      <td>None</td>\n",
       "      <td>Cc1cccc(C)c1</td>\n",
       "      <td>...</td>\n",
       "      <td>NaN</td>\n",
       "      <td>0.0453</td>\n",
       "      <td>0.00505</td>\n",
       "      <td>NaN</td>\n",
       "      <td>NaN</td>\n",
       "      <td>NaN</td>\n",
       "      <td>NaN</td>\n",
       "      <td>NaN</td>\n",
       "      <td>NaN</td>\n",
       "      <td>10.1016/j.fluid.2007.03.017</td>\n",
       "    </tr>\n",
       "    <tr>\n",
       "      <th>323170</th>\n",
       "      <td>ae03b90301c14c2c850c74f6b4422924</td>\n",
       "      <td>303.15</td>\n",
       "      <td>101.0</td>\n",
       "      <td>Liquid</td>\n",
       "      <td>2</td>\n",
       "      <td>CC(C)OC(C)C</td>\n",
       "      <td>Solvent</td>\n",
       "      <td>0.622000</td>\n",
       "      <td>None</td>\n",
       "      <td>Cc1cccc(C)c1</td>\n",
       "      <td>...</td>\n",
       "      <td>NaN</td>\n",
       "      <td>0.0261</td>\n",
       "      <td>0.00500</td>\n",
       "      <td>NaN</td>\n",
       "      <td>NaN</td>\n",
       "      <td>NaN</td>\n",
       "      <td>NaN</td>\n",
       "      <td>NaN</td>\n",
       "      <td>NaN</td>\n",
       "      <td>10.1016/j.fluid.2007.03.017</td>\n",
       "    </tr>\n",
       "    <tr>\n",
       "      <th>323171</th>\n",
       "      <td>7a5aa7ff58a945f28f22b5bb01757d87</td>\n",
       "      <td>303.15</td>\n",
       "      <td>101.0</td>\n",
       "      <td>Liquid</td>\n",
       "      <td>2</td>\n",
       "      <td>CC(C)OC(C)C</td>\n",
       "      <td>Solvent</td>\n",
       "      <td>0.656000</td>\n",
       "      <td>None</td>\n",
       "      <td>Cc1cccc(C)c1</td>\n",
       "      <td>...</td>\n",
       "      <td>NaN</td>\n",
       "      <td>0.0226</td>\n",
       "      <td>0.00500</td>\n",
       "      <td>NaN</td>\n",
       "      <td>NaN</td>\n",
       "      <td>NaN</td>\n",
       "      <td>NaN</td>\n",
       "      <td>NaN</td>\n",
       "      <td>NaN</td>\n",
       "      <td>10.1016/j.fluid.2007.03.017</td>\n",
       "    </tr>\n",
       "    <tr>\n",
       "      <th>323172</th>\n",
       "      <td>3f2b0fb1b28a47cf9efc73c32e554291</td>\n",
       "      <td>303.15</td>\n",
       "      <td>101.0</td>\n",
       "      <td>Liquid</td>\n",
       "      <td>2</td>\n",
       "      <td>CC(C)OC(C)C</td>\n",
       "      <td>Solvent</td>\n",
       "      <td>0.752000</td>\n",
       "      <td>None</td>\n",
       "      <td>Cc1cccc(C)c1</td>\n",
       "      <td>...</td>\n",
       "      <td>NaN</td>\n",
       "      <td>0.0115</td>\n",
       "      <td>0.00500</td>\n",
       "      <td>NaN</td>\n",
       "      <td>NaN</td>\n",
       "      <td>NaN</td>\n",
       "      <td>NaN</td>\n",
       "      <td>NaN</td>\n",
       "      <td>NaN</td>\n",
       "      <td>10.1016/j.fluid.2007.03.017</td>\n",
       "    </tr>\n",
       "    <tr>\n",
       "      <th>323173</th>\n",
       "      <td>59c960e84bed4c6c96cada8c081613c6</td>\n",
       "      <td>303.15</td>\n",
       "      <td>101.0</td>\n",
       "      <td>Liquid</td>\n",
       "      <td>2</td>\n",
       "      <td>CC(C)OC(C)C</td>\n",
       "      <td>Solvent</td>\n",
       "      <td>0.902000</td>\n",
       "      <td>None</td>\n",
       "      <td>Cc1cccc(C)c1</td>\n",
       "      <td>...</td>\n",
       "      <td>NaN</td>\n",
       "      <td>0.0013</td>\n",
       "      <td>0.00500</td>\n",
       "      <td>NaN</td>\n",
       "      <td>NaN</td>\n",
       "      <td>NaN</td>\n",
       "      <td>NaN</td>\n",
       "      <td>NaN</td>\n",
       "      <td>NaN</td>\n",
       "      <td>10.1016/j.fluid.2007.03.017</td>\n",
       "    </tr>\n",
       "  </tbody>\n",
       "</table>\n",
       "<p>79689 rows × 30 columns</p>\n",
       "</div>"
      ],
      "text/plain": [
       "                                      Id  Temperature (K)  Pressure (kPa)  \\\n",
       "2       f0a0939b69b74660916619f191ef7e24           298.15           100.0   \n",
       "3       8652f16c78964edfa313b0bb1a000a7c           298.15           100.0   \n",
       "4       8cddd5632ec547138cf96aa7f4a7a53b           298.15           100.0   \n",
       "5       155d70754afa43889ff6a09724e5b8fc           298.15           100.0   \n",
       "156     3f689bfe845b44c98f4fe77761a4e39b           303.15           101.0   \n",
       "...                                  ...              ...             ...   \n",
       "323169  f791928658874ee692d8e3ef826b2ef7           303.15           101.0   \n",
       "323170  ae03b90301c14c2c850c74f6b4422924           303.15           101.0   \n",
       "323171  7a5aa7ff58a945f28f22b5bb01757d87           303.15           101.0   \n",
       "323172  3f2b0fb1b28a47cf9efc73c32e554291           303.15           101.0   \n",
       "323173  59c960e84bed4c6c96cada8c081613c6           303.15           101.0   \n",
       "\n",
       "         Phase  N Components  Component 1   Role 1  Mole Fraction 1  \\\n",
       "2       Liquid             2    O=C1OCCO1  Solvent         0.022225   \n",
       "3       Liquid             2    O=C1OCCO1  Solvent         0.048655   \n",
       "4       Liquid             2    O=C1OCCO1  Solvent         0.080608   \n",
       "5       Liquid             2    O=C1OCCO1  Solvent         0.120015   \n",
       "156     Liquid             2  CCN(CC)CCCN  Solvent         0.050300   \n",
       "...        ...           ...          ...      ...              ...   \n",
       "323169  Liquid             2  CC(C)OC(C)C  Solvent         0.483000   \n",
       "323170  Liquid             2  CC(C)OC(C)C  Solvent         0.622000   \n",
       "323171  Liquid             2  CC(C)OC(C)C  Solvent         0.656000   \n",
       "323172  Liquid             2  CC(C)OC(C)C  Solvent         0.752000   \n",
       "323173  Liquid             2  CC(C)OC(C)C  Solvent         0.902000   \n",
       "\n",
       "       Exact Amount 1   Component 2  ... Density Uncertainty (g / ml)  \\\n",
       "2                None             O  ...                     0.000600   \n",
       "3                None             O  ...                     0.000605   \n",
       "4                None             O  ...                     0.000610   \n",
       "5                None             O  ...                     0.000615   \n",
       "156              None       CCCCCCC  ...                          NaN   \n",
       "...               ...           ...  ...                          ...   \n",
       "323169           None  Cc1cccc(C)c1  ...                          NaN   \n",
       "323170           None  Cc1cccc(C)c1  ...                          NaN   \n",
       "323171           None  Cc1cccc(C)c1  ...                          NaN   \n",
       "323172           None  Cc1cccc(C)c1  ...                          NaN   \n",
       "323173           None  Cc1cccc(C)c1  ...                          NaN   \n",
       "\n",
       "        EnthalpyOfMixing Value (kJ / mol)  \\\n",
       "2                                     NaN   \n",
       "3                                     NaN   \n",
       "4                                     NaN   \n",
       "5                                     NaN   \n",
       "156                                0.2700   \n",
       "...                                   ...   \n",
       "323169                             0.0453   \n",
       "323170                             0.0261   \n",
       "323171                             0.0226   \n",
       "323172                             0.0115   \n",
       "323173                             0.0013   \n",
       "\n",
       "        EnthalpyOfMixing Uncertainty (kJ / mol) DielectricConstant Value ()  \\\n",
       "2                                           NaN                         NaN   \n",
       "3                                           NaN                         NaN   \n",
       "4                                           NaN                         NaN   \n",
       "5                                           NaN                         NaN   \n",
       "156                                     0.00550                         NaN   \n",
       "...                                         ...                         ...   \n",
       "323169                                  0.00505                         NaN   \n",
       "323170                                  0.00500                         NaN   \n",
       "323171                                  0.00500                         NaN   \n",
       "323172                                  0.00500                         NaN   \n",
       "323173                                  0.00500                         NaN   \n",
       "\n",
       "       DielectricConstant Uncertainty ()  OsmoticCoefficient Value ()  \\\n",
       "2                                    NaN                          NaN   \n",
       "3                                    NaN                          NaN   \n",
       "4                                    NaN                          NaN   \n",
       "5                                    NaN                          NaN   \n",
       "156                                  NaN                          NaN   \n",
       "...                                  ...                          ...   \n",
       "323169                               NaN                          NaN   \n",
       "323170                               NaN                          NaN   \n",
       "323171                               NaN                          NaN   \n",
       "323172                               NaN                          NaN   \n",
       "323173                               NaN                          NaN   \n",
       "\n",
       "        OsmoticCoefficient Uncertainty ()  \\\n",
       "2                                     NaN   \n",
       "3                                     NaN   \n",
       "4                                     NaN   \n",
       "5                                     NaN   \n",
       "156                                   NaN   \n",
       "...                                   ...   \n",
       "323169                                NaN   \n",
       "323170                                NaN   \n",
       "323171                                NaN   \n",
       "323172                                NaN   \n",
       "323173                                NaN   \n",
       "\n",
       "        ExcessMolarVolume Value (cm ** 3 / mol)  \\\n",
       "2                                           NaN   \n",
       "3                                           NaN   \n",
       "4                                           NaN   \n",
       "5                                           NaN   \n",
       "156                                         NaN   \n",
       "...                                         ...   \n",
       "323169                                      NaN   \n",
       "323170                                      NaN   \n",
       "323171                                      NaN   \n",
       "323172                                      NaN   \n",
       "323173                                      NaN   \n",
       "\n",
       "        ExcessMolarVolume Uncertainty (cm ** 3 / mol)  \\\n",
       "2                                                 NaN   \n",
       "3                                                 NaN   \n",
       "4                                                 NaN   \n",
       "5                                                 NaN   \n",
       "156                                               NaN   \n",
       "...                                               ...   \n",
       "323169                                            NaN   \n",
       "323170                                            NaN   \n",
       "323171                                            NaN   \n",
       "323172                                            NaN   \n",
       "323173                                            NaN   \n",
       "\n",
       "                             Source  \n",
       "2         10.1016/j.jct.2016.03.027  \n",
       "3         10.1016/j.jct.2016.03.027  \n",
       "4         10.1016/j.jct.2016.03.027  \n",
       "5         10.1016/j.jct.2016.03.027  \n",
       "156       10.1016/j.jct.2008.01.012  \n",
       "...                             ...  \n",
       "323169  10.1016/j.fluid.2007.03.017  \n",
       "323170  10.1016/j.fluid.2007.03.017  \n",
       "323171  10.1016/j.fluid.2007.03.017  \n",
       "323172  10.1016/j.fluid.2007.03.017  \n",
       "323173  10.1016/j.fluid.2007.03.017  \n",
       "\n",
       "[79689 rows x 30 columns]"
      ]
     },
     "execution_count": 17,
     "metadata": {},
     "output_type": "execute_result"
    }
   ],
   "source": [
    "filtered_df_final"
   ]
  },
  {
   "cell_type": "code",
   "execution_count": 18,
   "metadata": {},
   "outputs": [],
   "source": [
    "filtered_df_final.to_csv(f'filtered_{database_directory}.csv')"
   ]
  },
  {
   "cell_type": "markdown",
   "metadata": {},
   "source": [
    "# Counting from database dataframe"
   ]
  },
  {
   "cell_type": "code",
   "execution_count": 19,
   "metadata": {},
   "outputs": [
    {
     "name": "stdout",
     "output_type": "stream",
     "text": [
      "Number of data points with Hmix: 12789\n",
      "Number of data points with Density: 60529\n",
      "Number of data points with Hmix and Density: 0\n",
      "Unique strings found in 'Component 1' and 'Component 2' with values for Hmix and Density:\n",
      "[]\n",
      "Unique combinations of strings from 'Component 1' and 'Component 2' with values for Hmix and Density:\n",
      "[]\n"
     ]
    }
   ],
   "source": [
    "count_hmix = filtered_df_final.dropna(subset=['EnthalpyOfMixing Value (kJ / mol)']).shape[0]\n",
    "count_dens = filtered_df_final.dropna(subset=['Density Value (g / ml)']).shape[0]\n",
    "count_hd = filtered_df_final.dropna(subset=['EnthalpyOfMixing Value (kJ / mol)', 'Density Value (g / ml)']).shape[0]\n",
    "print(f\"Number of data points with Hmix: {count_hmix}\")\n",
    "print(f\"Number of data points with Density: {count_dens}\")\n",
    "print(f\"Number of data points with Hmix and Density: {count_hd}\")\n",
    "\n",
    "# Assuming filtered_df_final is your DataFrame\n",
    "# Filter rows where both required columns have values\n",
    "filtered_hmix_dens = filtered_df_final.dropna(subset=['EnthalpyOfMixing Value (kJ / mol)', 'Density Value (g / ml)'])\n",
    "\n",
    "# Extract unique strings from the specified columns\n",
    "unique_strings = pd.unique(filtered_hmix_dens[['Component 1', 'Component 2']].values.ravel())\n",
    "\n",
    "print(\"Unique strings found in 'Component 1' and 'Component 2' with values for Hmix and Density:\")\n",
    "print(unique_strings)\n",
    "# unique_strings.to_csv(f'indiv_comps_hd_{database_directory}.csv')\n",
    "\n",
    "# Create a DataFrame with unique combinations\n",
    "unique_combinations = filtered_hmix_dens[['Component 1', 'Component 2']].drop_duplicates()\n",
    "\n",
    "# Convert each combination into a sorted tuple for uniqueness irrespective of order\n",
    "unique_combinations_set = unique_combinations.apply(lambda row: tuple(sorted(row)), axis=1).drop_duplicates()\n",
    "\n",
    "print(\"Unique combinations of strings from 'Component 1' and 'Component 2' with values for Hmix and Density:\")\n",
    "unique_mixtures=unique_combinations_set.tolist()\n",
    "print(unique_mixtures)\n",
    "# unique_mixtures.to_csv(f'indiv_mixs_hd_{database_directory}.csv')"
   ]
  },
  {
   "cell_type": "code",
   "execution_count": 20,
   "metadata": {},
   "outputs": [
    {
     "name": "stdout",
     "output_type": "stream",
     "text": [
      "Number of data points with OC: 76\n",
      "Number of data points with AC: 194\n",
      "Number of data points with OC and AC: 0\n",
      "Unique strings found in 'Component 1' and 'Component 2' with values for OC and AC:\n",
      "[]\n",
      "Unique combinations of strings from 'Component 1' and 'Component 2' with values for OC and AC:\n",
      "[]\n"
     ]
    }
   ],
   "source": [
    "count_oc = filtered_df_final.dropna(subset=['OsmoticCoefficient Value ()']).shape[0]\n",
    "count_ac = filtered_df_final.dropna(subset=['ActivityCoefficient Value ()']).shape[0]\n",
    "count_oa = filtered_df_final.dropna(subset=['OsmoticCoefficient Value ()', 'ActivityCoefficient Value ()']).shape[0]\n",
    "print(f\"Number of data points with OC: {count_oc}\")\n",
    "print(f\"Number of data points with AC: {count_ac}\")\n",
    "print(f\"Number of data points with OC and AC: {count_oa}\")\n",
    "\n",
    "# Assuming filtered_df_final is your DataFrame\n",
    "# Filter rows where both required columns have values\n",
    "filtered_oc_ac = filtered_df_final.dropna(subset=['OsmoticCoefficient Value ()', 'ActivityCoefficient Value ()'])\n",
    "\n",
    "# Extract unique strings from the specified columns\n",
    "unique_strings = pd.unique(filtered_oc_ac[['Component 1', 'Component 2']].values.ravel())\n",
    "\n",
    "print(\"Unique strings found in 'Component 1' and 'Component 2' with values for OC and AC:\")\n",
    "print(unique_strings)\n",
    "# unique_strings.to_csv(f'indiv_comps_oa_{database_directory}.csv')\n",
    "\n",
    "# Create a DataFrame with unique combinations\n",
    "unique_combinations = filtered_oc_ac[['Component 1', 'Component 2']].drop_duplicates()\n",
    "\n",
    "# Convert each combination into a sorted tuple for uniqueness irrespective of order\n",
    "unique_combinations_set = unique_combinations.apply(lambda row: tuple(sorted(row)), axis=1).drop_duplicates()\n",
    "\n",
    "print(\"Unique combinations of strings from 'Component 1' and 'Component 2' with values for OC and AC:\")\n",
    "unique_mixtures=unique_combinations_set.tolist()\n",
    "print(unique_mixtures)\n",
    "# unique_mixtures.to_csv(f'indiv_mixs_oa_{database_directory}.csv')"
   ]
  },
  {
   "cell_type": "markdown",
   "metadata": {},
   "source": [
    "# Counting with Evaluator"
   ]
  },
  {
   "cell_type": "markdown",
   "metadata": {},
   "source": [
    "## Filtering properties schemas"
   ]
  },
  {
   "cell_type": "code",
   "execution_count": 21,
   "metadata": {},
   "outputs": [],
   "source": [
    "ncomp_schema = FilterByNComponentsSchema(n_components=[2])\n",
    "pressure_schema= FilterByPressureSchema(minimum_pressure = 90.0, maximum_pressure = 110.0)\n",
    "temp_schema=FilterByTemperatureSchema(minimum_temperature = 273.15, maximum_temperature=373.0)"
   ]
  },
  {
   "cell_type": "code",
   "execution_count": 22,
   "metadata": {},
   "outputs": [],
   "source": [
    "hmix_schema = FilterByPropertyTypesSchema(property_types=[\"EnthalpyOfMixing\"])\n",
    "dens_schema = FilterByPropertyTypesSchema(property_types=[\"Density\"])\n",
    "hmix_dens_schema = FilterByPropertyTypesSchema(property_types=[\"EnthalpyOfMixing\",\"Density\"])\n",
    "hmix_dens_strict_schema = FilterByPropertyTypesSchema(property_types=[\"EnthalpyOfMixing\",\"Density\"], strict=True)"
   ]
  },
  {
   "cell_type": "code",
   "execution_count": 23,
   "metadata": {},
   "outputs": [],
   "source": [
    "osmotic_schema = FilterByPropertyTypesSchema(property_types=[\"OsmoticCoefficient\"], strict=False)\n",
    "activity_schema = FilterByPropertyTypesSchema(property_types=[\"ActivityCoefficient\"], strict=False)\n",
    "oc_ac_schema = FilterByPropertyTypesSchema(property_types=[\"OsmoticCoefficient\",\"ActivityCoefficient\"])\n",
    "oc_ac_strict_schema = FilterByPropertyTypesSchema(property_types=[\"OsmoticCoefficient\",\"ActivityCoefficient\"], strict=True)"
   ]
  },
  {
   "cell_type": "markdown",
   "metadata": {},
   "source": [
    "## ThermoML Hmix and Density of binary mixtures"
   ]
  },
  {
   "cell_type": "markdown",
   "metadata": {},
   "source": [
    "### Filtering"
   ]
  },
  {
   "cell_type": "code",
   "execution_count": 24,
   "metadata": {},
   "outputs": [
    {
     "name": "stdout",
     "output_type": "stream",
     "text": [
      "298918\n",
      "189474\n"
     ]
    }
   ],
   "source": [
    "# Hmix + density\n",
    "data_set_hmix_dens= FilterByPropertyTypes.apply(tml_data_set, hmix_dens_schema)\n",
    "print(len(data_set_hmix_dens))\n",
    "\n",
    "data_set_2comps= FilterByNComponents.apply(data_set_hmix_dens, ncomp_schema)\n",
    "print(len(data_set_2comps))"
   ]
  },
  {
   "cell_type": "code",
   "execution_count": 25,
   "metadata": {},
   "outputs": [
    {
     "name": "stdout",
     "output_type": "stream",
     "text": [
      "33140\n"
     ]
    }
   ],
   "source": [
    "data_set_hmix_dens_strict= FilterByPropertyTypes.apply(data_set_2comps, hmix_dens_strict_schema)\n",
    "print(len(data_set_hmix_dens_strict))"
   ]
  },
  {
   "cell_type": "code",
   "execution_count": 26,
   "metadata": {},
   "outputs": [
    {
     "name": "stdout",
     "output_type": "stream",
     "text": [
      "20896\n"
     ]
    }
   ],
   "source": [
    "data_set_hd_strict_usable= FilterByPressure.apply(data_set_hmix_dens_strict, pressure_schema)\n",
    "tml_hd_usable= FilterByTemperature.apply(data_set_hd_strict_usable, temp_schema)\n",
    "print(len(tml_hd_usable))"
   ]
  },
  {
   "cell_type": "code",
   "execution_count": 27,
   "metadata": {},
   "outputs": [],
   "source": [
    "# save for future use\n",
    "tml_hmix_dens_path = Path(f'filtered_{database_directory}/tml_filtered_hd_usable.json')\n",
    "tml_hd_usable.json(tml_hmix_dens_path, format=True)\n",
    "\n",
    "df_hmix_dens=tml_hd_usable.to_pandas()\n",
    "df_hmix_dens.to_csv(f'filtered_{database_directory}/tml_hd_usable_database.csv',index=False)"
   ]
  },
  {
   "cell_type": "code",
   "execution_count": 28,
   "metadata": {},
   "outputs": [
    {
     "name": "stdout",
     "output_type": "stream",
     "text": [
      "17036\n"
     ]
    }
   ],
   "source": [
    "# Hmix only\n",
    "data_set_hmix = FilterByPropertyTypes.apply(tml_data_set, hmix_schema)\n",
    "data_set_hmix_usable= FilterByPressure.apply(data_set_hmix, pressure_schema)\n",
    "tml_hmix_usable= FilterByTemperature.apply(data_set_hmix_usable, temp_schema)\n",
    "print(len(tml_hmix_usable))\n",
    "\n",
    "# save for future use\n",
    "tml_hmix_path = Path(f'filtered_{database_directory}/tml_filtered_hmix_usable.json')\n",
    "tml_hmix_usable.json(tml_hmix_path, format=True)\n",
    "\n",
    "df_hmix=tml_hmix_usable.to_pandas()\n",
    "df_hmix.to_csv(f'filtered_{database_directory}/tml_hmix_usable_database.csv',index=False)\n",
    "# df_hmix.head()\n",
    "# df_hmix.columns.to_list()"
   ]
  },
  {
   "cell_type": "code",
   "execution_count": 29,
   "metadata": {},
   "outputs": [
    {
     "name": "stdout",
     "output_type": "stream",
     "text": [
      "174253\n"
     ]
    }
   ],
   "source": [
    "# Density only\n",
    "data_set_dens= FilterByPropertyTypes.apply(tml_data_set, dens_schema)\n",
    "data_set_dens_usable= FilterByPressure.apply(data_set_dens, pressure_schema)\n",
    "tml_dens_usable= FilterByTemperature.apply(data_set_dens_usable, temp_schema)\n",
    "print(len(tml_dens_usable))\n",
    "\n",
    "# save for future use\n",
    "tml_dens_path = Path(f'filtered_{database_directory}/tml_filtered_dens_usable.json')\n",
    "tml_dens_usable.json(tml_dens_path, format=True)\n",
    "\n",
    "df_dens=tml_dens_usable.to_pandas()\n",
    "df_dens.to_csv(f'filtered_{database_directory}/tml_dens_usable_database.csv',index=False)"
   ]
  },
  {
   "cell_type": "code",
   "execution_count": 30,
   "metadata": {},
   "outputs": [
    {
     "name": "stdout",
     "output_type": "stream",
     "text": [
      "ThermoML - Number of initial data points: 323174\n",
      "ThermoML - Number of hmix+density data points: 20896\n",
      "ThermoML - Number of hmix data points: 17036\n",
      "ThermoML - Number of density data points: 174253\n"
     ]
    }
   ],
   "source": [
    "print(f'ThermoML - Number of initial data points: {len(tml_data_set)}')\n",
    "print(f'ThermoML - Number of hmix+density data points: {len(tml_hd_usable)}')\n",
    "print(f'ThermoML - Number of hmix data points: {len(tml_hmix_usable)}')\n",
    "print(f'ThermoML - Number of density data points: {len(tml_dens_usable)}')"
   ]
  },
  {
   "cell_type": "markdown",
   "metadata": {},
   "source": [
    "### Get data information"
   ]
  },
  {
   "cell_type": "markdown",
   "metadata": {},
   "source": [
    "#### Functions"
   ]
  },
  {
   "cell_type": "code",
   "execution_count": 31,
   "metadata": {},
   "outputs": [],
   "source": [
    "def get_unique_temperature_pressure_for_mixtures(data, component_columns=['Component 1', 'Component 2']):\n",
    "    \"\"\"\n",
    "    Loops through a dataframe and returns a dictionary where each unique\n",
    "    combination of specified component columns is a key. The value for each key is \n",
    "    a dictionary containing a unique list of tuples with temperatures and pressures for that mixture \n",
    "    and the count of occurrences of each unique mixture.\n",
    "\n",
    "    Parameters:\n",
    "    - data (pd.DataFrame): DataFrame containing the data\n",
    "    - component_columns (list): List of column names representing the mixture components\n",
    "                                 Defaults to ['Component 1', 'Component 2', 'Component 3'].\n",
    "\n",
    "    Returns:\n",
    "    - dict: A dictionary with unique mixtures as keys and a dictionary with temperature-pressure\n",
    "            information and counts as values.\n",
    "    \"\"\"\n",
    "    mixtures_dict = {}\n",
    "    unique_mixtures = set()\n",
    "\n",
    "\n",
    "    for _, row in data.iterrows():\n",
    "        # Create a tuple of the mixture components\n",
    "        mixture_key = tuple(row[component] for component in component_columns)\n",
    "\n",
    "        # Add to unique mixtures set (ignores duplicates)\n",
    "        unique_mixtures.add(mixture_key)\n",
    "        \n",
    "        # Extract temperature and pressure\n",
    "        temp_pressure = (row['Temperature (K)'], row['Pressure (kPa)'])\n",
    "        \n",
    "        # Only add to the dictionary if both temperature and pressure are valid numbers\n",
    "        if not (math.isnan(temp_pressure[0]) or math.isnan(temp_pressure[1])):\n",
    "            if mixture_key not in mixtures_dict:\n",
    "                mixtures_dict[mixture_key] = {\"temp_pressures\": set(), \"count\": 0}\n",
    "            \n",
    "            # Add the temperature-pressure pair and increment the count\n",
    "            mixtures_dict[mixture_key][\"temp_pressures\"].add(temp_pressure)\n",
    "            mixtures_dict[mixture_key][\"count\"] += 1\n",
    "\n",
    "    # Convert the sets back to lists for readability\n",
    "    mixtures_dict = {\n",
    "        key: {\"temp_pressures\": list(value[\"temp_pressures\"]), \"count\": value[\"count\"]}\n",
    "        for key, value in mixtures_dict.items()\n",
    "    }\n",
    "    \n",
    "    # Add deduplicated list of unique mixtures\n",
    "    mixtures_dict['unique_mixtures'] = list(unique_mixtures)\n",
    "    \n",
    "    return mixtures_dict\n"
   ]
  },
  {
   "cell_type": "code",
   "execution_count": 32,
   "metadata": {},
   "outputs": [],
   "source": [
    "def get_uniquemixs_counts(dataframe, properties):\n",
    "    # Get the unique mixtures data with counts\n",
    "    uniquemixs_temps_press = get_unique_temperature_pressure_for_mixtures(dataframe)\n",
    "\n",
    "    # Prepare data for saving to a CSV file, excluding the 'unique_mixtures' entry itself\n",
    "    mixtures_list = []\n",
    "\n",
    "    for mixture, details in uniquemixs_temps_press.items():\n",
    "        # Skip the 'unique_mixtures' key as it's not part of the temperature/pressure data\n",
    "        if mixture == 'unique_mixtures':\n",
    "            continue\n",
    "        # Extract temperature-pressure pairs and count for each mixture\n",
    "        count = details[\"count\"]\n",
    "        for temp, press in details[\"temp_pressures\"]:\n",
    "            mixtures_list.append({\n",
    "                \"Mixture\": \" | \".join([str(comp) for comp in mixture if pd.notna(comp)]),\n",
    "                \"Temperature\": temp,\n",
    "                \"Pressure\": press,\n",
    "                \"Count\": count\n",
    "            })\n",
    "\n",
    "    # Convert to DataFrame\n",
    "    mixtures_df = pd.DataFrame(mixtures_list)\n",
    "\n",
    "    # Save to CSV with the additional 'Count' column\n",
    "    output_path = f'filtered_{database_directory}/tml_uniqmixs_thermo_{properties}.csv'\n",
    "    mixtures_df.to_csv(output_path, index=False)\n",
    "\n",
    "    # Prepare a list to store each unique mixture and its count for the CSV\n",
    "    umixs_list = [\n",
    "        {\n",
    "            \"Mixture\": \" | \".join([str(comp) for comp in mixture if pd.notna(comp)]),\n",
    "            \"Count\": uniquemixs_temps_press[mixture][\"count\"]\n",
    "        }\n",
    "        for mixture in uniquemixs_temps_press[\"unique_mixtures\"]\n",
    "    ]\n",
    "\n",
    "    # Convert to DataFrame\n",
    "    hmix_umixtures_df = pd.DataFrame(umixs_list)\n",
    "\n",
    "    # Save to CSV with the additional 'Count' column\n",
    "    output_path2 = f'filtered_{database_directory}/tml_uniqmixs_{properties}.csv'\n",
    "    hmix_umixtures_df.to_csv(output_path2, index=False)\n",
    "\n",
    "    print(f'ThermoML - Number of {properties} mixtures: {len(umixs_list)}')"
   ]
  },
  {
   "cell_type": "code",
   "execution_count": 33,
   "metadata": {},
   "outputs": [],
   "source": [
    "def get_smiles(data_set_choice):\n",
    "    print(f'Number of initial data points: {len(data_set_choice)}')\n",
    "    subs=list(set(data_set_choice.substances))\n",
    "    print(f'Number of individual mixtures: {len(subs)}')\n",
    "    smiles_list=[]\n",
    "    comps=[]\n",
    "\n",
    "    for i in subs:\n",
    "        if len(i.components) == 3:\n",
    "            comps.append(i.components[0].smiles)\n",
    "            comps.append(i.components[1].smiles)\n",
    "            comps.append(i.components[2].smiles)\n",
    "        elif len(i.components) == 2:\n",
    "            comps.append(i.components[0].smiles)\n",
    "            comps.append(i.components[1].smiles)\n",
    "        elif len(i.components) == 1:\n",
    "            comps.append(i.components[0].smiles)\n",
    "\n",
    "    # comps.remove('O')\n",
    "\n",
    "    [smiles_list.append(o) for o in set(comps)]\n",
    "\n",
    "    print(f'Number of individual components: {len(smiles_list)}')\n",
    "\n",
    "    return(smiles_list)"
   ]
  },
  {
   "cell_type": "code",
   "execution_count": 34,
   "metadata": {},
   "outputs": [],
   "source": [
    "def get_indiv_comps(database, properties):\n",
    "    indiv_compnts=get_smiles(tml_hd_usable)\n",
    "    indiv_compnts_df=pd.DataFrame(indiv_compnts)\n",
    "    indiv_compnts_df.to_csv(f'filtered_{database_directory}/tml_indivcomps_{properties}.csv')"
   ]
  },
  {
   "cell_type": "markdown",
   "metadata": {},
   "source": [
    "#### Hmix + dens"
   ]
  },
  {
   "cell_type": "code",
   "execution_count": 35,
   "metadata": {},
   "outputs": [
    {
     "name": "stdout",
     "output_type": "stream",
     "text": [
      "Number of initial data points: 20896\n",
      "Number of individual mixtures: 12278\n",
      "Number of individual components: 134\n",
      "ThermoML - Number of hd mixtures: 364\n"
     ]
    }
   ],
   "source": [
    "get_indiv_comps(tml_hd_usable, 'hd')\n",
    "get_uniquemixs_counts(df_hmix_dens, 'hd')"
   ]
  },
  {
   "cell_type": "code",
   "execution_count": 36,
   "metadata": {},
   "outputs": [
    {
     "name": "stdout",
     "output_type": "stream",
     "text": [
      "Number of initial data points: 20896\n",
      "Number of individual mixtures: 12278\n",
      "Number of individual components: 134\n",
      "ThermoML - Number of hmix mixtures: 769\n"
     ]
    }
   ],
   "source": [
    "get_indiv_comps(tml_hmix_usable, 'hmix')\n",
    "get_uniquemixs_counts(df_hmix, 'hmix')"
   ]
  },
  {
   "cell_type": "code",
   "execution_count": 37,
   "metadata": {},
   "outputs": [
    {
     "name": "stdout",
     "output_type": "stream",
     "text": [
      "Number of initial data points: 20896\n",
      "Number of individual mixtures: 12278\n",
      "Number of individual components: 134\n",
      "ThermoML - Number of dens mixtures: 3549\n"
     ]
    }
   ],
   "source": [
    "get_indiv_comps(tml_dens_usable, 'dens')\n",
    "get_uniquemixs_counts(df_dens, 'dens')"
   ]
  },
  {
   "cell_type": "markdown",
   "metadata": {},
   "source": [
    "## ThermoML Osmotic and Activity Coefficients"
   ]
  },
  {
   "cell_type": "markdown",
   "metadata": {},
   "source": [
    "### FIltering"
   ]
  },
  {
   "cell_type": "code",
   "execution_count": 38,
   "metadata": {},
   "outputs": [
    {
     "name": "stdout",
     "output_type": "stream",
     "text": [
      "11432\n",
      "1834\n"
     ]
    }
   ],
   "source": [
    "# Osmotic + Activity\n",
    "tml_oc_ac= FilterByPropertyTypes.apply(tml_data_set, oc_ac_schema)\n",
    "print(len(tml_oc_ac))\n",
    "tml_2comps= FilterByNComponents.apply(tml_oc_ac, ncomp_schema)\n",
    "print(len(tml_2comps))"
   ]
  },
  {
   "cell_type": "code",
   "execution_count": 39,
   "metadata": {},
   "outputs": [
    {
     "name": "stdout",
     "output_type": "stream",
     "text": [
      "45\n"
     ]
    }
   ],
   "source": [
    "tml_ocac_strict= FilterByPropertyTypes.apply(tml_2comps, oc_ac_strict_schema)\n",
    "print(len(tml_ocac_strict))"
   ]
  },
  {
   "cell_type": "code",
   "execution_count": 40,
   "metadata": {},
   "outputs": [
    {
     "name": "stdout",
     "output_type": "stream",
     "text": [
      "45\n"
     ]
    }
   ],
   "source": [
    "tml_press_usable= FilterByPressure.apply(tml_ocac_strict, pressure_schema)\n",
    "tml_ocac_usable= FilterByTemperature.apply(tml_press_usable, temp_schema)\n",
    "print(len(tml_ocac_usable))"
   ]
  },
  {
   "cell_type": "code",
   "execution_count": null,
   "metadata": {},
   "outputs": [],
   "source": [
    "# save for future use\n",
    "tml_ocac_path = Path(f'filtered_{database_directory}/tml_filtered_ocac_usable.json')\n",
    "tml_ocac_usable.json(tml_ocac_path, format=True)\n",
    "\n",
    "df_ocac=tml_ocac_usable.to_pandas()\n",
    "df_ocac.to_csv(f'filtered_{database_directory}/tml_ocac_usable_database.csv',index=False)"
   ]
  },
  {
   "cell_type": "code",
   "execution_count": 48,
   "metadata": {},
   "outputs": [
    {
     "name": "stdout",
     "output_type": "stream",
     "text": [
      "45\n"
     ]
    }
   ],
   "source": [
    "print(len(tml_ocac_usable))"
   ]
  },
  {
   "cell_type": "code",
   "execution_count": 42,
   "metadata": {},
   "outputs": [
    {
     "name": "stdout",
     "output_type": "stream",
     "text": [
      "1822\n"
     ]
    }
   ],
   "source": [
    "# Osmotic only\n",
    "tml_oc_ds = FilterByPropertyTypes.apply(tml_data_set, osmotic_schema)\n",
    "tml_oc_press= FilterByPressure.apply(tml_oc_ds, pressure_schema)\n",
    "tml_oc_usable= FilterByTemperature.apply(tml_oc_press, temp_schema)\n",
    "print(len(tml_oc_usable))\n",
    "\n",
    "# save for future use\n",
    "tml_oc_path = Path(f'filtered_{database_directory}/tml_filtered_oc_usable.json')\n",
    "tml_oc_usable.json(tml_oc_path, format=True)\n",
    "\n",
    "df_oc=tml_oc_usable.to_pandas()\n",
    "df_oc.to_csv(f'filtered_{database_directory}/tml_oc_usable_database.csv',index=False)"
   ]
  },
  {
   "cell_type": "code",
   "execution_count": 49,
   "metadata": {},
   "outputs": [
    {
     "name": "stdout",
     "output_type": "stream",
     "text": [
      "9108\n"
     ]
    }
   ],
   "source": [
    "# Activity only\n",
    "tml_ac_ds = FilterByPropertyTypes.apply(tml_data_set, activity_schema)\n",
    "tml_ac_press= FilterByPressure.apply(tml_ac_ds, pressure_schema)\n",
    "tml_ac_usable= FilterByTemperature.apply(tml_ac_press, temp_schema)\n",
    "print(len(tml_ac_usable))\n",
    "\n",
    "# save for future use\n",
    "tml_ac_path = Path(f'filtered_{database_directory}/tml_filtered_ac_usable.json')\n",
    "tml_ac_usable.json(tml_ac_path, format=True)\n",
    "\n",
    "df_ac=tml_ac_usable.to_pandas()\n",
    "df_ac.to_csv(f'filtered_{database_directory}/tml_ac_usable_database.csv',index=False)"
   ]
  },
  {
   "cell_type": "markdown",
   "metadata": {},
   "source": [
    "### Get data information"
   ]
  },
  {
   "cell_type": "code",
   "execution_count": 44,
   "metadata": {},
   "outputs": [
    {
     "name": "stdout",
     "output_type": "stream",
     "text": [
      "Number of initial data points: 20896\n",
      "Number of individual mixtures: 12278\n",
      "Number of individual components: 134\n",
      "ThermoML - Number of ocac mixtures: 3\n"
     ]
    }
   ],
   "source": [
    "get_indiv_comps(tml_ocac_usable, 'ocac')\n",
    "get_uniquemixs_counts(df_ocac, 'ocac')"
   ]
  },
  {
   "cell_type": "code",
   "execution_count": 45,
   "metadata": {},
   "outputs": [
    {
     "name": "stdout",
     "output_type": "stream",
     "text": [
      "Number of initial data points: 20896\n",
      "Number of individual mixtures: 12278\n",
      "Number of individual components: 134\n",
      "ThermoML - Number of oc mixtures: 96\n"
     ]
    }
   ],
   "source": [
    "get_indiv_comps(tml_oc_usable, 'oc')\n",
    "get_uniquemixs_counts(df_oc, 'oc')"
   ]
  },
  {
   "cell_type": "code",
   "execution_count": 50,
   "metadata": {},
   "outputs": [
    {
     "name": "stdout",
     "output_type": "stream",
     "text": [
      "Number of initial data points: 20896\n",
      "Number of individual mixtures: 12278\n",
      "Number of individual components: 134\n",
      "ThermoML - Number of ac mixtures: 99\n"
     ]
    }
   ],
   "source": [
    "get_indiv_comps(tml_ac_usable, 'ac')\n",
    "get_uniquemixs_counts(df_ac, 'ac')"
   ]
  },
  {
   "cell_type": "code",
   "execution_count": null,
   "metadata": {},
   "outputs": [],
   "source": []
  }
 ],
 "metadata": {
  "kernelspec": {
   "display_name": "evaluator-openff",
   "language": "python",
   "name": "python3"
  },
  "language_info": {
   "codemirror_mode": {
    "name": "ipython",
    "version": 3
   },
   "file_extension": ".py",
   "mimetype": "text/x-python",
   "name": "python",
   "nbconvert_exporter": "python",
   "pygments_lexer": "ipython3",
   "version": "3.10.13"
  }
 },
 "nbformat": 4,
 "nbformat_minor": 2
}
