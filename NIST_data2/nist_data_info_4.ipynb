{
 "cells": [
  {
   "cell_type": "markdown",
   "metadata": {},
   "source": [
    "# Core Imports and Setup"
   ]
  },
  {
   "cell_type": "code",
   "execution_count": 1,
   "metadata": {},
   "outputs": [],
   "source": [
    "import os\n",
    "import pandas as pd\n",
    "from pathlib import Path\n",
    "\n",
    "import warnings\n",
    "warnings.filterwarnings(\"ignore\")\n",
    "\n",
    "import logging\n",
    "# logging.getLogger(\"openff.toolkit\").setLevel(logging.ERROR)\n",
    "# logging.basicConfig(level=logging.DEBUG)\n",
    "\n",
    "import json\n",
    "from openff import toolkit, evaluator"
   ]
  },
  {
   "cell_type": "code",
   "execution_count": 2,
   "metadata": {},
   "outputs": [],
   "source": [
    "from rdkit import Chem\n",
    "from rdkit.Chem.Draw import IPythonConsole\n",
    "from rdkit.Chem import Draw, MolFromSmiles\n",
    "from rdkit.Chem.Draw import MolsToGridImage, rdMolDraw2D, MolsMatrixToGridImage\n",
    "import pubchempy\n",
    "from PIL import Image, ImageDraw, ImageFont\n",
    "IPythonConsole.ipython_useSVG=False  #< set this to False if you want PNGs instead of SVGs"
   ]
  },
  {
   "cell_type": "code",
   "execution_count": 3,
   "metadata": {},
   "outputs": [],
   "source": [
    "from rdkit.Chem import rdMolDescriptors\n",
    "import pubchempy as pcp\n",
    "import math"
   ]
  },
  {
   "cell_type": "code",
   "execution_count": 4,
   "metadata": {},
   "outputs": [],
   "source": [
    "from openff.evaluator.datasets import PhysicalProperty, PropertyPhase\n",
    "from openff.evaluator.datasets.thermoml import thermoml_property\n",
    "from openff.evaluator import properties\n",
    "from openff.units import unit\n",
    "from openff.evaluator.datasets.thermoml import ThermoMLDataSet\n",
    "from openff.evaluator.datasets import PhysicalProperty, PropertyPhase, PhysicalPropertyDataSet"
   ]
  },
  {
   "cell_type": "code",
   "execution_count": 5,
   "metadata": {},
   "outputs": [],
   "source": [
    "from openff.evaluator.datasets.curation.components.filtering import FilterByPropertyTypes, FilterByPropertyTypesSchema\n",
    "from openff.evaluator.datasets.curation.components.filtering import FilterByTemperature, FilterByTemperatureSchema\n",
    "from openff.evaluator.datasets.curation.components.filtering import FilterByPressure, FilterByPressureSchema\n",
    "from openff.evaluator.datasets.curation.components.filtering import FilterBySmiles, FilterBySmilesSchema\n",
    "from openff.evaluator.datasets.curation.components.filtering import FilterByNComponents, FilterByNComponentsSchema\n"
   ]
  },
  {
   "cell_type": "code",
   "execution_count": 6,
   "metadata": {},
   "outputs": [],
   "source": [
    "from rich.progress import track\n",
    "from collections import defaultdict\n",
    "from openff.toolkit.utils.exceptions import UndefinedStereochemistryError"
   ]
  },
  {
   "cell_type": "code",
   "execution_count": 7,
   "metadata": {},
   "outputs": [],
   "source": [
    "def filter_database (unfiltered_directory):\n",
    "    data_set=[]\n",
    "    # Loop through all files in the directory\n",
    "    for filename in os.listdir(unfiltered_directory):\n",
    "        # Check if the file ends with .json\n",
    "        if filename.endswith('.xml'):\n",
    "            # Full path to the file\n",
    "            file_path = os.path.join(unfiltered_directory, filename)\n",
    "            data_set.append(file_path)\n",
    "    \n",
    "    sorted_dois = defaultdict(list)\n",
    "    for doi in track(data_set, description='Filtering DOIs...'):\n",
    "        try:\n",
    "            dataset = ThermoMLDataSet._from_file(doi)\n",
    "            sorted_dois['working'].append(doi)\n",
    "        except UndefinedStereochemistryError:\n",
    "            sorted_dois['stereo_fail'].append(doi)\n",
    "        except Exception as other_exc:\n",
    "            sorted_dois[other_exc.__class__.__name__].append(doi)\n",
    "\n",
    "    print('Amount of failing files: %i/%i' % (len(sorted_dois['stereo_fail']),len(data_set)))\n",
    "    print('Amount of working files: %i/%i' % (len(sorted_dois['working']),len(data_set)))\n",
    "\n",
    "    return sorted_dois['working']"
   ]
  },
  {
   "cell_type": "code",
   "execution_count": 8,
   "metadata": {},
   "outputs": [],
   "source": [
    "def extract_database (database_directory, csv_cached):\n",
    "    CACHED_PROP_PATH = Path(csv_cached)\n",
    "\n",
    "    if CACHED_PROP_PATH.exists():\n",
    "        prop_df = pd.read_csv(CACHED_PROP_PATH, index_col=0)\n",
    "        # delete rows with underfined thermo params to avoid pesky indexing errors\n",
    "        prop_df = prop_df.dropna(subset=['Temperature (K)'])\n",
    "        prop_df = prop_df.dropna(subset=['Pressure (kPa)'])\n",
    "        data_set = ThermoMLDataSet.from_pandas(prop_df)\n",
    "    else:\n",
    "        sorted_files=filter_database(database_directory)\n",
    "        data_set=ThermoMLDataSet.from_file(*sorted_files)\n",
    "\n",
    "        initial_df = data_set.to_pandas()\n",
    "        with CACHED_PROP_PATH.open('w') as file:\n",
    "            initial_df.to_csv(CACHED_PROP_PATH)\n",
    "    return data_set"
   ]
  },
  {
   "cell_type": "code",
   "execution_count": 9,
   "metadata": {},
   "outputs": [
    {
     "data": {
      "application/vnd.jupyter.widget-view+json": {
       "model_id": "3dc9140d1e2f44189d7bb3fa68db3cfc",
       "version_major": 2,
       "version_minor": 0
      },
      "text/plain": [
       "Output()"
      ]
     },
     "metadata": {},
     "output_type": "display_data"
    },
    {
     "data": {
      "text/html": [
       "<pre style=\"white-space:pre;overflow-x:auto;line-height:normal;font-family:Menlo,'DejaVu Sans Mono',consolas,'Courier New',monospace\"></pre>\n"
      ],
      "text/plain": []
     },
     "metadata": {},
     "output_type": "display_data"
    },
    {
     "data": {
      "text/html": [
       "<pre style=\"white-space:pre;overflow-x:auto;line-height:normal;font-family:Menlo,'DejaVu Sans Mono',consolas,'Courier New',monospace\">\n",
       "</pre>\n"
      ],
      "text/plain": [
       "\n"
      ]
     },
     "metadata": {},
     "output_type": "display_data"
    },
    {
     "name": "stdout",
     "output_type": "stream",
     "text": [
      "Amount of failing files: 1/6\n",
      "Amount of working files: 5/6\n"
     ]
    }
   ],
   "source": [
    "# # Ensure database_directory is defined\n",
    "# database_directory = 'ThermoML.v2020-09-30'\n",
    "database_directory = 'tests'\n",
    "tml_data_set = extract_database(database_directory, 'tml_database.csv')"
   ]
  },
  {
   "cell_type": "code",
   "execution_count": 9,
   "metadata": {},
   "outputs": [
    {
     "name": "stdout",
     "output_type": "stream",
     "text": [
      "['tests/acs.jced.5b00005.xml', 'tests/acs.jced.5b00021.xml', 'tests/acs.jced.5b00018.xml', 'tests/acs.jced.5b00007.xml', 'tests/acs.jced.5b00009.xml', 'tests/acs.jced.5b00011.xml']\n"
     ]
    }
   ],
   "source": [
    "data_set=[]\n",
    "# Loop through all files in the directory\n",
    "for filename in os.listdir(database_directory):\n",
    "    # Check if the file ends with .json\n",
    "    if filename.endswith('.xml'):\n",
    "        # Full path to the file\n",
    "        file_path = os.path.join(database_directory, filename)\n",
    "        data_set.append(file_path)\n",
    "\n",
    "print(data_set)"
   ]
  },
  {
   "cell_type": "code",
   "execution_count": 18,
   "metadata": {},
   "outputs": [
    {
     "data": {
      "application/vnd.jupyter.widget-view+json": {
       "model_id": "75ab0260b17745d78b09c7913269ab0e",
       "version_major": 2,
       "version_minor": 0
      },
      "text/plain": [
       "Output()"
      ]
     },
     "metadata": {},
     "output_type": "display_data"
    },
    {
     "data": {
      "text/html": [
       "<pre style=\"white-space:pre;overflow-x:auto;line-height:normal;font-family:Menlo,'DejaVu Sans Mono',consolas,'Courier New',monospace\"></pre>\n"
      ],
      "text/plain": []
     },
     "metadata": {},
     "output_type": "display_data"
    },
    {
     "data": {
      "text/html": [
       "<pre style=\"white-space:pre;overflow-x:auto;line-height:normal;font-family:Menlo,'DejaVu Sans Mono',consolas,'Courier New',monospace\">\n",
       "</pre>\n"
      ],
      "text/plain": [
       "\n"
      ]
     },
     "metadata": {},
     "output_type": "display_data"
    },
    {
     "name": "stdout",
     "output_type": "stream",
     "text": [
      "Amount of failing files: 1/6\n",
      "Amount of working files: 5/6\n"
     ]
    }
   ],
   "source": [
    "sorted_dois = defaultdict(list)\n",
    "for doi in track(data_set, description='Filtering DOIs...'):\n",
    "    try:\n",
    "        dataset = ThermoMLDataSet._from_file(doi)\n",
    "        sorted_dois['working'].append(doi)\n",
    "    except UndefinedStereochemistryError:\n",
    "        sorted_dois['stereo_fail'].append(doi)\n",
    "    except Exception as other_exc:\n",
    "        sorted_dois[other_exc.__class__.__name__].append(doi)\n",
    "\n",
    "print('Amount of failing files: %i/%i' % (len(sorted_dois['stereo_fail']),len(data_set)))\n",
    "print('Amount of working files: %i/%i' % (len(sorted_dois['working']),len(data_set)))"
   ]
  },
  {
   "cell_type": "code",
   "execution_count": 19,
   "metadata": {},
   "outputs": [],
   "source": [
    "tml_data_set=ThermoMLDataSet.from_file(*sorted_dois['working'])"
   ]
  },
  {
   "cell_type": "code",
   "execution_count": 20,
   "metadata": {},
   "outputs": [
    {
     "data": {
      "text/plain": [
       "<PhysicalPropertyDataSet n_properties=537 n_substances=215 n_sources=2>"
      ]
     },
     "execution_count": 20,
     "metadata": {},
     "output_type": "execute_result"
    }
   ],
   "source": [
    "tml_data_set"
   ]
  },
  {
   "cell_type": "code",
   "execution_count": 21,
   "metadata": {},
   "outputs": [
    {
     "data": {
      "text/html": [
       "<div>\n",
       "<style scoped>\n",
       "    .dataframe tbody tr th:only-of-type {\n",
       "        vertical-align: middle;\n",
       "    }\n",
       "\n",
       "    .dataframe tbody tr th {\n",
       "        vertical-align: top;\n",
       "    }\n",
       "\n",
       "    .dataframe thead th {\n",
       "        text-align: right;\n",
       "    }\n",
       "</style>\n",
       "<table border=\"1\" class=\"dataframe\">\n",
       "  <thead>\n",
       "    <tr style=\"text-align: right;\">\n",
       "      <th></th>\n",
       "      <th>Id</th>\n",
       "      <th>Temperature (K)</th>\n",
       "      <th>Pressure (kPa)</th>\n",
       "      <th>Phase</th>\n",
       "      <th>N Components</th>\n",
       "      <th>Component 1</th>\n",
       "      <th>Role 1</th>\n",
       "      <th>Mole Fraction 1</th>\n",
       "      <th>Exact Amount 1</th>\n",
       "      <th>Component 2</th>\n",
       "      <th>Role 2</th>\n",
       "      <th>Mole Fraction 2</th>\n",
       "      <th>Exact Amount 2</th>\n",
       "      <th>Component 3</th>\n",
       "      <th>Role 3</th>\n",
       "      <th>Mole Fraction 3</th>\n",
       "      <th>Exact Amount 3</th>\n",
       "      <th>Density Value (g / ml)</th>\n",
       "      <th>Density Uncertainty (g / ml)</th>\n",
       "      <th>Source</th>\n",
       "    </tr>\n",
       "  </thead>\n",
       "  <tbody>\n",
       "    <tr>\n",
       "      <th>0</th>\n",
       "      <td>c53292c345a2430b94b37c836fa44e1e</td>\n",
       "      <td>278.15</td>\n",
       "      <td>101.0</td>\n",
       "      <td>Liquid</td>\n",
       "      <td>3</td>\n",
       "      <td>O.O.O=S(=O)([O-])[O-].[Ca+2]</td>\n",
       "      <td>Solvent</td>\n",
       "      <td>0.000360</td>\n",
       "      <td>None</td>\n",
       "      <td>[Cl-].[Na+]</td>\n",
       "      <td>Solvent</td>\n",
       "      <td>0.001798</td>\n",
       "      <td>NaN</td>\n",
       "      <td>O</td>\n",
       "      <td>Solvent</td>\n",
       "      <td>0.997843</td>\n",
       "      <td>NaN</td>\n",
       "      <td>1.006000</td>\n",
       "      <td>0.001500</td>\n",
       "      <td>10.1021/acs.jced.5b00005</td>\n",
       "    </tr>\n",
       "    <tr>\n",
       "      <th>1</th>\n",
       "      <td>f1a8f964d7944e1d9466595e7f549816</td>\n",
       "      <td>278.15</td>\n",
       "      <td>101.0</td>\n",
       "      <td>Liquid</td>\n",
       "      <td>3</td>\n",
       "      <td>O.O.O=S(=O)([O-])[O-].[Ca+2]</td>\n",
       "      <td>Solvent</td>\n",
       "      <td>0.000454</td>\n",
       "      <td>None</td>\n",
       "      <td>[Cl-].[Na+]</td>\n",
       "      <td>Solvent</td>\n",
       "      <td>0.004499</td>\n",
       "      <td>NaN</td>\n",
       "      <td>O</td>\n",
       "      <td>Solvent</td>\n",
       "      <td>0.995047</td>\n",
       "      <td>NaN</td>\n",
       "      <td>1.014000</td>\n",
       "      <td>0.001500</td>\n",
       "      <td>10.1021/acs.jced.5b00005</td>\n",
       "    </tr>\n",
       "    <tr>\n",
       "      <th>2</th>\n",
       "      <td>b3cd061edd0f4d8b87a908cca61647c9</td>\n",
       "      <td>278.15</td>\n",
       "      <td>101.0</td>\n",
       "      <td>Liquid</td>\n",
       "      <td>3</td>\n",
       "      <td>O.O.O=S(=O)([O-])[O-].[Ca+2]</td>\n",
       "      <td>Solvent</td>\n",
       "      <td>0.000591</td>\n",
       "      <td>None</td>\n",
       "      <td>[Cl-].[Na+]</td>\n",
       "      <td>Solvent</td>\n",
       "      <td>0.008975</td>\n",
       "      <td>NaN</td>\n",
       "      <td>O</td>\n",
       "      <td>Solvent</td>\n",
       "      <td>0.990434</td>\n",
       "      <td>NaN</td>\n",
       "      <td>1.028000</td>\n",
       "      <td>0.001500</td>\n",
       "      <td>10.1021/acs.jced.5b00005</td>\n",
       "    </tr>\n",
       "    <tr>\n",
       "      <th>3</th>\n",
       "      <td>fb9b6f24eb914030855231a8d81b199b</td>\n",
       "      <td>278.15</td>\n",
       "      <td>101.0</td>\n",
       "      <td>Liquid</td>\n",
       "      <td>3</td>\n",
       "      <td>O.O.O=S(=O)([O-])[O-].[Ca+2]</td>\n",
       "      <td>Solvent</td>\n",
       "      <td>0.000730</td>\n",
       "      <td>None</td>\n",
       "      <td>[Cl-].[Na+]</td>\n",
       "      <td>Solvent</td>\n",
       "      <td>0.017961</td>\n",
       "      <td>NaN</td>\n",
       "      <td>O</td>\n",
       "      <td>Solvent</td>\n",
       "      <td>0.981308</td>\n",
       "      <td>NaN</td>\n",
       "      <td>1.048000</td>\n",
       "      <td>0.001000</td>\n",
       "      <td>10.1021/acs.jced.5b00005</td>\n",
       "    </tr>\n",
       "    <tr>\n",
       "      <th>4</th>\n",
       "      <td>abbc10af581f47a080f51323c6b51bb0</td>\n",
       "      <td>278.15</td>\n",
       "      <td>101.0</td>\n",
       "      <td>Liquid</td>\n",
       "      <td>3</td>\n",
       "      <td>O.O.O=S(=O)([O-])[O-].[Ca+2]</td>\n",
       "      <td>Solvent</td>\n",
       "      <td>0.000809</td>\n",
       "      <td>None</td>\n",
       "      <td>[Cl-].[Na+]</td>\n",
       "      <td>Solvent</td>\n",
       "      <td>0.027109</td>\n",
       "      <td>NaN</td>\n",
       "      <td>O</td>\n",
       "      <td>Solvent</td>\n",
       "      <td>0.972082</td>\n",
       "      <td>NaN</td>\n",
       "      <td>1.063000</td>\n",
       "      <td>0.001000</td>\n",
       "      <td>10.1021/acs.jced.5b00005</td>\n",
       "    </tr>\n",
       "    <tr>\n",
       "      <th>...</th>\n",
       "      <td>...</td>\n",
       "      <td>...</td>\n",
       "      <td>...</td>\n",
       "      <td>...</td>\n",
       "      <td>...</td>\n",
       "      <td>...</td>\n",
       "      <td>...</td>\n",
       "      <td>...</td>\n",
       "      <td>...</td>\n",
       "      <td>...</td>\n",
       "      <td>...</td>\n",
       "      <td>...</td>\n",
       "      <td>...</td>\n",
       "      <td>...</td>\n",
       "      <td>...</td>\n",
       "      <td>...</td>\n",
       "      <td>...</td>\n",
       "      <td>...</td>\n",
       "      <td>...</td>\n",
       "      <td>...</td>\n",
       "    </tr>\n",
       "    <tr>\n",
       "      <th>532</th>\n",
       "      <td>b4a13d50731d482ba4484f14e0478793</td>\n",
       "      <td>323.15</td>\n",
       "      <td>101.0</td>\n",
       "      <td>Liquid</td>\n",
       "      <td>2</td>\n",
       "      <td>CCCC#N</td>\n",
       "      <td>Solvent</td>\n",
       "      <td>0.600000</td>\n",
       "      <td>None</td>\n",
       "      <td>c1ccccc1</td>\n",
       "      <td>Solvent</td>\n",
       "      <td>0.400000</td>\n",
       "      <td>NaN</td>\n",
       "      <td>NaN</td>\n",
       "      <td>NaN</td>\n",
       "      <td>NaN</td>\n",
       "      <td>NaN</td>\n",
       "      <td>0.798661</td>\n",
       "      <td>0.000063</td>\n",
       "      <td>10.1021/acs.jced.5b00009</td>\n",
       "    </tr>\n",
       "    <tr>\n",
       "      <th>533</th>\n",
       "      <td>454af844c84241c6af68f1a23b093fe6</td>\n",
       "      <td>323.15</td>\n",
       "      <td>101.0</td>\n",
       "      <td>Liquid</td>\n",
       "      <td>2</td>\n",
       "      <td>CCCC#N</td>\n",
       "      <td>Solvent</td>\n",
       "      <td>0.700000</td>\n",
       "      <td>None</td>\n",
       "      <td>c1ccccc1</td>\n",
       "      <td>Solvent</td>\n",
       "      <td>0.300000</td>\n",
       "      <td>NaN</td>\n",
       "      <td>NaN</td>\n",
       "      <td>NaN</td>\n",
       "      <td>NaN</td>\n",
       "      <td>NaN</td>\n",
       "      <td>0.789869</td>\n",
       "      <td>0.000065</td>\n",
       "      <td>10.1021/acs.jced.5b00009</td>\n",
       "    </tr>\n",
       "    <tr>\n",
       "      <th>534</th>\n",
       "      <td>5f26e10af9c04ee18ae1ac97813ae7bc</td>\n",
       "      <td>323.15</td>\n",
       "      <td>101.0</td>\n",
       "      <td>Liquid</td>\n",
       "      <td>2</td>\n",
       "      <td>CCCC#N</td>\n",
       "      <td>Solvent</td>\n",
       "      <td>0.800000</td>\n",
       "      <td>None</td>\n",
       "      <td>c1ccccc1</td>\n",
       "      <td>Solvent</td>\n",
       "      <td>0.200000</td>\n",
       "      <td>NaN</td>\n",
       "      <td>NaN</td>\n",
       "      <td>NaN</td>\n",
       "      <td>NaN</td>\n",
       "      <td>NaN</td>\n",
       "      <td>0.780977</td>\n",
       "      <td>0.000066</td>\n",
       "      <td>10.1021/acs.jced.5b00009</td>\n",
       "    </tr>\n",
       "    <tr>\n",
       "      <th>535</th>\n",
       "      <td>58c042e1e44d4d73aa95c21b58beeb19</td>\n",
       "      <td>323.15</td>\n",
       "      <td>101.0</td>\n",
       "      <td>Liquid</td>\n",
       "      <td>2</td>\n",
       "      <td>CCCC#N</td>\n",
       "      <td>Solvent</td>\n",
       "      <td>0.900000</td>\n",
       "      <td>None</td>\n",
       "      <td>c1ccccc1</td>\n",
       "      <td>Solvent</td>\n",
       "      <td>0.100000</td>\n",
       "      <td>NaN</td>\n",
       "      <td>NaN</td>\n",
       "      <td>NaN</td>\n",
       "      <td>NaN</td>\n",
       "      <td>NaN</td>\n",
       "      <td>0.771989</td>\n",
       "      <td>0.000068</td>\n",
       "      <td>10.1021/acs.jced.5b00009</td>\n",
       "    </tr>\n",
       "    <tr>\n",
       "      <th>536</th>\n",
       "      <td>4a074001960b466e8a211a8b693fd5c4</td>\n",
       "      <td>323.15</td>\n",
       "      <td>101.0</td>\n",
       "      <td>Liquid</td>\n",
       "      <td>1</td>\n",
       "      <td>CCCC#N</td>\n",
       "      <td>Solvent</td>\n",
       "      <td>1.000000</td>\n",
       "      <td>None</td>\n",
       "      <td>NaN</td>\n",
       "      <td>NaN</td>\n",
       "      <td>NaN</td>\n",
       "      <td>NaN</td>\n",
       "      <td>NaN</td>\n",
       "      <td>NaN</td>\n",
       "      <td>NaN</td>\n",
       "      <td>NaN</td>\n",
       "      <td>0.762929</td>\n",
       "      <td>0.000067</td>\n",
       "      <td>10.1021/acs.jced.5b00009</td>\n",
       "    </tr>\n",
       "  </tbody>\n",
       "</table>\n",
       "<p>537 rows × 20 columns</p>\n",
       "</div>"
      ],
      "text/plain": [
       "                                   Id  Temperature (K)  Pressure (kPa)  \\\n",
       "0    c53292c345a2430b94b37c836fa44e1e           278.15           101.0   \n",
       "1    f1a8f964d7944e1d9466595e7f549816           278.15           101.0   \n",
       "2    b3cd061edd0f4d8b87a908cca61647c9           278.15           101.0   \n",
       "3    fb9b6f24eb914030855231a8d81b199b           278.15           101.0   \n",
       "4    abbc10af581f47a080f51323c6b51bb0           278.15           101.0   \n",
       "..                                ...              ...             ...   \n",
       "532  b4a13d50731d482ba4484f14e0478793           323.15           101.0   \n",
       "533  454af844c84241c6af68f1a23b093fe6           323.15           101.0   \n",
       "534  5f26e10af9c04ee18ae1ac97813ae7bc           323.15           101.0   \n",
       "535  58c042e1e44d4d73aa95c21b58beeb19           323.15           101.0   \n",
       "536  4a074001960b466e8a211a8b693fd5c4           323.15           101.0   \n",
       "\n",
       "      Phase  N Components                   Component 1   Role 1  \\\n",
       "0    Liquid             3  O.O.O=S(=O)([O-])[O-].[Ca+2]  Solvent   \n",
       "1    Liquid             3  O.O.O=S(=O)([O-])[O-].[Ca+2]  Solvent   \n",
       "2    Liquid             3  O.O.O=S(=O)([O-])[O-].[Ca+2]  Solvent   \n",
       "3    Liquid             3  O.O.O=S(=O)([O-])[O-].[Ca+2]  Solvent   \n",
       "4    Liquid             3  O.O.O=S(=O)([O-])[O-].[Ca+2]  Solvent   \n",
       "..      ...           ...                           ...      ...   \n",
       "532  Liquid             2                        CCCC#N  Solvent   \n",
       "533  Liquid             2                        CCCC#N  Solvent   \n",
       "534  Liquid             2                        CCCC#N  Solvent   \n",
       "535  Liquid             2                        CCCC#N  Solvent   \n",
       "536  Liquid             1                        CCCC#N  Solvent   \n",
       "\n",
       "     Mole Fraction 1 Exact Amount 1  Component 2   Role 2  Mole Fraction 2  \\\n",
       "0           0.000360           None  [Cl-].[Na+]  Solvent         0.001798   \n",
       "1           0.000454           None  [Cl-].[Na+]  Solvent         0.004499   \n",
       "2           0.000591           None  [Cl-].[Na+]  Solvent         0.008975   \n",
       "3           0.000730           None  [Cl-].[Na+]  Solvent         0.017961   \n",
       "4           0.000809           None  [Cl-].[Na+]  Solvent         0.027109   \n",
       "..               ...            ...          ...      ...              ...   \n",
       "532         0.600000           None     c1ccccc1  Solvent         0.400000   \n",
       "533         0.700000           None     c1ccccc1  Solvent         0.300000   \n",
       "534         0.800000           None     c1ccccc1  Solvent         0.200000   \n",
       "535         0.900000           None     c1ccccc1  Solvent         0.100000   \n",
       "536         1.000000           None          NaN      NaN              NaN   \n",
       "\n",
       "     Exact Amount 2 Component 3   Role 3  Mole Fraction 3  Exact Amount 3  \\\n",
       "0               NaN           O  Solvent         0.997843             NaN   \n",
       "1               NaN           O  Solvent         0.995047             NaN   \n",
       "2               NaN           O  Solvent         0.990434             NaN   \n",
       "3               NaN           O  Solvent         0.981308             NaN   \n",
       "4               NaN           O  Solvent         0.972082             NaN   \n",
       "..              ...         ...      ...              ...             ...   \n",
       "532             NaN         NaN      NaN              NaN             NaN   \n",
       "533             NaN         NaN      NaN              NaN             NaN   \n",
       "534             NaN         NaN      NaN              NaN             NaN   \n",
       "535             NaN         NaN      NaN              NaN             NaN   \n",
       "536             NaN         NaN      NaN              NaN             NaN   \n",
       "\n",
       "     Density Value (g / ml)  Density Uncertainty (g / ml)  \\\n",
       "0                  1.006000                      0.001500   \n",
       "1                  1.014000                      0.001500   \n",
       "2                  1.028000                      0.001500   \n",
       "3                  1.048000                      0.001000   \n",
       "4                  1.063000                      0.001000   \n",
       "..                      ...                           ...   \n",
       "532                0.798661                      0.000063   \n",
       "533                0.789869                      0.000065   \n",
       "534                0.780977                      0.000066   \n",
       "535                0.771989                      0.000068   \n",
       "536                0.762929                      0.000067   \n",
       "\n",
       "                       Source  \n",
       "0    10.1021/acs.jced.5b00005  \n",
       "1    10.1021/acs.jced.5b00005  \n",
       "2    10.1021/acs.jced.5b00005  \n",
       "3    10.1021/acs.jced.5b00005  \n",
       "4    10.1021/acs.jced.5b00005  \n",
       "..                        ...  \n",
       "532  10.1021/acs.jced.5b00009  \n",
       "533  10.1021/acs.jced.5b00009  \n",
       "534  10.1021/acs.jced.5b00009  \n",
       "535  10.1021/acs.jced.5b00009  \n",
       "536  10.1021/acs.jced.5b00009  \n",
       "\n",
       "[537 rows x 20 columns]"
      ]
     },
     "execution_count": 21,
     "metadata": {},
     "output_type": "execute_result"
    }
   ],
   "source": [
    "tml_data_set.to_pandas()"
   ]
  },
  {
   "cell_type": "code",
   "execution_count": null,
   "metadata": {},
   "outputs": [],
   "source": []
  }
 ],
 "metadata": {
  "kernelspec": {
   "display_name": "evaluator-openff",
   "language": "python",
   "name": "python3"
  },
  "language_info": {
   "codemirror_mode": {
    "name": "ipython",
    "version": 3
   },
   "file_extension": ".py",
   "mimetype": "text/x-python",
   "name": "python",
   "nbconvert_exporter": "python",
   "pygments_lexer": "ipython3",
   "version": "3.10.13"
  }
 },
 "nbformat": 4,
 "nbformat_minor": 2
}
