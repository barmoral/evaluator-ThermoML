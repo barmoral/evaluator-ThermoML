{
 "cells": [
  {
   "cell_type": "code",
   "execution_count": 37,
   "metadata": {},
   "outputs": [],
   "source": [
    "from openff.evaluator.datasets.thermoml import register_thermoml_property, thermoml_property, ThermoMLDataSet\n",
    "\n",
    "from openff.evaluator.datasets import PropertyPhase, PhysicalProperty\n",
    "from openff.units import unit"
   ]
  },
  {
   "cell_type": "code",
   "execution_count": 39,
   "metadata": {},
   "outputs": [],
   "source": [
    "data_set = ThermoMLDataSet.from_doi(\n",
    "    \"10.1016/j.jct.2013.08.018\",\n",
    ")"
   ]
  },
  {
   "cell_type": "code",
   "execution_count": 40,
   "metadata": {},
   "outputs": [],
   "source": [
    "unit.dimensionless\n",
    "\n",
    "\n",
    "@thermoml_property(\"Osmotic coefficient\", supported_phases=PropertyPhase.Liquid)\n",
    "class ActivityFugacityOsmoticProp(PhysicalProperty):\n",
    "    @classmethod \n",
    "    def default_unit(cls):\n",
    "        return unit.dimensionless"
   ]
  },
  {
   "cell_type": "code",
   "execution_count": 41,
   "metadata": {},
   "outputs": [
    {
     "data": {
      "text/plain": [
       "{'Mass density, kg/m3': <openff.evaluator.datasets.thermoml.plugins._ThermoMLPlugin at 0x7f3b6aa8ef50>,\n",
       " 'Excess molar volume, m3/mol': <openff.evaluator.datasets.thermoml.plugins._ThermoMLPlugin at 0x7f3b6abdf910>,\n",
       " 'Relative permittivity at zero frequency': <openff.evaluator.datasets.thermoml.plugins._ThermoMLPlugin at 0x7f3b6abdedd0>,\n",
       " 'Excess molar enthalpy (molar enthalpy of mixing), kJ/mol': <openff.evaluator.datasets.thermoml.plugins._ThermoMLPlugin at 0x7f3b6abdeef0>,\n",
       " 'Molar enthalpy of vaporization or sublimation, kJ/mol': <openff.evaluator.datasets.thermoml.plugins._ThermoMLPlugin at 0x7f3b6abdf1f0>,\n",
       " 'Osmotic coefficient': <openff.evaluator.datasets.thermoml.plugins._ThermoMLPlugin at 0x7f3b6a3c5de0>}"
      ]
     },
     "execution_count": 41,
     "metadata": {},
     "output_type": "execute_result"
    }
   ],
   "source": [
    "ThermoMLDataSet.registered_properties"
   ]
  },
  {
   "cell_type": "code",
   "execution_count": 29,
   "metadata": {},
   "outputs": [],
   "source": [
    "from openff.evaluator.properties import Density\n"
   ]
  },
  {
   "cell_type": "code",
   "execution_count": 42,
   "metadata": {},
   "outputs": [
    {
     "ename": "AssertionError",
     "evalue": "",
     "output_type": "error",
     "traceback": [
      "\u001b[0;31m---------------------------------------------------------------------------\u001b[0m",
      "\u001b[0;31mAssertionError\u001b[0m                            Traceback (most recent call last)",
      "Cell \u001b[0;32mIn[42], line 6\u001b[0m\n\u001b[1;32m      1\u001b[0m \u001b[38;5;28;01mfrom\u001b[39;00m \u001b[38;5;21;01mopenff\u001b[39;00m\u001b[38;5;21;01m.\u001b[39;00m\u001b[38;5;21;01mevaluator\u001b[39;00m\u001b[38;5;21;01m.\u001b[39;00m\u001b[38;5;21;01mdatasets\u001b[39;00m\u001b[38;5;21;01m.\u001b[39;00m\u001b[38;5;21;01mcuration\u001b[39;00m\u001b[38;5;21;01m.\u001b[39;00m\u001b[38;5;21;01mcomponents\u001b[39;00m\u001b[38;5;21;01m.\u001b[39;00m\u001b[38;5;21;01mfiltering\u001b[39;00m \u001b[38;5;28;01mimport\u001b[39;00m (\n\u001b[1;32m      2\u001b[0m     FilterByPropertyTypes,\n\u001b[1;32m      3\u001b[0m     FilterByPropertyTypesSchema,\n\u001b[1;32m      4\u001b[0m )\n\u001b[0;32m----> 6\u001b[0m data_set \u001b[38;5;241m=\u001b[39m \u001b[43mFilterByPropertyTypes\u001b[49m\u001b[38;5;241;43m.\u001b[39;49m\u001b[43mapply\u001b[49m\u001b[43m(\u001b[49m\n\u001b[1;32m      7\u001b[0m \u001b[43m    \u001b[49m\u001b[43mdata_set\u001b[49m\u001b[43m,\u001b[49m\u001b[43m \u001b[49m\u001b[43mFilterByPropertyTypesSchema\u001b[49m\u001b[43m(\u001b[49m\u001b[43mproperty_types\u001b[49m\u001b[38;5;241;43m=\u001b[39;49m\u001b[43m[\u001b[49m\u001b[38;5;124;43m\"\u001b[39;49m\u001b[38;5;124;43mActivityFugacityOsmoticProp\u001b[39;49m\u001b[38;5;124;43m\"\u001b[39;49m\u001b[43m]\u001b[49m\u001b[43m)\u001b[49m\n\u001b[1;32m      8\u001b[0m \u001b[43m)\u001b[49m\n\u001b[1;32m     10\u001b[0m \u001b[38;5;28mprint\u001b[39m(data_set\u001b[38;5;241m.\u001b[39mproperty_types)\n",
      "File \u001b[0;32m~/miniconda3/envs/evaluator-openff/lib/python3.10/site-packages/openff/evaluator/datasets/curation/components/components.py:101\u001b[0m, in \u001b[0;36mCurationComponent.apply\u001b[0;34m(cls, data_set, schema, n_processes)\u001b[0m\n\u001b[1;32m     95\u001b[0m     logger\u001b[38;5;241m.\u001b[39minfo(\n\u001b[1;32m     96\u001b[0m         \u001b[38;5;124mf\u001b[39m\u001b[38;5;124m\"\u001b[39m\u001b[38;5;132;01m{\u001b[39;00m\u001b[38;5;28mabs\u001b[39m(n_filtered\u001b[38;5;250m \u001b[39m\u001b[38;5;241m-\u001b[39m\u001b[38;5;250m \u001b[39mn_data_points)\u001b[38;5;132;01m}\u001b[39;00m\u001b[38;5;124m data points were \u001b[39m\u001b[38;5;132;01m{\u001b[39;00mdirection\u001b[38;5;132;01m}\u001b[39;00m\u001b[38;5;124m after \u001b[39m\u001b[38;5;124m\"\u001b[39m\n\u001b[1;32m     97\u001b[0m         \u001b[38;5;124mf\u001b[39m\u001b[38;5;124m\"\u001b[39m\u001b[38;5;124mapplying the \u001b[39m\u001b[38;5;132;01m{\u001b[39;00m\u001b[38;5;28mcls\u001b[39m\u001b[38;5;241m.\u001b[39m\u001b[38;5;18m__name__\u001b[39m\u001b[38;5;132;01m}\u001b[39;00m\u001b[38;5;124m component.\u001b[39m\u001b[38;5;124m\"\u001b[39m\n\u001b[1;32m     98\u001b[0m     )\n\u001b[1;32m    100\u001b[0m \u001b[38;5;28;01mif\u001b[39;00m \u001b[38;5;28misinstance\u001b[39m(data_set, PhysicalPropertyDataSet):\n\u001b[0;32m--> 101\u001b[0m     modified_data_frame \u001b[38;5;241m=\u001b[39m \u001b[43mPhysicalPropertyDataSet\u001b[49m\u001b[38;5;241;43m.\u001b[39;49m\u001b[43mfrom_pandas\u001b[49m\u001b[43m(\u001b[49m\n\u001b[1;32m    102\u001b[0m \u001b[43m        \u001b[49m\u001b[43mmodified_data_frame\u001b[49m\n\u001b[1;32m    103\u001b[0m \u001b[43m    \u001b[49m\u001b[43m)\u001b[49m\n\u001b[1;32m    105\u001b[0m \u001b[38;5;28;01mreturn\u001b[39;00m modified_data_frame\n",
      "File \u001b[0;32m~/miniconda3/envs/evaluator-openff/lib/python3.10/site-packages/openff/evaluator/datasets/datasets.py:548\u001b[0m, in \u001b[0;36mPhysicalPropertyDataSet.from_pandas\u001b[0;34m(cls, data_frame)\u001b[0m\n\u001b[1;32m    544\u001b[0m \u001b[38;5;28;01massert\u001b[39;00m match\n\u001b[1;32m    546\u001b[0m property_type_string, property_unit_string \u001b[38;5;241m=\u001b[39m match\u001b[38;5;241m.\u001b[39mgroups()\n\u001b[0;32m--> 548\u001b[0m \u001b[38;5;28;01massert\u001b[39;00m \u001b[38;5;28mhasattr\u001b[39m(properties, property_type_string)\n\u001b[1;32m    549\u001b[0m property_type \u001b[38;5;241m=\u001b[39m \u001b[38;5;28mgetattr\u001b[39m(properties, property_type_string)\n\u001b[1;32m    551\u001b[0m property_unit \u001b[38;5;241m=\u001b[39m unit\u001b[38;5;241m.\u001b[39mUnit(property_unit_string)\n",
      "\u001b[0;31mAssertionError\u001b[0m: "
     ]
    }
   ],
   "source": [
    "from openff.evaluator.datasets.curation.components.filtering import (\n",
    "    FilterByPropertyTypes,\n",
    "    FilterByPropertyTypesSchema,\n",
    ")\n",
    "\n",
    "data_set = FilterByPropertyTypes.apply(\n",
    "    data_set, FilterByPropertyTypesSchema(property_types=[\"Osmotic\"])\n",
    ")\n",
    "\n",
    "print(data_set.property_types)"
   ]
  },
  {
   "cell_type": "code",
   "execution_count": 31,
   "metadata": {},
   "outputs": [
    {
     "name": "stdout",
     "output_type": "stream",
     "text": [
      "set()\n"
     ]
    }
   ],
   "source": [
    "from openff.evaluator.datasets.curation.components.filtering import (\n",
    "    FilterByPropertyTypes,\n",
    "    FilterByPropertyTypesSchema,\n",
    ")\n",
    "\n",
    "data_set = FilterByPropertyTypes.apply(\n",
    "    data_set, FilterByPropertyTypesSchema(property_types=[\"Osmotic coefficient\"])\n",
    ")\n",
    "\n",
    "print(data_set.property_types)"
   ]
  },
  {
   "cell_type": "code",
   "execution_count": null,
   "metadata": {},
   "outputs": [],
   "source": []
  }
 ],
 "metadata": {
  "kernelspec": {
   "display_name": "evaluator-openff",
   "language": "python",
   "name": "python3"
  },
  "language_info": {
   "codemirror_mode": {
    "name": "ipython",
    "version": 3
   },
   "file_extension": ".py",
   "mimetype": "text/x-python",
   "name": "python",
   "nbconvert_exporter": "python",
   "pygments_lexer": "ipython3",
   "version": "3.10.13"
  }
 },
 "nbformat": 4,
 "nbformat_minor": 2
}
