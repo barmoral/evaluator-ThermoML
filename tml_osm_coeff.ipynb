{
 "cells": [
  {
   "cell_type": "code",
   "execution_count": 1,
   "metadata": {},
   "outputs": [],
   "source": [
    "import os\n",
    "from pathlib import Path\n",
    "\n",
    "import warnings\n",
    "warnings.filterwarnings(\"ignore\")\n",
    "\n",
    "import logging\n",
    "# logging.basicConfig(level=logging.DEBUG)\n",
    "logging.getLogger(\"openff.toolkit\").setLevel(logging.ERROR)\n",
    "\n",
    "from openff import toolkit, evaluator\n",
    "\n",
    "import pandas as pd\n",
    "import json"
   ]
  },
  {
   "cell_type": "code",
   "execution_count": 2,
   "metadata": {},
   "outputs": [],
   "source": [
    "from openff.evaluator.datasets import PhysicalProperty, PropertyPhase\n",
    "from openff.evaluator.datasets.thermoml import thermoml_property\n",
    "from openff.evaluator import properties\n",
    "from openff.units import unit"
   ]
  },
  {
   "cell_type": "code",
   "execution_count": 3,
   "metadata": {},
   "outputs": [],
   "source": [
    "from openff.evaluator.datasets import PhysicalProperty, PropertyPhase\n",
    "from openff.evaluator.datasets.thermoml import thermoml_property\n",
    "from openff.units import unit\n",
    "from openff.evaluator.datasets.thermoml import ThermoMLDataSet\n",
    "from openff.evaluator.datasets.thermoml.thermoml import _Compound\n",
    "from openff.toolkit import Molecule\n",
    "from rdkit import Chem\n",
    "from rdkit.Chem.Draw import IPythonConsole"
   ]
  },
  {
   "cell_type": "code",
   "execution_count": 4,
   "metadata": {},
   "outputs": [],
   "source": [
    "import requests\n",
    "from urllib.error import HTTPError\n",
    "from xml.etree import ElementTree\n",
    "\n",
    "# with open('sorted_dois.json') as f:\n",
    "#     doi_dat = json.load(f)\n",
    "\n",
    "# for d in doi_dat['working']:\n",
    "#     doi=d\n",
    "#     url=f\"https://trc.nist.gov/ThermoML/{doi}.xml\"\n",
    "#     try:\n",
    "#         request = requests.get(url)\n",
    "#         request.raise_for_status()\n",
    "\n",
    "#         # Handle the case where ThermoML returns a 404 error code, but rather\n",
    "#         # redirects to an error page with code 200.\n",
    "#         if request.text.startswith(\"<html>\"):\n",
    "#             raise HTTPError(url, 404, \"Not found\", None, None)\n",
    "\n",
    "#     except (HTTPError, requests.exceptions.HTTPError):\n",
    "#         print(f\"No ThermoML file could not be found at {url}\")\n",
    "    \n",
    "doi = '10.1021/je800307g'\n",
    "url = f\"https://trc.nist.gov/ThermoML/{doi}.xml\"\n",
    "try:\n",
    "    request = requests.get(url)\n",
    "    request.raise_for_status()\n",
    "\n",
    "    # Handle the case where ThermoML returns a 404 error code, but rather\n",
    "    # redirects to an error page with code 200.\n",
    "    if request.text.startswith(\"<html>\"):\n",
    "        raise HTTPError(url, 404, \"Not found\", None, None)\n",
    "\n",
    "except (HTTPError, requests.exceptions.HTTPError):\n",
    "    print(f\"No ThermoML file could not be found at {url}\")"
   ]
  },
  {
   "cell_type": "code",
   "execution_count": 5,
   "metadata": {},
   "outputs": [
    {
     "name": "stderr",
     "output_type": "stream",
     "text": [
      "Warning: Failed to parse name: ACETIC ACID, POTASSIUM SALT\n",
      "Warning: Failed to parse name: CATACYST LB\n",
      "Warning: Failed to parse name: .ALPHA.-CYCLODEXTRIN\n",
      "Warning: Failed to parse name: CYCLOHEXAAMYLOSE\n",
      "Warning: Failed to parse name: 18-CROWN-6 ETHER\n",
      "Warning: Failed to parse name: 18-CROWN-6- ETHER\n",
      "Warning: Failed to parse name: ETHYLENE OXIDE CYCLIC HEXAMER\n",
      "Warning: Failed to parse name: BENZOHYDROQUINONE\n",
      "Warning: Failed to parse name: BENZOQUINOL\n",
      "Warning: Failed to parse name: P-DIOXYBENZENE\n",
      "Warning: Failed to parse name: P-QUINOL\n"
     ]
    }
   ],
   "source": [
    "import re\n",
    "from collections import defaultdict\n",
    "from openff.toolkit.utils.exceptions import InvalidIUPACNameError\n",
    "\n",
    "tree = ElementTree.fromstring(request.text)\n",
    "\n",
    "namespace_string = re.search(r\"{.*\\}\", tree.tag).group(0)[1:-1]\n",
    "namespace = {\"ThermoML\": namespace_string}\n",
    "\n",
    "xml_res = []\n",
    "for node in tree.findall(\"ThermoML:Compound\", namespace):\n",
    "    inchi_identifier_nodes  = node.findall(\"ThermoML:sStandardInChI\", namespace)\n",
    "    smiles_identifier_nodes = node.findall(\"ThermoML:sSmiles\", namespace)\n",
    "    common_identifier_nodes = node.findall(\"ThermoML:sCommonName\", namespace)\n",
    "\n",
    "    querydict = defaultdict(dict)\n",
    "    for inchi_node in inchi_identifier_nodes:\n",
    "        inchi_key = inchi_node.text\n",
    "        rdmol = Chem.MolFromInchi(inchi_key)\n",
    "        querydict['Inchi'][inchi_key] = rdmol\n",
    "\n",
    "    for subnode in common_identifier_nodes:\n",
    "        common_name = subnode.text\n",
    "        try:\n",
    "            mol = Molecule.from_iupac(common_name)\n",
    "            querydict['Common name'][common_name] = True\n",
    "            # offmoldict[common_name] = mol\n",
    "        except InvalidIUPACNameError:\n",
    "            querydict['Common name'][common_name] = False\n",
    "    xml_res.append(querydict)"
   ]
  },
  {
   "cell_type": "code",
   "execution_count": null,
   "metadata": {},
   "outputs": [],
   "source": []
  }
 ],
 "metadata": {
  "kernelspec": {
   "display_name": "evaluator-openff",
   "language": "python",
   "name": "python3"
  },
  "language_info": {
   "codemirror_mode": {
    "name": "ipython",
    "version": 3
   },
   "file_extension": ".py",
   "mimetype": "text/x-python",
   "name": "python",
   "nbconvert_exporter": "python",
   "pygments_lexer": "ipython3",
   "version": "3.10.13"
  }
 },
 "nbformat": 4,
 "nbformat_minor": 2
}
