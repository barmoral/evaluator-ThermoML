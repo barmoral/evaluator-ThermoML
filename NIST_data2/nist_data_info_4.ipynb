{
 "cells": [
  {
   "cell_type": "markdown",
   "metadata": {},
   "source": [
    "# Core Imports and Setup"
   ]
  },
  {
   "cell_type": "code",
   "execution_count": 1,
   "metadata": {},
   "outputs": [],
   "source": [
    "import os\n",
    "import pandas as pd\n",
    "from pathlib import Path\n",
    "\n",
    "import warnings\n",
    "warnings.filterwarnings(\"ignore\")\n",
    "\n",
    "import logging\n",
    "# logging.getLogger(\"openff.toolkit\").setLevel(logging.ERROR)\n",
    "# logging.basicConfig(level=logging.DEBUG)\n",
    "\n",
    "import json\n",
    "from openff import toolkit, evaluator"
   ]
  },
  {
   "cell_type": "code",
   "execution_count": 2,
   "metadata": {},
   "outputs": [],
   "source": [
    "from rdkit import Chem\n",
    "from rdkit.Chem.Draw import IPythonConsole\n",
    "from rdkit.Chem import Draw, MolFromSmiles\n",
    "from rdkit.Chem.Draw import MolsToGridImage, rdMolDraw2D, MolsMatrixToGridImage\n",
    "import pubchempy\n",
    "from PIL import Image, ImageDraw, ImageFont\n",
    "IPythonConsole.ipython_useSVG=False  #< set this to False if you want PNGs instead of SVGs"
   ]
  },
  {
   "cell_type": "code",
   "execution_count": 3,
   "metadata": {},
   "outputs": [],
   "source": [
    "from rdkit.Chem import rdMolDescriptors\n",
    "import pubchempy as pcp\n",
    "import math"
   ]
  },
  {
   "cell_type": "code",
   "execution_count": 4,
   "metadata": {},
   "outputs": [],
   "source": [
    "from openff.evaluator.datasets import PhysicalProperty, PropertyPhase\n",
    "from openff.evaluator.datasets.thermoml import thermoml_property\n",
    "from openff.evaluator import properties\n",
    "from openff.units import unit\n",
    "from openff.evaluator.datasets.thermoml import ThermoMLDataSet\n",
    "from openff.evaluator.datasets import PhysicalProperty, PropertyPhase, PhysicalPropertyDataSet"
   ]
  },
  {
   "cell_type": "code",
   "execution_count": 5,
   "metadata": {},
   "outputs": [],
   "source": [
    "from openff.evaluator.datasets.curation.components.filtering import FilterByPropertyTypes, FilterByPropertyTypesSchema\n",
    "from openff.evaluator.datasets.curation.components.filtering import FilterByTemperature, FilterByTemperatureSchema\n",
    "from openff.evaluator.datasets.curation.components.filtering import FilterByPressure, FilterByPressureSchema\n",
    "from openff.evaluator.datasets.curation.components.filtering import FilterBySmiles, FilterBySmilesSchema\n",
    "from openff.evaluator.datasets.curation.components.filtering import FilterByNComponents, FilterByNComponentsSchema\n"
   ]
  },
  {
   "cell_type": "code",
   "execution_count": 6,
   "metadata": {},
   "outputs": [],
   "source": [
    "from rich.progress import track\n",
    "from collections import defaultdict\n",
    "from openff.toolkit.utils.exceptions import UndefinedStereochemistryError"
   ]
  },
  {
   "cell_type": "code",
   "execution_count": 7,
   "metadata": {},
   "outputs": [
    {
     "data": {
      "text/plain": [
       "functools.partial(<function _default_mapping at 0x7f632b636cb0>, <class '__main__.OsmoticCoefficient'>)"
      ]
     },
     "execution_count": 7,
     "metadata": {},
     "output_type": "execute_result"
    }
   ],
   "source": [
    "@thermoml_property(\"Osmotic coefficient\", supported_phases=PropertyPhase.Liquid | PropertyPhase.Gas)\n",
    "class OsmoticCoefficient(PhysicalProperty):\n",
    "    \"\"\"A class representation of a osmotic coeff property\"\"\"\n",
    "\n",
    "    @classmethod\n",
    "    def default_unit(cls):\n",
    "        return unit.dimensionless\n",
    "    \n",
    "setattr(properties, OsmoticCoefficient.__name__, OsmoticCoefficient)\n",
    "\n",
    "ThermoMLDataSet.registered_properties['Osmotic coefficient'].conversion_function"
   ]
  },
  {
   "cell_type": "code",
   "execution_count": 8,
   "metadata": {},
   "outputs": [],
   "source": [
    "def filter_database (unfiltered_directory):\n",
    "    data_set=[]\n",
    "    # Loop through all files in the directory\n",
    "    for filename in os.listdir(unfiltered_directory):\n",
    "        # Check if the file ends with .json\n",
    "        if filename.endswith('.xml'):\n",
    "            # Full path to the file\n",
    "            file_path = os.path.join(unfiltered_directory, filename)\n",
    "            data_set.append(file_path)\n",
    "    \n",
    "    sorted_dois = defaultdict(list)\n",
    "    for doi in track(data_set, description='Filtering DOIs...'):\n",
    "        try:\n",
    "            dataset = ThermoMLDataSet._from_file(doi)\n",
    "            sorted_dois['working'].append(doi)\n",
    "        except UndefinedStereochemistryError:\n",
    "            sorted_dois['stereo_fail'].append(doi)\n",
    "        except Exception as other_exc:\n",
    "            sorted_dois[other_exc.__class__.__name__].append(doi)\n",
    "\n",
    "    print('Amount of failing files: %i/%i' % (len(sorted_dois['stereo_fail']),len(data_set)))\n",
    "    print('Amount of working files: %i/%i' % (len(sorted_dois['working']),len(data_set)))\n",
    "\n",
    "    return sorted_dois['working']"
   ]
  },
  {
   "cell_type": "code",
   "execution_count": 9,
   "metadata": {},
   "outputs": [],
   "source": [
    "def extract_database (database_directory, csv_cached):\n",
    "    CACHED_PROP_PATH = Path(csv_cached)\n",
    "\n",
    "    if CACHED_PROP_PATH.exists():\n",
    "        prop_df = pd.read_csv(CACHED_PROP_PATH, index_col=0)\n",
    "        # delete rows with underfined thermo params to avoid pesky indexing errors\n",
    "        prop_df = prop_df.dropna(subset=['Temperature (K)'])\n",
    "        prop_df = prop_df.dropna(subset=['Pressure (kPa)'])\n",
    "        data_set = ThermoMLDataSet.from_pandas(prop_df)\n",
    "    else:\n",
    "        sorted_files=filter_database(database_directory)\n",
    "        data_set=ThermoMLDataSet.from_file(*sorted_files)\n",
    "\n",
    "        initial_df = data_set.to_pandas()\n",
    "        with CACHED_PROP_PATH.open('w') as file:\n",
    "            initial_df.to_csv(CACHED_PROP_PATH)\n",
    "    return data_set"
   ]
  },
  {
   "cell_type": "code",
   "execution_count": 10,
   "metadata": {},
   "outputs": [
    {
     "data": {
      "application/vnd.jupyter.widget-view+json": {
       "model_id": "67621c7b3af441b5bcc0be2c6fa4e79f",
       "version_major": 2,
       "version_minor": 0
      },
      "text/plain": [
       "Output()"
      ]
     },
     "metadata": {},
     "output_type": "display_data"
    },
    {
     "name": "stderr",
     "output_type": "stream",
     "text": [
      "Warning: Failed to parse name: GRAPHITE\n"
     ]
    },
    {
     "data": {
      "text/html": [
       "<pre style=\"white-space:pre;overflow-x:auto;line-height:normal;font-family:Menlo,'DejaVu Sans Mono',consolas,'Courier New',monospace\"></pre>\n"
      ],
      "text/plain": []
     },
     "metadata": {},
     "output_type": "display_data"
    },
    {
     "data": {
      "text/html": [
       "<pre style=\"white-space:pre;overflow-x:auto;line-height:normal;font-family:Menlo,'DejaVu Sans Mono',consolas,'Courier New',monospace\">\n",
       "</pre>\n"
      ],
      "text/plain": [
       "\n"
      ]
     },
     "metadata": {},
     "output_type": "display_data"
    },
    {
     "name": "stdout",
     "output_type": "stream",
     "text": [
      "Amount of failing files: 25/197\n",
      "Amount of working files: 165/197\n"
     ]
    },
    {
     "name": "stderr",
     "output_type": "stream",
     "text": [
      "Warning: Failed to parse name: GRAPHITE\n"
     ]
    }
   ],
   "source": [
    "# # Ensure database_directory is defined\n",
    "database_directory = '10.1007'\n",
    "# database_directory = 'tests'\n",
    "tml_data_set = extract_database(database_directory, 'tml_database_07.csv')"
   ]
  },
  {
   "cell_type": "code",
   "execution_count": 11,
   "metadata": {},
   "outputs": [
    {
     "name": "stdout",
     "output_type": "stream",
     "text": [
      "['10.1007/s10765-008-0511-0.xml', '10.1007/s10765-010-0887-5.xml', '10.1007/s10765-006-0096-4.xml', '10.1007/s10765-015-1980-6.xml', '10.1007/s10765-011-0995-x.xml', '10.1007/s10765-009-0581-7.xml', '10.1007/s10765-019-2537-x.xml', '10.1007/s10765-010-0752-6.xml', '10.1007/s10765-008-0506-x.xml', '10.1007/s10765-012-1172-6.xml', '10.1007/s10765-008-0497-7.xml', '10.1007/s10765-016-2150-1.xml', '10.1007/s10765-013-1468-1.xml', '10.1007/s10765-016-2104-7.xml', '10.1007/s10765-009-0593-3.xml', '10.1007/s10765-011-1128-2.xml', '10.1007/s10765-008-0390-4.xml', '10.1007/s10765-009-0667-2.xml', '10.1007/s10765-013-1432-0.xml', '10.1007/s10765-011-1052-5.xml', '10.1007/s10765-008-0549-z.xml', '10.1007/s10765-005-8091-8.xml', '10.1007/s10765-008-0535-5.xml', '10.1007/s10765-015-2009-x.xml', '10.1007/s10765-016-2061-1.xml', '10.1007/s10765-006-0018-5.xml', '10.1007/s10765-014-1759-1.xml', '10.1007/s10765-012-1185-1.xml', '10.1007/s10765-009-0566-6.xml', '10.1007/s10765-005-5566-6.xml', '10.1007/s10765-010-0718-8.xml', '10.1007/s10765-008-0491-0.xml', '10.1007/s10765-005-5572-8.xml', '10.1007/s10765-009-0602-6.xml', '10.1007/s10765-005-8587-2.xml', '10.1007/s10765-011-1086-8.xml', '10.1007/s10765-006-0056-z.xml', '10.1007/s10765-006-0051-4.xml', '10.1007/s10765-010-0717-9.xml', '10.1007/s10765-006-0020-y.xml', '10.1007/s10765-006-0063-0.xml', '10.1007/s10765-009-0568-4.xml', '10.1007/s10765-010-0714-z.xml', '10.1007/s10765-007-0182-2.xml', '10.1007/s10765-013-1527-7.xml', '10.1007/s10765-007-0259-y.xml', '10.1007/s10765-005-5567-5.xml', '10.1007/s10765-015-1927-y.xml', '10.1007/s10765-015-2016-y.xml', '10.1007/s10765-005-8096-3.xml', '10.1007/s10765-011-1150-4.xml', '10.1007/s10765-012-1383-x.xml', '10.1007/s10765-009-0610-6.xml', '10.1007/s10765-012-1370-2.xml', '10.1007/s10765-012-1261-6.xml', '10.1007/s10765-006-0044-3.xml', '10.1007/s10765-013-1404-4.xml', '10.1007/s10765-006-0092-8.xml', '10.1007/s10765-008-0503-0.xml', '10.1007/s10765-005-8089-2.xml', '10.1007/s10765-017-2323-6.xml', '10.1007/s10765-019-2542-0.xml', '10.1007/s10765-007-0369-6.xml', '10.1007/s10765-017-2256-0.xml', '10.1007/s10765-005-5571-9.xml', '10.1007/s10765-006-0053-2.xml', '10.1007/s10765-008-0514-x.xml', '10.1007/s10765-014-1617-1.xml', '10.1007/s10765-009-0651-x.xml', '10.1007/s10765-010-0862-1.xml', '10.1007/s10765-009-0675-2.xml', '10.1007/s10765-006-0080-z.xml', '10.1007/s10765-009-0607-1.xml', '10.1007/s10765-014-1598-0.xml', '10.1007/s10765-013-1469-0.xml', '10.1007/s10765-006-0082-x.xml', '10.1007/s10765-009-0625-z.xml', '10.1007/s10765-007-0151-9.xml', '10.1007/s10765-013-1491-2.xml', '10.1007/s10765-009-0580-8.xml', '10.1007/s10765-013-1546-4.xml', '10.1007/s10765-005-5585-3.xml', '10.1007/s10765-006-0110-x.xml', '10.1007/s10765-012-1371-1.xml', '10.1007/s10765-010-0792-y.xml', '10.1007/s10765-017-2310-y.xml', '10.1007/s10765-010-0874-x.xml', '10.1007/s10765-012-1309-7.xml', '10.1007/s10765-010-0904-8.xml', '10.1007/s10765-006-0088-4.xml', '10.1007/s10765-009-0665-4.xml', '10.1007/s10765-010-0736-6.xml', '10.1007/s10765-008-0482-1.xml', '10.1007/s10765-006-0057-y.xml', '10.1007/s10765-010-0902-x.xml', '10.1007/s10765-006-0033-6.xml', '10.1007/s10765-012-1159-3.xml', '10.1007/s10765-019-2573-6.xml', '10.1007/s10765-010-0773-1.xml', '10.1007/s10765-010-0737-5.xml', '10.1007/s10765-005-8102-9.xml', '10.1007/s10765-011-1060-5.xml', '10.1007/s10765-011-0997-8.xml', '10.1007/s10765-010-0742-8.xml', '10.1007/s10765-012-1168-2.xml', '10.1007/s10765-006-0124-4.xml', '10.1007/s10765-011-1149-x.xml', '10.1007/s10765-010-0885-7.xml', '10.1007/s10765-010-0719-7.xml', '10.1007/s10765-013-1487-y.xml', '10.1007/s10765-008-0399-8.xml', '10.1007/s10765-013-1526-8.xml', '10.1007/s10765-011-0987-x.xml', '10.1007/s10765-008-0395-z.xml', '10.1007/s10765-016-2103-8.xml', '10.1007/s10765-011-1120-x.xml', '10.1007/s10765-010-0725-9.xml', '10.1007/s10765-019-2568-3.xml', '10.1007/s10765-015-2006-0.xml', '10.1007/s10765-014-1828-5.xml', '10.1007/s10765-012-1233-x.xml', '10.1007/s10765-015-1922-3.xml', '10.1007/s10765-005-8590-7.xml', '10.1007/s10765-015-1981-5.xml', '10.1007/s10765-009-0567-5.xml', '10.1007/s10765-016-2064-y.xml', '10.1007/s10765-010-0861-2.xml', '10.1007/s10765-016-2089-2.xml', '10.1007/s10765-010-0886-6.xml', '10.1007/s10765-005-8592-5.xml', '10.1007/s10765-006-0122-6.xml', '10.1007/s10765-015-1994-0.xml', '10.1007/s10765-011-0978-y.xml', '10.1007/s10765-014-1718-x.xml', '10.1007/s10765-007-0241-8.xml', '10.1007/s10765-013-1539-3.xml', '10.1007/s10765-011-1100-1.xml', '10.1007/s10765-019-2484-6.xml', '10.1007/s10765-005-8591-6.xml', '10.1007/s10765-011-0996-9.xml', '10.1007/s10765-006-0095-5.xml', '10.1007/s10765-009-0648-5.xml', '10.1007/s10765-011-0939-5.xml', '10.1007/s10765-011-0999-6.xml', '10.1007/s10765-006-0114-6.xml', '10.1007/s10765-008-0542-6.xml', '10.1007/s10765-011-1111-y.xml', '10.1007/s10765-014-1740-z.xml', '10.1007/s10765-006-0093-7.xml', '10.1007/s10765-011-1087-7.xml', '10.1007/s10765-010-0760-6.xml', '10.1007/s10765-016-2096-3.xml', '10.1007/s10765-013-1553-5.xml', '10.1007/s10765-018-2359-2.xml', '10.1007/s10765-005-8101-x.xml', '10.1007/s10765-018-2361-8.xml', '10.1007/s10765-007-0186-y.xml', '10.1007/s10765-009-0570-x.xml', '10.1007/s10765-012-1352-4.xml', '10.1007/s10765-010-0766-0.xml', '10.1007/s10765-017-2283-x.xml', '10.1007/s10765-010-0768-y.xml', '10.1007/s10765-016-2109-2.xml', '10.1007/s10765-009-0579-1.xml', '10.1007/s10765-006-0119-1.xml', '10.1007/s10765-011-0989-8.xml', '10.1007/s10765-019-2506-4.xml', '10.1007/s10765-011-0948-4.xml', '10.1007/s10765-010-0860-3.xml', '10.1007/s10765-011-1065-0.xml', '10.1007/s10765-010-0889-3.xml', '10.1007/s10765-012-1373-z.xml', '10.1007/s10765-005-5568-4.xml', '10.1007/s10765-017-2241-7.xml', '10.1007/s10765-007-0346-0.xml', '10.1007/s10765-007-0223-x.xml', '10.1007/s10765-009-0562-x.xml', '10.1007/s10765-005-5570-x.xml', '10.1007/s10765-006-0100-z.xml', '10.1007/s10765-007-0220-0.xml', '10.1007/s10765-008-0444-7.xml', '10.1007/s10765-009-0584-4.xml', '10.1007/s10765-011-1147-z.xml', '10.1007/s10765-019-2558-5.xml', '10.1007/s10765-006-0052-3.xml', '10.1007/s10765-007-0237-4.xml', '10.1007/s10765-007-0185-z.xml', '10.1007/s10765-006-0045-2.xml', '10.1007/s10765-013-1483-2.xml', '10.1007/s10765-009-0622-2.xml', '10.1007/s10765-008-0410-4.xml', '10.1007/s10765-007-0169-z.xml', '10.1007/s10765-006-0079-5.xml', '10.1007/s10765-013-1492-1.xml', '10.1007/s10765-007-0204-0.xml', '10.1007/s10765-014-1730-1.xml', '10.1007/s10765-006-0047-0.xml']\n"
     ]
    }
   ],
   "source": [
    "data_set=[]\n",
    "# Loop through all files in the directory\n",
    "for filename in os.listdir(database_directory):\n",
    "    # Check if the file ends with .json\n",
    "    if filename.endswith('.xml'):\n",
    "        # Full path to the file\n",
    "        file_path = os.path.join(database_directory, filename)\n",
    "        data_set.append(file_path)\n",
    "\n",
    "print(data_set)"
   ]
  },
  {
   "cell_type": "code",
   "execution_count": 12,
   "metadata": {},
   "outputs": [
    {
     "data": {
      "application/vnd.jupyter.widget-view+json": {
       "model_id": "e9a97459125c48ccbffbbbcc1cb424e4",
       "version_major": 2,
       "version_minor": 0
      },
      "text/plain": [
       "Output()"
      ]
     },
     "metadata": {},
     "output_type": "display_data"
    },
    {
     "name": "stderr",
     "output_type": "stream",
     "text": [
      "Warning: Failed to parse name: GRAPHITE\n"
     ]
    },
    {
     "data": {
      "text/html": [
       "<pre style=\"white-space:pre;overflow-x:auto;line-height:normal;font-family:Menlo,'DejaVu Sans Mono',consolas,'Courier New',monospace\"></pre>\n"
      ],
      "text/plain": []
     },
     "metadata": {},
     "output_type": "display_data"
    },
    {
     "data": {
      "text/html": [
       "<pre style=\"white-space:pre;overflow-x:auto;line-height:normal;font-family:Menlo,'DejaVu Sans Mono',consolas,'Courier New',monospace\">\n",
       "</pre>\n"
      ],
      "text/plain": [
       "\n"
      ]
     },
     "metadata": {},
     "output_type": "display_data"
    },
    {
     "ename": "KeyboardInterrupt",
     "evalue": "",
     "output_type": "error",
     "traceback": [
      "\u001b[0;31m---------------------------------------------------------------------------\u001b[0m",
      "\u001b[0;31mKeyboardInterrupt\u001b[0m                         Traceback (most recent call last)",
      "Cell \u001b[0;32mIn[12], line 4\u001b[0m\n\u001b[1;32m      2\u001b[0m \u001b[38;5;28;01mfor\u001b[39;00m doi \u001b[38;5;129;01min\u001b[39;00m track(data_set, description\u001b[38;5;241m=\u001b[39m\u001b[38;5;124m'\u001b[39m\u001b[38;5;124mFiltering DOIs...\u001b[39m\u001b[38;5;124m'\u001b[39m):\n\u001b[1;32m      3\u001b[0m     \u001b[38;5;28;01mtry\u001b[39;00m:\n\u001b[0;32m----> 4\u001b[0m         dataset \u001b[38;5;241m=\u001b[39m \u001b[43mThermoMLDataSet\u001b[49m\u001b[38;5;241;43m.\u001b[39;49m\u001b[43m_from_file\u001b[49m\u001b[43m(\u001b[49m\u001b[43mdoi\u001b[49m\u001b[43m)\u001b[49m\n\u001b[1;32m      5\u001b[0m         sorted_dois[\u001b[38;5;124m'\u001b[39m\u001b[38;5;124mworking\u001b[39m\u001b[38;5;124m'\u001b[39m]\u001b[38;5;241m.\u001b[39mappend(doi)\n\u001b[1;32m      6\u001b[0m     \u001b[38;5;28;01mexcept\u001b[39;00m UndefinedStereochemistryError:\n",
      "File \u001b[0;32m~/miniconda3/envs/evaluator-openff/lib/python3.10/site-packages/openff/evaluator/datasets/thermoml/thermoml.py:2135\u001b[0m, in \u001b[0;36mThermoMLDataSet._from_file\u001b[0;34m(cls, path)\u001b[0m\n\u001b[1;32m   2133\u001b[0m \u001b[38;5;28;01mtry\u001b[39;00m:\n\u001b[1;32m   2134\u001b[0m     \u001b[38;5;28;01mwith\u001b[39;00m \u001b[38;5;28mopen\u001b[39m(path) \u001b[38;5;28;01mas\u001b[39;00m file:\n\u001b[0;32m-> 2135\u001b[0m         return_value \u001b[38;5;241m=\u001b[39m \u001b[43mThermoMLDataSet\u001b[49m\u001b[38;5;241;43m.\u001b[39;49m\u001b[43mfrom_xml\u001b[49m\u001b[43m(\u001b[49m\u001b[43mfile\u001b[49m\u001b[38;5;241;43m.\u001b[39;49m\u001b[43mread\u001b[49m\u001b[43m(\u001b[49m\u001b[43m)\u001b[49m\u001b[43m,\u001b[49m\u001b[43m \u001b[49m\u001b[43msource\u001b[49m\u001b[43m)\u001b[49m\n\u001b[1;32m   2137\u001b[0m \u001b[38;5;28;01mexcept\u001b[39;00m \u001b[38;5;167;01mFileNotFoundError\u001b[39;00m:\n\u001b[1;32m   2138\u001b[0m     logger\u001b[38;5;241m.\u001b[39mwarning(\u001b[38;5;124mf\u001b[39m\u001b[38;5;124m\"\u001b[39m\u001b[38;5;124mNo ThermoML file could not be found at \u001b[39m\u001b[38;5;132;01m{\u001b[39;00mpath\u001b[38;5;132;01m}\u001b[39;00m\u001b[38;5;124m\"\u001b[39m)\n",
      "File \u001b[0;32m~/miniconda3/envs/evaluator-openff/lib/python3.10/site-packages/openff/evaluator/datasets/thermoml/thermoml.py:2201\u001b[0m, in \u001b[0;36mThermoMLDataSet.from_xml\u001b[0;34m(cls, xml, default_source)\u001b[0m\n\u001b[1;32m   2199\u001b[0m \u001b[38;5;66;03m# Pull out any and all properties in the file.\u001b[39;00m\n\u001b[1;32m   2200\u001b[0m \u001b[38;5;28;01mfor\u001b[39;00m node \u001b[38;5;129;01min\u001b[39;00m root_node\u001b[38;5;241m.\u001b[39mfindall(\u001b[38;5;124m\"\u001b[39m\u001b[38;5;124mThermoML:PureOrMixtureData\u001b[39m\u001b[38;5;124m\"\u001b[39m, namespace):\n\u001b[0;32m-> 2201\u001b[0m     properties \u001b[38;5;241m=\u001b[39m \u001b[43m_PureOrMixtureData\u001b[49m\u001b[38;5;241;43m.\u001b[39;49m\u001b[43mfrom_xml_node\u001b[49m\u001b[43m(\u001b[49m\u001b[43mnode\u001b[49m\u001b[43m,\u001b[49m\u001b[43m \u001b[49m\u001b[43mnamespace\u001b[49m\u001b[43m,\u001b[49m\u001b[43m \u001b[49m\u001b[43mcompounds\u001b[49m\u001b[43m)\u001b[49m\n\u001b[1;32m   2203\u001b[0m     \u001b[38;5;28;01mif\u001b[39;00m properties \u001b[38;5;129;01mis\u001b[39;00m \u001b[38;5;28;01mNone\u001b[39;00m \u001b[38;5;129;01mor\u001b[39;00m \u001b[38;5;28mlen\u001b[39m(properties) \u001b[38;5;241m==\u001b[39m \u001b[38;5;241m0\u001b[39m:\n\u001b[1;32m   2204\u001b[0m         \u001b[38;5;28;01mcontinue\u001b[39;00m\n",
      "File \u001b[0;32m~/miniconda3/envs/evaluator-openff/lib/python3.10/site-packages/openff/evaluator/datasets/thermoml/thermoml.py:1661\u001b[0m, in \u001b[0;36m_PureOrMixtureData.from_xml_node\u001b[0;34m(node, namespace, compounds)\u001b[0m\n\u001b[1;32m   1657\u001b[0m         \u001b[38;5;28;01mcontinue\u001b[39;00m\n\u001b[1;32m   1659\u001b[0m     used_compounds[compound_index] \u001b[38;5;241m=\u001b[39m compounds[compound_index]\n\u001b[0;32m-> 1661\u001b[0m measured_properties \u001b[38;5;241m=\u001b[39m \u001b[43m_PureOrMixtureData\u001b[49m\u001b[38;5;241;43m.\u001b[39;49m\u001b[43mextract_measured_properties\u001b[49m\u001b[43m(\u001b[49m\n\u001b[1;32m   1662\u001b[0m \u001b[43m    \u001b[49m\u001b[43mnode\u001b[49m\u001b[43m,\u001b[49m\n\u001b[1;32m   1663\u001b[0m \u001b[43m    \u001b[49m\u001b[43mnamespace\u001b[49m\u001b[43m,\u001b[49m\n\u001b[1;32m   1664\u001b[0m \u001b[43m    \u001b[49m\u001b[43mproperty_definitions\u001b[49m\u001b[43m,\u001b[49m\n\u001b[1;32m   1665\u001b[0m \u001b[43m    \u001b[49m\u001b[43mglobal_constraints\u001b[49m\u001b[43m,\u001b[49m\n\u001b[1;32m   1666\u001b[0m \u001b[43m    \u001b[49m\u001b[43mvariable_definitions\u001b[49m\u001b[43m,\u001b[49m\n\u001b[1;32m   1667\u001b[0m \u001b[43m    \u001b[49m\u001b[43mused_compounds\u001b[49m\u001b[43m,\u001b[49m\n\u001b[1;32m   1668\u001b[0m \u001b[43m\u001b[49m\u001b[43m)\u001b[49m\n\u001b[1;32m   1670\u001b[0m \u001b[38;5;28;01mreturn\u001b[39;00m measured_properties\n",
      "File \u001b[0;32m~/miniconda3/envs/evaluator-openff/lib/python3.10/site-packages/openff/evaluator/datasets/thermoml/thermoml.py:1558\u001b[0m, in \u001b[0;36m_PureOrMixtureData.extract_measured_properties\u001b[0;34m(node, namespace, property_definitions, global_constraints, variable_definitions, compounds)\u001b[0m\n\u001b[1;32m   1549\u001b[0m property_value_node \u001b[38;5;241m=\u001b[39m property_node\u001b[38;5;241m.\u001b[39mfind(\n\u001b[1;32m   1550\u001b[0m     \u001b[38;5;124m\"\u001b[39m\u001b[38;5;124m.//ThermoML:nPropValue\u001b[39m\u001b[38;5;124m\"\u001b[39m, namespace\n\u001b[1;32m   1551\u001b[0m )\n\u001b[1;32m   1553\u001b[0m measured_property\u001b[38;5;241m.\u001b[39mset_value(\n\u001b[1;32m   1554\u001b[0m     \u001b[38;5;28mfloat\u001b[39m(property_value_node\u001b[38;5;241m.\u001b[39mtext),\n\u001b[1;32m   1555\u001b[0m     \u001b[38;5;28;01mNone\u001b[39;00m \u001b[38;5;28;01mif\u001b[39;00m uncertainty \u001b[38;5;129;01mis\u001b[39;00m \u001b[38;5;28;01mNone\u001b[39;00m \u001b[38;5;28;01melse\u001b[39;00m \u001b[38;5;28mfloat\u001b[39m(uncertainty),\n\u001b[1;32m   1556\u001b[0m )\n\u001b[0;32m-> 1558\u001b[0m mixture \u001b[38;5;241m=\u001b[39m \u001b[43m_PureOrMixtureData\u001b[49m\u001b[38;5;241;43m.\u001b[39;49m\u001b[43mbuild_substance\u001b[49m\u001b[43m(\u001b[49m\n\u001b[1;32m   1559\u001b[0m \u001b[43m    \u001b[49m\u001b[43mmeasured_property\u001b[49m\u001b[43m,\u001b[49m\u001b[43m \u001b[49m\u001b[43mconstraints\u001b[49m\u001b[43m,\u001b[49m\u001b[43m \u001b[49m\u001b[43mcompounds\u001b[49m\n\u001b[1;32m   1560\u001b[0m \u001b[43m\u001b[49m\u001b[43m)\u001b[49m\n\u001b[1;32m   1562\u001b[0m \u001b[38;5;28;01mif\u001b[39;00m mixture \u001b[38;5;129;01mis\u001b[39;00m \u001b[38;5;28;01mNone\u001b[39;00m:\n\u001b[1;32m   1563\u001b[0m     \u001b[38;5;28;01mcontinue\u001b[39;00m\n",
      "File \u001b[0;32m~/miniconda3/envs/evaluator-openff/lib/python3.10/site-packages/openff/evaluator/datasets/thermoml/thermoml.py:1183\u001b[0m, in \u001b[0;36m_PureOrMixtureData.build_substance\u001b[0;34m(thermoml_property, constraints, compounds)\u001b[0m\n\u001b[1;32m   1179\u001b[0m         mole_fractions[compound_index] \u001b[38;5;241m=\u001b[39m mole_fraction\n\u001b[1;32m   1181\u001b[0m     \u001b[38;5;28;01mreturn\u001b[39;00m mole_fractions\n\u001b[0;32m-> 1183\u001b[0m \u001b[38;5;129m@staticmethod\u001b[39m\n\u001b[1;32m   1184\u001b[0m \u001b[38;5;28;01mdef\u001b[39;00m \u001b[38;5;21mbuild_substance\u001b[39m(thermoml_property, constraints, compounds):\n\u001b[1;32m   1185\u001b[0m \u001b[38;5;250m    \u001b[39m\u001b[38;5;124;03m\"\"\"Build a Substance object from the extracted constraints and compounds.\u001b[39;00m\n\u001b[1;32m   1186\u001b[0m \n\u001b[1;32m   1187\u001b[0m \u001b[38;5;124;03m    Parameters\u001b[39;00m\n\u001b[0;32m   (...)\u001b[0m\n\u001b[1;32m   1199\u001b[0m \u001b[38;5;124;03m        The constructed substance.\u001b[39;00m\n\u001b[1;32m   1200\u001b[0m \u001b[38;5;124;03m    \"\"\"\u001b[39;00m\n\u001b[1;32m   1202\u001b[0m     \u001b[38;5;66;03m# TODO: We need to take into account `thermoml_property.target_compound_index` and\u001b[39;00m\n\u001b[1;32m   1203\u001b[0m     \u001b[38;5;66;03m#       `thermoml_property.solute_standard_state` to properly identify infinitely\u001b[39;00m\n\u001b[1;32m   1204\u001b[0m     \u001b[38;5;66;03m#       diluted solutes in the system (if any). Otherwise the solute will be\u001b[39;00m\n\u001b[1;32m   1205\u001b[0m     \u001b[38;5;66;03m#       assigned a mole fraction of zero.\u001b[39;00m\n",
      "\u001b[0;31mKeyboardInterrupt\u001b[0m: "
     ]
    }
   ],
   "source": [
    "sorted_dois = defaultdict(list)\n",
    "for doi in track(data_set, description='Filtering DOIs...'):\n",
    "    try:\n",
    "        dataset = ThermoMLDataSet._from_file(doi)\n",
    "        sorted_dois['working'].append(doi)\n",
    "    except UndefinedStereochemistryError:\n",
    "        sorted_dois['stereo_fail'].append(doi)\n",
    "    except Exception as other_exc:\n",
    "        sorted_dois[other_exc.__class__.__name__].append(doi)\n",
    "\n",
    "print('Amount of failing files: %i/%i' % (len(sorted_dois['stereo_fail']),len(data_set)))\n",
    "print('Amount of working files: %i/%i' % (len(sorted_dois['working']),len(data_set)))"
   ]
  },
  {
   "cell_type": "code",
   "execution_count": null,
   "metadata": {},
   "outputs": [],
   "source": [
    "tml_data_set=ThermoMLDataSet.from_file(*sorted_dois['working'])"
   ]
  },
  {
   "cell_type": "code",
   "execution_count": null,
   "metadata": {},
   "outputs": [
    {
     "data": {
      "text/plain": [
       "<PhysicalPropertyDataSet n_properties=537 n_substances=215 n_sources=2>"
      ]
     },
     "execution_count": 20,
     "metadata": {},
     "output_type": "execute_result"
    }
   ],
   "source": [
    "tml_data_set"
   ]
  },
  {
   "cell_type": "code",
   "execution_count": null,
   "metadata": {},
   "outputs": [
    {
     "data": {
      "text/html": [
       "<div>\n",
       "<style scoped>\n",
       "    .dataframe tbody tr th:only-of-type {\n",
       "        vertical-align: middle;\n",
       "    }\n",
       "\n",
       "    .dataframe tbody tr th {\n",
       "        vertical-align: top;\n",
       "    }\n",
       "\n",
       "    .dataframe thead th {\n",
       "        text-align: right;\n",
       "    }\n",
       "</style>\n",
       "<table border=\"1\" class=\"dataframe\">\n",
       "  <thead>\n",
       "    <tr style=\"text-align: right;\">\n",
       "      <th></th>\n",
       "      <th>Id</th>\n",
       "      <th>Temperature (K)</th>\n",
       "      <th>Pressure (kPa)</th>\n",
       "      <th>Phase</th>\n",
       "      <th>N Components</th>\n",
       "      <th>Component 1</th>\n",
       "      <th>Role 1</th>\n",
       "      <th>Mole Fraction 1</th>\n",
       "      <th>Exact Amount 1</th>\n",
       "      <th>Component 2</th>\n",
       "      <th>Role 2</th>\n",
       "      <th>Mole Fraction 2</th>\n",
       "      <th>Exact Amount 2</th>\n",
       "      <th>Component 3</th>\n",
       "      <th>Role 3</th>\n",
       "      <th>Mole Fraction 3</th>\n",
       "      <th>Exact Amount 3</th>\n",
       "      <th>Density Value (g / ml)</th>\n",
       "      <th>Density Uncertainty (g / ml)</th>\n",
       "      <th>Source</th>\n",
       "    </tr>\n",
       "  </thead>\n",
       "  <tbody>\n",
       "    <tr>\n",
       "      <th>0</th>\n",
       "      <td>c53292c345a2430b94b37c836fa44e1e</td>\n",
       "      <td>278.15</td>\n",
       "      <td>101.0</td>\n",
       "      <td>Liquid</td>\n",
       "      <td>3</td>\n",
       "      <td>O.O.O=S(=O)([O-])[O-].[Ca+2]</td>\n",
       "      <td>Solvent</td>\n",
       "      <td>0.000360</td>\n",
       "      <td>None</td>\n",
       "      <td>[Cl-].[Na+]</td>\n",
       "      <td>Solvent</td>\n",
       "      <td>0.001798</td>\n",
       "      <td>NaN</td>\n",
       "      <td>O</td>\n",
       "      <td>Solvent</td>\n",
       "      <td>0.997843</td>\n",
       "      <td>NaN</td>\n",
       "      <td>1.006000</td>\n",
       "      <td>0.001500</td>\n",
       "      <td>10.1021/acs.jced.5b00005</td>\n",
       "    </tr>\n",
       "    <tr>\n",
       "      <th>1</th>\n",
       "      <td>f1a8f964d7944e1d9466595e7f549816</td>\n",
       "      <td>278.15</td>\n",
       "      <td>101.0</td>\n",
       "      <td>Liquid</td>\n",
       "      <td>3</td>\n",
       "      <td>O.O.O=S(=O)([O-])[O-].[Ca+2]</td>\n",
       "      <td>Solvent</td>\n",
       "      <td>0.000454</td>\n",
       "      <td>None</td>\n",
       "      <td>[Cl-].[Na+]</td>\n",
       "      <td>Solvent</td>\n",
       "      <td>0.004499</td>\n",
       "      <td>NaN</td>\n",
       "      <td>O</td>\n",
       "      <td>Solvent</td>\n",
       "      <td>0.995047</td>\n",
       "      <td>NaN</td>\n",
       "      <td>1.014000</td>\n",
       "      <td>0.001500</td>\n",
       "      <td>10.1021/acs.jced.5b00005</td>\n",
       "    </tr>\n",
       "    <tr>\n",
       "      <th>2</th>\n",
       "      <td>b3cd061edd0f4d8b87a908cca61647c9</td>\n",
       "      <td>278.15</td>\n",
       "      <td>101.0</td>\n",
       "      <td>Liquid</td>\n",
       "      <td>3</td>\n",
       "      <td>O.O.O=S(=O)([O-])[O-].[Ca+2]</td>\n",
       "      <td>Solvent</td>\n",
       "      <td>0.000591</td>\n",
       "      <td>None</td>\n",
       "      <td>[Cl-].[Na+]</td>\n",
       "      <td>Solvent</td>\n",
       "      <td>0.008975</td>\n",
       "      <td>NaN</td>\n",
       "      <td>O</td>\n",
       "      <td>Solvent</td>\n",
       "      <td>0.990434</td>\n",
       "      <td>NaN</td>\n",
       "      <td>1.028000</td>\n",
       "      <td>0.001500</td>\n",
       "      <td>10.1021/acs.jced.5b00005</td>\n",
       "    </tr>\n",
       "    <tr>\n",
       "      <th>3</th>\n",
       "      <td>fb9b6f24eb914030855231a8d81b199b</td>\n",
       "      <td>278.15</td>\n",
       "      <td>101.0</td>\n",
       "      <td>Liquid</td>\n",
       "      <td>3</td>\n",
       "      <td>O.O.O=S(=O)([O-])[O-].[Ca+2]</td>\n",
       "      <td>Solvent</td>\n",
       "      <td>0.000730</td>\n",
       "      <td>None</td>\n",
       "      <td>[Cl-].[Na+]</td>\n",
       "      <td>Solvent</td>\n",
       "      <td>0.017961</td>\n",
       "      <td>NaN</td>\n",
       "      <td>O</td>\n",
       "      <td>Solvent</td>\n",
       "      <td>0.981308</td>\n",
       "      <td>NaN</td>\n",
       "      <td>1.048000</td>\n",
       "      <td>0.001000</td>\n",
       "      <td>10.1021/acs.jced.5b00005</td>\n",
       "    </tr>\n",
       "    <tr>\n",
       "      <th>4</th>\n",
       "      <td>abbc10af581f47a080f51323c6b51bb0</td>\n",
       "      <td>278.15</td>\n",
       "      <td>101.0</td>\n",
       "      <td>Liquid</td>\n",
       "      <td>3</td>\n",
       "      <td>O.O.O=S(=O)([O-])[O-].[Ca+2]</td>\n",
       "      <td>Solvent</td>\n",
       "      <td>0.000809</td>\n",
       "      <td>None</td>\n",
       "      <td>[Cl-].[Na+]</td>\n",
       "      <td>Solvent</td>\n",
       "      <td>0.027109</td>\n",
       "      <td>NaN</td>\n",
       "      <td>O</td>\n",
       "      <td>Solvent</td>\n",
       "      <td>0.972082</td>\n",
       "      <td>NaN</td>\n",
       "      <td>1.063000</td>\n",
       "      <td>0.001000</td>\n",
       "      <td>10.1021/acs.jced.5b00005</td>\n",
       "    </tr>\n",
       "    <tr>\n",
       "      <th>...</th>\n",
       "      <td>...</td>\n",
       "      <td>...</td>\n",
       "      <td>...</td>\n",
       "      <td>...</td>\n",
       "      <td>...</td>\n",
       "      <td>...</td>\n",
       "      <td>...</td>\n",
       "      <td>...</td>\n",
       "      <td>...</td>\n",
       "      <td>...</td>\n",
       "      <td>...</td>\n",
       "      <td>...</td>\n",
       "      <td>...</td>\n",
       "      <td>...</td>\n",
       "      <td>...</td>\n",
       "      <td>...</td>\n",
       "      <td>...</td>\n",
       "      <td>...</td>\n",
       "      <td>...</td>\n",
       "      <td>...</td>\n",
       "    </tr>\n",
       "    <tr>\n",
       "      <th>532</th>\n",
       "      <td>b4a13d50731d482ba4484f14e0478793</td>\n",
       "      <td>323.15</td>\n",
       "      <td>101.0</td>\n",
       "      <td>Liquid</td>\n",
       "      <td>2</td>\n",
       "      <td>CCCC#N</td>\n",
       "      <td>Solvent</td>\n",
       "      <td>0.600000</td>\n",
       "      <td>None</td>\n",
       "      <td>c1ccccc1</td>\n",
       "      <td>Solvent</td>\n",
       "      <td>0.400000</td>\n",
       "      <td>NaN</td>\n",
       "      <td>NaN</td>\n",
       "      <td>NaN</td>\n",
       "      <td>NaN</td>\n",
       "      <td>NaN</td>\n",
       "      <td>0.798661</td>\n",
       "      <td>0.000063</td>\n",
       "      <td>10.1021/acs.jced.5b00009</td>\n",
       "    </tr>\n",
       "    <tr>\n",
       "      <th>533</th>\n",
       "      <td>454af844c84241c6af68f1a23b093fe6</td>\n",
       "      <td>323.15</td>\n",
       "      <td>101.0</td>\n",
       "      <td>Liquid</td>\n",
       "      <td>2</td>\n",
       "      <td>CCCC#N</td>\n",
       "      <td>Solvent</td>\n",
       "      <td>0.700000</td>\n",
       "      <td>None</td>\n",
       "      <td>c1ccccc1</td>\n",
       "      <td>Solvent</td>\n",
       "      <td>0.300000</td>\n",
       "      <td>NaN</td>\n",
       "      <td>NaN</td>\n",
       "      <td>NaN</td>\n",
       "      <td>NaN</td>\n",
       "      <td>NaN</td>\n",
       "      <td>0.789869</td>\n",
       "      <td>0.000065</td>\n",
       "      <td>10.1021/acs.jced.5b00009</td>\n",
       "    </tr>\n",
       "    <tr>\n",
       "      <th>534</th>\n",
       "      <td>5f26e10af9c04ee18ae1ac97813ae7bc</td>\n",
       "      <td>323.15</td>\n",
       "      <td>101.0</td>\n",
       "      <td>Liquid</td>\n",
       "      <td>2</td>\n",
       "      <td>CCCC#N</td>\n",
       "      <td>Solvent</td>\n",
       "      <td>0.800000</td>\n",
       "      <td>None</td>\n",
       "      <td>c1ccccc1</td>\n",
       "      <td>Solvent</td>\n",
       "      <td>0.200000</td>\n",
       "      <td>NaN</td>\n",
       "      <td>NaN</td>\n",
       "      <td>NaN</td>\n",
       "      <td>NaN</td>\n",
       "      <td>NaN</td>\n",
       "      <td>0.780977</td>\n",
       "      <td>0.000066</td>\n",
       "      <td>10.1021/acs.jced.5b00009</td>\n",
       "    </tr>\n",
       "    <tr>\n",
       "      <th>535</th>\n",
       "      <td>58c042e1e44d4d73aa95c21b58beeb19</td>\n",
       "      <td>323.15</td>\n",
       "      <td>101.0</td>\n",
       "      <td>Liquid</td>\n",
       "      <td>2</td>\n",
       "      <td>CCCC#N</td>\n",
       "      <td>Solvent</td>\n",
       "      <td>0.900000</td>\n",
       "      <td>None</td>\n",
       "      <td>c1ccccc1</td>\n",
       "      <td>Solvent</td>\n",
       "      <td>0.100000</td>\n",
       "      <td>NaN</td>\n",
       "      <td>NaN</td>\n",
       "      <td>NaN</td>\n",
       "      <td>NaN</td>\n",
       "      <td>NaN</td>\n",
       "      <td>0.771989</td>\n",
       "      <td>0.000068</td>\n",
       "      <td>10.1021/acs.jced.5b00009</td>\n",
       "    </tr>\n",
       "    <tr>\n",
       "      <th>536</th>\n",
       "      <td>4a074001960b466e8a211a8b693fd5c4</td>\n",
       "      <td>323.15</td>\n",
       "      <td>101.0</td>\n",
       "      <td>Liquid</td>\n",
       "      <td>1</td>\n",
       "      <td>CCCC#N</td>\n",
       "      <td>Solvent</td>\n",
       "      <td>1.000000</td>\n",
       "      <td>None</td>\n",
       "      <td>NaN</td>\n",
       "      <td>NaN</td>\n",
       "      <td>NaN</td>\n",
       "      <td>NaN</td>\n",
       "      <td>NaN</td>\n",
       "      <td>NaN</td>\n",
       "      <td>NaN</td>\n",
       "      <td>NaN</td>\n",
       "      <td>0.762929</td>\n",
       "      <td>0.000067</td>\n",
       "      <td>10.1021/acs.jced.5b00009</td>\n",
       "    </tr>\n",
       "  </tbody>\n",
       "</table>\n",
       "<p>537 rows × 20 columns</p>\n",
       "</div>"
      ],
      "text/plain": [
       "                                   Id  Temperature (K)  Pressure (kPa)  \\\n",
       "0    c53292c345a2430b94b37c836fa44e1e           278.15           101.0   \n",
       "1    f1a8f964d7944e1d9466595e7f549816           278.15           101.0   \n",
       "2    b3cd061edd0f4d8b87a908cca61647c9           278.15           101.0   \n",
       "3    fb9b6f24eb914030855231a8d81b199b           278.15           101.0   \n",
       "4    abbc10af581f47a080f51323c6b51bb0           278.15           101.0   \n",
       "..                                ...              ...             ...   \n",
       "532  b4a13d50731d482ba4484f14e0478793           323.15           101.0   \n",
       "533  454af844c84241c6af68f1a23b093fe6           323.15           101.0   \n",
       "534  5f26e10af9c04ee18ae1ac97813ae7bc           323.15           101.0   \n",
       "535  58c042e1e44d4d73aa95c21b58beeb19           323.15           101.0   \n",
       "536  4a074001960b466e8a211a8b693fd5c4           323.15           101.0   \n",
       "\n",
       "      Phase  N Components                   Component 1   Role 1  \\\n",
       "0    Liquid             3  O.O.O=S(=O)([O-])[O-].[Ca+2]  Solvent   \n",
       "1    Liquid             3  O.O.O=S(=O)([O-])[O-].[Ca+2]  Solvent   \n",
       "2    Liquid             3  O.O.O=S(=O)([O-])[O-].[Ca+2]  Solvent   \n",
       "3    Liquid             3  O.O.O=S(=O)([O-])[O-].[Ca+2]  Solvent   \n",
       "4    Liquid             3  O.O.O=S(=O)([O-])[O-].[Ca+2]  Solvent   \n",
       "..      ...           ...                           ...      ...   \n",
       "532  Liquid             2                        CCCC#N  Solvent   \n",
       "533  Liquid             2                        CCCC#N  Solvent   \n",
       "534  Liquid             2                        CCCC#N  Solvent   \n",
       "535  Liquid             2                        CCCC#N  Solvent   \n",
       "536  Liquid             1                        CCCC#N  Solvent   \n",
       "\n",
       "     Mole Fraction 1 Exact Amount 1  Component 2   Role 2  Mole Fraction 2  \\\n",
       "0           0.000360           None  [Cl-].[Na+]  Solvent         0.001798   \n",
       "1           0.000454           None  [Cl-].[Na+]  Solvent         0.004499   \n",
       "2           0.000591           None  [Cl-].[Na+]  Solvent         0.008975   \n",
       "3           0.000730           None  [Cl-].[Na+]  Solvent         0.017961   \n",
       "4           0.000809           None  [Cl-].[Na+]  Solvent         0.027109   \n",
       "..               ...            ...          ...      ...              ...   \n",
       "532         0.600000           None     c1ccccc1  Solvent         0.400000   \n",
       "533         0.700000           None     c1ccccc1  Solvent         0.300000   \n",
       "534         0.800000           None     c1ccccc1  Solvent         0.200000   \n",
       "535         0.900000           None     c1ccccc1  Solvent         0.100000   \n",
       "536         1.000000           None          NaN      NaN              NaN   \n",
       "\n",
       "     Exact Amount 2 Component 3   Role 3  Mole Fraction 3  Exact Amount 3  \\\n",
       "0               NaN           O  Solvent         0.997843             NaN   \n",
       "1               NaN           O  Solvent         0.995047             NaN   \n",
       "2               NaN           O  Solvent         0.990434             NaN   \n",
       "3               NaN           O  Solvent         0.981308             NaN   \n",
       "4               NaN           O  Solvent         0.972082             NaN   \n",
       "..              ...         ...      ...              ...             ...   \n",
       "532             NaN         NaN      NaN              NaN             NaN   \n",
       "533             NaN         NaN      NaN              NaN             NaN   \n",
       "534             NaN         NaN      NaN              NaN             NaN   \n",
       "535             NaN         NaN      NaN              NaN             NaN   \n",
       "536             NaN         NaN      NaN              NaN             NaN   \n",
       "\n",
       "     Density Value (g / ml)  Density Uncertainty (g / ml)  \\\n",
       "0                  1.006000                      0.001500   \n",
       "1                  1.014000                      0.001500   \n",
       "2                  1.028000                      0.001500   \n",
       "3                  1.048000                      0.001000   \n",
       "4                  1.063000                      0.001000   \n",
       "..                      ...                           ...   \n",
       "532                0.798661                      0.000063   \n",
       "533                0.789869                      0.000065   \n",
       "534                0.780977                      0.000066   \n",
       "535                0.771989                      0.000068   \n",
       "536                0.762929                      0.000067   \n",
       "\n",
       "                       Source  \n",
       "0    10.1021/acs.jced.5b00005  \n",
       "1    10.1021/acs.jced.5b00005  \n",
       "2    10.1021/acs.jced.5b00005  \n",
       "3    10.1021/acs.jced.5b00005  \n",
       "4    10.1021/acs.jced.5b00005  \n",
       "..                        ...  \n",
       "532  10.1021/acs.jced.5b00009  \n",
       "533  10.1021/acs.jced.5b00009  \n",
       "534  10.1021/acs.jced.5b00009  \n",
       "535  10.1021/acs.jced.5b00009  \n",
       "536  10.1021/acs.jced.5b00009  \n",
       "\n",
       "[537 rows x 20 columns]"
      ]
     },
     "execution_count": 21,
     "metadata": {},
     "output_type": "execute_result"
    }
   ],
   "source": [
    "tml_data_set.to_pandas()"
   ]
  },
  {
   "cell_type": "code",
   "execution_count": null,
   "metadata": {},
   "outputs": [],
   "source": []
  }
 ],
 "metadata": {
  "kernelspec": {
   "display_name": "evaluator-openff",
   "language": "python",
   "name": "python3"
  },
  "language_info": {
   "codemirror_mode": {
    "name": "ipython",
    "version": 3
   },
   "file_extension": ".py",
   "mimetype": "text/x-python",
   "name": "python",
   "nbconvert_exporter": "python",
   "pygments_lexer": "ipython3",
   "version": "3.10.13"
  }
 },
 "nbformat": 4,
 "nbformat_minor": 2
}
