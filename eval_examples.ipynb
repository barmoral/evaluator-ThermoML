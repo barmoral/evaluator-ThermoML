{
 "cells": [
  {
   "cell_type": "markdown",
   "metadata": {},
   "source": [
    "# Core Imports and Setup"
   ]
  },
  {
   "cell_type": "code",
   "execution_count": 4,
   "metadata": {},
   "outputs": [],
   "source": [
    "import os\n",
    "from pathlib import Path\n",
    "\n",
    "import warnings\n",
    "warnings.filterwarnings(\"ignore\")\n",
    "\n",
    "import logging\n",
    "logging.getLogger(\"openff.toolkit\").setLevel(logging.ERROR)\n",
    "\n",
    "from openff import toolkit, evaluator"
   ]
  },
  {
   "cell_type": "markdown",
   "metadata": {},
   "source": [
    "# 0) Registering Custom ThermoML Properties"
   ]
  },
  {
   "cell_type": "code",
   "execution_count": 5,
   "metadata": {},
   "outputs": [],
   "source": [
    "from openff.evaluator.datasets import PhysicalProperty, PropertyPhase\n",
    "from openff.evaluator.datasets.thermoml import thermoml_property\n",
    "from openff.evaluator import properties\n",
    "\n",
    "from openff.units import unit\n",
    "\n",
    "@thermoml_property(\"Osmotic coefficient\", supported_phases=PropertyPhase.Liquid)\n",
    "class OsmoticCoefficient(PhysicalProperty):\n",
    "    \"\"\"A class representation of a osmotic coeff property\"\"\"\n",
    "\n",
    "    @classmethod\n",
    "    def default_unit(cls):\n",
    "        return unit.dimensionless\n",
    "    \n",
    "setattr(properties, OsmoticCoefficient.__name__, OsmoticCoefficient)"
   ]
  },
  {
   "cell_type": "markdown",
   "metadata": {},
   "source": [
    "# 1) - Loading ThermoML Data Sets"
   ]
  },
  {
   "cell_type": "markdown",
   "metadata": {},
   "source": [
    "## Extracting data from ThermoML"
   ]
  },
  {
   "cell_type": "code",
   "execution_count": 6,
   "metadata": {},
   "outputs": [],
   "source": [
    "from openff.evaluator.datasets import PhysicalProperty, PropertyPhase\n",
    "from openff.evaluator.datasets.thermoml import thermoml_property\n",
    "from openff.units import unit\n",
    "\n",
    "from openff.evaluator.datasets.thermoml import ThermoMLDataSet\n",
    "\n",
    "data_set = ThermoMLDataSet.from_doi(\n",
    "    '10.1016/j.jct.2011.03.012',\n",
    "    '10.1016/j.jct.2013.08.018',\n",
    "    )"
   ]
  },
  {
   "cell_type": "code",
   "execution_count": 7,
   "metadata": {},
   "outputs": [
    {
     "data": {
      "text/plain": [
       "(757, {'OsmoticCoefficient'})"
      ]
     },
     "execution_count": 7,
     "metadata": {},
     "output_type": "execute_result"
    }
   ],
   "source": [
    "len(data_set), data_set.property_types"
   ]
  },
  {
   "cell_type": "code",
   "execution_count": 8,
   "metadata": {},
   "outputs": [
    {
     "data": {
      "text/plain": [
       "functools.partial(<function _default_mapping at 0x7fb5319305e0>, <class '__main__.OsmoticCoefficient'>)"
      ]
     },
     "execution_count": 8,
     "metadata": {},
     "output_type": "execute_result"
    }
   ],
   "source": [
    "ThermoMLDataSet.registered_properties['Osmotic coefficient'].conversion_function"
   ]
  },
  {
   "cell_type": "markdown",
   "metadata": {},
   "source": [
    "## Filtering data set"
   ]
  },
  {
   "cell_type": "code",
   "execution_count": 9,
   "metadata": {},
   "outputs": [],
   "source": [
    "from openff.evaluator.datasets.curation.components.filtering import FilterByPropertyTypes, FilterByPropertyTypesSchema\n",
    "from openff.evaluator.datasets.curation.components.filtering import FilterByTemperature, FilterByTemperatureSchema\n",
    "from openff.evaluator.datasets.curation.components.filtering import FilterByPressure, FilterByPressureSchema\n",
    "from openff.evaluator.datasets.curation.components.filtering import FilterBySmiles, FilterBySmilesSchema\n",
    "\n",
    "# Property\n",
    "data_set = FilterByPropertyTypes.apply(\n",
    "    data_set, FilterByPropertyTypesSchema(property_types=[\"OsmoticCoefficient\"])\n",
    ")"
   ]
  },
  {
   "cell_type": "code",
   "execution_count": 10,
   "metadata": {},
   "outputs": [
    {
     "data": {
      "text/html": [
       "<div>\n",
       "<style scoped>\n",
       "    .dataframe tbody tr th:only-of-type {\n",
       "        vertical-align: middle;\n",
       "    }\n",
       "\n",
       "    .dataframe tbody tr th {\n",
       "        vertical-align: top;\n",
       "    }\n",
       "\n",
       "    .dataframe thead th {\n",
       "        text-align: right;\n",
       "    }\n",
       "</style>\n",
       "<table border=\"1\" class=\"dataframe\">\n",
       "  <thead>\n",
       "    <tr style=\"text-align: right;\">\n",
       "      <th></th>\n",
       "      <th>Id</th>\n",
       "      <th>Temperature (K)</th>\n",
       "      <th>Pressure (kPa)</th>\n",
       "      <th>Phase</th>\n",
       "      <th>N Components</th>\n",
       "      <th>Component 1</th>\n",
       "      <th>Role 1</th>\n",
       "      <th>Mole Fraction 1</th>\n",
       "      <th>Exact Amount 1</th>\n",
       "      <th>OsmoticCoefficient Value ()</th>\n",
       "      <th>OsmoticCoefficient Uncertainty ()</th>\n",
       "      <th>Source</th>\n",
       "    </tr>\n",
       "  </thead>\n",
       "  <tbody>\n",
       "    <tr>\n",
       "      <th>0</th>\n",
       "      <td>efcec0c8484b4e2c8c94efffdde211f7</td>\n",
       "      <td>323.15</td>\n",
       "      <td>101.0</td>\n",
       "      <td>Liquid</td>\n",
       "      <td>1</td>\n",
       "      <td>CCn1cc[n+](C)c1.O=S(=O)([N-]S(=O)(=O)C(F)(F)F)...</td>\n",
       "      <td>Solvent</td>\n",
       "      <td>1.0</td>\n",
       "      <td>None</td>\n",
       "      <td>0.796</td>\n",
       "      <td>0.0070</td>\n",
       "      <td>10.1016/j.jct.2011.03.012</td>\n",
       "    </tr>\n",
       "    <tr>\n",
       "      <th>1</th>\n",
       "      <td>cd969d3d422545a4b1a67231f171ad09</td>\n",
       "      <td>323.15</td>\n",
       "      <td>101.0</td>\n",
       "      <td>Liquid</td>\n",
       "      <td>1</td>\n",
       "      <td>CCn1cc[n+](C)c1.O=S(=O)([N-]S(=O)(=O)C(F)(F)F)...</td>\n",
       "      <td>Solvent</td>\n",
       "      <td>1.0</td>\n",
       "      <td>None</td>\n",
       "      <td>0.729</td>\n",
       "      <td>0.0075</td>\n",
       "      <td>10.1016/j.jct.2011.03.012</td>\n",
       "    </tr>\n",
       "    <tr>\n",
       "      <th>2</th>\n",
       "      <td>141d6fe1c09149c8a0e5d4d32e26a76c</td>\n",
       "      <td>323.15</td>\n",
       "      <td>101.0</td>\n",
       "      <td>Liquid</td>\n",
       "      <td>1</td>\n",
       "      <td>CCn1cc[n+](C)c1.O=S(=O)([N-]S(=O)(=O)C(F)(F)F)...</td>\n",
       "      <td>Solvent</td>\n",
       "      <td>1.0</td>\n",
       "      <td>None</td>\n",
       "      <td>0.661</td>\n",
       "      <td>0.0085</td>\n",
       "      <td>10.1016/j.jct.2011.03.012</td>\n",
       "    </tr>\n",
       "    <tr>\n",
       "      <th>3</th>\n",
       "      <td>958e45618eeb4e5d911a83cbf47eb646</td>\n",
       "      <td>323.15</td>\n",
       "      <td>101.0</td>\n",
       "      <td>Liquid</td>\n",
       "      <td>1</td>\n",
       "      <td>CCn1cc[n+](C)c1.O=S(=O)([N-]S(=O)(=O)C(F)(F)F)...</td>\n",
       "      <td>Solvent</td>\n",
       "      <td>1.0</td>\n",
       "      <td>None</td>\n",
       "      <td>0.565</td>\n",
       "      <td>0.0100</td>\n",
       "      <td>10.1016/j.jct.2011.03.012</td>\n",
       "    </tr>\n",
       "    <tr>\n",
       "      <th>4</th>\n",
       "      <td>b6a13ef6212447e4b843d22f630664f1</td>\n",
       "      <td>323.15</td>\n",
       "      <td>101.0</td>\n",
       "      <td>Liquid</td>\n",
       "      <td>1</td>\n",
       "      <td>CCn1cc[n+](C)c1.O=S(=O)([N-]S(=O)(=O)C(F)(F)F)...</td>\n",
       "      <td>Solvent</td>\n",
       "      <td>1.0</td>\n",
       "      <td>None</td>\n",
       "      <td>0.498</td>\n",
       "      <td>0.0105</td>\n",
       "      <td>10.1016/j.jct.2011.03.012</td>\n",
       "    </tr>\n",
       "    <tr>\n",
       "      <th>...</th>\n",
       "      <td>...</td>\n",
       "      <td>...</td>\n",
       "      <td>...</td>\n",
       "      <td>...</td>\n",
       "      <td>...</td>\n",
       "      <td>...</td>\n",
       "      <td>...</td>\n",
       "      <td>...</td>\n",
       "      <td>...</td>\n",
       "      <td>...</td>\n",
       "      <td>...</td>\n",
       "      <td>...</td>\n",
       "    </tr>\n",
       "    <tr>\n",
       "      <th>752</th>\n",
       "      <td>b0d48804326847c7bdddb0cc8d558b2b</td>\n",
       "      <td>298.15</td>\n",
       "      <td>101.0</td>\n",
       "      <td>Liquid</td>\n",
       "      <td>1</td>\n",
       "      <td>O</td>\n",
       "      <td>Solvent</td>\n",
       "      <td>1.0</td>\n",
       "      <td>None</td>\n",
       "      <td>0.927</td>\n",
       "      <td>0.0050</td>\n",
       "      <td>10.1016/j.jct.2013.08.018</td>\n",
       "    </tr>\n",
       "    <tr>\n",
       "      <th>753</th>\n",
       "      <td>35709bc408af4924b2512b1092d14032</td>\n",
       "      <td>298.15</td>\n",
       "      <td>101.0</td>\n",
       "      <td>Liquid</td>\n",
       "      <td>1</td>\n",
       "      <td>O</td>\n",
       "      <td>Solvent</td>\n",
       "      <td>1.0</td>\n",
       "      <td>None</td>\n",
       "      <td>0.717</td>\n",
       "      <td>0.0070</td>\n",
       "      <td>10.1016/j.jct.2013.08.018</td>\n",
       "    </tr>\n",
       "    <tr>\n",
       "      <th>754</th>\n",
       "      <td>55a3119d194f486fac411dff347ce0e9</td>\n",
       "      <td>298.15</td>\n",
       "      <td>101.0</td>\n",
       "      <td>Liquid</td>\n",
       "      <td>1</td>\n",
       "      <td>O</td>\n",
       "      <td>Solvent</td>\n",
       "      <td>1.0</td>\n",
       "      <td>None</td>\n",
       "      <td>0.658</td>\n",
       "      <td>0.0080</td>\n",
       "      <td>10.1016/j.jct.2013.08.018</td>\n",
       "    </tr>\n",
       "    <tr>\n",
       "      <th>755</th>\n",
       "      <td>94d6c77277ee47398cd48a7a7f0be9c4</td>\n",
       "      <td>298.15</td>\n",
       "      <td>101.0</td>\n",
       "      <td>Liquid</td>\n",
       "      <td>1</td>\n",
       "      <td>O</td>\n",
       "      <td>Solvent</td>\n",
       "      <td>1.0</td>\n",
       "      <td>None</td>\n",
       "      <td>0.690</td>\n",
       "      <td>0.0075</td>\n",
       "      <td>10.1016/j.jct.2013.08.018</td>\n",
       "    </tr>\n",
       "    <tr>\n",
       "      <th>756</th>\n",
       "      <td>5782cae98ad0428690407cf63dca36a0</td>\n",
       "      <td>298.15</td>\n",
       "      <td>101.0</td>\n",
       "      <td>Liquid</td>\n",
       "      <td>1</td>\n",
       "      <td>O</td>\n",
       "      <td>Solvent</td>\n",
       "      <td>1.0</td>\n",
       "      <td>None</td>\n",
       "      <td>0.642</td>\n",
       "      <td>0.0080</td>\n",
       "      <td>10.1016/j.jct.2013.08.018</td>\n",
       "    </tr>\n",
       "  </tbody>\n",
       "</table>\n",
       "<p>757 rows × 12 columns</p>\n",
       "</div>"
      ],
      "text/plain": [
       "                                   Id  Temperature (K)  Pressure (kPa)  \\\n",
       "0    efcec0c8484b4e2c8c94efffdde211f7           323.15           101.0   \n",
       "1    cd969d3d422545a4b1a67231f171ad09           323.15           101.0   \n",
       "2    141d6fe1c09149c8a0e5d4d32e26a76c           323.15           101.0   \n",
       "3    958e45618eeb4e5d911a83cbf47eb646           323.15           101.0   \n",
       "4    b6a13ef6212447e4b843d22f630664f1           323.15           101.0   \n",
       "..                                ...              ...             ...   \n",
       "752  b0d48804326847c7bdddb0cc8d558b2b           298.15           101.0   \n",
       "753  35709bc408af4924b2512b1092d14032           298.15           101.0   \n",
       "754  55a3119d194f486fac411dff347ce0e9           298.15           101.0   \n",
       "755  94d6c77277ee47398cd48a7a7f0be9c4           298.15           101.0   \n",
       "756  5782cae98ad0428690407cf63dca36a0           298.15           101.0   \n",
       "\n",
       "      Phase  N Components                                        Component 1  \\\n",
       "0    Liquid             1  CCn1cc[n+](C)c1.O=S(=O)([N-]S(=O)(=O)C(F)(F)F)...   \n",
       "1    Liquid             1  CCn1cc[n+](C)c1.O=S(=O)([N-]S(=O)(=O)C(F)(F)F)...   \n",
       "2    Liquid             1  CCn1cc[n+](C)c1.O=S(=O)([N-]S(=O)(=O)C(F)(F)F)...   \n",
       "3    Liquid             1  CCn1cc[n+](C)c1.O=S(=O)([N-]S(=O)(=O)C(F)(F)F)...   \n",
       "4    Liquid             1  CCn1cc[n+](C)c1.O=S(=O)([N-]S(=O)(=O)C(F)(F)F)...   \n",
       "..      ...           ...                                                ...   \n",
       "752  Liquid             1                                                  O   \n",
       "753  Liquid             1                                                  O   \n",
       "754  Liquid             1                                                  O   \n",
       "755  Liquid             1                                                  O   \n",
       "756  Liquid             1                                                  O   \n",
       "\n",
       "      Role 1  Mole Fraction 1 Exact Amount 1  OsmoticCoefficient Value ()  \\\n",
       "0    Solvent              1.0           None                        0.796   \n",
       "1    Solvent              1.0           None                        0.729   \n",
       "2    Solvent              1.0           None                        0.661   \n",
       "3    Solvent              1.0           None                        0.565   \n",
       "4    Solvent              1.0           None                        0.498   \n",
       "..       ...              ...            ...                          ...   \n",
       "752  Solvent              1.0           None                        0.927   \n",
       "753  Solvent              1.0           None                        0.717   \n",
       "754  Solvent              1.0           None                        0.658   \n",
       "755  Solvent              1.0           None                        0.690   \n",
       "756  Solvent              1.0           None                        0.642   \n",
       "\n",
       "     OsmoticCoefficient Uncertainty ()                     Source  \n",
       "0                               0.0070  10.1016/j.jct.2011.03.012  \n",
       "1                               0.0075  10.1016/j.jct.2011.03.012  \n",
       "2                               0.0085  10.1016/j.jct.2011.03.012  \n",
       "3                               0.0100  10.1016/j.jct.2011.03.012  \n",
       "4                               0.0105  10.1016/j.jct.2011.03.012  \n",
       "..                                 ...                        ...  \n",
       "752                             0.0050  10.1016/j.jct.2013.08.018  \n",
       "753                             0.0070  10.1016/j.jct.2013.08.018  \n",
       "754                             0.0080  10.1016/j.jct.2013.08.018  \n",
       "755                             0.0075  10.1016/j.jct.2013.08.018  \n",
       "756                             0.0080  10.1016/j.jct.2013.08.018  \n",
       "\n",
       "[757 rows x 12 columns]"
      ]
     },
     "execution_count": 10,
     "metadata": {},
     "output_type": "execute_result"
    }
   ],
   "source": [
    "data_set.to_pandas()"
   ]
  },
  {
   "cell_type": "code",
   "execution_count": 11,
   "metadata": {},
   "outputs": [
    {
     "name": "stdout",
     "output_type": "stream",
     "text": [
      "757\n"
     ]
    }
   ],
   "source": [
    "from openff.evaluator.datasets.curation.components.filtering import FilterByPropertyTypes, FilterByPropertyTypesSchema\n",
    "from openff.evaluator.datasets.curation.components.filtering import FilterByTemperature, FilterByTemperatureSchema\n",
    "from openff.evaluator.datasets.curation.components.filtering import FilterByPressure, FilterByPressureSchema\n",
    "from openff.evaluator.datasets.curation.components.filtering import FilterBySmiles, FilterBySmilesSchema\n",
    "\n",
    "# # Property\n",
    "# data_set = FilterByPropertyTypes.apply(\n",
    "#     data_set, FilterByPropertyTypesSchema(property_types=[\"Density\"])\n",
    "# )\n",
    "\n",
    "# Temperature\n",
    "data_set = FilterByTemperature.apply(\n",
    "    data_set, FilterByTemperatureSchema(minimum_temperature=298.0, maximum_temperature=330.0)\n",
    ")\n",
    "\n",
    "# Pressure\n",
    "data_set = FilterByPressure.apply(\n",
    "    data_set, FilterByPressureSchema(minimum_pressure=100.0, maximum_pressure=105.426)\n",
    ")\n",
    "\n",
    "# # Solvent\n",
    "# data_set = FilterBySmiles.apply(\n",
    "#     data_set, FilterBySmilesSchema(smiles_to_include=[\"CCO\", \"CC(C)O\"])\n",
    "# )\n",
    "\n",
    "print(len(data_set))"
   ]
  },
  {
   "cell_type": "code",
   "execution_count": 13,
   "metadata": {},
   "outputs": [
    {
     "data": {
      "text/html": [
       "<div>\n",
       "<style scoped>\n",
       "    .dataframe tbody tr th:only-of-type {\n",
       "        vertical-align: middle;\n",
       "    }\n",
       "\n",
       "    .dataframe tbody tr th {\n",
       "        vertical-align: top;\n",
       "    }\n",
       "\n",
       "    .dataframe thead th {\n",
       "        text-align: right;\n",
       "    }\n",
       "</style>\n",
       "<table border=\"1\" class=\"dataframe\">\n",
       "  <thead>\n",
       "    <tr style=\"text-align: right;\">\n",
       "      <th></th>\n",
       "      <th>Temperature (K)</th>\n",
       "      <th>Pressure (kPa)</th>\n",
       "      <th>Component 1</th>\n",
       "      <th>OsmoticCoefficient Value ()</th>\n",
       "      <th>Source</th>\n",
       "    </tr>\n",
       "  </thead>\n",
       "  <tbody>\n",
       "    <tr>\n",
       "      <th>0</th>\n",
       "      <td>323.15</td>\n",
       "      <td>101.0</td>\n",
       "      <td>CCn1cc[n+](C)c1.O=S(=O)([N-]S(=O)(=O)C(F)(F)F)...</td>\n",
       "      <td>0.796</td>\n",
       "      <td>10.1016/j.jct.2011.03.012</td>\n",
       "    </tr>\n",
       "    <tr>\n",
       "      <th>1</th>\n",
       "      <td>323.15</td>\n",
       "      <td>101.0</td>\n",
       "      <td>CCn1cc[n+](C)c1.O=S(=O)([N-]S(=O)(=O)C(F)(F)F)...</td>\n",
       "      <td>0.729</td>\n",
       "      <td>10.1016/j.jct.2011.03.012</td>\n",
       "    </tr>\n",
       "    <tr>\n",
       "      <th>2</th>\n",
       "      <td>323.15</td>\n",
       "      <td>101.0</td>\n",
       "      <td>CCn1cc[n+](C)c1.O=S(=O)([N-]S(=O)(=O)C(F)(F)F)...</td>\n",
       "      <td>0.661</td>\n",
       "      <td>10.1016/j.jct.2011.03.012</td>\n",
       "    </tr>\n",
       "    <tr>\n",
       "      <th>3</th>\n",
       "      <td>323.15</td>\n",
       "      <td>101.0</td>\n",
       "      <td>CCn1cc[n+](C)c1.O=S(=O)([N-]S(=O)(=O)C(F)(F)F)...</td>\n",
       "      <td>0.565</td>\n",
       "      <td>10.1016/j.jct.2011.03.012</td>\n",
       "    </tr>\n",
       "    <tr>\n",
       "      <th>4</th>\n",
       "      <td>323.15</td>\n",
       "      <td>101.0</td>\n",
       "      <td>CCn1cc[n+](C)c1.O=S(=O)([N-]S(=O)(=O)C(F)(F)F)...</td>\n",
       "      <td>0.498</td>\n",
       "      <td>10.1016/j.jct.2011.03.012</td>\n",
       "    </tr>\n",
       "  </tbody>\n",
       "</table>\n",
       "</div>"
      ],
      "text/plain": [
       "   Temperature (K)  Pressure (kPa)  \\\n",
       "0           323.15           101.0   \n",
       "1           323.15           101.0   \n",
       "2           323.15           101.0   \n",
       "3           323.15           101.0   \n",
       "4           323.15           101.0   \n",
       "\n",
       "                                         Component 1  \\\n",
       "0  CCn1cc[n+](C)c1.O=S(=O)([N-]S(=O)(=O)C(F)(F)F)...   \n",
       "1  CCn1cc[n+](C)c1.O=S(=O)([N-]S(=O)(=O)C(F)(F)F)...   \n",
       "2  CCn1cc[n+](C)c1.O=S(=O)([N-]S(=O)(=O)C(F)(F)F)...   \n",
       "3  CCn1cc[n+](C)c1.O=S(=O)([N-]S(=O)(=O)C(F)(F)F)...   \n",
       "4  CCn1cc[n+](C)c1.O=S(=O)([N-]S(=O)(=O)C(F)(F)F)...   \n",
       "\n",
       "   OsmoticCoefficient Value ()                     Source  \n",
       "0                        0.796  10.1016/j.jct.2011.03.012  \n",
       "1                        0.729  10.1016/j.jct.2011.03.012  \n",
       "2                        0.661  10.1016/j.jct.2011.03.012  \n",
       "3                        0.565  10.1016/j.jct.2011.03.012  \n",
       "4                        0.498  10.1016/j.jct.2011.03.012  "
      ]
     },
     "execution_count": 13,
     "metadata": {},
     "output_type": "execute_result"
    }
   ],
   "source": [
    "pandas_data_set = data_set.to_pandas()\n",
    "pandas_data_set[\n",
    "    [\n",
    "        \"Temperature (K)\",\n",
    "        \"Pressure (kPa)\",\n",
    "        \"Component 1\",\n",
    "        \"OsmoticCoefficient Value ()\",\n",
    "        \"Source\",\n",
    "    ]\n",
    "].head()"
   ]
  },
  {
   "cell_type": "markdown",
   "metadata": {},
   "source": [
    "## Adding Extra Data"
   ]
  },
  {
   "cell_type": "markdown",
   "metadata": {},
   "source": [
    "### Defining new properties"
   ]
  },
  {
   "cell_type": "code",
   "execution_count": null,
   "metadata": {},
   "outputs": [],
   "source": [
    "from openff.evaluator.datasets import MeasurementSource, PropertyPhase\n",
    "from openff.evaluator.substances import Substance\n",
    "from openff.evaluator.thermodynamics import ThermodynamicState\n",
    "from openff.evaluator.properties import EnthalpyOfVaporization\n",
    "\n",
    "from openff.units import unit\n",
    "\n",
    "# define thermo state\n",
    "thermodynamic_state = ThermodynamicState(\n",
    "    temperature=298.15 * unit.kelvin, pressure=1.0 * unit.atmosphere\n",
    ")\n",
    "\n",
    "# define compounds \n",
    "ethanol = Substance.from_components(\"CCO\")\n",
    "isopropanol = Substance.from_components(\"CC(C)O\")\n",
    "\n",
    "# define source of measurements\n",
    "source = MeasurementSource(doi=\"10.1016/S0021-9614(71)80108-8\")\n",
    "\n",
    "# define measurement values\n",
    "ethanol_hvap = EnthalpyOfVaporization(\n",
    "    thermodynamic_state=thermodynamic_state,\n",
    "    phase=PropertyPhase.Liquid | PropertyPhase.Gas,\n",
    "    substance=ethanol,\n",
    "    value=42.26 * unit.kilojoule / unit.mole,\n",
    "    uncertainty=0.02 * unit.kilojoule / unit.mole,\n",
    "    source=source,\n",
    ")\n",
    "isopropanol_hvap = EnthalpyOfVaporization(\n",
    "    thermodynamic_state=thermodynamic_state,\n",
    "    phase=PropertyPhase.Liquid | PropertyPhase.Gas,\n",
    "    substance=isopropanol,\n",
    "    value=45.34 * unit.kilojoule / unit.mole,\n",
    "    uncertainty=0.02 * unit.kilojoule / unit.mole,\n",
    "    source=source,\n",
    ")\n",
    "data_set.add_properties(ethanol_hvap, isopropanol_hvap)"
   ]
  },
  {
   "cell_type": "markdown",
   "metadata": {},
   "source": [
    "### Inspecting and saving new properties"
   ]
  },
  {
   "cell_type": "code",
   "execution_count": null,
   "metadata": {},
   "outputs": [],
   "source": [
    "# save for future use\n",
    "data_set_path = Path('filtered_data_set.json')\n",
    "data_set.json(data_set_path, format=True)\n",
    "\n",
    "# inspect new properties\n",
    "pandas_data_set = data_set.to_pandas()\n",
    "pandas_data_set"
   ]
  },
  {
   "cell_type": "markdown",
   "metadata": {},
   "source": [
    "# 2) Estimating Data Sets"
   ]
  },
  {
   "cell_type": "markdown",
   "metadata": {},
   "source": [
    "## Loading data set and FF parameters"
   ]
  },
  {
   "cell_type": "code",
   "execution_count": null,
   "metadata": {},
   "outputs": [],
   "source": [
    "from openff.evaluator.datasets import PhysicalPropertyDataSet\n",
    "from openff.evaluator.forcefield import SmirnoffForceFieldSource\n",
    "\n",
    "# load data\n",
    "data_set_path = Path('filtered_data_set.json')\n",
    "data_set = PhysicalPropertyDataSet.from_json(data_set_path)\n",
    "\n",
    "# load FF\n",
    "force_field_path = \"openff-1.0.0.offxml\"\n",
    "force_field_source = SmirnoffForceFieldSource.from_path(force_field_path)"
   ]
  },
  {
   "cell_type": "markdown",
   "metadata": {},
   "source": [
    "## Defining Calculation Schemas"
   ]
  },
  {
   "cell_type": "code",
   "execution_count": null,
   "metadata": {},
   "outputs": [],
   "source": [
    "from openff.evaluator.properties import Density, EnthalpyOfVaporization\n",
    "from openff.evaluator.client import RequestOptions\n",
    "\n",
    "density_schema = Density.default_simulation_schema(n_molecules=256)\n",
    "h_vap_schema = EnthalpyOfVaporization.default_simulation_schema(n_molecules=256)\n",
    "\n",
    "# Create an options object which defines how the data set should be estimated.\n",
    "estimation_options = RequestOptions()\n",
    "\n",
    "# Specify that we only wish to use molecular simulation to estimate the data set.\n",
    "estimation_options.calculation_layers = [\"SimulationLayer\"]\n",
    "\n",
    "# Add our custom schemas, specifying that the should be used by the 'SimulationLayer'\n",
    "estimation_options.add_schema(\"SimulationLayer\", \"Density\", density_schema)\n",
    "estimation_options.add_schema(\"SimulationLayer\", \"EnthalpyOfVaporization\", h_vap_schema)"
   ]
  },
  {
   "cell_type": "markdown",
   "metadata": {},
   "source": [
    "## Launching a Server and Client"
   ]
  },
  {
   "cell_type": "code",
   "execution_count": null,
   "metadata": {},
   "outputs": [],
   "source": [
    "from openff.evaluator.backends import ComputeResources\n",
    "from openff.evaluator.backends.dask import DaskLocalCluster\n",
    "from openff.evaluator.server import EvaluatorServer\n",
    "from openff.evaluator.client import EvaluatorClient\n",
    "\n",
    "# define client to submit queries\n",
    "evaluator_client = EvaluatorClient()\n",
    "\n",
    "# define available / preferred resources\n",
    "os.environ[\"CUDA_VISIBLE_DEVICES\"] = \"0\"\n",
    "resources = ComputeResources(\n",
    "    number_of_threads=1,\n",
    "    number_of_gpus=1,\n",
    "    preferred_gpu_toolkit=ComputeResources.GPUToolkit.CUDA,\n",
    ")\n",
    "\n",
    "with DaskLocalCluster(number_of_workers=1, resources_per_worker=resources) as calculation_backend:\n",
    "    # spin up server\n",
    "    evaluator_server = EvaluatorServer(calculation_backend=calculation_backend)\n",
    "    evaluator_server.start(asynchronous=True)\n",
    "\n",
    "    # estimate data set by submitting calculation schemas to newly-created server\n",
    "    request, exception = evaluator_client.request_estimate(\n",
    "        property_set=data_set,\n",
    "        force_field_source=force_field_source,\n",
    "        options=estimation_options,\n",
    "    )\n",
    "\n",
    "    # Wait for the results.\n",
    "    results, exception = request.results(synchronous=True, polling_interval=30)"
   ]
  },
  {
   "cell_type": "code",
   "execution_count": null,
   "metadata": {},
   "outputs": [],
   "source": [
    "\n"
   ]
  },
  {
   "cell_type": "code",
   "execution_count": null,
   "metadata": {},
   "outputs": [],
   "source": []
  },
  {
   "cell_type": "code",
   "execution_count": null,
   "metadata": {},
   "outputs": [],
   "source": []
  },
  {
   "cell_type": "code",
   "execution_count": null,
   "metadata": {},
   "outputs": [],
   "source": []
  }
 ],
 "metadata": {
  "kernelspec": {
   "display_name": "Python 3",
   "language": "python",
   "name": "python3"
  },
  "language_info": {
   "codemirror_mode": {
    "name": "ipython",
    "version": 3
   },
   "file_extension": ".py",
   "mimetype": "text/x-python",
   "name": "python",
   "nbconvert_exporter": "python",
   "pygments_lexer": "ipython3",
   "version": "3.10.13"
  },
  "orig_nbformat": 4
 },
 "nbformat": 4,
 "nbformat_minor": 2
}
