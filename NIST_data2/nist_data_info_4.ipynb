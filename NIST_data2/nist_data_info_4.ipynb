{
 "cells": [
  {
   "cell_type": "markdown",
   "metadata": {},
   "source": [
    "# Core Imports and Setup"
   ]
  },
  {
   "cell_type": "code",
   "execution_count": 47,
   "metadata": {},
   "outputs": [],
   "source": [
    "import os\n",
    "import pandas as pd\n",
    "from pathlib import Path\n",
    "\n",
    "import warnings\n",
    "warnings.filterwarnings(\"ignore\")\n",
    "\n",
    "import logging\n",
    "# logging.getLogger(\"openff.toolkit\").setLevel(logging.ERROR)\n",
    "# logging.basicConfig(level=logging.DEBUG)\n",
    "\n",
    "import json\n",
    "from openff import toolkit, evaluator"
   ]
  },
  {
   "cell_type": "code",
   "execution_count": 48,
   "metadata": {},
   "outputs": [],
   "source": [
    "from rdkit import Chem\n",
    "from rdkit.Chem.Draw import IPythonConsole\n",
    "from rdkit.Chem import Draw, MolFromSmiles\n",
    "from rdkit.Chem.Draw import MolsToGridImage, rdMolDraw2D, MolsMatrixToGridImage\n",
    "import pubchempy\n",
    "from PIL import Image, ImageDraw, ImageFont\n",
    "IPythonConsole.ipython_useSVG=False  #< set this to False if you want PNGs instead of SVGs"
   ]
  },
  {
   "cell_type": "code",
   "execution_count": 49,
   "metadata": {},
   "outputs": [],
   "source": [
    "from rdkit.Chem import rdMolDescriptors\n",
    "import pubchempy as pcp\n",
    "import math"
   ]
  },
  {
   "cell_type": "code",
   "execution_count": 50,
   "metadata": {},
   "outputs": [],
   "source": [
    "from openff.evaluator.datasets import PhysicalProperty, PropertyPhase\n",
    "from openff.evaluator.datasets.thermoml import thermoml_property\n",
    "from openff.evaluator import properties\n",
    "from openff.units import unit\n",
    "from openff.evaluator.datasets.thermoml import ThermoMLDataSet\n",
    "from openff.evaluator.datasets import PhysicalProperty, PropertyPhase, PhysicalPropertyDataSet"
   ]
  },
  {
   "cell_type": "code",
   "execution_count": 51,
   "metadata": {},
   "outputs": [],
   "source": [
    "from openff.evaluator.datasets.curation.components.filtering import FilterByPropertyTypes, FilterByPropertyTypesSchema\n",
    "from openff.evaluator.datasets.curation.components.filtering import FilterByTemperature, FilterByTemperatureSchema\n",
    "from openff.evaluator.datasets.curation.components.filtering import FilterByPressure, FilterByPressureSchema\n",
    "from openff.evaluator.datasets.curation.components.filtering import FilterBySmiles, FilterBySmilesSchema\n",
    "from openff.evaluator.datasets.curation.components.filtering import FilterByNComponents, FilterByNComponentsSchema\n"
   ]
  },
  {
   "cell_type": "code",
   "execution_count": 52,
   "metadata": {},
   "outputs": [],
   "source": [
    "from rich.progress import track\n",
    "from collections import defaultdict\n",
    "from openff.toolkit.utils.exceptions import UndefinedStereochemistryError"
   ]
  },
  {
   "cell_type": "markdown",
   "metadata": {},
   "source": [
    "# Registering New Properties"
   ]
  },
  {
   "cell_type": "code",
   "execution_count": 53,
   "metadata": {},
   "outputs": [
    {
     "data": {
      "text/plain": [
       "functools.partial(<function _default_mapping at 0x7fb382d3acb0>, <class '__main__.OsmoticCoefficient'>)"
      ]
     },
     "execution_count": 53,
     "metadata": {},
     "output_type": "execute_result"
    }
   ],
   "source": [
    "@thermoml_property(\"Osmotic coefficient\", supported_phases=PropertyPhase.Liquid | PropertyPhase.Gas)\n",
    "class OsmoticCoefficient(PhysicalProperty):\n",
    "    \"\"\"A class representation of a osmotic coeff property\"\"\"\n",
    "\n",
    "    @classmethod\n",
    "    def default_unit(cls):\n",
    "        return unit.dimensionless\n",
    "    \n",
    "setattr(properties, OsmoticCoefficient.__name__, OsmoticCoefficient)\n",
    "\n",
    "ThermoMLDataSet.registered_properties['Osmotic coefficient'].conversion_function"
   ]
  },
  {
   "cell_type": "code",
   "execution_count": 54,
   "metadata": {},
   "outputs": [
    {
     "data": {
      "text/plain": [
       "functools.partial(<function _default_mapping at 0x7fb382d3acb0>, <class '__main__.ActivityCoefficient'>)"
      ]
     },
     "execution_count": 54,
     "metadata": {},
     "output_type": "execute_result"
    }
   ],
   "source": [
    "@thermoml_property(\"Activity coefficient\", supported_phases=PropertyPhase.Liquid | PropertyPhase.Gas)\n",
    "class ActivityCoefficient(PhysicalProperty):\n",
    "    \"\"\"A class representation of a Activity coeff property\"\"\"\n",
    "\n",
    "    @classmethod\n",
    "    def default_unit(cls):\n",
    "        return unit.dimensionless\n",
    "    \n",
    "setattr(properties, ActivityCoefficient.__name__, ActivityCoefficient)\n",
    "\n",
    "ThermoMLDataSet.registered_properties['Activity coefficient'].conversion_function"
   ]
  },
  {
   "cell_type": "code",
   "execution_count": 55,
   "metadata": {},
   "outputs": [
    {
     "data": {
      "text/plain": [
       "functools.partial(<function _default_mapping at 0x7fb382d3acb0>, <class '__main__.SpeedOfSound'>)"
      ]
     },
     "execution_count": 55,
     "metadata": {},
     "output_type": "execute_result"
    }
   ],
   "source": [
    "@thermoml_property(\"Speed Of Sound (m/s)\", supported_phases=PropertyPhase.Liquid | PropertyPhase.Gas)\n",
    "class SpeedOfSound(PhysicalProperty):\n",
    "    \"\"\"A class representation of a Speed Of Sound property\"\"\"\n",
    "\n",
    "    @classmethod\n",
    "    def default_unit(cls):\n",
    "        return unit.meter / unit.second\n",
    "    \n",
    "setattr(properties, SpeedOfSound.__name__, SpeedOfSound)\n",
    "\n",
    "ThermoMLDataSet.registered_properties['Speed Of Sound (m/s)'].conversion_function"
   ]
  },
  {
   "cell_type": "markdown",
   "metadata": {},
   "source": [
    "# Functions"
   ]
  },
  {
   "cell_type": "code",
   "execution_count": 56,
   "metadata": {},
   "outputs": [],
   "source": [
    "def filter_database (unfiltered_directory):\n",
    "    data_set=[]\n",
    "    # Loop through all files in the directory\n",
    "    for filename in os.listdir(unfiltered_directory):\n",
    "        # Check if the file ends with .json\n",
    "        if filename.endswith('.xml'):\n",
    "            # Full path to the file\n",
    "            file_path = os.path.join(unfiltered_directory, filename)\n",
    "            data_set.append(file_path)\n",
    "    \n",
    "    sorted_dois = defaultdict(list)\n",
    "    for doi in track(data_set, description='Filtering DOIs...'):\n",
    "        try:\n",
    "            dataset = ThermoMLDataSet._from_file(doi)\n",
    "            sorted_dois['working'].append(doi)\n",
    "        except UndefinedStereochemistryError:\n",
    "            sorted_dois['stereo_fail'].append(doi)\n",
    "        except Exception as other_exc:\n",
    "            sorted_dois[other_exc.__class__.__name__].append(doi)\n",
    "\n",
    "    print('Amount of failing files: %i/%i' % (len(sorted_dois['stereo_fail']),len(data_set)))\n",
    "    print('Amount of working files: %i/%i' % (len(sorted_dois['working']),len(data_set)))\n",
    "\n",
    "    return sorted_dois['working']"
   ]
  },
  {
   "cell_type": "code",
   "execution_count": 57,
   "metadata": {},
   "outputs": [],
   "source": [
    "def extract_database (database_directory, csv_cached):\n",
    "    CACHED_PROP_PATH = Path(csv_cached)\n",
    "\n",
    "    if CACHED_PROP_PATH.exists():\n",
    "        prop_df = pd.read_csv(CACHED_PROP_PATH, index_col=0)\n",
    "        # delete rows with underfined thermo params to avoid pesky indexing errors\n",
    "        prop_df = prop_df.dropna(subset=['Temperature (K)'])\n",
    "        prop_df = prop_df.dropna(subset=['Pressure (kPa)'])\n",
    "        data_set = ThermoMLDataSet.from_pandas(prop_df)\n",
    "    else:\n",
    "        sorted_files=filter_database(database_directory)\n",
    "        data_set=ThermoMLDataSet.from_file(*sorted_files)\n",
    "\n",
    "        initial_df = data_set.to_pandas()\n",
    "        with CACHED_PROP_PATH.open('w') as file:\n",
    "            initial_df.to_csv(CACHED_PROP_PATH)\n",
    "    return data_set"
   ]
  },
  {
   "cell_type": "markdown",
   "metadata": {},
   "source": [
    "# Import Directory"
   ]
  },
  {
   "cell_type": "code",
   "execution_count": 58,
   "metadata": {},
   "outputs": [],
   "source": [
    "# # Ensure database_directory is defined\n",
    "database_directory = '10.1007'\n",
    "# database_directory = 'tests'\n",
    "tml_data_set = extract_database(database_directory, 'tml_database_07.csv')"
   ]
  },
  {
   "cell_type": "code",
   "execution_count": 59,
   "metadata": {},
   "outputs": [
    {
     "data": {
      "text/plain": [
       "<PhysicalPropertyDataSet n_properties=9380 n_substances=1574 n_sources=9380>"
      ]
     },
     "execution_count": 59,
     "metadata": {},
     "output_type": "execute_result"
    }
   ],
   "source": [
    "tml_data_set"
   ]
  },
  {
   "cell_type": "code",
   "execution_count": 60,
   "metadata": {},
   "outputs": [],
   "source": [
    "tml_df=tml_data_set.to_pandas()"
   ]
  },
  {
   "cell_type": "code",
   "execution_count": 61,
   "metadata": {},
   "outputs": [
    {
     "data": {
      "text/plain": [
       "9380"
      ]
     },
     "execution_count": 61,
     "metadata": {},
     "output_type": "execute_result"
    }
   ],
   "source": [
    "len(tml_df)"
   ]
  },
  {
   "cell_type": "markdown",
   "metadata": {},
   "source": [
    "# Filtering database dataframe --> Usable"
   ]
  },
  {
   "cell_type": "code",
   "execution_count": 62,
   "metadata": {},
   "outputs": [
    {
     "name": "stdout",
     "output_type": "stream",
     "text": [
      "3348\n"
     ]
    }
   ],
   "source": [
    "# Define valid and invalid characters\n",
    "valid_chars = \"HCNOSPFBClI\"\n",
    "invalid_chars = r\"[.+-]\"\n",
    "\n",
    "# Define the regular expression pattern for valid characters\n",
    "valid_pattern = f\"[{valid_chars}]\"\n",
    "\n",
    "# Apply the filters\n",
    "filtered_df_final = tml_df[\n",
    "    (\n",
    "        (tml_df['Temperature (K)'] >= 273) & (tml_df['Temperature (K)'] <= 373) &\n",
    "        (tml_df['Pressure (kPa)'] >= 90) & (tml_df['Pressure (kPa)'] <= 110) &\n",
    "        (tml_df['N Components'] == 2)\n",
    "    ) &\n",
    "    tml_df['Component 1'].str.contains(valid_pattern, regex=True, na=False) &\n",
    "    tml_df['Component 2'].str.contains(valid_pattern, regex=True, na=False) &\n",
    "    ~tml_df['Component 1'].str.contains(invalid_chars, regex=True, na=False) &\n",
    "    ~tml_df['Component 2'].str.contains(invalid_chars, regex=True, na=False)\n",
    "]\n",
    "print(len(filtered_df_final))"
   ]
  },
  {
   "cell_type": "code",
   "execution_count": 63,
   "metadata": {},
   "outputs": [
    {
     "data": {
      "text/html": [
       "<div>\n",
       "<style scoped>\n",
       "    .dataframe tbody tr th:only-of-type {\n",
       "        vertical-align: middle;\n",
       "    }\n",
       "\n",
       "    .dataframe tbody tr th {\n",
       "        vertical-align: top;\n",
       "    }\n",
       "\n",
       "    .dataframe thead th {\n",
       "        text-align: right;\n",
       "    }\n",
       "</style>\n",
       "<table border=\"1\" class=\"dataframe\">\n",
       "  <thead>\n",
       "    <tr style=\"text-align: right;\">\n",
       "      <th></th>\n",
       "      <th>Id</th>\n",
       "      <th>Temperature (K)</th>\n",
       "      <th>Pressure (kPa)</th>\n",
       "      <th>Phase</th>\n",
       "      <th>N Components</th>\n",
       "      <th>Component 1</th>\n",
       "      <th>Role 1</th>\n",
       "      <th>Mole Fraction 1</th>\n",
       "      <th>Exact Amount 1</th>\n",
       "      <th>Component 2</th>\n",
       "      <th>...</th>\n",
       "      <th>Exact Amount 2</th>\n",
       "      <th>Component 3</th>\n",
       "      <th>Role 3</th>\n",
       "      <th>Mole Fraction 3</th>\n",
       "      <th>Exact Amount 3</th>\n",
       "      <th>Density Value (g / ml)</th>\n",
       "      <th>Density Uncertainty (g / ml)</th>\n",
       "      <th>ExcessMolarVolume Value (cm ** 3 / mol)</th>\n",
       "      <th>ExcessMolarVolume Uncertainty (cm ** 3 / mol)</th>\n",
       "      <th>Source</th>\n",
       "    </tr>\n",
       "  </thead>\n",
       "  <tbody>\n",
       "    <tr>\n",
       "      <th>13</th>\n",
       "      <td>7616bb9f827b4003bf01c20e13f08c1b</td>\n",
       "      <td>298.15</td>\n",
       "      <td>101.0</td>\n",
       "      <td>Liquid</td>\n",
       "      <td>2</td>\n",
       "      <td>CCCCCCCCCCO</td>\n",
       "      <td>Solvent</td>\n",
       "      <td>0.9266</td>\n",
       "      <td>None</td>\n",
       "      <td>Cc1ccccc1Cl</td>\n",
       "      <td>...</td>\n",
       "      <td>NaN</td>\n",
       "      <td>NaN</td>\n",
       "      <td>NaN</td>\n",
       "      <td>NaN</td>\n",
       "      <td>NaN</td>\n",
       "      <td>0.83840</td>\n",
       "      <td>0.000205</td>\n",
       "      <td>NaN</td>\n",
       "      <td>NaN</td>\n",
       "      <td>10.1007/s10765-011-0995-x</td>\n",
       "    </tr>\n",
       "    <tr>\n",
       "      <th>14</th>\n",
       "      <td>41426fd0c07044919d388155321abcac</td>\n",
       "      <td>298.15</td>\n",
       "      <td>101.0</td>\n",
       "      <td>Liquid</td>\n",
       "      <td>2</td>\n",
       "      <td>CCCCCCCCCCO</td>\n",
       "      <td>Solvent</td>\n",
       "      <td>0.8463</td>\n",
       "      <td>None</td>\n",
       "      <td>Cc1ccccc1Cl</td>\n",
       "      <td>...</td>\n",
       "      <td>NaN</td>\n",
       "      <td>NaN</td>\n",
       "      <td>NaN</td>\n",
       "      <td>NaN</td>\n",
       "      <td>NaN</td>\n",
       "      <td>0.85215</td>\n",
       "      <td>0.000195</td>\n",
       "      <td>NaN</td>\n",
       "      <td>NaN</td>\n",
       "      <td>10.1007/s10765-011-0995-x</td>\n",
       "    </tr>\n",
       "    <tr>\n",
       "      <th>15</th>\n",
       "      <td>298aee969c294104aa5c397f73b81e77</td>\n",
       "      <td>298.15</td>\n",
       "      <td>101.0</td>\n",
       "      <td>Liquid</td>\n",
       "      <td>2</td>\n",
       "      <td>CCCCCCCCCCO</td>\n",
       "      <td>Solvent</td>\n",
       "      <td>0.7936</td>\n",
       "      <td>None</td>\n",
       "      <td>Cc1ccccc1Cl</td>\n",
       "      <td>...</td>\n",
       "      <td>NaN</td>\n",
       "      <td>NaN</td>\n",
       "      <td>NaN</td>\n",
       "      <td>NaN</td>\n",
       "      <td>NaN</td>\n",
       "      <td>0.86161</td>\n",
       "      <td>0.000190</td>\n",
       "      <td>NaN</td>\n",
       "      <td>NaN</td>\n",
       "      <td>10.1007/s10765-011-0995-x</td>\n",
       "    </tr>\n",
       "    <tr>\n",
       "      <th>16</th>\n",
       "      <td>39ced9cf9c7543668f0e61db747ab6c9</td>\n",
       "      <td>298.15</td>\n",
       "      <td>101.0</td>\n",
       "      <td>Liquid</td>\n",
       "      <td>2</td>\n",
       "      <td>CCCCCCCCCCO</td>\n",
       "      <td>Solvent</td>\n",
       "      <td>0.7253</td>\n",
       "      <td>None</td>\n",
       "      <td>Cc1ccccc1Cl</td>\n",
       "      <td>...</td>\n",
       "      <td>NaN</td>\n",
       "      <td>NaN</td>\n",
       "      <td>NaN</td>\n",
       "      <td>NaN</td>\n",
       "      <td>NaN</td>\n",
       "      <td>0.87440</td>\n",
       "      <td>0.000180</td>\n",
       "      <td>NaN</td>\n",
       "      <td>NaN</td>\n",
       "      <td>10.1007/s10765-011-0995-x</td>\n",
       "    </tr>\n",
       "    <tr>\n",
       "      <th>17</th>\n",
       "      <td>7aa18c4cd41a40ee80a6b86bf2e61297</td>\n",
       "      <td>298.15</td>\n",
       "      <td>101.0</td>\n",
       "      <td>Liquid</td>\n",
       "      <td>2</td>\n",
       "      <td>CCCCCCCCCCO</td>\n",
       "      <td>Solvent</td>\n",
       "      <td>0.6550</td>\n",
       "      <td>None</td>\n",
       "      <td>Cc1ccccc1Cl</td>\n",
       "      <td>...</td>\n",
       "      <td>NaN</td>\n",
       "      <td>NaN</td>\n",
       "      <td>NaN</td>\n",
       "      <td>NaN</td>\n",
       "      <td>NaN</td>\n",
       "      <td>0.88832</td>\n",
       "      <td>0.000170</td>\n",
       "      <td>NaN</td>\n",
       "      <td>NaN</td>\n",
       "      <td>10.1007/s10765-011-0995-x</td>\n",
       "    </tr>\n",
       "    <tr>\n",
       "      <th>...</th>\n",
       "      <td>...</td>\n",
       "      <td>...</td>\n",
       "      <td>...</td>\n",
       "      <td>...</td>\n",
       "      <td>...</td>\n",
       "      <td>...</td>\n",
       "      <td>...</td>\n",
       "      <td>...</td>\n",
       "      <td>...</td>\n",
       "      <td>...</td>\n",
       "      <td>...</td>\n",
       "      <td>...</td>\n",
       "      <td>...</td>\n",
       "      <td>...</td>\n",
       "      <td>...</td>\n",
       "      <td>...</td>\n",
       "      <td>...</td>\n",
       "      <td>...</td>\n",
       "      <td>...</td>\n",
       "      <td>...</td>\n",
       "      <td>...</td>\n",
       "    </tr>\n",
       "    <tr>\n",
       "      <th>9053</th>\n",
       "      <td>20b62e2c394b42deb52ee439365f3b24</td>\n",
       "      <td>318.15</td>\n",
       "      <td>101.0</td>\n",
       "      <td>Liquid</td>\n",
       "      <td>2</td>\n",
       "      <td>Nc1ccccc1</td>\n",
       "      <td>Solvent</td>\n",
       "      <td>0.7542</td>\n",
       "      <td>None</td>\n",
       "      <td>CC(C)(C)O</td>\n",
       "      <td>...</td>\n",
       "      <td>NaN</td>\n",
       "      <td>NaN</td>\n",
       "      <td>NaN</td>\n",
       "      <td>NaN</td>\n",
       "      <td>NaN</td>\n",
       "      <td>0.94228</td>\n",
       "      <td>0.000160</td>\n",
       "      <td>NaN</td>\n",
       "      <td>NaN</td>\n",
       "      <td>10.1007/s10765-007-0204-0</td>\n",
       "    </tr>\n",
       "    <tr>\n",
       "      <th>9054</th>\n",
       "      <td>7d6a7f49707e47b9b1bc4d48bb27c6a3</td>\n",
       "      <td>318.15</td>\n",
       "      <td>101.0</td>\n",
       "      <td>Liquid</td>\n",
       "      <td>2</td>\n",
       "      <td>Nc1ccccc1</td>\n",
       "      <td>Solvent</td>\n",
       "      <td>0.8062</td>\n",
       "      <td>None</td>\n",
       "      <td>CC(C)(C)O</td>\n",
       "      <td>...</td>\n",
       "      <td>NaN</td>\n",
       "      <td>NaN</td>\n",
       "      <td>NaN</td>\n",
       "      <td>NaN</td>\n",
       "      <td>NaN</td>\n",
       "      <td>0.95457</td>\n",
       "      <td>0.000160</td>\n",
       "      <td>NaN</td>\n",
       "      <td>NaN</td>\n",
       "      <td>10.1007/s10765-007-0204-0</td>\n",
       "    </tr>\n",
       "    <tr>\n",
       "      <th>9055</th>\n",
       "      <td>e3fbe9d03ea741c581d2dd506476c813</td>\n",
       "      <td>318.15</td>\n",
       "      <td>101.0</td>\n",
       "      <td>Liquid</td>\n",
       "      <td>2</td>\n",
       "      <td>Nc1ccccc1</td>\n",
       "      <td>Solvent</td>\n",
       "      <td>0.8544</td>\n",
       "      <td>None</td>\n",
       "      <td>CC(C)(C)O</td>\n",
       "      <td>...</td>\n",
       "      <td>NaN</td>\n",
       "      <td>NaN</td>\n",
       "      <td>NaN</td>\n",
       "      <td>NaN</td>\n",
       "      <td>NaN</td>\n",
       "      <td>0.96593</td>\n",
       "      <td>0.000160</td>\n",
       "      <td>NaN</td>\n",
       "      <td>NaN</td>\n",
       "      <td>10.1007/s10765-007-0204-0</td>\n",
       "    </tr>\n",
       "    <tr>\n",
       "      <th>9056</th>\n",
       "      <td>435614c670ff4c7eae6b02ce8424a08a</td>\n",
       "      <td>318.15</td>\n",
       "      <td>101.0</td>\n",
       "      <td>Liquid</td>\n",
       "      <td>2</td>\n",
       "      <td>Nc1ccccc1</td>\n",
       "      <td>Solvent</td>\n",
       "      <td>0.9012</td>\n",
       "      <td>None</td>\n",
       "      <td>CC(C)(C)O</td>\n",
       "      <td>...</td>\n",
       "      <td>NaN</td>\n",
       "      <td>NaN</td>\n",
       "      <td>NaN</td>\n",
       "      <td>NaN</td>\n",
       "      <td>NaN</td>\n",
       "      <td>0.97697</td>\n",
       "      <td>0.000160</td>\n",
       "      <td>NaN</td>\n",
       "      <td>NaN</td>\n",
       "      <td>10.1007/s10765-007-0204-0</td>\n",
       "    </tr>\n",
       "    <tr>\n",
       "      <th>9057</th>\n",
       "      <td>c512bef9f0cc4188bd9d4704f33df086</td>\n",
       "      <td>318.15</td>\n",
       "      <td>101.0</td>\n",
       "      <td>Liquid</td>\n",
       "      <td>2</td>\n",
       "      <td>Nc1ccccc1</td>\n",
       "      <td>Solvent</td>\n",
       "      <td>0.9536</td>\n",
       "      <td>None</td>\n",
       "      <td>CC(C)(C)O</td>\n",
       "      <td>...</td>\n",
       "      <td>NaN</td>\n",
       "      <td>NaN</td>\n",
       "      <td>NaN</td>\n",
       "      <td>NaN</td>\n",
       "      <td>NaN</td>\n",
       "      <td>0.98936</td>\n",
       "      <td>0.000160</td>\n",
       "      <td>NaN</td>\n",
       "      <td>NaN</td>\n",
       "      <td>10.1007/s10765-007-0204-0</td>\n",
       "    </tr>\n",
       "  </tbody>\n",
       "</table>\n",
       "<p>3348 rows × 22 columns</p>\n",
       "</div>"
      ],
      "text/plain": [
       "                                    Id  Temperature (K)  Pressure (kPa)  \\\n",
       "13    7616bb9f827b4003bf01c20e13f08c1b           298.15           101.0   \n",
       "14    41426fd0c07044919d388155321abcac           298.15           101.0   \n",
       "15    298aee969c294104aa5c397f73b81e77           298.15           101.0   \n",
       "16    39ced9cf9c7543668f0e61db747ab6c9           298.15           101.0   \n",
       "17    7aa18c4cd41a40ee80a6b86bf2e61297           298.15           101.0   \n",
       "...                                ...              ...             ...   \n",
       "9053  20b62e2c394b42deb52ee439365f3b24           318.15           101.0   \n",
       "9054  7d6a7f49707e47b9b1bc4d48bb27c6a3           318.15           101.0   \n",
       "9055  e3fbe9d03ea741c581d2dd506476c813           318.15           101.0   \n",
       "9056  435614c670ff4c7eae6b02ce8424a08a           318.15           101.0   \n",
       "9057  c512bef9f0cc4188bd9d4704f33df086           318.15           101.0   \n",
       "\n",
       "       Phase  N Components  Component 1   Role 1  Mole Fraction 1  \\\n",
       "13    Liquid             2  CCCCCCCCCCO  Solvent           0.9266   \n",
       "14    Liquid             2  CCCCCCCCCCO  Solvent           0.8463   \n",
       "15    Liquid             2  CCCCCCCCCCO  Solvent           0.7936   \n",
       "16    Liquid             2  CCCCCCCCCCO  Solvent           0.7253   \n",
       "17    Liquid             2  CCCCCCCCCCO  Solvent           0.6550   \n",
       "...      ...           ...          ...      ...              ...   \n",
       "9053  Liquid             2    Nc1ccccc1  Solvent           0.7542   \n",
       "9054  Liquid             2    Nc1ccccc1  Solvent           0.8062   \n",
       "9055  Liquid             2    Nc1ccccc1  Solvent           0.8544   \n",
       "9056  Liquid             2    Nc1ccccc1  Solvent           0.9012   \n",
       "9057  Liquid             2    Nc1ccccc1  Solvent           0.9536   \n",
       "\n",
       "     Exact Amount 1  Component 2  ... Exact Amount 2  Component 3  Role 3  \\\n",
       "13             None  Cc1ccccc1Cl  ...            NaN          NaN     NaN   \n",
       "14             None  Cc1ccccc1Cl  ...            NaN          NaN     NaN   \n",
       "15             None  Cc1ccccc1Cl  ...            NaN          NaN     NaN   \n",
       "16             None  Cc1ccccc1Cl  ...            NaN          NaN     NaN   \n",
       "17             None  Cc1ccccc1Cl  ...            NaN          NaN     NaN   \n",
       "...             ...          ...  ...            ...          ...     ...   \n",
       "9053           None    CC(C)(C)O  ...            NaN          NaN     NaN   \n",
       "9054           None    CC(C)(C)O  ...            NaN          NaN     NaN   \n",
       "9055           None    CC(C)(C)O  ...            NaN          NaN     NaN   \n",
       "9056           None    CC(C)(C)O  ...            NaN          NaN     NaN   \n",
       "9057           None    CC(C)(C)O  ...            NaN          NaN     NaN   \n",
       "\n",
       "     Mole Fraction 3 Exact Amount 3  Density Value (g / ml)  \\\n",
       "13               NaN            NaN                 0.83840   \n",
       "14               NaN            NaN                 0.85215   \n",
       "15               NaN            NaN                 0.86161   \n",
       "16               NaN            NaN                 0.87440   \n",
       "17               NaN            NaN                 0.88832   \n",
       "...              ...            ...                     ...   \n",
       "9053             NaN            NaN                 0.94228   \n",
       "9054             NaN            NaN                 0.95457   \n",
       "9055             NaN            NaN                 0.96593   \n",
       "9056             NaN            NaN                 0.97697   \n",
       "9057             NaN            NaN                 0.98936   \n",
       "\n",
       "      Density Uncertainty (g / ml)  ExcessMolarVolume Value (cm ** 3 / mol)  \\\n",
       "13                        0.000205                                      NaN   \n",
       "14                        0.000195                                      NaN   \n",
       "15                        0.000190                                      NaN   \n",
       "16                        0.000180                                      NaN   \n",
       "17                        0.000170                                      NaN   \n",
       "...                            ...                                      ...   \n",
       "9053                      0.000160                                      NaN   \n",
       "9054                      0.000160                                      NaN   \n",
       "9055                      0.000160                                      NaN   \n",
       "9056                      0.000160                                      NaN   \n",
       "9057                      0.000160                                      NaN   \n",
       "\n",
       "      ExcessMolarVolume Uncertainty (cm ** 3 / mol)                     Source  \n",
       "13                                              NaN  10.1007/s10765-011-0995-x  \n",
       "14                                              NaN  10.1007/s10765-011-0995-x  \n",
       "15                                              NaN  10.1007/s10765-011-0995-x  \n",
       "16                                              NaN  10.1007/s10765-011-0995-x  \n",
       "17                                              NaN  10.1007/s10765-011-0995-x  \n",
       "...                                             ...                        ...  \n",
       "9053                                            NaN  10.1007/s10765-007-0204-0  \n",
       "9054                                            NaN  10.1007/s10765-007-0204-0  \n",
       "9055                                            NaN  10.1007/s10765-007-0204-0  \n",
       "9056                                            NaN  10.1007/s10765-007-0204-0  \n",
       "9057                                            NaN  10.1007/s10765-007-0204-0  \n",
       "\n",
       "[3348 rows x 22 columns]"
      ]
     },
     "execution_count": 63,
     "metadata": {},
     "output_type": "execute_result"
    }
   ],
   "source": [
    "filtered_df_final"
   ]
  },
  {
   "cell_type": "code",
   "execution_count": 64,
   "metadata": {},
   "outputs": [],
   "source": [
    "filtered_df_final.to_csv(f'filtered_{database_directory}.csv')"
   ]
  },
  {
   "cell_type": "code",
   "execution_count": 65,
   "metadata": {},
   "outputs": [],
   "source": [
    "filtered_dataset=ThermoMLDataSet.from_pandas(filtered_df_final)"
   ]
  },
  {
   "cell_type": "markdown",
   "metadata": {},
   "source": [
    "# Counting from database dataframe"
   ]
  },
  {
   "cell_type": "code",
   "execution_count": 66,
   "metadata": {},
   "outputs": [
    {
     "ename": "KeyError",
     "evalue": "['EnthalpyOfMixing Value (kJ / mol)']",
     "output_type": "error",
     "traceback": [
      "\u001b[0;31m---------------------------------------------------------------------------\u001b[0m",
      "\u001b[0;31mKeyError\u001b[0m                                  Traceback (most recent call last)",
      "\u001b[0;32m/tmp/ipykernel_205645/2664323705.py\u001b[0m in \u001b[0;36m?\u001b[0;34m()\u001b[0m\n\u001b[0;32m----> 1\u001b[0;31m \u001b[0mcount_hmix\u001b[0m \u001b[0;34m=\u001b[0m \u001b[0mfiltered_df_final\u001b[0m\u001b[0;34m.\u001b[0m\u001b[0mdropna\u001b[0m\u001b[0;34m(\u001b[0m\u001b[0msubset\u001b[0m\u001b[0;34m=\u001b[0m\u001b[0;34m[\u001b[0m\u001b[0;34m'EnthalpyOfMixing Value (kJ / mol)'\u001b[0m\u001b[0;34m]\u001b[0m\u001b[0;34m)\u001b[0m\u001b[0;34m.\u001b[0m\u001b[0mshape\u001b[0m\u001b[0;34m[\u001b[0m\u001b[0;36m0\u001b[0m\u001b[0;34m]\u001b[0m\u001b[0;34m\u001b[0m\u001b[0;34m\u001b[0m\u001b[0m\n\u001b[0m\u001b[1;32m      2\u001b[0m \u001b[0mcount_dens\u001b[0m \u001b[0;34m=\u001b[0m \u001b[0mfiltered_df_final\u001b[0m\u001b[0;34m.\u001b[0m\u001b[0mdropna\u001b[0m\u001b[0;34m(\u001b[0m\u001b[0msubset\u001b[0m\u001b[0;34m=\u001b[0m\u001b[0;34m[\u001b[0m\u001b[0;34m'Density Value (g / ml)'\u001b[0m\u001b[0;34m]\u001b[0m\u001b[0;34m)\u001b[0m\u001b[0;34m.\u001b[0m\u001b[0mshape\u001b[0m\u001b[0;34m[\u001b[0m\u001b[0;36m0\u001b[0m\u001b[0;34m]\u001b[0m\u001b[0;34m\u001b[0m\u001b[0;34m\u001b[0m\u001b[0m\n\u001b[1;32m      3\u001b[0m \u001b[0mcount_hd\u001b[0m \u001b[0;34m=\u001b[0m \u001b[0mfiltered_df_final\u001b[0m\u001b[0;34m.\u001b[0m\u001b[0mdropna\u001b[0m\u001b[0;34m(\u001b[0m\u001b[0msubset\u001b[0m\u001b[0;34m=\u001b[0m\u001b[0;34m[\u001b[0m\u001b[0;34m'EnthalpyOfMixing Value (kJ / mol)'\u001b[0m\u001b[0;34m,\u001b[0m \u001b[0;34m'Density Value (g / ml)'\u001b[0m\u001b[0;34m]\u001b[0m\u001b[0;34m)\u001b[0m\u001b[0;34m.\u001b[0m\u001b[0mshape\u001b[0m\u001b[0;34m[\u001b[0m\u001b[0;36m0\u001b[0m\u001b[0;34m]\u001b[0m\u001b[0;34m\u001b[0m\u001b[0;34m\u001b[0m\u001b[0m\n\u001b[1;32m      4\u001b[0m \u001b[0mprint\u001b[0m\u001b[0;34m(\u001b[0m\u001b[0;34mf\"Number of data points with Hmix: {count_hmix}\"\u001b[0m\u001b[0;34m)\u001b[0m\u001b[0;34m\u001b[0m\u001b[0;34m\u001b[0m\u001b[0m\n",
      "\u001b[0;32m~/miniconda3/envs/evaluator-openff/lib/python3.10/site-packages/pandas/util/_decorators.py\u001b[0m in \u001b[0;36m?\u001b[0;34m(*args, **kwargs)\u001b[0m\n\u001b[1;32m    327\u001b[0m                     \u001b[0mmsg\u001b[0m\u001b[0;34m.\u001b[0m\u001b[0mformat\u001b[0m\u001b[0;34m(\u001b[0m\u001b[0marguments\u001b[0m\u001b[0;34m=\u001b[0m\u001b[0m_format_argument_list\u001b[0m\u001b[0;34m(\u001b[0m\u001b[0mallow_args\u001b[0m\u001b[0;34m)\u001b[0m\u001b[0;34m)\u001b[0m\u001b[0;34m,\u001b[0m\u001b[0;34m\u001b[0m\u001b[0;34m\u001b[0m\u001b[0m\n\u001b[1;32m    328\u001b[0m                     \u001b[0mFutureWarning\u001b[0m\u001b[0;34m,\u001b[0m\u001b[0;34m\u001b[0m\u001b[0;34m\u001b[0m\u001b[0m\n\u001b[1;32m    329\u001b[0m                     \u001b[0mstacklevel\u001b[0m\u001b[0;34m=\u001b[0m\u001b[0mfind_stack_level\u001b[0m\u001b[0;34m(\u001b[0m\u001b[0;34m)\u001b[0m\u001b[0;34m,\u001b[0m\u001b[0;34m\u001b[0m\u001b[0;34m\u001b[0m\u001b[0m\n\u001b[1;32m    330\u001b[0m                 )\n\u001b[0;32m--> 331\u001b[0;31m             \u001b[0;32mreturn\u001b[0m \u001b[0mfunc\u001b[0m\u001b[0;34m(\u001b[0m\u001b[0;34m*\u001b[0m\u001b[0margs\u001b[0m\u001b[0;34m,\u001b[0m \u001b[0;34m**\u001b[0m\u001b[0mkwargs\u001b[0m\u001b[0;34m)\u001b[0m\u001b[0;34m\u001b[0m\u001b[0;34m\u001b[0m\u001b[0m\n\u001b[0m",
      "\u001b[0;32m~/miniconda3/envs/evaluator-openff/lib/python3.10/site-packages/pandas/core/frame.py\u001b[0m in \u001b[0;36m?\u001b[0;34m(self, axis, how, thresh, subset, inplace)\u001b[0m\n\u001b[1;32m   6557\u001b[0m             \u001b[0max\u001b[0m \u001b[0;34m=\u001b[0m \u001b[0mself\u001b[0m\u001b[0;34m.\u001b[0m\u001b[0m_get_axis\u001b[0m\u001b[0;34m(\u001b[0m\u001b[0magg_axis\u001b[0m\u001b[0;34m)\u001b[0m\u001b[0;34m\u001b[0m\u001b[0;34m\u001b[0m\u001b[0m\n\u001b[1;32m   6558\u001b[0m             \u001b[0mindices\u001b[0m \u001b[0;34m=\u001b[0m \u001b[0max\u001b[0m\u001b[0;34m.\u001b[0m\u001b[0mget_indexer_for\u001b[0m\u001b[0;34m(\u001b[0m\u001b[0msubset\u001b[0m\u001b[0;34m)\u001b[0m\u001b[0;34m\u001b[0m\u001b[0;34m\u001b[0m\u001b[0m\n\u001b[1;32m   6559\u001b[0m             \u001b[0mcheck\u001b[0m \u001b[0;34m=\u001b[0m \u001b[0mindices\u001b[0m \u001b[0;34m==\u001b[0m \u001b[0;34m-\u001b[0m\u001b[0;36m1\u001b[0m\u001b[0;34m\u001b[0m\u001b[0;34m\u001b[0m\u001b[0m\n\u001b[1;32m   6560\u001b[0m             \u001b[0;32mif\u001b[0m \u001b[0mcheck\u001b[0m\u001b[0;34m.\u001b[0m\u001b[0many\u001b[0m\u001b[0;34m(\u001b[0m\u001b[0;34m)\u001b[0m\u001b[0;34m:\u001b[0m\u001b[0;34m\u001b[0m\u001b[0;34m\u001b[0m\u001b[0m\n\u001b[0;32m-> 6561\u001b[0;31m                 \u001b[0;32mraise\u001b[0m \u001b[0mKeyError\u001b[0m\u001b[0;34m(\u001b[0m\u001b[0mnp\u001b[0m\u001b[0;34m.\u001b[0m\u001b[0marray\u001b[0m\u001b[0;34m(\u001b[0m\u001b[0msubset\u001b[0m\u001b[0;34m)\u001b[0m\u001b[0;34m[\u001b[0m\u001b[0mcheck\u001b[0m\u001b[0;34m]\u001b[0m\u001b[0;34m.\u001b[0m\u001b[0mtolist\u001b[0m\u001b[0;34m(\u001b[0m\u001b[0;34m)\u001b[0m\u001b[0;34m)\u001b[0m\u001b[0;34m\u001b[0m\u001b[0;34m\u001b[0m\u001b[0m\n\u001b[0m\u001b[1;32m   6562\u001b[0m             \u001b[0magg_obj\u001b[0m \u001b[0;34m=\u001b[0m \u001b[0mself\u001b[0m\u001b[0;34m.\u001b[0m\u001b[0mtake\u001b[0m\u001b[0;34m(\u001b[0m\u001b[0mindices\u001b[0m\u001b[0;34m,\u001b[0m \u001b[0maxis\u001b[0m\u001b[0;34m=\u001b[0m\u001b[0magg_axis\u001b[0m\u001b[0;34m)\u001b[0m\u001b[0;34m\u001b[0m\u001b[0;34m\u001b[0m\u001b[0m\n\u001b[1;32m   6563\u001b[0m \u001b[0;34m\u001b[0m\u001b[0m\n\u001b[1;32m   6564\u001b[0m         \u001b[0;32mif\u001b[0m \u001b[0mthresh\u001b[0m \u001b[0;32mis\u001b[0m \u001b[0;32mnot\u001b[0m \u001b[0mno_default\u001b[0m\u001b[0;34m:\u001b[0m\u001b[0;34m\u001b[0m\u001b[0;34m\u001b[0m\u001b[0m\n",
      "\u001b[0;31mKeyError\u001b[0m: ['EnthalpyOfMixing Value (kJ / mol)']"
     ]
    }
   ],
   "source": [
    "count_hmix = filtered_df_final.dropna(subset=['EnthalpyOfMixing Value (kJ / mol)']).shape[0]\n",
    "count_dens = filtered_df_final.dropna(subset=['Density Value (g / ml)']).shape[0]\n",
    "count_hd = filtered_df_final.dropna(subset=['EnthalpyOfMixing Value (kJ / mol)', 'Density Value (g / ml)']).shape[0]\n",
    "print(f\"Number of data points with Hmix: {count_hmix}\")\n",
    "print(f\"Number of data points with Density: {count_dens}\")\n",
    "print(f\"Number of data points with Hmix and Density: {count_hd}\")\n",
    "\n",
    "# Assuming filtered_df_final is your DataFrame\n",
    "# Filter rows where both required columns have values\n",
    "filtered_hmix_dens = filtered_df_final.dropna(subset=['EnthalpyOfMixing Value (kJ / mol)', 'Density Value (g / ml)'])\n",
    "\n",
    "# Extract unique strings from the specified columns\n",
    "unique_strings = pd.unique(filtered_hmix_dens[['Component 1', 'Component 2']].values.ravel())\n",
    "\n",
    "print(\"Unique strings found in 'Component 1' and 'Component 2' with values for Hmix and Density:\")\n",
    "print(unique_strings)\n",
    "# unique_strings.to_csv(f'indiv_comps_hd_{database_directory}.csv')\n",
    "\n",
    "# Create a DataFrame with unique combinations\n",
    "unique_combinations = filtered_hmix_dens[['Component 1', 'Component 2']].drop_duplicates()\n",
    "\n",
    "# Convert each combination into a sorted tuple for uniqueness irrespective of order\n",
    "unique_combinations_set = unique_combinations.apply(lambda row: tuple(sorted(row)), axis=1).drop_duplicates()\n",
    "\n",
    "print(\"Unique combinations of strings from 'Component 1' and 'Component 2' with values for Hmix and Density:\")\n",
    "unique_mixtures=unique_combinations_set.tolist()\n",
    "print(unique_mixtures)\n",
    "# unique_mixtures.to_csv(f'indiv_mixs_hd_{database_directory}.csv')"
   ]
  },
  {
   "cell_type": "code",
   "execution_count": null,
   "metadata": {},
   "outputs": [
    {
     "name": "stdout",
     "output_type": "stream",
     "text": [
      "Number of data points with OC: 76\n",
      "Number of data points with AC: 194\n",
      "Number of data points with OC and AC: 0\n",
      "Unique strings found in 'Component 1' and 'Component 2' with values for OC and AC:\n",
      "[]\n",
      "Unique combinations of strings from 'Component 1' and 'Component 2' with values for OC and AC:\n",
      "[]\n"
     ]
    }
   ],
   "source": [
    "count_oc = filtered_df_final.dropna(subset=['OsmoticCoefficient Value ()']).shape[0]\n",
    "count_ac = filtered_df_final.dropna(subset=['ActivityCoefficient Value ()']).shape[0]\n",
    "count_oa = filtered_df_final.dropna(subset=['OsmoticCoefficient Value ()', 'ActivityCoefficient Value ()']).shape[0]\n",
    "print(f\"Number of data points with OC: {count_oc}\")\n",
    "print(f\"Number of data points with AC: {count_ac}\")\n",
    "print(f\"Number of data points with OC and AC: {count_oa}\")\n",
    "\n",
    "# Assuming filtered_df_final is your DataFrame\n",
    "# Filter rows where both required columns have values\n",
    "filtered_oc_ac = filtered_df_final.dropna(subset=['OsmoticCoefficient Value ()', 'ActivityCoefficient Value ()'])\n",
    "\n",
    "# Extract unique strings from the specified columns\n",
    "unique_strings = pd.unique(filtered_oc_ac[['Component 1', 'Component 2']].values.ravel())\n",
    "\n",
    "print(\"Unique strings found in 'Component 1' and 'Component 2' with values for OC and AC:\")\n",
    "print(unique_strings)\n",
    "# unique_strings.to_csv(f'indiv_comps_oa_{database_directory}.csv')\n",
    "\n",
    "# Create a DataFrame with unique combinations\n",
    "unique_combinations = filtered_oc_ac[['Component 1', 'Component 2']].drop_duplicates()\n",
    "\n",
    "# Convert each combination into a sorted tuple for uniqueness irrespective of order\n",
    "unique_combinations_set = unique_combinations.apply(lambda row: tuple(sorted(row)), axis=1).drop_duplicates()\n",
    "\n",
    "print(\"Unique combinations of strings from 'Component 1' and 'Component 2' with values for OC and AC:\")\n",
    "unique_mixtures=unique_combinations_set.tolist()\n",
    "print(unique_mixtures)\n",
    "# unique_mixtures.to_csv(f'indiv_mixs_oa_{database_directory}.csv')"
   ]
  },
  {
   "cell_type": "markdown",
   "metadata": {},
   "source": [
    "# Counting with Evaluator"
   ]
  },
  {
   "cell_type": "markdown",
   "metadata": {},
   "source": [
    "## Filtering properties schemas"
   ]
  },
  {
   "cell_type": "code",
   "execution_count": null,
   "metadata": {},
   "outputs": [],
   "source": [
    "ncomp_schema = FilterByNComponentsSchema(n_components=[2])\n",
    "pressure_schema= FilterByPressureSchema(minimum_pressure = 90.0, maximum_pressure = 110.0)\n",
    "temp_schema=FilterByTemperatureSchema(minimum_temperature = 273.15, maximum_temperature=373.0)"
   ]
  },
  {
   "cell_type": "code",
   "execution_count": null,
   "metadata": {},
   "outputs": [],
   "source": [
    "hmix_schema = FilterByPropertyTypesSchema(property_types=[\"EnthalpyOfMixing\"])\n",
    "dens_schema = FilterByPropertyTypesSchema(property_types=[\"Density\"])\n",
    "hmix_dens_schema = FilterByPropertyTypesSchema(property_types=[\"EnthalpyOfMixing\",\"Density\"])\n",
    "hmix_dens_strict_schema = FilterByPropertyTypesSchema(property_types=[\"EnthalpyOfMixing\",\"Density\"], strict=True)"
   ]
  },
  {
   "cell_type": "code",
   "execution_count": null,
   "metadata": {},
   "outputs": [],
   "source": [
    "osmotic_schema = FilterByPropertyTypesSchema(property_types=[\"OsmoticCoefficient\"], strict=False)\n",
    "activity_schema = FilterByPropertyTypesSchema(property_types=[\"ActivityCoefficient\"], strict=False)\n",
    "oc_ac_schema = FilterByPropertyTypesSchema(property_types=[\"OsmoticCoefficient\",\"ActivityCoefficient\"])\n",
    "oc_ac_strict_schema = FilterByPropertyTypesSchema(property_types=[\"OsmoticCoefficient\",\"ActivityCoefficient\"], strict=True)"
   ]
  },
  {
   "cell_type": "markdown",
   "metadata": {},
   "source": [
    "## ThermoML Hmix and Density of binary mixtures"
   ]
  },
  {
   "cell_type": "markdown",
   "metadata": {},
   "source": [
    "### Filtering"
   ]
  },
  {
   "cell_type": "code",
   "execution_count": 67,
   "metadata": {},
   "outputs": [
    {
     "name": "stdout",
     "output_type": "stream",
     "text": [
      "3348\n",
      "3348\n"
     ]
    }
   ],
   "source": [
    "# Hmix + density\n",
    "data_set_hmix_dens= FilterByPropertyTypes.apply(filtered_dataset, hmix_dens_schema)\n",
    "print(len(data_set_hmix_dens))\n",
    "\n",
    "data_set_2comps= FilterByNComponents.apply(data_set_hmix_dens, ncomp_schema)\n",
    "print(len(data_set_2comps))"
   ]
  },
  {
   "cell_type": "code",
   "execution_count": 68,
   "metadata": {},
   "outputs": [
    {
     "name": "stdout",
     "output_type": "stream",
     "text": [
      "0\n"
     ]
    }
   ],
   "source": [
    "data_set_hmix_dens_strict= FilterByPropertyTypes.apply(data_set_2comps, hmix_dens_strict_schema)\n",
    "print(len(data_set_hmix_dens_strict))"
   ]
  },
  {
   "cell_type": "code",
   "execution_count": 69,
   "metadata": {},
   "outputs": [
    {
     "ename": "KeyError",
     "evalue": "'Pressure (kPa)'",
     "output_type": "error",
     "traceback": [
      "\u001b[0;31m---------------------------------------------------------------------------\u001b[0m",
      "\u001b[0;31mKeyError\u001b[0m                                  Traceback (most recent call last)",
      "File \u001b[0;32m~/miniconda3/envs/evaluator-openff/lib/python3.10/site-packages/pandas/core/indexes/base.py:3802\u001b[0m, in \u001b[0;36mIndex.get_loc\u001b[0;34m(self, key, method, tolerance)\u001b[0m\n\u001b[1;32m   3801\u001b[0m \u001b[38;5;28;01mtry\u001b[39;00m:\n\u001b[0;32m-> 3802\u001b[0m     \u001b[38;5;28;01mreturn\u001b[39;00m \u001b[38;5;28;43mself\u001b[39;49m\u001b[38;5;241;43m.\u001b[39;49m\u001b[43m_engine\u001b[49m\u001b[38;5;241;43m.\u001b[39;49m\u001b[43mget_loc\u001b[49m\u001b[43m(\u001b[49m\u001b[43mcasted_key\u001b[49m\u001b[43m)\u001b[49m\n\u001b[1;32m   3803\u001b[0m \u001b[38;5;28;01mexcept\u001b[39;00m \u001b[38;5;167;01mKeyError\u001b[39;00m \u001b[38;5;28;01mas\u001b[39;00m err:\n",
      "File \u001b[0;32m~/miniconda3/envs/evaluator-openff/lib/python3.10/site-packages/pandas/_libs/index.pyx:138\u001b[0m, in \u001b[0;36mpandas._libs.index.IndexEngine.get_loc\u001b[0;34m()\u001b[0m\n",
      "File \u001b[0;32m~/miniconda3/envs/evaluator-openff/lib/python3.10/site-packages/pandas/_libs/index.pyx:165\u001b[0m, in \u001b[0;36mpandas._libs.index.IndexEngine.get_loc\u001b[0;34m()\u001b[0m\n",
      "File \u001b[0;32mpandas/_libs/hashtable_class_helper.pxi:5745\u001b[0m, in \u001b[0;36mpandas._libs.hashtable.PyObjectHashTable.get_item\u001b[0;34m()\u001b[0m\n",
      "File \u001b[0;32mpandas/_libs/hashtable_class_helper.pxi:5753\u001b[0m, in \u001b[0;36mpandas._libs.hashtable.PyObjectHashTable.get_item\u001b[0;34m()\u001b[0m\n",
      "\u001b[0;31mKeyError\u001b[0m: 'Pressure (kPa)'",
      "\nThe above exception was the direct cause of the following exception:\n",
      "\u001b[0;31mKeyError\u001b[0m                                  Traceback (most recent call last)",
      "Cell \u001b[0;32mIn[69], line 1\u001b[0m\n\u001b[0;32m----> 1\u001b[0m data_set_hd_strict_usable\u001b[38;5;241m=\u001b[39m \u001b[43mFilterByPressure\u001b[49m\u001b[38;5;241;43m.\u001b[39;49m\u001b[43mapply\u001b[49m\u001b[43m(\u001b[49m\u001b[43mdata_set_hmix_dens_strict\u001b[49m\u001b[43m,\u001b[49m\u001b[43m \u001b[49m\u001b[43mpressure_schema\u001b[49m\u001b[43m)\u001b[49m\n\u001b[1;32m      2\u001b[0m tml_hd_usable\u001b[38;5;241m=\u001b[39m FilterByTemperature\u001b[38;5;241m.\u001b[39mapply(data_set_hd_strict_usable, temp_schema)\n\u001b[1;32m      3\u001b[0m \u001b[38;5;28mprint\u001b[39m(\u001b[38;5;28mlen\u001b[39m(tml_hd_usable))\n",
      "File \u001b[0;32m~/miniconda3/envs/evaluator-openff/lib/python3.10/site-packages/openff/evaluator/datasets/curation/components/components.py:85\u001b[0m, in \u001b[0;36mCurationComponent.apply\u001b[0;34m(cls, data_set, schema, n_processes)\u001b[0m\n\u001b[1;32m     82\u001b[0m \u001b[38;5;28;01mif\u001b[39;00m \u001b[38;5;28misinstance\u001b[39m(data_frame, PhysicalPropertyDataSet):\n\u001b[1;32m     83\u001b[0m     data_frame \u001b[38;5;241m=\u001b[39m data_frame\u001b[38;5;241m.\u001b[39mto_pandas()\n\u001b[0;32m---> 85\u001b[0m modified_data_frame \u001b[38;5;241m=\u001b[39m \u001b[38;5;28;43mcls\u001b[39;49m\u001b[38;5;241;43m.\u001b[39;49m\u001b[43m_apply\u001b[49m\u001b[43m(\u001b[49m\u001b[43mdata_frame\u001b[49m\u001b[43m,\u001b[49m\u001b[43m \u001b[49m\u001b[43mschema\u001b[49m\u001b[43m,\u001b[49m\u001b[43m \u001b[49m\u001b[43mn_processes\u001b[49m\u001b[43m)\u001b[49m\n\u001b[1;32m     87\u001b[0m n_data_points \u001b[38;5;241m=\u001b[39m \u001b[38;5;28mlen\u001b[39m(data_frame)\n\u001b[1;32m     88\u001b[0m n_filtered \u001b[38;5;241m=\u001b[39m \u001b[38;5;28mlen\u001b[39m(modified_data_frame)\n",
      "File \u001b[0;32m~/miniconda3/envs/evaluator-openff/lib/python3.10/site-packages/openff/evaluator/datasets/curation/components/filtering.py:232\u001b[0m, in \u001b[0;36mFilterByPressure._apply\u001b[0;34m(cls, data_frame, schema, n_processes)\u001b[0m\n\u001b[1;32m    228\u001b[0m filtered_frame \u001b[38;5;241m=\u001b[39m data_frame\n\u001b[1;32m    230\u001b[0m \u001b[38;5;28;01mif\u001b[39;00m schema\u001b[38;5;241m.\u001b[39mminimum_pressure \u001b[38;5;129;01mis\u001b[39;00m \u001b[38;5;129;01mnot\u001b[39;00m \u001b[38;5;28;01mNone\u001b[39;00m:\n\u001b[1;32m    231\u001b[0m     filtered_frame \u001b[38;5;241m=\u001b[39m filtered_frame[\n\u001b[0;32m--> 232\u001b[0m         schema\u001b[38;5;241m.\u001b[39mminimum_pressure \u001b[38;5;241m<\u001b[39m \u001b[43mfiltered_frame\u001b[49m\u001b[43m[\u001b[49m\u001b[38;5;124;43m\"\u001b[39;49m\u001b[38;5;124;43mPressure (kPa)\u001b[39;49m\u001b[38;5;124;43m\"\u001b[39;49m\u001b[43m]\u001b[49m\n\u001b[1;32m    233\u001b[0m     ]\n\u001b[1;32m    235\u001b[0m \u001b[38;5;28;01mif\u001b[39;00m schema\u001b[38;5;241m.\u001b[39mmaximum_pressure \u001b[38;5;129;01mis\u001b[39;00m \u001b[38;5;129;01mnot\u001b[39;00m \u001b[38;5;28;01mNone\u001b[39;00m:\n\u001b[1;32m    236\u001b[0m     filtered_frame \u001b[38;5;241m=\u001b[39m filtered_frame[\n\u001b[1;32m    237\u001b[0m         filtered_frame[\u001b[38;5;124m\"\u001b[39m\u001b[38;5;124mPressure (kPa)\u001b[39m\u001b[38;5;124m\"\u001b[39m] \u001b[38;5;241m<\u001b[39m schema\u001b[38;5;241m.\u001b[39mmaximum_pressure\n\u001b[1;32m    238\u001b[0m     ]\n",
      "File \u001b[0;32m~/miniconda3/envs/evaluator-openff/lib/python3.10/site-packages/pandas/core/frame.py:3807\u001b[0m, in \u001b[0;36mDataFrame.__getitem__\u001b[0;34m(self, key)\u001b[0m\n\u001b[1;32m   3805\u001b[0m \u001b[38;5;28;01mif\u001b[39;00m \u001b[38;5;28mself\u001b[39m\u001b[38;5;241m.\u001b[39mcolumns\u001b[38;5;241m.\u001b[39mnlevels \u001b[38;5;241m>\u001b[39m \u001b[38;5;241m1\u001b[39m:\n\u001b[1;32m   3806\u001b[0m     \u001b[38;5;28;01mreturn\u001b[39;00m \u001b[38;5;28mself\u001b[39m\u001b[38;5;241m.\u001b[39m_getitem_multilevel(key)\n\u001b[0;32m-> 3807\u001b[0m indexer \u001b[38;5;241m=\u001b[39m \u001b[38;5;28;43mself\u001b[39;49m\u001b[38;5;241;43m.\u001b[39;49m\u001b[43mcolumns\u001b[49m\u001b[38;5;241;43m.\u001b[39;49m\u001b[43mget_loc\u001b[49m\u001b[43m(\u001b[49m\u001b[43mkey\u001b[49m\u001b[43m)\u001b[49m\n\u001b[1;32m   3808\u001b[0m \u001b[38;5;28;01mif\u001b[39;00m is_integer(indexer):\n\u001b[1;32m   3809\u001b[0m     indexer \u001b[38;5;241m=\u001b[39m [indexer]\n",
      "File \u001b[0;32m~/miniconda3/envs/evaluator-openff/lib/python3.10/site-packages/pandas/core/indexes/base.py:3804\u001b[0m, in \u001b[0;36mIndex.get_loc\u001b[0;34m(self, key, method, tolerance)\u001b[0m\n\u001b[1;32m   3802\u001b[0m     \u001b[38;5;28;01mreturn\u001b[39;00m \u001b[38;5;28mself\u001b[39m\u001b[38;5;241m.\u001b[39m_engine\u001b[38;5;241m.\u001b[39mget_loc(casted_key)\n\u001b[1;32m   3803\u001b[0m \u001b[38;5;28;01mexcept\u001b[39;00m \u001b[38;5;167;01mKeyError\u001b[39;00m \u001b[38;5;28;01mas\u001b[39;00m err:\n\u001b[0;32m-> 3804\u001b[0m     \u001b[38;5;28;01mraise\u001b[39;00m \u001b[38;5;167;01mKeyError\u001b[39;00m(key) \u001b[38;5;28;01mfrom\u001b[39;00m \u001b[38;5;21;01merr\u001b[39;00m\n\u001b[1;32m   3805\u001b[0m \u001b[38;5;28;01mexcept\u001b[39;00m \u001b[38;5;167;01mTypeError\u001b[39;00m:\n\u001b[1;32m   3806\u001b[0m     \u001b[38;5;66;03m# If we have a listlike key, _check_indexing_error will raise\u001b[39;00m\n\u001b[1;32m   3807\u001b[0m     \u001b[38;5;66;03m#  InvalidIndexError. Otherwise we fall through and re-raise\u001b[39;00m\n\u001b[1;32m   3808\u001b[0m     \u001b[38;5;66;03m#  the TypeError.\u001b[39;00m\n\u001b[1;32m   3809\u001b[0m     \u001b[38;5;28mself\u001b[39m\u001b[38;5;241m.\u001b[39m_check_indexing_error(key)\n",
      "\u001b[0;31mKeyError\u001b[0m: 'Pressure (kPa)'"
     ]
    }
   ],
   "source": [
    "data_set_hd_strict_usable= FilterByPressure.apply(data_set_hmix_dens_strict, pressure_schema)\n",
    "tml_hd_usable= FilterByTemperature.apply(data_set_hd_strict_usable, temp_schema)\n",
    "print(len(tml_hd_usable))"
   ]
  },
  {
   "cell_type": "code",
   "execution_count": null,
   "metadata": {},
   "outputs": [],
   "source": [
    "# save for future use\n",
    "tml_hmix_dens_path = Path(f'filtered_{database_directory}/tml_filtered_hd_usable.json')\n",
    "tml_hd_usable.json(tml_hmix_dens_path, format=True)\n",
    "\n",
    "df_hmix_dens=tml_hd_usable.to_pandas()\n",
    "df_hmix_dens.to_csv(f'filtered_{database_directory}/tml_hd_usable_database.csv',index=False)"
   ]
  },
  {
   "cell_type": "code",
   "execution_count": 70,
   "metadata": {},
   "outputs": [
    {
     "ename": "KeyError",
     "evalue": "'Pressure (kPa)'",
     "output_type": "error",
     "traceback": [
      "\u001b[0;31m---------------------------------------------------------------------------\u001b[0m",
      "\u001b[0;31mKeyError\u001b[0m                                  Traceback (most recent call last)",
      "File \u001b[0;32m~/miniconda3/envs/evaluator-openff/lib/python3.10/site-packages/pandas/core/indexes/base.py:3802\u001b[0m, in \u001b[0;36mIndex.get_loc\u001b[0;34m(self, key, method, tolerance)\u001b[0m\n\u001b[1;32m   3801\u001b[0m \u001b[38;5;28;01mtry\u001b[39;00m:\n\u001b[0;32m-> 3802\u001b[0m     \u001b[38;5;28;01mreturn\u001b[39;00m \u001b[38;5;28;43mself\u001b[39;49m\u001b[38;5;241;43m.\u001b[39;49m\u001b[43m_engine\u001b[49m\u001b[38;5;241;43m.\u001b[39;49m\u001b[43mget_loc\u001b[49m\u001b[43m(\u001b[49m\u001b[43mcasted_key\u001b[49m\u001b[43m)\u001b[49m\n\u001b[1;32m   3803\u001b[0m \u001b[38;5;28;01mexcept\u001b[39;00m \u001b[38;5;167;01mKeyError\u001b[39;00m \u001b[38;5;28;01mas\u001b[39;00m err:\n",
      "File \u001b[0;32m~/miniconda3/envs/evaluator-openff/lib/python3.10/site-packages/pandas/_libs/index.pyx:138\u001b[0m, in \u001b[0;36mpandas._libs.index.IndexEngine.get_loc\u001b[0;34m()\u001b[0m\n",
      "File \u001b[0;32m~/miniconda3/envs/evaluator-openff/lib/python3.10/site-packages/pandas/_libs/index.pyx:165\u001b[0m, in \u001b[0;36mpandas._libs.index.IndexEngine.get_loc\u001b[0;34m()\u001b[0m\n",
      "File \u001b[0;32mpandas/_libs/hashtable_class_helper.pxi:5745\u001b[0m, in \u001b[0;36mpandas._libs.hashtable.PyObjectHashTable.get_item\u001b[0;34m()\u001b[0m\n",
      "File \u001b[0;32mpandas/_libs/hashtable_class_helper.pxi:5753\u001b[0m, in \u001b[0;36mpandas._libs.hashtable.PyObjectHashTable.get_item\u001b[0;34m()\u001b[0m\n",
      "\u001b[0;31mKeyError\u001b[0m: 'Pressure (kPa)'",
      "\nThe above exception was the direct cause of the following exception:\n",
      "\u001b[0;31mKeyError\u001b[0m                                  Traceback (most recent call last)",
      "Cell \u001b[0;32mIn[70], line 3\u001b[0m\n\u001b[1;32m      1\u001b[0m \u001b[38;5;66;03m# Hmix only\u001b[39;00m\n\u001b[1;32m      2\u001b[0m data_set_hmix \u001b[38;5;241m=\u001b[39m FilterByPropertyTypes\u001b[38;5;241m.\u001b[39mapply(filtered_dataset, hmix_schema)\n\u001b[0;32m----> 3\u001b[0m data_set_hmix_usable\u001b[38;5;241m=\u001b[39m \u001b[43mFilterByPressure\u001b[49m\u001b[38;5;241;43m.\u001b[39;49m\u001b[43mapply\u001b[49m\u001b[43m(\u001b[49m\u001b[43mdata_set_hmix\u001b[49m\u001b[43m,\u001b[49m\u001b[43m \u001b[49m\u001b[43mpressure_schema\u001b[49m\u001b[43m)\u001b[49m\n\u001b[1;32m      4\u001b[0m tml_hmix_usable\u001b[38;5;241m=\u001b[39m FilterByTemperature\u001b[38;5;241m.\u001b[39mapply(data_set_hmix_usable, temp_schema)\n\u001b[1;32m      5\u001b[0m \u001b[38;5;28mprint\u001b[39m(\u001b[38;5;28mlen\u001b[39m(tml_hmix_usable))\n",
      "File \u001b[0;32m~/miniconda3/envs/evaluator-openff/lib/python3.10/site-packages/openff/evaluator/datasets/curation/components/components.py:85\u001b[0m, in \u001b[0;36mCurationComponent.apply\u001b[0;34m(cls, data_set, schema, n_processes)\u001b[0m\n\u001b[1;32m     82\u001b[0m \u001b[38;5;28;01mif\u001b[39;00m \u001b[38;5;28misinstance\u001b[39m(data_frame, PhysicalPropertyDataSet):\n\u001b[1;32m     83\u001b[0m     data_frame \u001b[38;5;241m=\u001b[39m data_frame\u001b[38;5;241m.\u001b[39mto_pandas()\n\u001b[0;32m---> 85\u001b[0m modified_data_frame \u001b[38;5;241m=\u001b[39m \u001b[38;5;28;43mcls\u001b[39;49m\u001b[38;5;241;43m.\u001b[39;49m\u001b[43m_apply\u001b[49m\u001b[43m(\u001b[49m\u001b[43mdata_frame\u001b[49m\u001b[43m,\u001b[49m\u001b[43m \u001b[49m\u001b[43mschema\u001b[49m\u001b[43m,\u001b[49m\u001b[43m \u001b[49m\u001b[43mn_processes\u001b[49m\u001b[43m)\u001b[49m\n\u001b[1;32m     87\u001b[0m n_data_points \u001b[38;5;241m=\u001b[39m \u001b[38;5;28mlen\u001b[39m(data_frame)\n\u001b[1;32m     88\u001b[0m n_filtered \u001b[38;5;241m=\u001b[39m \u001b[38;5;28mlen\u001b[39m(modified_data_frame)\n",
      "File \u001b[0;32m~/miniconda3/envs/evaluator-openff/lib/python3.10/site-packages/openff/evaluator/datasets/curation/components/filtering.py:232\u001b[0m, in \u001b[0;36mFilterByPressure._apply\u001b[0;34m(cls, data_frame, schema, n_processes)\u001b[0m\n\u001b[1;32m    228\u001b[0m filtered_frame \u001b[38;5;241m=\u001b[39m data_frame\n\u001b[1;32m    230\u001b[0m \u001b[38;5;28;01mif\u001b[39;00m schema\u001b[38;5;241m.\u001b[39mminimum_pressure \u001b[38;5;129;01mis\u001b[39;00m \u001b[38;5;129;01mnot\u001b[39;00m \u001b[38;5;28;01mNone\u001b[39;00m:\n\u001b[1;32m    231\u001b[0m     filtered_frame \u001b[38;5;241m=\u001b[39m filtered_frame[\n\u001b[0;32m--> 232\u001b[0m         schema\u001b[38;5;241m.\u001b[39mminimum_pressure \u001b[38;5;241m<\u001b[39m \u001b[43mfiltered_frame\u001b[49m\u001b[43m[\u001b[49m\u001b[38;5;124;43m\"\u001b[39;49m\u001b[38;5;124;43mPressure (kPa)\u001b[39;49m\u001b[38;5;124;43m\"\u001b[39;49m\u001b[43m]\u001b[49m\n\u001b[1;32m    233\u001b[0m     ]\n\u001b[1;32m    235\u001b[0m \u001b[38;5;28;01mif\u001b[39;00m schema\u001b[38;5;241m.\u001b[39mmaximum_pressure \u001b[38;5;129;01mis\u001b[39;00m \u001b[38;5;129;01mnot\u001b[39;00m \u001b[38;5;28;01mNone\u001b[39;00m:\n\u001b[1;32m    236\u001b[0m     filtered_frame \u001b[38;5;241m=\u001b[39m filtered_frame[\n\u001b[1;32m    237\u001b[0m         filtered_frame[\u001b[38;5;124m\"\u001b[39m\u001b[38;5;124mPressure (kPa)\u001b[39m\u001b[38;5;124m\"\u001b[39m] \u001b[38;5;241m<\u001b[39m schema\u001b[38;5;241m.\u001b[39mmaximum_pressure\n\u001b[1;32m    238\u001b[0m     ]\n",
      "File \u001b[0;32m~/miniconda3/envs/evaluator-openff/lib/python3.10/site-packages/pandas/core/frame.py:3807\u001b[0m, in \u001b[0;36mDataFrame.__getitem__\u001b[0;34m(self, key)\u001b[0m\n\u001b[1;32m   3805\u001b[0m \u001b[38;5;28;01mif\u001b[39;00m \u001b[38;5;28mself\u001b[39m\u001b[38;5;241m.\u001b[39mcolumns\u001b[38;5;241m.\u001b[39mnlevels \u001b[38;5;241m>\u001b[39m \u001b[38;5;241m1\u001b[39m:\n\u001b[1;32m   3806\u001b[0m     \u001b[38;5;28;01mreturn\u001b[39;00m \u001b[38;5;28mself\u001b[39m\u001b[38;5;241m.\u001b[39m_getitem_multilevel(key)\n\u001b[0;32m-> 3807\u001b[0m indexer \u001b[38;5;241m=\u001b[39m \u001b[38;5;28;43mself\u001b[39;49m\u001b[38;5;241;43m.\u001b[39;49m\u001b[43mcolumns\u001b[49m\u001b[38;5;241;43m.\u001b[39;49m\u001b[43mget_loc\u001b[49m\u001b[43m(\u001b[49m\u001b[43mkey\u001b[49m\u001b[43m)\u001b[49m\n\u001b[1;32m   3808\u001b[0m \u001b[38;5;28;01mif\u001b[39;00m is_integer(indexer):\n\u001b[1;32m   3809\u001b[0m     indexer \u001b[38;5;241m=\u001b[39m [indexer]\n",
      "File \u001b[0;32m~/miniconda3/envs/evaluator-openff/lib/python3.10/site-packages/pandas/core/indexes/base.py:3804\u001b[0m, in \u001b[0;36mIndex.get_loc\u001b[0;34m(self, key, method, tolerance)\u001b[0m\n\u001b[1;32m   3802\u001b[0m     \u001b[38;5;28;01mreturn\u001b[39;00m \u001b[38;5;28mself\u001b[39m\u001b[38;5;241m.\u001b[39m_engine\u001b[38;5;241m.\u001b[39mget_loc(casted_key)\n\u001b[1;32m   3803\u001b[0m \u001b[38;5;28;01mexcept\u001b[39;00m \u001b[38;5;167;01mKeyError\u001b[39;00m \u001b[38;5;28;01mas\u001b[39;00m err:\n\u001b[0;32m-> 3804\u001b[0m     \u001b[38;5;28;01mraise\u001b[39;00m \u001b[38;5;167;01mKeyError\u001b[39;00m(key) \u001b[38;5;28;01mfrom\u001b[39;00m \u001b[38;5;21;01merr\u001b[39;00m\n\u001b[1;32m   3805\u001b[0m \u001b[38;5;28;01mexcept\u001b[39;00m \u001b[38;5;167;01mTypeError\u001b[39;00m:\n\u001b[1;32m   3806\u001b[0m     \u001b[38;5;66;03m# If we have a listlike key, _check_indexing_error will raise\u001b[39;00m\n\u001b[1;32m   3807\u001b[0m     \u001b[38;5;66;03m#  InvalidIndexError. Otherwise we fall through and re-raise\u001b[39;00m\n\u001b[1;32m   3808\u001b[0m     \u001b[38;5;66;03m#  the TypeError.\u001b[39;00m\n\u001b[1;32m   3809\u001b[0m     \u001b[38;5;28mself\u001b[39m\u001b[38;5;241m.\u001b[39m_check_indexing_error(key)\n",
      "\u001b[0;31mKeyError\u001b[0m: 'Pressure (kPa)'"
     ]
    }
   ],
   "source": [
    "# Hmix only\n",
    "data_set_hmix = FilterByPropertyTypes.apply(filtered_dataset, hmix_schema)\n",
    "data_set_hmix_usable= FilterByPressure.apply(data_set_hmix, pressure_schema)\n",
    "tml_hmix_usable= FilterByTemperature.apply(data_set_hmix_usable, temp_schema)\n",
    "print(len(tml_hmix_usable))\n",
    "\n",
    "# save for future use\n",
    "tml_hmix_path = Path(f'filtered_{database_directory}/tml_filtered_hmix_usable.json')\n",
    "tml_hmix_usable.json(tml_hmix_path, format=True)\n",
    "\n",
    "df_hmix=tml_hmix_usable.to_pandas()\n",
    "df_hmix.to_csv(f'filtered_{database_directory}/tml_hmix_usable_database.csv',index=False)\n",
    "# df_hmix.head()\n",
    "# df_hmix.columns.to_list()"
   ]
  },
  {
   "cell_type": "code",
   "execution_count": 71,
   "metadata": {},
   "outputs": [
    {
     "name": "stdout",
     "output_type": "stream",
     "text": [
      "3348\n"
     ]
    }
   ],
   "source": [
    "# Density only\n",
    "data_set_dens= FilterByPropertyTypes.apply(filtered_dataset, dens_schema)\n",
    "data_set_dens_usable= FilterByPressure.apply(data_set_dens, pressure_schema)\n",
    "tml_dens_usable= FilterByTemperature.apply(data_set_dens_usable, temp_schema)\n",
    "print(len(tml_dens_usable))\n",
    "\n",
    "# save for future use\n",
    "tml_dens_path = Path(f'filtered_{database_directory}/tml_filtered_dens_usable.json')\n",
    "tml_dens_usable.json(tml_dens_path, format=True)\n",
    "\n",
    "df_dens=tml_dens_usable.to_pandas()\n",
    "df_dens.to_csv(f'filtered_{database_directory}/tml_dens_usable_database.csv',index=False)"
   ]
  },
  {
   "cell_type": "code",
   "execution_count": 81,
   "metadata": {},
   "outputs": [
    {
     "name": "stdout",
     "output_type": "stream",
     "text": [
      "ThermoML - Number of initial data points: 3348\n",
      "ThermoML - Number of hmix+density data points: 14908\n",
      "ThermoML - Number of hmix data points: 12789\n",
      "ThermoML - Number of density data points: 3348\n"
     ]
    }
   ],
   "source": [
    "print(f'ThermoML - Number of initial data points: {len(filtered_df_final)}')\n",
    "print(f'ThermoML - Number of hmix+density data points: {len(tml_hd_usable)}')\n",
    "print(f'ThermoML - Number of hmix data points: {len(tml_hmix_usable)}')\n",
    "print(f'ThermoML - Number of density data points: {len(tml_dens_usable)}')"
   ]
  },
  {
   "cell_type": "markdown",
   "metadata": {},
   "source": [
    "### Get data information"
   ]
  },
  {
   "cell_type": "markdown",
   "metadata": {},
   "source": [
    "#### Functions"
   ]
  },
  {
   "cell_type": "code",
   "execution_count": 73,
   "metadata": {},
   "outputs": [],
   "source": [
    "def get_unique_temperature_pressure_for_mixtures(data, component_columns=['Component 1', 'Component 2']):\n",
    "    \"\"\"\n",
    "    Loops through a dataframe and returns a dictionary where each unique\n",
    "    combination of specified component columns is a key. The value for each key is \n",
    "    a dictionary containing a unique list of tuples with temperatures and pressures for that mixture \n",
    "    and the count of occurrences of each unique mixture.\n",
    "\n",
    "    Parameters:\n",
    "    - data (pd.DataFrame): DataFrame containing the data\n",
    "    - component_columns (list): List of column names representing the mixture components\n",
    "                                 Defaults to ['Component 1', 'Component 2', 'Component 3'].\n",
    "\n",
    "    Returns:\n",
    "    - dict: A dictionary with unique mixtures as keys and a dictionary with temperature-pressure\n",
    "            information and counts as values.\n",
    "    \"\"\"\n",
    "    mixtures_dict = {}\n",
    "    unique_mixtures = set()\n",
    "\n",
    "\n",
    "    for _, row in data.iterrows():\n",
    "        # Create a tuple of the mixture components\n",
    "        mixture_key = tuple(row[component] for component in component_columns)\n",
    "\n",
    "        # Add to unique mixtures set (ignores duplicates)\n",
    "        unique_mixtures.add(mixture_key)\n",
    "        \n",
    "        # Extract temperature and pressure\n",
    "        temp_pressure = (row['Temperature (K)'], row['Pressure (kPa)'])\n",
    "        \n",
    "        # Only add to the dictionary if both temperature and pressure are valid numbers\n",
    "        if not (math.isnan(temp_pressure[0]) or math.isnan(temp_pressure[1])):\n",
    "            if mixture_key not in mixtures_dict:\n",
    "                mixtures_dict[mixture_key] = {\"temp_pressures\": set(), \"count\": 0}\n",
    "            \n",
    "            # Add the temperature-pressure pair and increment the count\n",
    "            mixtures_dict[mixture_key][\"temp_pressures\"].add(temp_pressure)\n",
    "            mixtures_dict[mixture_key][\"count\"] += 1\n",
    "\n",
    "    # Convert the sets back to lists for readability\n",
    "    mixtures_dict = {\n",
    "        key: {\"temp_pressures\": list(value[\"temp_pressures\"]), \"count\": value[\"count\"]}\n",
    "        for key, value in mixtures_dict.items()\n",
    "    }\n",
    "    \n",
    "    # Add deduplicated list of unique mixtures\n",
    "    mixtures_dict['unique_mixtures'] = list(unique_mixtures)\n",
    "    \n",
    "    return mixtures_dict\n"
   ]
  },
  {
   "cell_type": "code",
   "execution_count": 74,
   "metadata": {},
   "outputs": [],
   "source": [
    "def get_uniquemixs_counts(dataframe, properties):\n",
    "    # Get the unique mixtures data with counts\n",
    "    uniquemixs_temps_press = get_unique_temperature_pressure_for_mixtures(dataframe)\n",
    "\n",
    "    # Prepare data for saving to a CSV file, excluding the 'unique_mixtures' entry itself\n",
    "    mixtures_list = []\n",
    "\n",
    "    for mixture, details in uniquemixs_temps_press.items():\n",
    "        # Skip the 'unique_mixtures' key as it's not part of the temperature/pressure data\n",
    "        if mixture == 'unique_mixtures':\n",
    "            continue\n",
    "        # Extract temperature-pressure pairs and count for each mixture\n",
    "        count = details[\"count\"]\n",
    "        for temp, press in details[\"temp_pressures\"]:\n",
    "            mixtures_list.append({\n",
    "                \"Mixture\": \" | \".join([str(comp) for comp in mixture if pd.notna(comp)]),\n",
    "                \"Temperature\": temp,\n",
    "                \"Pressure\": press,\n",
    "                \"Count\": count\n",
    "            })\n",
    "\n",
    "    # Convert to DataFrame\n",
    "    mixtures_df = pd.DataFrame(mixtures_list)\n",
    "\n",
    "    # Save to CSV with the additional 'Count' column\n",
    "    output_path = f'filtered_{database_directory}/tml_uniqmixs_thermo_{properties}.csv'\n",
    "    mixtures_df.to_csv(output_path, index=False)\n",
    "\n",
    "    # Prepare a list to store each unique mixture and its count for the CSV\n",
    "    umixs_list = [\n",
    "        {\n",
    "            \"Mixture\": \" | \".join([str(comp) for comp in mixture if pd.notna(comp)]),\n",
    "            \"Count\": uniquemixs_temps_press[mixture][\"count\"]\n",
    "        }\n",
    "        for mixture in uniquemixs_temps_press[\"unique_mixtures\"]\n",
    "    ]\n",
    "\n",
    "    # Convert to DataFrame\n",
    "    hmix_umixtures_df = pd.DataFrame(umixs_list)\n",
    "\n",
    "    # Save to CSV with the additional 'Count' column\n",
    "    output_path2 = f'filtered_{database_directory}/tml_uniqmixs_{properties}.csv'\n",
    "    hmix_umixtures_df.to_csv(output_path2, index=False)\n",
    "\n",
    "    print(f'ThermoML - Number of {properties} mixtures: {len(umixs_list)}')"
   ]
  },
  {
   "cell_type": "code",
   "execution_count": 75,
   "metadata": {},
   "outputs": [],
   "source": [
    "def get_smiles(data_set_choice):\n",
    "    print(f'Number of initial data points: {len(data_set_choice)}')\n",
    "    subs=list(set(data_set_choice.substances))\n",
    "    print(f'Number of individual mixtures: {len(subs)}')\n",
    "    smiles_list=[]\n",
    "    comps=[]\n",
    "\n",
    "    for i in subs:\n",
    "        if len(i.components) == 3:\n",
    "            comps.append(i.components[0].smiles)\n",
    "            comps.append(i.components[1].smiles)\n",
    "            comps.append(i.components[2].smiles)\n",
    "        elif len(i.components) == 2:\n",
    "            comps.append(i.components[0].smiles)\n",
    "            comps.append(i.components[1].smiles)\n",
    "        elif len(i.components) == 1:\n",
    "            comps.append(i.components[0].smiles)\n",
    "\n",
    "    # comps.remove('O')\n",
    "\n",
    "    [smiles_list.append(o) for o in set(comps)]\n",
    "\n",
    "    print(f'Number of individual components: {len(smiles_list)}')\n",
    "\n",
    "    return(smiles_list)"
   ]
  },
  {
   "cell_type": "code",
   "execution_count": 76,
   "metadata": {},
   "outputs": [],
   "source": [
    "def get_indiv_comps(database, properties):\n",
    "    indiv_compnts=get_smiles(database)\n",
    "    indiv_compnts_df=pd.DataFrame(indiv_compnts)\n",
    "    indiv_compnts_df.to_csv(f'filtered_{database_directory}/tml_indivcomps_{properties}.csv')"
   ]
  },
  {
   "cell_type": "markdown",
   "metadata": {},
   "source": [
    "#### Hmix + dens"
   ]
  },
  {
   "cell_type": "code",
   "execution_count": 77,
   "metadata": {},
   "outputs": [
    {
     "name": "stdout",
     "output_type": "stream",
     "text": [
      "Number of initial data points: 14908\n",
      "Number of individual mixtures: 10003\n",
      "Number of individual components: 97\n",
      "ThermoML - Number of hd mixtures: 278\n"
     ]
    }
   ],
   "source": [
    "get_indiv_comps(tml_hd_usable, 'hd')\n",
    "get_uniquemixs_counts(df_hmix_dens, 'hd')"
   ]
  },
  {
   "cell_type": "code",
   "execution_count": 78,
   "metadata": {},
   "outputs": [
    {
     "name": "stdout",
     "output_type": "stream",
     "text": [
      "Number of initial data points: 12789\n",
      "Number of individual mixtures: 11206\n",
      "Number of individual components: 206\n",
      "ThermoML - Number of hmix mixtures: 585\n"
     ]
    }
   ],
   "source": [
    "get_indiv_comps(tml_hmix_usable, 'hmix')\n",
    "get_uniquemixs_counts(df_hmix, 'hmix')"
   ]
  },
  {
   "cell_type": "code",
   "execution_count": 79,
   "metadata": {},
   "outputs": [
    {
     "name": "stdout",
     "output_type": "stream",
     "text": [
      "Number of initial data points: 3348\n",
      "Number of individual mixtures: 972\n",
      "Number of individual components: 71\n",
      "ThermoML - Number of dens mixtures: 83\n"
     ]
    }
   ],
   "source": [
    "get_indiv_comps(tml_dens_usable, 'dens')\n",
    "get_uniquemixs_counts(df_dens, 'dens')"
   ]
  },
  {
   "cell_type": "markdown",
   "metadata": {},
   "source": [
    "## ThermoML Osmotic and Activity Coefficients"
   ]
  },
  {
   "cell_type": "markdown",
   "metadata": {},
   "source": [
    "### FIltering"
   ]
  },
  {
   "cell_type": "code",
   "execution_count": 80,
   "metadata": {},
   "outputs": [
    {
     "name": "stdout",
     "output_type": "stream",
     "text": [
      "0\n"
     ]
    },
    {
     "ename": "KeyError",
     "evalue": "'N Components'",
     "output_type": "error",
     "traceback": [
      "\u001b[0;31m---------------------------------------------------------------------------\u001b[0m",
      "\u001b[0;31mKeyError\u001b[0m                                  Traceback (most recent call last)",
      "File \u001b[0;32m~/miniconda3/envs/evaluator-openff/lib/python3.10/site-packages/pandas/core/indexes/base.py:3802\u001b[0m, in \u001b[0;36mIndex.get_loc\u001b[0;34m(self, key, method, tolerance)\u001b[0m\n\u001b[1;32m   3801\u001b[0m \u001b[38;5;28;01mtry\u001b[39;00m:\n\u001b[0;32m-> 3802\u001b[0m     \u001b[38;5;28;01mreturn\u001b[39;00m \u001b[38;5;28;43mself\u001b[39;49m\u001b[38;5;241;43m.\u001b[39;49m\u001b[43m_engine\u001b[49m\u001b[38;5;241;43m.\u001b[39;49m\u001b[43mget_loc\u001b[49m\u001b[43m(\u001b[49m\u001b[43mcasted_key\u001b[49m\u001b[43m)\u001b[49m\n\u001b[1;32m   3803\u001b[0m \u001b[38;5;28;01mexcept\u001b[39;00m \u001b[38;5;167;01mKeyError\u001b[39;00m \u001b[38;5;28;01mas\u001b[39;00m err:\n",
      "File \u001b[0;32m~/miniconda3/envs/evaluator-openff/lib/python3.10/site-packages/pandas/_libs/index.pyx:138\u001b[0m, in \u001b[0;36mpandas._libs.index.IndexEngine.get_loc\u001b[0;34m()\u001b[0m\n",
      "File \u001b[0;32m~/miniconda3/envs/evaluator-openff/lib/python3.10/site-packages/pandas/_libs/index.pyx:165\u001b[0m, in \u001b[0;36mpandas._libs.index.IndexEngine.get_loc\u001b[0;34m()\u001b[0m\n",
      "File \u001b[0;32mpandas/_libs/hashtable_class_helper.pxi:5745\u001b[0m, in \u001b[0;36mpandas._libs.hashtable.PyObjectHashTable.get_item\u001b[0;34m()\u001b[0m\n",
      "File \u001b[0;32mpandas/_libs/hashtable_class_helper.pxi:5753\u001b[0m, in \u001b[0;36mpandas._libs.hashtable.PyObjectHashTable.get_item\u001b[0;34m()\u001b[0m\n",
      "\u001b[0;31mKeyError\u001b[0m: 'N Components'",
      "\nThe above exception was the direct cause of the following exception:\n",
      "\u001b[0;31mKeyError\u001b[0m                                  Traceback (most recent call last)",
      "Cell \u001b[0;32mIn[80], line 4\u001b[0m\n\u001b[1;32m      2\u001b[0m tml_oc_ac\u001b[38;5;241m=\u001b[39m FilterByPropertyTypes\u001b[38;5;241m.\u001b[39mapply(filtered_dataset, oc_ac_schema)\n\u001b[1;32m      3\u001b[0m \u001b[38;5;28mprint\u001b[39m(\u001b[38;5;28mlen\u001b[39m(tml_oc_ac))\n\u001b[0;32m----> 4\u001b[0m tml_2comps\u001b[38;5;241m=\u001b[39m \u001b[43mFilterByNComponents\u001b[49m\u001b[38;5;241;43m.\u001b[39;49m\u001b[43mapply\u001b[49m\u001b[43m(\u001b[49m\u001b[43mtml_oc_ac\u001b[49m\u001b[43m,\u001b[49m\u001b[43m \u001b[49m\u001b[43mncomp_schema\u001b[49m\u001b[43m)\u001b[49m\n\u001b[1;32m      5\u001b[0m \u001b[38;5;28mprint\u001b[39m(\u001b[38;5;28mlen\u001b[39m(tml_2comps))\n",
      "File \u001b[0;32m~/miniconda3/envs/evaluator-openff/lib/python3.10/site-packages/openff/evaluator/datasets/curation/components/components.py:85\u001b[0m, in \u001b[0;36mCurationComponent.apply\u001b[0;34m(cls, data_set, schema, n_processes)\u001b[0m\n\u001b[1;32m     82\u001b[0m \u001b[38;5;28;01mif\u001b[39;00m \u001b[38;5;28misinstance\u001b[39m(data_frame, PhysicalPropertyDataSet):\n\u001b[1;32m     83\u001b[0m     data_frame \u001b[38;5;241m=\u001b[39m data_frame\u001b[38;5;241m.\u001b[39mto_pandas()\n\u001b[0;32m---> 85\u001b[0m modified_data_frame \u001b[38;5;241m=\u001b[39m \u001b[38;5;28;43mcls\u001b[39;49m\u001b[38;5;241;43m.\u001b[39;49m\u001b[43m_apply\u001b[49m\u001b[43m(\u001b[49m\u001b[43mdata_frame\u001b[49m\u001b[43m,\u001b[49m\u001b[43m \u001b[49m\u001b[43mschema\u001b[49m\u001b[43m,\u001b[49m\u001b[43m \u001b[49m\u001b[43mn_processes\u001b[49m\u001b[43m)\u001b[49m\n\u001b[1;32m     87\u001b[0m n_data_points \u001b[38;5;241m=\u001b[39m \u001b[38;5;28mlen\u001b[39m(data_frame)\n\u001b[1;32m     88\u001b[0m n_filtered \u001b[38;5;241m=\u001b[39m \u001b[38;5;28mlen\u001b[39m(modified_data_frame)\n",
      "File \u001b[0;32m~/miniconda3/envs/evaluator-openff/lib/python3.10/site-packages/openff/evaluator/datasets/curation/components/filtering.py:962\u001b[0m, in \u001b[0;36mFilterByNComponents._apply\u001b[0;34m(cls, data_frame, schema, n_processes)\u001b[0m\n\u001b[1;32m    955\u001b[0m \u001b[38;5;129m@classmethod\u001b[39m\n\u001b[1;32m    956\u001b[0m \u001b[38;5;28;01mdef\u001b[39;00m \u001b[38;5;21m_apply\u001b[39m(\n\u001b[1;32m    957\u001b[0m     \u001b[38;5;28mcls\u001b[39m,\n\u001b[0;32m   (...)\u001b[0m\n\u001b[1;32m    960\u001b[0m     n_processes,\n\u001b[1;32m    961\u001b[0m ) \u001b[38;5;241m-\u001b[39m\u001b[38;5;241m>\u001b[39m pandas\u001b[38;5;241m.\u001b[39mDataFrame:\n\u001b[0;32m--> 962\u001b[0m     \u001b[38;5;28;01mreturn\u001b[39;00m data_frame[\u001b[43mdata_frame\u001b[49m\u001b[43m[\u001b[49m\u001b[38;5;124;43m\"\u001b[39;49m\u001b[38;5;124;43mN Components\u001b[39;49m\u001b[38;5;124;43m\"\u001b[39;49m\u001b[43m]\u001b[49m\u001b[38;5;241m.\u001b[39misin(schema\u001b[38;5;241m.\u001b[39mn_components)]\n",
      "File \u001b[0;32m~/miniconda3/envs/evaluator-openff/lib/python3.10/site-packages/pandas/core/frame.py:3807\u001b[0m, in \u001b[0;36mDataFrame.__getitem__\u001b[0;34m(self, key)\u001b[0m\n\u001b[1;32m   3805\u001b[0m \u001b[38;5;28;01mif\u001b[39;00m \u001b[38;5;28mself\u001b[39m\u001b[38;5;241m.\u001b[39mcolumns\u001b[38;5;241m.\u001b[39mnlevels \u001b[38;5;241m>\u001b[39m \u001b[38;5;241m1\u001b[39m:\n\u001b[1;32m   3806\u001b[0m     \u001b[38;5;28;01mreturn\u001b[39;00m \u001b[38;5;28mself\u001b[39m\u001b[38;5;241m.\u001b[39m_getitem_multilevel(key)\n\u001b[0;32m-> 3807\u001b[0m indexer \u001b[38;5;241m=\u001b[39m \u001b[38;5;28;43mself\u001b[39;49m\u001b[38;5;241;43m.\u001b[39;49m\u001b[43mcolumns\u001b[49m\u001b[38;5;241;43m.\u001b[39;49m\u001b[43mget_loc\u001b[49m\u001b[43m(\u001b[49m\u001b[43mkey\u001b[49m\u001b[43m)\u001b[49m\n\u001b[1;32m   3808\u001b[0m \u001b[38;5;28;01mif\u001b[39;00m is_integer(indexer):\n\u001b[1;32m   3809\u001b[0m     indexer \u001b[38;5;241m=\u001b[39m [indexer]\n",
      "File \u001b[0;32m~/miniconda3/envs/evaluator-openff/lib/python3.10/site-packages/pandas/core/indexes/base.py:3804\u001b[0m, in \u001b[0;36mIndex.get_loc\u001b[0;34m(self, key, method, tolerance)\u001b[0m\n\u001b[1;32m   3802\u001b[0m     \u001b[38;5;28;01mreturn\u001b[39;00m \u001b[38;5;28mself\u001b[39m\u001b[38;5;241m.\u001b[39m_engine\u001b[38;5;241m.\u001b[39mget_loc(casted_key)\n\u001b[1;32m   3803\u001b[0m \u001b[38;5;28;01mexcept\u001b[39;00m \u001b[38;5;167;01mKeyError\u001b[39;00m \u001b[38;5;28;01mas\u001b[39;00m err:\n\u001b[0;32m-> 3804\u001b[0m     \u001b[38;5;28;01mraise\u001b[39;00m \u001b[38;5;167;01mKeyError\u001b[39;00m(key) \u001b[38;5;28;01mfrom\u001b[39;00m \u001b[38;5;21;01merr\u001b[39;00m\n\u001b[1;32m   3805\u001b[0m \u001b[38;5;28;01mexcept\u001b[39;00m \u001b[38;5;167;01mTypeError\u001b[39;00m:\n\u001b[1;32m   3806\u001b[0m     \u001b[38;5;66;03m# If we have a listlike key, _check_indexing_error will raise\u001b[39;00m\n\u001b[1;32m   3807\u001b[0m     \u001b[38;5;66;03m#  InvalidIndexError. Otherwise we fall through and re-raise\u001b[39;00m\n\u001b[1;32m   3808\u001b[0m     \u001b[38;5;66;03m#  the TypeError.\u001b[39;00m\n\u001b[1;32m   3809\u001b[0m     \u001b[38;5;28mself\u001b[39m\u001b[38;5;241m.\u001b[39m_check_indexing_error(key)\n",
      "\u001b[0;31mKeyError\u001b[0m: 'N Components'"
     ]
    }
   ],
   "source": [
    "# Osmotic + Activity\n",
    "tml_oc_ac= FilterByPropertyTypes.apply(filtered_dataset, oc_ac_schema)\n",
    "print(len(tml_oc_ac))\n",
    "tml_2comps= FilterByNComponents.apply(tml_oc_ac, ncomp_schema)\n",
    "print(len(tml_2comps))"
   ]
  },
  {
   "cell_type": "code",
   "execution_count": null,
   "metadata": {},
   "outputs": [
    {
     "name": "stdout",
     "output_type": "stream",
     "text": [
      "0\n"
     ]
    }
   ],
   "source": [
    "tml_ocac_strict= FilterByPropertyTypes.apply(tml_2comps, oc_ac_strict_schema)\n",
    "print(len(tml_ocac_strict))"
   ]
  },
  {
   "cell_type": "code",
   "execution_count": null,
   "metadata": {},
   "outputs": [
    {
     "ename": "KeyError",
     "evalue": "'Pressure (kPa)'",
     "output_type": "error",
     "traceback": [
      "\u001b[0;31m---------------------------------------------------------------------------\u001b[0m",
      "\u001b[0;31mKeyError\u001b[0m                                  Traceback (most recent call last)",
      "File \u001b[0;32m~/miniconda3/envs/evaluator-openff/lib/python3.10/site-packages/pandas/core/indexes/base.py:3802\u001b[0m, in \u001b[0;36mIndex.get_loc\u001b[0;34m(self, key, method, tolerance)\u001b[0m\n\u001b[1;32m   3801\u001b[0m \u001b[38;5;28;01mtry\u001b[39;00m:\n\u001b[0;32m-> 3802\u001b[0m     \u001b[38;5;28;01mreturn\u001b[39;00m \u001b[38;5;28;43mself\u001b[39;49m\u001b[38;5;241;43m.\u001b[39;49m\u001b[43m_engine\u001b[49m\u001b[38;5;241;43m.\u001b[39;49m\u001b[43mget_loc\u001b[49m\u001b[43m(\u001b[49m\u001b[43mcasted_key\u001b[49m\u001b[43m)\u001b[49m\n\u001b[1;32m   3803\u001b[0m \u001b[38;5;28;01mexcept\u001b[39;00m \u001b[38;5;167;01mKeyError\u001b[39;00m \u001b[38;5;28;01mas\u001b[39;00m err:\n",
      "File \u001b[0;32m~/miniconda3/envs/evaluator-openff/lib/python3.10/site-packages/pandas/_libs/index.pyx:138\u001b[0m, in \u001b[0;36mpandas._libs.index.IndexEngine.get_loc\u001b[0;34m()\u001b[0m\n",
      "File \u001b[0;32m~/miniconda3/envs/evaluator-openff/lib/python3.10/site-packages/pandas/_libs/index.pyx:165\u001b[0m, in \u001b[0;36mpandas._libs.index.IndexEngine.get_loc\u001b[0;34m()\u001b[0m\n",
      "File \u001b[0;32mpandas/_libs/hashtable_class_helper.pxi:5745\u001b[0m, in \u001b[0;36mpandas._libs.hashtable.PyObjectHashTable.get_item\u001b[0;34m()\u001b[0m\n",
      "File \u001b[0;32mpandas/_libs/hashtable_class_helper.pxi:5753\u001b[0m, in \u001b[0;36mpandas._libs.hashtable.PyObjectHashTable.get_item\u001b[0;34m()\u001b[0m\n",
      "\u001b[0;31mKeyError\u001b[0m: 'Pressure (kPa)'",
      "\nThe above exception was the direct cause of the following exception:\n",
      "\u001b[0;31mKeyError\u001b[0m                                  Traceback (most recent call last)",
      "Cell \u001b[0;32mIn[41], line 1\u001b[0m\n\u001b[0;32m----> 1\u001b[0m tml_press_usable\u001b[38;5;241m=\u001b[39m \u001b[43mFilterByPressure\u001b[49m\u001b[38;5;241;43m.\u001b[39;49m\u001b[43mapply\u001b[49m\u001b[43m(\u001b[49m\u001b[43mtml_ocac_strict\u001b[49m\u001b[43m,\u001b[49m\u001b[43m \u001b[49m\u001b[43mpressure_schema\u001b[49m\u001b[43m)\u001b[49m\n\u001b[1;32m      2\u001b[0m tml_ocac_usable\u001b[38;5;241m=\u001b[39m FilterByTemperature\u001b[38;5;241m.\u001b[39mapply(tml_press_usable, temp_schema)\n\u001b[1;32m      3\u001b[0m \u001b[38;5;28mprint\u001b[39m(\u001b[38;5;28mlen\u001b[39m(tml_ocac_usable))\n",
      "File \u001b[0;32m~/miniconda3/envs/evaluator-openff/lib/python3.10/site-packages/openff/evaluator/datasets/curation/components/components.py:85\u001b[0m, in \u001b[0;36mCurationComponent.apply\u001b[0;34m(cls, data_set, schema, n_processes)\u001b[0m\n\u001b[1;32m     82\u001b[0m \u001b[38;5;28;01mif\u001b[39;00m \u001b[38;5;28misinstance\u001b[39m(data_frame, PhysicalPropertyDataSet):\n\u001b[1;32m     83\u001b[0m     data_frame \u001b[38;5;241m=\u001b[39m data_frame\u001b[38;5;241m.\u001b[39mto_pandas()\n\u001b[0;32m---> 85\u001b[0m modified_data_frame \u001b[38;5;241m=\u001b[39m \u001b[38;5;28;43mcls\u001b[39;49m\u001b[38;5;241;43m.\u001b[39;49m\u001b[43m_apply\u001b[49m\u001b[43m(\u001b[49m\u001b[43mdata_frame\u001b[49m\u001b[43m,\u001b[49m\u001b[43m \u001b[49m\u001b[43mschema\u001b[49m\u001b[43m,\u001b[49m\u001b[43m \u001b[49m\u001b[43mn_processes\u001b[49m\u001b[43m)\u001b[49m\n\u001b[1;32m     87\u001b[0m n_data_points \u001b[38;5;241m=\u001b[39m \u001b[38;5;28mlen\u001b[39m(data_frame)\n\u001b[1;32m     88\u001b[0m n_filtered \u001b[38;5;241m=\u001b[39m \u001b[38;5;28mlen\u001b[39m(modified_data_frame)\n",
      "File \u001b[0;32m~/miniconda3/envs/evaluator-openff/lib/python3.10/site-packages/openff/evaluator/datasets/curation/components/filtering.py:232\u001b[0m, in \u001b[0;36mFilterByPressure._apply\u001b[0;34m(cls, data_frame, schema, n_processes)\u001b[0m\n\u001b[1;32m    228\u001b[0m filtered_frame \u001b[38;5;241m=\u001b[39m data_frame\n\u001b[1;32m    230\u001b[0m \u001b[38;5;28;01mif\u001b[39;00m schema\u001b[38;5;241m.\u001b[39mminimum_pressure \u001b[38;5;129;01mis\u001b[39;00m \u001b[38;5;129;01mnot\u001b[39;00m \u001b[38;5;28;01mNone\u001b[39;00m:\n\u001b[1;32m    231\u001b[0m     filtered_frame \u001b[38;5;241m=\u001b[39m filtered_frame[\n\u001b[0;32m--> 232\u001b[0m         schema\u001b[38;5;241m.\u001b[39mminimum_pressure \u001b[38;5;241m<\u001b[39m \u001b[43mfiltered_frame\u001b[49m\u001b[43m[\u001b[49m\u001b[38;5;124;43m\"\u001b[39;49m\u001b[38;5;124;43mPressure (kPa)\u001b[39;49m\u001b[38;5;124;43m\"\u001b[39;49m\u001b[43m]\u001b[49m\n\u001b[1;32m    233\u001b[0m     ]\n\u001b[1;32m    235\u001b[0m \u001b[38;5;28;01mif\u001b[39;00m schema\u001b[38;5;241m.\u001b[39mmaximum_pressure \u001b[38;5;129;01mis\u001b[39;00m \u001b[38;5;129;01mnot\u001b[39;00m \u001b[38;5;28;01mNone\u001b[39;00m:\n\u001b[1;32m    236\u001b[0m     filtered_frame \u001b[38;5;241m=\u001b[39m filtered_frame[\n\u001b[1;32m    237\u001b[0m         filtered_frame[\u001b[38;5;124m\"\u001b[39m\u001b[38;5;124mPressure (kPa)\u001b[39m\u001b[38;5;124m\"\u001b[39m] \u001b[38;5;241m<\u001b[39m schema\u001b[38;5;241m.\u001b[39mmaximum_pressure\n\u001b[1;32m    238\u001b[0m     ]\n",
      "File \u001b[0;32m~/miniconda3/envs/evaluator-openff/lib/python3.10/site-packages/pandas/core/frame.py:3807\u001b[0m, in \u001b[0;36mDataFrame.__getitem__\u001b[0;34m(self, key)\u001b[0m\n\u001b[1;32m   3805\u001b[0m \u001b[38;5;28;01mif\u001b[39;00m \u001b[38;5;28mself\u001b[39m\u001b[38;5;241m.\u001b[39mcolumns\u001b[38;5;241m.\u001b[39mnlevels \u001b[38;5;241m>\u001b[39m \u001b[38;5;241m1\u001b[39m:\n\u001b[1;32m   3806\u001b[0m     \u001b[38;5;28;01mreturn\u001b[39;00m \u001b[38;5;28mself\u001b[39m\u001b[38;5;241m.\u001b[39m_getitem_multilevel(key)\n\u001b[0;32m-> 3807\u001b[0m indexer \u001b[38;5;241m=\u001b[39m \u001b[38;5;28;43mself\u001b[39;49m\u001b[38;5;241;43m.\u001b[39;49m\u001b[43mcolumns\u001b[49m\u001b[38;5;241;43m.\u001b[39;49m\u001b[43mget_loc\u001b[49m\u001b[43m(\u001b[49m\u001b[43mkey\u001b[49m\u001b[43m)\u001b[49m\n\u001b[1;32m   3808\u001b[0m \u001b[38;5;28;01mif\u001b[39;00m is_integer(indexer):\n\u001b[1;32m   3809\u001b[0m     indexer \u001b[38;5;241m=\u001b[39m [indexer]\n",
      "File \u001b[0;32m~/miniconda3/envs/evaluator-openff/lib/python3.10/site-packages/pandas/core/indexes/base.py:3804\u001b[0m, in \u001b[0;36mIndex.get_loc\u001b[0;34m(self, key, method, tolerance)\u001b[0m\n\u001b[1;32m   3802\u001b[0m     \u001b[38;5;28;01mreturn\u001b[39;00m \u001b[38;5;28mself\u001b[39m\u001b[38;5;241m.\u001b[39m_engine\u001b[38;5;241m.\u001b[39mget_loc(casted_key)\n\u001b[1;32m   3803\u001b[0m \u001b[38;5;28;01mexcept\u001b[39;00m \u001b[38;5;167;01mKeyError\u001b[39;00m \u001b[38;5;28;01mas\u001b[39;00m err:\n\u001b[0;32m-> 3804\u001b[0m     \u001b[38;5;28;01mraise\u001b[39;00m \u001b[38;5;167;01mKeyError\u001b[39;00m(key) \u001b[38;5;28;01mfrom\u001b[39;00m \u001b[38;5;21;01merr\u001b[39;00m\n\u001b[1;32m   3805\u001b[0m \u001b[38;5;28;01mexcept\u001b[39;00m \u001b[38;5;167;01mTypeError\u001b[39;00m:\n\u001b[1;32m   3806\u001b[0m     \u001b[38;5;66;03m# If we have a listlike key, _check_indexing_error will raise\u001b[39;00m\n\u001b[1;32m   3807\u001b[0m     \u001b[38;5;66;03m#  InvalidIndexError. Otherwise we fall through and re-raise\u001b[39;00m\n\u001b[1;32m   3808\u001b[0m     \u001b[38;5;66;03m#  the TypeError.\u001b[39;00m\n\u001b[1;32m   3809\u001b[0m     \u001b[38;5;28mself\u001b[39m\u001b[38;5;241m.\u001b[39m_check_indexing_error(key)\n",
      "\u001b[0;31mKeyError\u001b[0m: 'Pressure (kPa)'"
     ]
    }
   ],
   "source": [
    "tml_press_usable= FilterByPressure.apply(tml_ocac_strict, pressure_schema)\n",
    "tml_ocac_usable= FilterByTemperature.apply(tml_press_usable, temp_schema)\n",
    "print(len(tml_ocac_usable))"
   ]
  },
  {
   "cell_type": "code",
   "execution_count": null,
   "metadata": {},
   "outputs": [],
   "source": [
    "# save for future use\n",
    "tml_ocac_path = Path(f'filtered_{database_directory}/tml_filtered_ocac_usable.json')\n",
    "tml_ocac_usable.json(tml_ocac_path, format=True)\n",
    "\n",
    "df_ocac=tml_ocac_usable.to_pandas()\n",
    "df_ocac.to_csv(f'filtered_{database_directory}/tml_ocac_usable_database.csv',index=False)"
   ]
  },
  {
   "cell_type": "code",
   "execution_count": null,
   "metadata": {},
   "outputs": [
    {
     "name": "stdout",
     "output_type": "stream",
     "text": [
      "45\n"
     ]
    }
   ],
   "source": [
    "print(len(tml_ocac_usable))"
   ]
  },
  {
   "cell_type": "code",
   "execution_count": 82,
   "metadata": {},
   "outputs": [
    {
     "ename": "KeyError",
     "evalue": "'Pressure (kPa)'",
     "output_type": "error",
     "traceback": [
      "\u001b[0;31m---------------------------------------------------------------------------\u001b[0m",
      "\u001b[0;31mKeyError\u001b[0m                                  Traceback (most recent call last)",
      "File \u001b[0;32m~/miniconda3/envs/evaluator-openff/lib/python3.10/site-packages/pandas/core/indexes/base.py:3802\u001b[0m, in \u001b[0;36mIndex.get_loc\u001b[0;34m(self, key, method, tolerance)\u001b[0m\n\u001b[1;32m   3801\u001b[0m \u001b[38;5;28;01mtry\u001b[39;00m:\n\u001b[0;32m-> 3802\u001b[0m     \u001b[38;5;28;01mreturn\u001b[39;00m \u001b[38;5;28;43mself\u001b[39;49m\u001b[38;5;241;43m.\u001b[39;49m\u001b[43m_engine\u001b[49m\u001b[38;5;241;43m.\u001b[39;49m\u001b[43mget_loc\u001b[49m\u001b[43m(\u001b[49m\u001b[43mcasted_key\u001b[49m\u001b[43m)\u001b[49m\n\u001b[1;32m   3803\u001b[0m \u001b[38;5;28;01mexcept\u001b[39;00m \u001b[38;5;167;01mKeyError\u001b[39;00m \u001b[38;5;28;01mas\u001b[39;00m err:\n",
      "File \u001b[0;32m~/miniconda3/envs/evaluator-openff/lib/python3.10/site-packages/pandas/_libs/index.pyx:138\u001b[0m, in \u001b[0;36mpandas._libs.index.IndexEngine.get_loc\u001b[0;34m()\u001b[0m\n",
      "File \u001b[0;32m~/miniconda3/envs/evaluator-openff/lib/python3.10/site-packages/pandas/_libs/index.pyx:165\u001b[0m, in \u001b[0;36mpandas._libs.index.IndexEngine.get_loc\u001b[0;34m()\u001b[0m\n",
      "File \u001b[0;32mpandas/_libs/hashtable_class_helper.pxi:5745\u001b[0m, in \u001b[0;36mpandas._libs.hashtable.PyObjectHashTable.get_item\u001b[0;34m()\u001b[0m\n",
      "File \u001b[0;32mpandas/_libs/hashtable_class_helper.pxi:5753\u001b[0m, in \u001b[0;36mpandas._libs.hashtable.PyObjectHashTable.get_item\u001b[0;34m()\u001b[0m\n",
      "\u001b[0;31mKeyError\u001b[0m: 'Pressure (kPa)'",
      "\nThe above exception was the direct cause of the following exception:\n",
      "\u001b[0;31mKeyError\u001b[0m                                  Traceback (most recent call last)",
      "Cell \u001b[0;32mIn[82], line 3\u001b[0m\n\u001b[1;32m      1\u001b[0m \u001b[38;5;66;03m# Osmotic only\u001b[39;00m\n\u001b[1;32m      2\u001b[0m tml_oc_ds \u001b[38;5;241m=\u001b[39m FilterByPropertyTypes\u001b[38;5;241m.\u001b[39mapply(tml_data_set, osmotic_schema)\n\u001b[0;32m----> 3\u001b[0m tml_oc_press\u001b[38;5;241m=\u001b[39m \u001b[43mFilterByPressure\u001b[49m\u001b[38;5;241;43m.\u001b[39;49m\u001b[43mapply\u001b[49m\u001b[43m(\u001b[49m\u001b[43mtml_oc_ds\u001b[49m\u001b[43m,\u001b[49m\u001b[43m \u001b[49m\u001b[43mpressure_schema\u001b[49m\u001b[43m)\u001b[49m\n\u001b[1;32m      4\u001b[0m tml_oc_usable\u001b[38;5;241m=\u001b[39m FilterByTemperature\u001b[38;5;241m.\u001b[39mapply(tml_oc_press, temp_schema)\n\u001b[1;32m      5\u001b[0m \u001b[38;5;28mprint\u001b[39m(\u001b[38;5;28mlen\u001b[39m(tml_oc_usable))\n",
      "File \u001b[0;32m~/miniconda3/envs/evaluator-openff/lib/python3.10/site-packages/openff/evaluator/datasets/curation/components/components.py:85\u001b[0m, in \u001b[0;36mCurationComponent.apply\u001b[0;34m(cls, data_set, schema, n_processes)\u001b[0m\n\u001b[1;32m     82\u001b[0m \u001b[38;5;28;01mif\u001b[39;00m \u001b[38;5;28misinstance\u001b[39m(data_frame, PhysicalPropertyDataSet):\n\u001b[1;32m     83\u001b[0m     data_frame \u001b[38;5;241m=\u001b[39m data_frame\u001b[38;5;241m.\u001b[39mto_pandas()\n\u001b[0;32m---> 85\u001b[0m modified_data_frame \u001b[38;5;241m=\u001b[39m \u001b[38;5;28;43mcls\u001b[39;49m\u001b[38;5;241;43m.\u001b[39;49m\u001b[43m_apply\u001b[49m\u001b[43m(\u001b[49m\u001b[43mdata_frame\u001b[49m\u001b[43m,\u001b[49m\u001b[43m \u001b[49m\u001b[43mschema\u001b[49m\u001b[43m,\u001b[49m\u001b[43m \u001b[49m\u001b[43mn_processes\u001b[49m\u001b[43m)\u001b[49m\n\u001b[1;32m     87\u001b[0m n_data_points \u001b[38;5;241m=\u001b[39m \u001b[38;5;28mlen\u001b[39m(data_frame)\n\u001b[1;32m     88\u001b[0m n_filtered \u001b[38;5;241m=\u001b[39m \u001b[38;5;28mlen\u001b[39m(modified_data_frame)\n",
      "File \u001b[0;32m~/miniconda3/envs/evaluator-openff/lib/python3.10/site-packages/openff/evaluator/datasets/curation/components/filtering.py:232\u001b[0m, in \u001b[0;36mFilterByPressure._apply\u001b[0;34m(cls, data_frame, schema, n_processes)\u001b[0m\n\u001b[1;32m    228\u001b[0m filtered_frame \u001b[38;5;241m=\u001b[39m data_frame\n\u001b[1;32m    230\u001b[0m \u001b[38;5;28;01mif\u001b[39;00m schema\u001b[38;5;241m.\u001b[39mminimum_pressure \u001b[38;5;129;01mis\u001b[39;00m \u001b[38;5;129;01mnot\u001b[39;00m \u001b[38;5;28;01mNone\u001b[39;00m:\n\u001b[1;32m    231\u001b[0m     filtered_frame \u001b[38;5;241m=\u001b[39m filtered_frame[\n\u001b[0;32m--> 232\u001b[0m         schema\u001b[38;5;241m.\u001b[39mminimum_pressure \u001b[38;5;241m<\u001b[39m \u001b[43mfiltered_frame\u001b[49m\u001b[43m[\u001b[49m\u001b[38;5;124;43m\"\u001b[39;49m\u001b[38;5;124;43mPressure (kPa)\u001b[39;49m\u001b[38;5;124;43m\"\u001b[39;49m\u001b[43m]\u001b[49m\n\u001b[1;32m    233\u001b[0m     ]\n\u001b[1;32m    235\u001b[0m \u001b[38;5;28;01mif\u001b[39;00m schema\u001b[38;5;241m.\u001b[39mmaximum_pressure \u001b[38;5;129;01mis\u001b[39;00m \u001b[38;5;129;01mnot\u001b[39;00m \u001b[38;5;28;01mNone\u001b[39;00m:\n\u001b[1;32m    236\u001b[0m     filtered_frame \u001b[38;5;241m=\u001b[39m filtered_frame[\n\u001b[1;32m    237\u001b[0m         filtered_frame[\u001b[38;5;124m\"\u001b[39m\u001b[38;5;124mPressure (kPa)\u001b[39m\u001b[38;5;124m\"\u001b[39m] \u001b[38;5;241m<\u001b[39m schema\u001b[38;5;241m.\u001b[39mmaximum_pressure\n\u001b[1;32m    238\u001b[0m     ]\n",
      "File \u001b[0;32m~/miniconda3/envs/evaluator-openff/lib/python3.10/site-packages/pandas/core/frame.py:3807\u001b[0m, in \u001b[0;36mDataFrame.__getitem__\u001b[0;34m(self, key)\u001b[0m\n\u001b[1;32m   3805\u001b[0m \u001b[38;5;28;01mif\u001b[39;00m \u001b[38;5;28mself\u001b[39m\u001b[38;5;241m.\u001b[39mcolumns\u001b[38;5;241m.\u001b[39mnlevels \u001b[38;5;241m>\u001b[39m \u001b[38;5;241m1\u001b[39m:\n\u001b[1;32m   3806\u001b[0m     \u001b[38;5;28;01mreturn\u001b[39;00m \u001b[38;5;28mself\u001b[39m\u001b[38;5;241m.\u001b[39m_getitem_multilevel(key)\n\u001b[0;32m-> 3807\u001b[0m indexer \u001b[38;5;241m=\u001b[39m \u001b[38;5;28;43mself\u001b[39;49m\u001b[38;5;241;43m.\u001b[39;49m\u001b[43mcolumns\u001b[49m\u001b[38;5;241;43m.\u001b[39;49m\u001b[43mget_loc\u001b[49m\u001b[43m(\u001b[49m\u001b[43mkey\u001b[49m\u001b[43m)\u001b[49m\n\u001b[1;32m   3808\u001b[0m \u001b[38;5;28;01mif\u001b[39;00m is_integer(indexer):\n\u001b[1;32m   3809\u001b[0m     indexer \u001b[38;5;241m=\u001b[39m [indexer]\n",
      "File \u001b[0;32m~/miniconda3/envs/evaluator-openff/lib/python3.10/site-packages/pandas/core/indexes/base.py:3804\u001b[0m, in \u001b[0;36mIndex.get_loc\u001b[0;34m(self, key, method, tolerance)\u001b[0m\n\u001b[1;32m   3802\u001b[0m     \u001b[38;5;28;01mreturn\u001b[39;00m \u001b[38;5;28mself\u001b[39m\u001b[38;5;241m.\u001b[39m_engine\u001b[38;5;241m.\u001b[39mget_loc(casted_key)\n\u001b[1;32m   3803\u001b[0m \u001b[38;5;28;01mexcept\u001b[39;00m \u001b[38;5;167;01mKeyError\u001b[39;00m \u001b[38;5;28;01mas\u001b[39;00m err:\n\u001b[0;32m-> 3804\u001b[0m     \u001b[38;5;28;01mraise\u001b[39;00m \u001b[38;5;167;01mKeyError\u001b[39;00m(key) \u001b[38;5;28;01mfrom\u001b[39;00m \u001b[38;5;21;01merr\u001b[39;00m\n\u001b[1;32m   3805\u001b[0m \u001b[38;5;28;01mexcept\u001b[39;00m \u001b[38;5;167;01mTypeError\u001b[39;00m:\n\u001b[1;32m   3806\u001b[0m     \u001b[38;5;66;03m# If we have a listlike key, _check_indexing_error will raise\u001b[39;00m\n\u001b[1;32m   3807\u001b[0m     \u001b[38;5;66;03m#  InvalidIndexError. Otherwise we fall through and re-raise\u001b[39;00m\n\u001b[1;32m   3808\u001b[0m     \u001b[38;5;66;03m#  the TypeError.\u001b[39;00m\n\u001b[1;32m   3809\u001b[0m     \u001b[38;5;28mself\u001b[39m\u001b[38;5;241m.\u001b[39m_check_indexing_error(key)\n",
      "\u001b[0;31mKeyError\u001b[0m: 'Pressure (kPa)'"
     ]
    }
   ],
   "source": [
    "# Osmotic only\n",
    "tml_oc_ds = FilterByPropertyTypes.apply(tml_data_set, osmotic_schema)\n",
    "tml_oc_press= FilterByPressure.apply(tml_oc_ds, pressure_schema)\n",
    "tml_oc_usable= FilterByTemperature.apply(tml_oc_press, temp_schema)\n",
    "print(len(tml_oc_usable))\n",
    "\n",
    "# save for future use\n",
    "tml_oc_path = Path(f'filtered_{database_directory}/tml_filtered_oc_usable.json')\n",
    "tml_oc_usable.json(tml_oc_path, format=True)\n",
    "\n",
    "df_oc=tml_oc_usable.to_pandas()\n",
    "df_oc.to_csv(f'filtered_{database_directory}/tml_oc_usable_database.csv',index=False)"
   ]
  },
  {
   "cell_type": "code",
   "execution_count": 83,
   "metadata": {},
   "outputs": [
    {
     "ename": "KeyError",
     "evalue": "'Pressure (kPa)'",
     "output_type": "error",
     "traceback": [
      "\u001b[0;31m---------------------------------------------------------------------------\u001b[0m",
      "\u001b[0;31mKeyError\u001b[0m                                  Traceback (most recent call last)",
      "File \u001b[0;32m~/miniconda3/envs/evaluator-openff/lib/python3.10/site-packages/pandas/core/indexes/base.py:3802\u001b[0m, in \u001b[0;36mIndex.get_loc\u001b[0;34m(self, key, method, tolerance)\u001b[0m\n\u001b[1;32m   3801\u001b[0m \u001b[38;5;28;01mtry\u001b[39;00m:\n\u001b[0;32m-> 3802\u001b[0m     \u001b[38;5;28;01mreturn\u001b[39;00m \u001b[38;5;28;43mself\u001b[39;49m\u001b[38;5;241;43m.\u001b[39;49m\u001b[43m_engine\u001b[49m\u001b[38;5;241;43m.\u001b[39;49m\u001b[43mget_loc\u001b[49m\u001b[43m(\u001b[49m\u001b[43mcasted_key\u001b[49m\u001b[43m)\u001b[49m\n\u001b[1;32m   3803\u001b[0m \u001b[38;5;28;01mexcept\u001b[39;00m \u001b[38;5;167;01mKeyError\u001b[39;00m \u001b[38;5;28;01mas\u001b[39;00m err:\n",
      "File \u001b[0;32m~/miniconda3/envs/evaluator-openff/lib/python3.10/site-packages/pandas/_libs/index.pyx:138\u001b[0m, in \u001b[0;36mpandas._libs.index.IndexEngine.get_loc\u001b[0;34m()\u001b[0m\n",
      "File \u001b[0;32m~/miniconda3/envs/evaluator-openff/lib/python3.10/site-packages/pandas/_libs/index.pyx:165\u001b[0m, in \u001b[0;36mpandas._libs.index.IndexEngine.get_loc\u001b[0;34m()\u001b[0m\n",
      "File \u001b[0;32mpandas/_libs/hashtable_class_helper.pxi:5745\u001b[0m, in \u001b[0;36mpandas._libs.hashtable.PyObjectHashTable.get_item\u001b[0;34m()\u001b[0m\n",
      "File \u001b[0;32mpandas/_libs/hashtable_class_helper.pxi:5753\u001b[0m, in \u001b[0;36mpandas._libs.hashtable.PyObjectHashTable.get_item\u001b[0;34m()\u001b[0m\n",
      "\u001b[0;31mKeyError\u001b[0m: 'Pressure (kPa)'",
      "\nThe above exception was the direct cause of the following exception:\n",
      "\u001b[0;31mKeyError\u001b[0m                                  Traceback (most recent call last)",
      "Cell \u001b[0;32mIn[83], line 3\u001b[0m\n\u001b[1;32m      1\u001b[0m \u001b[38;5;66;03m# Activity only\u001b[39;00m\n\u001b[1;32m      2\u001b[0m tml_ac_ds \u001b[38;5;241m=\u001b[39m FilterByPropertyTypes\u001b[38;5;241m.\u001b[39mapply(tml_data_set, activity_schema)\n\u001b[0;32m----> 3\u001b[0m tml_ac_press\u001b[38;5;241m=\u001b[39m \u001b[43mFilterByPressure\u001b[49m\u001b[38;5;241;43m.\u001b[39;49m\u001b[43mapply\u001b[49m\u001b[43m(\u001b[49m\u001b[43mtml_ac_ds\u001b[49m\u001b[43m,\u001b[49m\u001b[43m \u001b[49m\u001b[43mpressure_schema\u001b[49m\u001b[43m)\u001b[49m\n\u001b[1;32m      4\u001b[0m tml_ac_usable\u001b[38;5;241m=\u001b[39m FilterByTemperature\u001b[38;5;241m.\u001b[39mapply(tml_ac_press, temp_schema)\n\u001b[1;32m      5\u001b[0m \u001b[38;5;28mprint\u001b[39m(\u001b[38;5;28mlen\u001b[39m(tml_ac_usable))\n",
      "File \u001b[0;32m~/miniconda3/envs/evaluator-openff/lib/python3.10/site-packages/openff/evaluator/datasets/curation/components/components.py:85\u001b[0m, in \u001b[0;36mCurationComponent.apply\u001b[0;34m(cls, data_set, schema, n_processes)\u001b[0m\n\u001b[1;32m     82\u001b[0m \u001b[38;5;28;01mif\u001b[39;00m \u001b[38;5;28misinstance\u001b[39m(data_frame, PhysicalPropertyDataSet):\n\u001b[1;32m     83\u001b[0m     data_frame \u001b[38;5;241m=\u001b[39m data_frame\u001b[38;5;241m.\u001b[39mto_pandas()\n\u001b[0;32m---> 85\u001b[0m modified_data_frame \u001b[38;5;241m=\u001b[39m \u001b[38;5;28;43mcls\u001b[39;49m\u001b[38;5;241;43m.\u001b[39;49m\u001b[43m_apply\u001b[49m\u001b[43m(\u001b[49m\u001b[43mdata_frame\u001b[49m\u001b[43m,\u001b[49m\u001b[43m \u001b[49m\u001b[43mschema\u001b[49m\u001b[43m,\u001b[49m\u001b[43m \u001b[49m\u001b[43mn_processes\u001b[49m\u001b[43m)\u001b[49m\n\u001b[1;32m     87\u001b[0m n_data_points \u001b[38;5;241m=\u001b[39m \u001b[38;5;28mlen\u001b[39m(data_frame)\n\u001b[1;32m     88\u001b[0m n_filtered \u001b[38;5;241m=\u001b[39m \u001b[38;5;28mlen\u001b[39m(modified_data_frame)\n",
      "File \u001b[0;32m~/miniconda3/envs/evaluator-openff/lib/python3.10/site-packages/openff/evaluator/datasets/curation/components/filtering.py:232\u001b[0m, in \u001b[0;36mFilterByPressure._apply\u001b[0;34m(cls, data_frame, schema, n_processes)\u001b[0m\n\u001b[1;32m    228\u001b[0m filtered_frame \u001b[38;5;241m=\u001b[39m data_frame\n\u001b[1;32m    230\u001b[0m \u001b[38;5;28;01mif\u001b[39;00m schema\u001b[38;5;241m.\u001b[39mminimum_pressure \u001b[38;5;129;01mis\u001b[39;00m \u001b[38;5;129;01mnot\u001b[39;00m \u001b[38;5;28;01mNone\u001b[39;00m:\n\u001b[1;32m    231\u001b[0m     filtered_frame \u001b[38;5;241m=\u001b[39m filtered_frame[\n\u001b[0;32m--> 232\u001b[0m         schema\u001b[38;5;241m.\u001b[39mminimum_pressure \u001b[38;5;241m<\u001b[39m \u001b[43mfiltered_frame\u001b[49m\u001b[43m[\u001b[49m\u001b[38;5;124;43m\"\u001b[39;49m\u001b[38;5;124;43mPressure (kPa)\u001b[39;49m\u001b[38;5;124;43m\"\u001b[39;49m\u001b[43m]\u001b[49m\n\u001b[1;32m    233\u001b[0m     ]\n\u001b[1;32m    235\u001b[0m \u001b[38;5;28;01mif\u001b[39;00m schema\u001b[38;5;241m.\u001b[39mmaximum_pressure \u001b[38;5;129;01mis\u001b[39;00m \u001b[38;5;129;01mnot\u001b[39;00m \u001b[38;5;28;01mNone\u001b[39;00m:\n\u001b[1;32m    236\u001b[0m     filtered_frame \u001b[38;5;241m=\u001b[39m filtered_frame[\n\u001b[1;32m    237\u001b[0m         filtered_frame[\u001b[38;5;124m\"\u001b[39m\u001b[38;5;124mPressure (kPa)\u001b[39m\u001b[38;5;124m\"\u001b[39m] \u001b[38;5;241m<\u001b[39m schema\u001b[38;5;241m.\u001b[39mmaximum_pressure\n\u001b[1;32m    238\u001b[0m     ]\n",
      "File \u001b[0;32m~/miniconda3/envs/evaluator-openff/lib/python3.10/site-packages/pandas/core/frame.py:3807\u001b[0m, in \u001b[0;36mDataFrame.__getitem__\u001b[0;34m(self, key)\u001b[0m\n\u001b[1;32m   3805\u001b[0m \u001b[38;5;28;01mif\u001b[39;00m \u001b[38;5;28mself\u001b[39m\u001b[38;5;241m.\u001b[39mcolumns\u001b[38;5;241m.\u001b[39mnlevels \u001b[38;5;241m>\u001b[39m \u001b[38;5;241m1\u001b[39m:\n\u001b[1;32m   3806\u001b[0m     \u001b[38;5;28;01mreturn\u001b[39;00m \u001b[38;5;28mself\u001b[39m\u001b[38;5;241m.\u001b[39m_getitem_multilevel(key)\n\u001b[0;32m-> 3807\u001b[0m indexer \u001b[38;5;241m=\u001b[39m \u001b[38;5;28;43mself\u001b[39;49m\u001b[38;5;241;43m.\u001b[39;49m\u001b[43mcolumns\u001b[49m\u001b[38;5;241;43m.\u001b[39;49m\u001b[43mget_loc\u001b[49m\u001b[43m(\u001b[49m\u001b[43mkey\u001b[49m\u001b[43m)\u001b[49m\n\u001b[1;32m   3808\u001b[0m \u001b[38;5;28;01mif\u001b[39;00m is_integer(indexer):\n\u001b[1;32m   3809\u001b[0m     indexer \u001b[38;5;241m=\u001b[39m [indexer]\n",
      "File \u001b[0;32m~/miniconda3/envs/evaluator-openff/lib/python3.10/site-packages/pandas/core/indexes/base.py:3804\u001b[0m, in \u001b[0;36mIndex.get_loc\u001b[0;34m(self, key, method, tolerance)\u001b[0m\n\u001b[1;32m   3802\u001b[0m     \u001b[38;5;28;01mreturn\u001b[39;00m \u001b[38;5;28mself\u001b[39m\u001b[38;5;241m.\u001b[39m_engine\u001b[38;5;241m.\u001b[39mget_loc(casted_key)\n\u001b[1;32m   3803\u001b[0m \u001b[38;5;28;01mexcept\u001b[39;00m \u001b[38;5;167;01mKeyError\u001b[39;00m \u001b[38;5;28;01mas\u001b[39;00m err:\n\u001b[0;32m-> 3804\u001b[0m     \u001b[38;5;28;01mraise\u001b[39;00m \u001b[38;5;167;01mKeyError\u001b[39;00m(key) \u001b[38;5;28;01mfrom\u001b[39;00m \u001b[38;5;21;01merr\u001b[39;00m\n\u001b[1;32m   3805\u001b[0m \u001b[38;5;28;01mexcept\u001b[39;00m \u001b[38;5;167;01mTypeError\u001b[39;00m:\n\u001b[1;32m   3806\u001b[0m     \u001b[38;5;66;03m# If we have a listlike key, _check_indexing_error will raise\u001b[39;00m\n\u001b[1;32m   3807\u001b[0m     \u001b[38;5;66;03m#  InvalidIndexError. Otherwise we fall through and re-raise\u001b[39;00m\n\u001b[1;32m   3808\u001b[0m     \u001b[38;5;66;03m#  the TypeError.\u001b[39;00m\n\u001b[1;32m   3809\u001b[0m     \u001b[38;5;28mself\u001b[39m\u001b[38;5;241m.\u001b[39m_check_indexing_error(key)\n",
      "\u001b[0;31mKeyError\u001b[0m: 'Pressure (kPa)'"
     ]
    }
   ],
   "source": [
    "# Activity only\n",
    "tml_ac_ds = FilterByPropertyTypes.apply(tml_data_set, activity_schema)\n",
    "tml_ac_press= FilterByPressure.apply(tml_ac_ds, pressure_schema)\n",
    "tml_ac_usable= FilterByTemperature.apply(tml_ac_press, temp_schema)\n",
    "print(len(tml_ac_usable))\n",
    "\n",
    "# save for future use\n",
    "tml_ac_path = Path(f'filtered_{database_directory}/tml_filtered_ac_usable.json')\n",
    "tml_ac_usable.json(tml_ac_path, format=True)\n",
    "\n",
    "df_ac=tml_ac_usable.to_pandas()\n",
    "df_ac.to_csv(f'filtered_{database_directory}/tml_ac_usable_database.csv',index=False)"
   ]
  },
  {
   "cell_type": "markdown",
   "metadata": {},
   "source": [
    "### Get data information"
   ]
  },
  {
   "cell_type": "code",
   "execution_count": null,
   "metadata": {},
   "outputs": [
    {
     "ename": "NameError",
     "evalue": "name 'tml_ocac_usable' is not defined",
     "output_type": "error",
     "traceback": [
      "\u001b[0;31m---------------------------------------------------------------------------\u001b[0m",
      "\u001b[0;31mNameError\u001b[0m                                 Traceback (most recent call last)",
      "Cell \u001b[0;32mIn[44], line 1\u001b[0m\n\u001b[0;32m----> 1\u001b[0m get_indiv_comps(\u001b[43mtml_ocac_usable\u001b[49m, \u001b[38;5;124m'\u001b[39m\u001b[38;5;124mocac\u001b[39m\u001b[38;5;124m'\u001b[39m)\n\u001b[1;32m      2\u001b[0m get_uniquemixs_counts(df_ocac, \u001b[38;5;124m'\u001b[39m\u001b[38;5;124mocac\u001b[39m\u001b[38;5;124m'\u001b[39m)\n",
      "\u001b[0;31mNameError\u001b[0m: name 'tml_ocac_usable' is not defined"
     ]
    }
   ],
   "source": [
    "get_indiv_comps(tml_ocac_usable, 'ocac')\n",
    "get_uniquemixs_counts(df_ocac, 'ocac')"
   ]
  },
  {
   "cell_type": "code",
   "execution_count": null,
   "metadata": {},
   "outputs": [
    {
     "name": "stdout",
     "output_type": "stream",
     "text": [
      "Number of initial data points: 1822\n",
      "Number of individual mixtures: 1297\n",
      "Number of individual components: 53\n",
      "ThermoML - Number of oc mixtures: 96\n"
     ]
    }
   ],
   "source": [
    "get_indiv_comps(tml_oc_usable, 'oc')\n",
    "get_uniquemixs_counts(df_oc, 'oc')"
   ]
  },
  {
   "cell_type": "code",
   "execution_count": null,
   "metadata": {},
   "outputs": [
    {
     "name": "stdout",
     "output_type": "stream",
     "text": [
      "Number of initial data points: 9108\n",
      "Number of individual mixtures: 333\n",
      "Number of individual components: 99\n",
      "ThermoML - Number of ac mixtures: 99\n"
     ]
    }
   ],
   "source": [
    "get_indiv_comps(tml_ac_usable, 'ac')\n",
    "get_uniquemixs_counts(df_ac, 'ac')"
   ]
  },
  {
   "cell_type": "code",
   "execution_count": null,
   "metadata": {},
   "outputs": [],
   "source": []
  }
 ],
 "metadata": {
  "kernelspec": {
   "display_name": "evaluator-openff",
   "language": "python",
   "name": "python3"
  },
  "language_info": {
   "codemirror_mode": {
    "name": "ipython",
    "version": 3
   },
   "file_extension": ".py",
   "mimetype": "text/x-python",
   "name": "python",
   "nbconvert_exporter": "python",
   "pygments_lexer": "ipython3",
   "version": "3.10.13"
  }
 },
 "nbformat": 4,
 "nbformat_minor": 2
}
