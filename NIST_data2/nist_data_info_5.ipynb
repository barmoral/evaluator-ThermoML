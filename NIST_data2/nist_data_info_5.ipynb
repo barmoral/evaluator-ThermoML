{
 "cells": [
  {
   "cell_type": "markdown",
   "metadata": {},
   "source": [
    "# Core Imports and Setup"
   ]
  },
  {
   "cell_type": "code",
   "execution_count": 1,
   "metadata": {},
   "outputs": [],
   "source": [
    "import os\n",
    "import pandas as pd\n",
    "from pathlib import Path\n",
    "\n",
    "import warnings\n",
    "warnings.filterwarnings(\"ignore\")\n",
    "\n",
    "import logging\n",
    "# logging.getLogger(\"openff.toolkit\").setLevel(logging.ERROR)\n",
    "# logging.basicConfig(level=logging.DEBUG)\n",
    "\n",
    "import json\n",
    "from openff import toolkit, evaluator"
   ]
  },
  {
   "cell_type": "code",
   "execution_count": 2,
   "metadata": {},
   "outputs": [],
   "source": [
    "from rdkit import Chem\n",
    "from rdkit.Chem.Draw import IPythonConsole\n",
    "from rdkit.Chem import Draw, MolFromSmiles\n",
    "from rdkit.Chem.Draw import MolsToGridImage, rdMolDraw2D, MolsMatrixToGridImage\n",
    "import pubchempy\n",
    "from PIL import Image, ImageDraw, ImageFont\n",
    "IPythonConsole.ipython_useSVG=False  #< set this to False if you want PNGs instead of SVGs"
   ]
  },
  {
   "cell_type": "code",
   "execution_count": 3,
   "metadata": {},
   "outputs": [],
   "source": [
    "from rdkit.Chem import rdMolDescriptors\n",
    "import pubchempy as pcp\n",
    "import math"
   ]
  },
  {
   "cell_type": "code",
   "execution_count": 4,
   "metadata": {},
   "outputs": [],
   "source": [
    "from openff.evaluator.datasets import PhysicalProperty, PropertyPhase\n",
    "from openff.evaluator.datasets.thermoml import thermoml_property\n",
    "from openff.evaluator import properties\n",
    "from openff.units import unit\n",
    "from openff.evaluator.datasets.thermoml import ThermoMLDataSet\n",
    "from openff.evaluator.datasets import PhysicalProperty, PropertyPhase, PhysicalPropertyDataSet"
   ]
  },
  {
   "cell_type": "code",
   "execution_count": 5,
   "metadata": {},
   "outputs": [],
   "source": [
    "from openff.evaluator.datasets.curation.components.filtering import FilterByPropertyTypes, FilterByPropertyTypesSchema\n",
    "from openff.evaluator.datasets.curation.components.filtering import FilterByTemperature, FilterByTemperatureSchema\n",
    "from openff.evaluator.datasets.curation.components.filtering import FilterByPressure, FilterByPressureSchema\n",
    "from openff.evaluator.datasets.curation.components.filtering import FilterBySmiles, FilterBySmilesSchema\n",
    "from openff.evaluator.datasets.curation.components.filtering import FilterByNComponents, FilterByNComponentsSchema\n"
   ]
  },
  {
   "cell_type": "code",
   "execution_count": 6,
   "metadata": {},
   "outputs": [],
   "source": [
    "from rich.progress import track\n",
    "from collections import defaultdict\n",
    "from openff.toolkit.utils.exceptions import UndefinedStereochemistryError"
   ]
  },
  {
   "cell_type": "markdown",
   "metadata": {},
   "source": [
    "# Registering New Properties"
   ]
  },
  {
   "cell_type": "code",
   "execution_count": 7,
   "metadata": {},
   "outputs": [
    {
     "data": {
      "text/plain": [
       "functools.partial(<function _default_mapping at 0x7efcbfb9ecb0>, <class '__main__.OsmoticCoefficient'>)"
      ]
     },
     "execution_count": 7,
     "metadata": {},
     "output_type": "execute_result"
    }
   ],
   "source": [
    "@thermoml_property(\"Osmotic coefficient\", supported_phases=PropertyPhase.Liquid | PropertyPhase.Gas)\n",
    "class OsmoticCoefficient(PhysicalProperty):\n",
    "    \"\"\"A class representation of a osmotic coeff property\"\"\"\n",
    "\n",
    "    @classmethod\n",
    "    def default_unit(cls):\n",
    "        return unit.dimensionless\n",
    "    \n",
    "setattr(properties, OsmoticCoefficient.__name__, OsmoticCoefficient)\n",
    "\n",
    "ThermoMLDataSet.registered_properties['Osmotic coefficient'].conversion_function"
   ]
  },
  {
   "cell_type": "code",
   "execution_count": 8,
   "metadata": {},
   "outputs": [
    {
     "data": {
      "text/plain": [
       "functools.partial(<function _default_mapping at 0x7efcbfb9ecb0>, <class '__main__.ActivityCoefficient'>)"
      ]
     },
     "execution_count": 8,
     "metadata": {},
     "output_type": "execute_result"
    }
   ],
   "source": [
    "@thermoml_property(\"Activity coefficient\", supported_phases=PropertyPhase.Liquid | PropertyPhase.Gas)\n",
    "class ActivityCoefficient(PhysicalProperty):\n",
    "    \"\"\"A class representation of a Activity coeff property\"\"\"\n",
    "\n",
    "    @classmethod\n",
    "    def default_unit(cls):\n",
    "        return unit.dimensionless\n",
    "    \n",
    "setattr(properties, ActivityCoefficient.__name__, ActivityCoefficient)\n",
    "\n",
    "ThermoMLDataSet.registered_properties['Activity coefficient'].conversion_function"
   ]
  },
  {
   "cell_type": "code",
   "execution_count": 9,
   "metadata": {},
   "outputs": [
    {
     "data": {
      "text/plain": [
       "functools.partial(<function _default_mapping at 0x7efcbfb9ecb0>, <class '__main__.SpeedOfSound'>)"
      ]
     },
     "execution_count": 9,
     "metadata": {},
     "output_type": "execute_result"
    }
   ],
   "source": [
    "@thermoml_property(\"Speed Of Sound (m/s)\", supported_phases=PropertyPhase.Liquid | PropertyPhase.Gas)\n",
    "class SpeedOfSound(PhysicalProperty):\n",
    "    \"\"\"A class representation of a Speed Of Sound property\"\"\"\n",
    "\n",
    "    @classmethod\n",
    "    def default_unit(cls):\n",
    "        return unit.meter / unit.second\n",
    "    \n",
    "setattr(properties, SpeedOfSound.__name__, SpeedOfSound)\n",
    "\n",
    "ThermoMLDataSet.registered_properties['Speed Of Sound (m/s)'].conversion_function"
   ]
  },
  {
   "cell_type": "markdown",
   "metadata": {},
   "source": [
    "# Functions"
   ]
  },
  {
   "cell_type": "code",
   "execution_count": 10,
   "metadata": {},
   "outputs": [],
   "source": [
    "def filter_database (unfiltered_directory):\n",
    "    data_set=[]\n",
    "    # Loop through all files in the directory\n",
    "    for filename in os.listdir(unfiltered_directory):\n",
    "        # Check if the file ends with .json\n",
    "        if filename.endswith('.xml'):\n",
    "            # Full path to the file\n",
    "            file_path = os.path.join(unfiltered_directory, filename)\n",
    "            data_set.append(file_path)\n",
    "    \n",
    "    sorted_dois = defaultdict(list)\n",
    "    for doi in track(data_set, description='Filtering DOIs...'):\n",
    "        try:\n",
    "            dataset = ThermoMLDataSet._from_file(doi)\n",
    "            sorted_dois['working'].append(doi)\n",
    "        except UndefinedStereochemistryError:\n",
    "            sorted_dois['stereo_fail'].append(doi)\n",
    "        except Exception as other_exc:\n",
    "            sorted_dois[other_exc.__class__.__name__].append(doi)\n",
    "\n",
    "    print('Amount of failing files: %i/%i' % (len(sorted_dois['stereo_fail']),len(data_set)))\n",
    "    print('Amount of working files: %i/%i' % (len(sorted_dois['working']),len(data_set)))\n",
    "\n",
    "    return sorted_dois['working']"
   ]
  },
  {
   "cell_type": "code",
   "execution_count": 11,
   "metadata": {},
   "outputs": [],
   "source": [
    "def extract_database (database_directory, csv_cached):\n",
    "    CACHED_PROP_PATH = Path(csv_cached)\n",
    "\n",
    "    if CACHED_PROP_PATH.exists():\n",
    "        prop_df = pd.read_csv(CACHED_PROP_PATH, index_col=0)\n",
    "        # delete rows with underfined thermo params to avoid pesky indexing errors\n",
    "        prop_df = prop_df.dropna(subset=['Temperature (K)'])\n",
    "        prop_df = prop_df.dropna(subset=['Pressure (kPa)'])\n",
    "        data_set = ThermoMLDataSet.from_pandas(prop_df)\n",
    "    else:\n",
    "        sorted_files=filter_database(database_directory)\n",
    "        data_set=ThermoMLDataSet.from_file(*sorted_files)\n",
    "\n",
    "        initial_df = data_set.to_pandas()\n",
    "        with CACHED_PROP_PATH.open('w') as file:\n",
    "            initial_df.to_csv(CACHED_PROP_PATH)\n",
    "    return data_set"
   ]
  },
  {
   "cell_type": "markdown",
   "metadata": {},
   "source": [
    "# Import Directory"
   ]
  },
  {
   "cell_type": "code",
   "execution_count": 18,
   "metadata": {},
   "outputs": [
    {
     "name": "stdout",
     "output_type": "stream",
     "text": [
      "Loaded DataFrames: dict_keys(['1007', '1016', '1021'])\n",
      "Merged DataFrame:\n",
      "        Unnamed: 0                                Id  Temperature (K)  \\\n",
      "0               13  7616bb9f827b4003bf01c20e13f08c1b           298.15   \n",
      "1               14  41426fd0c07044919d388155321abcac           298.15   \n",
      "2               15  298aee969c294104aa5c397f73b81e77           298.15   \n",
      "3               16  39ced9cf9c7543668f0e61db747ab6c9           298.15   \n",
      "4               17  7aa18c4cd41a40ee80a6b86bf2e61297           298.15   \n",
      "...            ...                               ...              ...   \n",
      "158432      324961  837dfe6504134a1482d50cb206fadd5f           298.15   \n",
      "158433      324962  e360156829d844a7824d971f470dbb08           298.15   \n",
      "158434      324963  c3cd4aa0d7474690ac64db2a020b93fc           298.15   \n",
      "158435      324964  db5ee64564e8455fa6b27826e7d61794           298.15   \n",
      "158436      324965  7df62d582a7646e48d811f2d7602926f           298.15   \n",
      "\n",
      "        Pressure (kPa)   Phase  N Components  Component 1   Role 1  \\\n",
      "0                101.0  Liquid             2  CCCCCCCCCCO  Solvent   \n",
      "1                101.0  Liquid             2  CCCCCCCCCCO  Solvent   \n",
      "2                101.0  Liquid             2  CCCCCCCCCCO  Solvent   \n",
      "3                101.0  Liquid             2  CCCCCCCCCCO  Solvent   \n",
      "4                101.0  Liquid             2  CCCCCCCCCCO  Solvent   \n",
      "...                ...     ...           ...          ...      ...   \n",
      "158432           101.3  Liquid             2      C1COCO1  Solvent   \n",
      "158433           101.3  Liquid             2      C1COCO1  Solvent   \n",
      "158434           101.3  Liquid             2      C1COCO1  Solvent   \n",
      "158435           101.3  Liquid             2      C1COCO1  Solvent   \n",
      "158436           101.3  Liquid             2      C1COCO1  Solvent   \n",
      "\n",
      "        Mole Fraction 1  Exact Amount 1  ...  \\\n",
      "0                0.9266             NaN  ...   \n",
      "1                0.8463             NaN  ...   \n",
      "2                0.7936             NaN  ...   \n",
      "3                0.7253             NaN  ...   \n",
      "4                0.6550             NaN  ...   \n",
      "...                 ...             ...  ...   \n",
      "158432           0.6670             NaN  ...   \n",
      "158433           0.7125             NaN  ...   \n",
      "158434           0.7850             NaN  ...   \n",
      "158435           0.8627             NaN  ...   \n",
      "158436           0.9533             NaN  ...   \n",
      "\n",
      "       ExcessMolarVolume Uncertainty (cm ** 3 / mol)  \\\n",
      "0                                                NaN   \n",
      "1                                                NaN   \n",
      "2                                                NaN   \n",
      "3                                                NaN   \n",
      "4                                                NaN   \n",
      "...                                              ...   \n",
      "158432                                           NaN   \n",
      "158433                                           NaN   \n",
      "158434                                           NaN   \n",
      "158435                                           NaN   \n",
      "158436                                           NaN   \n",
      "\n",
      "                           Source  OsmoticCoefficient Value ()  \\\n",
      "0       10.1007/s10765-011-0995-x                          NaN   \n",
      "1       10.1007/s10765-011-0995-x                          NaN   \n",
      "2       10.1007/s10765-011-0995-x                          NaN   \n",
      "3       10.1007/s10765-011-0995-x                          NaN   \n",
      "4       10.1007/s10765-011-0995-x                          NaN   \n",
      "...                           ...                          ...   \n",
      "158432          10.1021/je034223r                          NaN   \n",
      "158433          10.1021/je034223r                          NaN   \n",
      "158434          10.1021/je034223r                          NaN   \n",
      "158435          10.1021/je034223r                          NaN   \n",
      "158436          10.1021/je034223r                          NaN   \n",
      "\n",
      "        OsmoticCoefficient Uncertainty ()  ActivityCoefficient Value ()  \\\n",
      "0                                     NaN                           NaN   \n",
      "1                                     NaN                           NaN   \n",
      "2                                     NaN                           NaN   \n",
      "3                                     NaN                           NaN   \n",
      "4                                     NaN                           NaN   \n",
      "...                                   ...                           ...   \n",
      "158432                                NaN                           NaN   \n",
      "158433                                NaN                           NaN   \n",
      "158434                                NaN                           NaN   \n",
      "158435                                NaN                           NaN   \n",
      "158436                                NaN                           NaN   \n",
      "\n",
      "        ActivityCoefficient Uncertainty ()  DielectricConstant Value ()  \\\n",
      "0                                      NaN                          NaN   \n",
      "1                                      NaN                          NaN   \n",
      "2                                      NaN                          NaN   \n",
      "3                                      NaN                          NaN   \n",
      "4                                      NaN                          NaN   \n",
      "...                                    ...                          ...   \n",
      "158432                                 NaN                          NaN   \n",
      "158433                                 NaN                          NaN   \n",
      "158434                                 NaN                          NaN   \n",
      "158435                                 NaN                          NaN   \n",
      "158436                                 NaN                          NaN   \n",
      "\n",
      "        DielectricConstant Uncertainty ()  EnthalpyOfMixing Value (kJ / mol)  \\\n",
      "0                                     NaN                                NaN   \n",
      "1                                     NaN                                NaN   \n",
      "2                                     NaN                                NaN   \n",
      "3                                     NaN                                NaN   \n",
      "4                                     NaN                                NaN   \n",
      "...                                   ...                                ...   \n",
      "158432                                NaN                                NaN   \n",
      "158433                                NaN                                NaN   \n",
      "158434                                NaN                                NaN   \n",
      "158435                                NaN                                NaN   \n",
      "158436                                NaN                                NaN   \n",
      "\n",
      "        EnthalpyOfMixing Uncertainty (kJ / mol)  \n",
      "0                                           NaN  \n",
      "1                                           NaN  \n",
      "2                                           NaN  \n",
      "3                                           NaN  \n",
      "4                                           NaN  \n",
      "...                                         ...  \n",
      "158432                                      NaN  \n",
      "158433                                      NaN  \n",
      "158434                                      NaN  \n",
      "158435                                      NaN  \n",
      "158436                                      NaN  \n",
      "\n",
      "[158437 rows x 31 columns]\n"
     ]
    }
   ],
   "source": [
    "# Specify the directory containing the CSV files\n",
    "csv_directory = './'  # Change to your directory path\n",
    "\n",
    "# List of specific CSV files to read\n",
    "csv_files_to_read = ['filtered_1007.csv', 'filtered_1016.csv', 'filtered_1021.csv']\n",
    "\n",
    "# Create an empty dictionary to store DataFrames\n",
    "dataframes_dict = {}\n",
    "\n",
    "# Loop through the specified list of files\n",
    "for filename in csv_files_to_read:\n",
    "    # Generate the full path to the file\n",
    "    file_path = os.path.join(csv_directory, filename)\n",
    "    \n",
    "    # Load the CSV file into a DataFrame\n",
    "    df = pd.read_csv(file_path)\n",
    "    \n",
    "    # Extract the last four numbers before the extension to use as the key\n",
    "    key = filename.split('_')[-1].split('.')[0]\n",
    "    dataframes_dict[key] = df\n",
    "\n",
    "# Merge all DataFrames together without repeating data points\n",
    "merged_dataframe = pd.concat(dataframes_dict.values()).drop_duplicates().reset_index(drop=True)\n",
    "\n",
    "# Print the keys of the dictionary to verify\n",
    "print(\"Loaded DataFrames:\", dataframes_dict.keys())\n",
    "\n",
    "# Print the merged DataFrame to verify\n",
    "print(\"Merged DataFrame:\")\n",
    "print(merged_dataframe)"
   ]
  },
  {
   "cell_type": "code",
   "execution_count": 20,
   "metadata": {},
   "outputs": [],
   "source": [
    "merged_dataframe.to_csv(f'filtered_merged.csv')"
   ]
  },
  {
   "cell_type": "code",
   "execution_count": null,
   "metadata": {},
   "outputs": [],
   "source": [
    "filtered_dataset=ThermoMLDataSet.from_pandas(merged_dataframe)"
   ]
  },
  {
   "cell_type": "markdown",
   "metadata": {},
   "source": [
    "# Counting with Evaluator"
   ]
  },
  {
   "cell_type": "markdown",
   "metadata": {},
   "source": [
    "## Filtering properties schemas"
   ]
  },
  {
   "cell_type": "code",
   "execution_count": null,
   "metadata": {},
   "outputs": [],
   "source": [
    "hmix_schema = FilterByPropertyTypesSchema(property_types=[\"EnthalpyOfMixing\"], strict=True)\n",
    "dens_schema = FilterByPropertyTypesSchema(property_types=[\"Density\"], strict=True)\n",
    "hmix_dens_schema = FilterByPropertyTypesSchema(property_types=[\"EnthalpyOfMixing\",\"Density\"])\n",
    "hmix_dens_strict_schema = FilterByPropertyTypesSchema(property_types=[\"EnthalpyOfMixing\",\"Density\"], strict=True)"
   ]
  },
  {
   "cell_type": "code",
   "execution_count": null,
   "metadata": {},
   "outputs": [],
   "source": [
    "osmotic_schema = FilterByPropertyTypesSchema(property_types=[\"OsmoticCoefficient\"], strict=True)\n",
    "activity_schema = FilterByPropertyTypesSchema(property_types=[\"ActivityCoefficient\"], strict=True)\n",
    "oc_ac_schema = FilterByPropertyTypesSchema(property_types=[\"OsmoticCoefficient\",\"ActivityCoefficient\"])\n",
    "oc_ac_strict_schema = FilterByPropertyTypesSchema(property_types=[\"OsmoticCoefficient\",\"ActivityCoefficient\"], strict=True)"
   ]
  },
  {
   "cell_type": "markdown",
   "metadata": {},
   "source": [
    "## ThermoML Hmix and Density of binary mixtures"
   ]
  },
  {
   "cell_type": "markdown",
   "metadata": {},
   "source": [
    "### Filtering"
   ]
  },
  {
   "cell_type": "code",
   "execution_count": null,
   "metadata": {},
   "outputs": [
    {
     "name": "stdout",
     "output_type": "stream",
     "text": [
      "3348\n",
      "3348\n"
     ]
    }
   ],
   "source": [
    "# Hmix + density\n",
    "tml_hd_usable= FilterByPropertyTypes.apply(filtered_dataset, hmix_dens_strict_schema)\n",
    "print(len(tml_hd_usable))\n",
    "\n",
    "# save for future use\n",
    "tml_hmix_dens_path = Path(f'filtered_merged/tml_filtered_hd_usable.json')\n",
    "tml_hd_usable.json(tml_hmix_dens_path, format=True)\n",
    "\n",
    "df_hmix_dens=tml_hd_usable.to_pandas()\n",
    "df_hmix_dens.to_csv(f'filtered_merged/tml_hd_usable_database.csv',index=False)"
   ]
  },
  {
   "cell_type": "code",
   "execution_count": null,
   "metadata": {},
   "outputs": [
    {
     "ename": "KeyError",
     "evalue": "'Pressure (kPa)'",
     "output_type": "error",
     "traceback": [
      "\u001b[0;31m---------------------------------------------------------------------------\u001b[0m",
      "\u001b[0;31mKeyError\u001b[0m                                  Traceback (most recent call last)",
      "File \u001b[0;32m~/miniconda3/envs/evaluator-openff/lib/python3.10/site-packages/pandas/core/indexes/base.py:3802\u001b[0m, in \u001b[0;36mIndex.get_loc\u001b[0;34m(self, key, method, tolerance)\u001b[0m\n\u001b[1;32m   3801\u001b[0m \u001b[38;5;28;01mtry\u001b[39;00m:\n\u001b[0;32m-> 3802\u001b[0m     \u001b[38;5;28;01mreturn\u001b[39;00m \u001b[38;5;28;43mself\u001b[39;49m\u001b[38;5;241;43m.\u001b[39;49m\u001b[43m_engine\u001b[49m\u001b[38;5;241;43m.\u001b[39;49m\u001b[43mget_loc\u001b[49m\u001b[43m(\u001b[49m\u001b[43mcasted_key\u001b[49m\u001b[43m)\u001b[49m\n\u001b[1;32m   3803\u001b[0m \u001b[38;5;28;01mexcept\u001b[39;00m \u001b[38;5;167;01mKeyError\u001b[39;00m \u001b[38;5;28;01mas\u001b[39;00m err:\n",
      "File \u001b[0;32m~/miniconda3/envs/evaluator-openff/lib/python3.10/site-packages/pandas/_libs/index.pyx:138\u001b[0m, in \u001b[0;36mpandas._libs.index.IndexEngine.get_loc\u001b[0;34m()\u001b[0m\n",
      "File \u001b[0;32m~/miniconda3/envs/evaluator-openff/lib/python3.10/site-packages/pandas/_libs/index.pyx:165\u001b[0m, in \u001b[0;36mpandas._libs.index.IndexEngine.get_loc\u001b[0;34m()\u001b[0m\n",
      "File \u001b[0;32mpandas/_libs/hashtable_class_helper.pxi:5745\u001b[0m, in \u001b[0;36mpandas._libs.hashtable.PyObjectHashTable.get_item\u001b[0;34m()\u001b[0m\n",
      "File \u001b[0;32mpandas/_libs/hashtable_class_helper.pxi:5753\u001b[0m, in \u001b[0;36mpandas._libs.hashtable.PyObjectHashTable.get_item\u001b[0;34m()\u001b[0m\n",
      "\u001b[0;31mKeyError\u001b[0m: 'Pressure (kPa)'",
      "\nThe above exception was the direct cause of the following exception:\n",
      "\u001b[0;31mKeyError\u001b[0m                                  Traceback (most recent call last)",
      "Cell \u001b[0;32mIn[70], line 3\u001b[0m\n\u001b[1;32m      1\u001b[0m \u001b[38;5;66;03m# Hmix only\u001b[39;00m\n\u001b[1;32m      2\u001b[0m data_set_hmix \u001b[38;5;241m=\u001b[39m FilterByPropertyTypes\u001b[38;5;241m.\u001b[39mapply(filtered_dataset, hmix_schema)\n\u001b[0;32m----> 3\u001b[0m data_set_hmix_usable\u001b[38;5;241m=\u001b[39m \u001b[43mFilterByPressure\u001b[49m\u001b[38;5;241;43m.\u001b[39;49m\u001b[43mapply\u001b[49m\u001b[43m(\u001b[49m\u001b[43mdata_set_hmix\u001b[49m\u001b[43m,\u001b[49m\u001b[43m \u001b[49m\u001b[43mpressure_schema\u001b[49m\u001b[43m)\u001b[49m\n\u001b[1;32m      4\u001b[0m tml_hmix_usable\u001b[38;5;241m=\u001b[39m FilterByTemperature\u001b[38;5;241m.\u001b[39mapply(data_set_hmix_usable, temp_schema)\n\u001b[1;32m      5\u001b[0m \u001b[38;5;28mprint\u001b[39m(\u001b[38;5;28mlen\u001b[39m(tml_hmix_usable))\n",
      "File \u001b[0;32m~/miniconda3/envs/evaluator-openff/lib/python3.10/site-packages/openff/evaluator/datasets/curation/components/components.py:85\u001b[0m, in \u001b[0;36mCurationComponent.apply\u001b[0;34m(cls, data_set, schema, n_processes)\u001b[0m\n\u001b[1;32m     82\u001b[0m \u001b[38;5;28;01mif\u001b[39;00m \u001b[38;5;28misinstance\u001b[39m(data_frame, PhysicalPropertyDataSet):\n\u001b[1;32m     83\u001b[0m     data_frame \u001b[38;5;241m=\u001b[39m data_frame\u001b[38;5;241m.\u001b[39mto_pandas()\n\u001b[0;32m---> 85\u001b[0m modified_data_frame \u001b[38;5;241m=\u001b[39m \u001b[38;5;28;43mcls\u001b[39;49m\u001b[38;5;241;43m.\u001b[39;49m\u001b[43m_apply\u001b[49m\u001b[43m(\u001b[49m\u001b[43mdata_frame\u001b[49m\u001b[43m,\u001b[49m\u001b[43m \u001b[49m\u001b[43mschema\u001b[49m\u001b[43m,\u001b[49m\u001b[43m \u001b[49m\u001b[43mn_processes\u001b[49m\u001b[43m)\u001b[49m\n\u001b[1;32m     87\u001b[0m n_data_points \u001b[38;5;241m=\u001b[39m \u001b[38;5;28mlen\u001b[39m(data_frame)\n\u001b[1;32m     88\u001b[0m n_filtered \u001b[38;5;241m=\u001b[39m \u001b[38;5;28mlen\u001b[39m(modified_data_frame)\n",
      "File \u001b[0;32m~/miniconda3/envs/evaluator-openff/lib/python3.10/site-packages/openff/evaluator/datasets/curation/components/filtering.py:232\u001b[0m, in \u001b[0;36mFilterByPressure._apply\u001b[0;34m(cls, data_frame, schema, n_processes)\u001b[0m\n\u001b[1;32m    228\u001b[0m filtered_frame \u001b[38;5;241m=\u001b[39m data_frame\n\u001b[1;32m    230\u001b[0m \u001b[38;5;28;01mif\u001b[39;00m schema\u001b[38;5;241m.\u001b[39mminimum_pressure \u001b[38;5;129;01mis\u001b[39;00m \u001b[38;5;129;01mnot\u001b[39;00m \u001b[38;5;28;01mNone\u001b[39;00m:\n\u001b[1;32m    231\u001b[0m     filtered_frame \u001b[38;5;241m=\u001b[39m filtered_frame[\n\u001b[0;32m--> 232\u001b[0m         schema\u001b[38;5;241m.\u001b[39mminimum_pressure \u001b[38;5;241m<\u001b[39m \u001b[43mfiltered_frame\u001b[49m\u001b[43m[\u001b[49m\u001b[38;5;124;43m\"\u001b[39;49m\u001b[38;5;124;43mPressure (kPa)\u001b[39;49m\u001b[38;5;124;43m\"\u001b[39;49m\u001b[43m]\u001b[49m\n\u001b[1;32m    233\u001b[0m     ]\n\u001b[1;32m    235\u001b[0m \u001b[38;5;28;01mif\u001b[39;00m schema\u001b[38;5;241m.\u001b[39mmaximum_pressure \u001b[38;5;129;01mis\u001b[39;00m \u001b[38;5;129;01mnot\u001b[39;00m \u001b[38;5;28;01mNone\u001b[39;00m:\n\u001b[1;32m    236\u001b[0m     filtered_frame \u001b[38;5;241m=\u001b[39m filtered_frame[\n\u001b[1;32m    237\u001b[0m         filtered_frame[\u001b[38;5;124m\"\u001b[39m\u001b[38;5;124mPressure (kPa)\u001b[39m\u001b[38;5;124m\"\u001b[39m] \u001b[38;5;241m<\u001b[39m schema\u001b[38;5;241m.\u001b[39mmaximum_pressure\n\u001b[1;32m    238\u001b[0m     ]\n",
      "File \u001b[0;32m~/miniconda3/envs/evaluator-openff/lib/python3.10/site-packages/pandas/core/frame.py:3807\u001b[0m, in \u001b[0;36mDataFrame.__getitem__\u001b[0;34m(self, key)\u001b[0m\n\u001b[1;32m   3805\u001b[0m \u001b[38;5;28;01mif\u001b[39;00m \u001b[38;5;28mself\u001b[39m\u001b[38;5;241m.\u001b[39mcolumns\u001b[38;5;241m.\u001b[39mnlevels \u001b[38;5;241m>\u001b[39m \u001b[38;5;241m1\u001b[39m:\n\u001b[1;32m   3806\u001b[0m     \u001b[38;5;28;01mreturn\u001b[39;00m \u001b[38;5;28mself\u001b[39m\u001b[38;5;241m.\u001b[39m_getitem_multilevel(key)\n\u001b[0;32m-> 3807\u001b[0m indexer \u001b[38;5;241m=\u001b[39m \u001b[38;5;28;43mself\u001b[39;49m\u001b[38;5;241;43m.\u001b[39;49m\u001b[43mcolumns\u001b[49m\u001b[38;5;241;43m.\u001b[39;49m\u001b[43mget_loc\u001b[49m\u001b[43m(\u001b[49m\u001b[43mkey\u001b[49m\u001b[43m)\u001b[49m\n\u001b[1;32m   3808\u001b[0m \u001b[38;5;28;01mif\u001b[39;00m is_integer(indexer):\n\u001b[1;32m   3809\u001b[0m     indexer \u001b[38;5;241m=\u001b[39m [indexer]\n",
      "File \u001b[0;32m~/miniconda3/envs/evaluator-openff/lib/python3.10/site-packages/pandas/core/indexes/base.py:3804\u001b[0m, in \u001b[0;36mIndex.get_loc\u001b[0;34m(self, key, method, tolerance)\u001b[0m\n\u001b[1;32m   3802\u001b[0m     \u001b[38;5;28;01mreturn\u001b[39;00m \u001b[38;5;28mself\u001b[39m\u001b[38;5;241m.\u001b[39m_engine\u001b[38;5;241m.\u001b[39mget_loc(casted_key)\n\u001b[1;32m   3803\u001b[0m \u001b[38;5;28;01mexcept\u001b[39;00m \u001b[38;5;167;01mKeyError\u001b[39;00m \u001b[38;5;28;01mas\u001b[39;00m err:\n\u001b[0;32m-> 3804\u001b[0m     \u001b[38;5;28;01mraise\u001b[39;00m \u001b[38;5;167;01mKeyError\u001b[39;00m(key) \u001b[38;5;28;01mfrom\u001b[39;00m \u001b[38;5;21;01merr\u001b[39;00m\n\u001b[1;32m   3805\u001b[0m \u001b[38;5;28;01mexcept\u001b[39;00m \u001b[38;5;167;01mTypeError\u001b[39;00m:\n\u001b[1;32m   3806\u001b[0m     \u001b[38;5;66;03m# If we have a listlike key, _check_indexing_error will raise\u001b[39;00m\n\u001b[1;32m   3807\u001b[0m     \u001b[38;5;66;03m#  InvalidIndexError. Otherwise we fall through and re-raise\u001b[39;00m\n\u001b[1;32m   3808\u001b[0m     \u001b[38;5;66;03m#  the TypeError.\u001b[39;00m\n\u001b[1;32m   3809\u001b[0m     \u001b[38;5;28mself\u001b[39m\u001b[38;5;241m.\u001b[39m_check_indexing_error(key)\n",
      "\u001b[0;31mKeyError\u001b[0m: 'Pressure (kPa)'"
     ]
    }
   ],
   "source": [
    "# Hmix only\n",
    "tml_hmix_usable = FilterByPropertyTypes.apply(filtered_dataset, hmix_schema)\n",
    "print(len(tml_hmix_usable))\n",
    "\n",
    "# save for future use\n",
    "tml_hmix_path = Path(f'filtered_merged/tml_filtered_hmix_usable.json')\n",
    "tml_hmix_usable.json(tml_hmix_path, format=True)\n",
    "\n",
    "df_hmix=tml_hmix_usable.to_pandas()\n",
    "df_hmix.to_csv(f'filtered_merged/tml_hmix_usable_database.csv',index=False)"
   ]
  },
  {
   "cell_type": "code",
   "execution_count": null,
   "metadata": {},
   "outputs": [
    {
     "name": "stdout",
     "output_type": "stream",
     "text": [
      "3348\n"
     ]
    }
   ],
   "source": [
    "# Density only\n",
    "tml_dens_usable= FilterByPropertyTypes.apply(filtered_dataset, dens_schema)\n",
    "print(len(tml_dens_usable))\n",
    "\n",
    "# save for future use\n",
    "tml_dens_path = Path(f'filtered_merged/tml_filtered_dens_usable.json')\n",
    "tml_dens_usable.json(tml_dens_path, format=True)\n",
    "\n",
    "df_dens=tml_dens_usable.to_pandas()\n",
    "df_dens.to_csv(f'filtered_merged/tml_dens_usable_database.csv',index=False)"
   ]
  },
  {
   "cell_type": "code",
   "execution_count": null,
   "metadata": {},
   "outputs": [
    {
     "name": "stdout",
     "output_type": "stream",
     "text": [
      "ThermoML - Number of initial data points: 3348\n",
      "ThermoML - Number of hmix+density data points: 14908\n",
      "ThermoML - Number of hmix data points: 12789\n",
      "ThermoML - Number of density data points: 3348\n"
     ]
    }
   ],
   "source": [
    "print(f'ThermoML - Number of initial data points: {len(filtered_dataset)}')\n",
    "print(f'ThermoML - Number of hmix+density data points: {len(tml_hd_usable)}')\n",
    "print(f'ThermoML - Number of hmix data points: {len(tml_hmix_usable)}')\n",
    "print(f'ThermoML - Number of density data points: {len(tml_dens_usable)}')"
   ]
  },
  {
   "cell_type": "markdown",
   "metadata": {},
   "source": [
    "### Get data information"
   ]
  },
  {
   "cell_type": "markdown",
   "metadata": {},
   "source": [
    "#### Functions"
   ]
  },
  {
   "cell_type": "code",
   "execution_count": null,
   "metadata": {},
   "outputs": [],
   "source": [
    "def get_unique_temperature_pressure_for_mixtures(data, component_columns=['Component 1', 'Component 2']):\n",
    "    \"\"\"\n",
    "    Loops through a dataframe and returns a dictionary where each unique\n",
    "    combination of specified component columns is a key. The value for each key is \n",
    "    a dictionary containing a unique list of tuples with temperatures and pressures for that mixture \n",
    "    and the count of occurrences of each unique mixture.\n",
    "\n",
    "    Parameters:\n",
    "    - data (pd.DataFrame): DataFrame containing the data\n",
    "    - component_columns (list): List of column names representing the mixture components\n",
    "                                 Defaults to ['Component 1', 'Component 2', 'Component 3'].\n",
    "\n",
    "    Returns:\n",
    "    - dict: A dictionary with unique mixtures as keys and a dictionary with temperature-pressure\n",
    "            information and counts as values.\n",
    "    \"\"\"\n",
    "    mixtures_dict = {}\n",
    "    unique_mixtures = set()\n",
    "\n",
    "\n",
    "    for _, row in data.iterrows():\n",
    "        # Create a tuple of the mixture components\n",
    "        mixture_key = tuple(row[component] for component in component_columns)\n",
    "\n",
    "        # Add to unique mixtures set (ignores duplicates)\n",
    "        unique_mixtures.add(mixture_key)\n",
    "        \n",
    "        # Extract temperature and pressure\n",
    "        temp_pressure = (row['Temperature (K)'], row['Pressure (kPa)'])\n",
    "        \n",
    "        # Only add to the dictionary if both temperature and pressure are valid numbers\n",
    "        if not (math.isnan(temp_pressure[0]) or math.isnan(temp_pressure[1])):\n",
    "            if mixture_key not in mixtures_dict:\n",
    "                mixtures_dict[mixture_key] = {\"temp_pressures\": set(), \"count\": 0}\n",
    "            \n",
    "            # Add the temperature-pressure pair and increment the count\n",
    "            mixtures_dict[mixture_key][\"temp_pressures\"].add(temp_pressure)\n",
    "            mixtures_dict[mixture_key][\"count\"] += 1\n",
    "\n",
    "    # Convert the sets back to lists for readability\n",
    "    mixtures_dict = {\n",
    "        key: {\"temp_pressures\": list(value[\"temp_pressures\"]), \"count\": value[\"count\"]}\n",
    "        for key, value in mixtures_dict.items()\n",
    "    }\n",
    "    \n",
    "    # Add deduplicated list of unique mixtures\n",
    "    mixtures_dict['unique_mixtures'] = list(unique_mixtures)\n",
    "    \n",
    "    return mixtures_dict\n"
   ]
  },
  {
   "cell_type": "code",
   "execution_count": null,
   "metadata": {},
   "outputs": [],
   "source": [
    "def get_uniquemixs_counts(dataframe, properties):\n",
    "    # Get the unique mixtures data with counts\n",
    "    uniquemixs_temps_press = get_unique_temperature_pressure_for_mixtures(dataframe)\n",
    "\n",
    "    # Prepare data for saving to a CSV file, excluding the 'unique_mixtures' entry itself\n",
    "    mixtures_list = []\n",
    "\n",
    "    for mixture, details in uniquemixs_temps_press.items():\n",
    "        # Skip the 'unique_mixtures' key as it's not part of the temperature/pressure data\n",
    "        if mixture == 'unique_mixtures':\n",
    "            continue\n",
    "        # Extract temperature-pressure pairs and count for each mixture\n",
    "        count = details[\"count\"]\n",
    "        for temp, press in details[\"temp_pressures\"]:\n",
    "            mixtures_list.append({\n",
    "                \"Mixture\": \" | \".join([str(comp) for comp in mixture if pd.notna(comp)]),\n",
    "                \"Temperature\": temp,\n",
    "                \"Pressure\": press,\n",
    "                \"Count\": count\n",
    "            })\n",
    "\n",
    "    # Convert to DataFrame\n",
    "    mixtures_df = pd.DataFrame(mixtures_list)\n",
    "\n",
    "    # Save to CSV with the additional 'Count' column\n",
    "    output_path = f'filtered_merged/tml_uniqmixs_thermo_{properties}.csv'\n",
    "    mixtures_df.to_csv(output_path, index=False)\n",
    "\n",
    "    # Prepare a list to store each unique mixture and its count for the CSV\n",
    "    umixs_list = [\n",
    "        {\n",
    "            \"Mixture\": \" | \".join([str(comp) for comp in mixture if pd.notna(comp)]),\n",
    "            \"Count\": uniquemixs_temps_press[mixture][\"count\"]\n",
    "        }\n",
    "        for mixture in uniquemixs_temps_press[\"unique_mixtures\"]\n",
    "    ]\n",
    "\n",
    "    # Convert to DataFrame\n",
    "    hmix_umixtures_df = pd.DataFrame(umixs_list)\n",
    "\n",
    "    # Save to CSV with the additional 'Count' column\n",
    "    output_path2 = f'filtered_merged/tml_uniqmixs_{properties}.csv'\n",
    "    hmix_umixtures_df.to_csv(output_path2, index=False)\n",
    "\n",
    "    print(f'ThermoML - Number of {properties} mixtures: {len(umixs_list)}')"
   ]
  },
  {
   "cell_type": "code",
   "execution_count": null,
   "metadata": {},
   "outputs": [],
   "source": [
    "def get_smiles(data_set_choice):\n",
    "    print(f'Number of initial data points: {len(data_set_choice)}')\n",
    "    subs=list(set(data_set_choice.substances))\n",
    "    print(f'Number of individual mixtures: {len(subs)}')\n",
    "    smiles_list=[]\n",
    "    comps=[]\n",
    "\n",
    "    for i in subs:\n",
    "        if len(i.components) == 3:\n",
    "            comps.append(i.components[0].smiles)\n",
    "            comps.append(i.components[1].smiles)\n",
    "            comps.append(i.components[2].smiles)\n",
    "        elif len(i.components) == 2:\n",
    "            comps.append(i.components[0].smiles)\n",
    "            comps.append(i.components[1].smiles)\n",
    "        elif len(i.components) == 1:\n",
    "            comps.append(i.components[0].smiles)\n",
    "\n",
    "    # comps.remove('O')\n",
    "\n",
    "    [smiles_list.append(o) for o in set(comps)]\n",
    "\n",
    "    print(f'Number of individual components: {len(smiles_list)}')\n",
    "\n",
    "    return(smiles_list)"
   ]
  },
  {
   "cell_type": "code",
   "execution_count": null,
   "metadata": {},
   "outputs": [],
   "source": [
    "def get_indiv_comps(database, properties):\n",
    "    indiv_compnts=get_smiles(database)\n",
    "    indiv_compnts_df=pd.DataFrame(indiv_compnts)\n",
    "    indiv_compnts_df.to_csv(f'filtered_merged/tml_indivcomps_{properties}.csv')"
   ]
  },
  {
   "cell_type": "markdown",
   "metadata": {},
   "source": [
    "#### Hmix + dens"
   ]
  },
  {
   "cell_type": "code",
   "execution_count": null,
   "metadata": {},
   "outputs": [
    {
     "name": "stdout",
     "output_type": "stream",
     "text": [
      "Number of initial data points: 14908\n",
      "Number of individual mixtures: 10003\n",
      "Number of individual components: 97\n",
      "ThermoML - Number of hd mixtures: 278\n"
     ]
    }
   ],
   "source": [
    "get_indiv_comps(tml_hd_usable, 'hd')\n",
    "get_uniquemixs_counts(df_hmix_dens, 'hd')"
   ]
  },
  {
   "cell_type": "code",
   "execution_count": null,
   "metadata": {},
   "outputs": [
    {
     "name": "stdout",
     "output_type": "stream",
     "text": [
      "Number of initial data points: 12789\n",
      "Number of individual mixtures: 11206\n",
      "Number of individual components: 206\n",
      "ThermoML - Number of hmix mixtures: 585\n"
     ]
    }
   ],
   "source": [
    "get_indiv_comps(tml_hmix_usable, 'hmix')\n",
    "get_uniquemixs_counts(df_hmix, 'hmix')"
   ]
  },
  {
   "cell_type": "code",
   "execution_count": null,
   "metadata": {},
   "outputs": [
    {
     "name": "stdout",
     "output_type": "stream",
     "text": [
      "Number of initial data points: 3348\n",
      "Number of individual mixtures: 972\n",
      "Number of individual components: 71\n",
      "ThermoML - Number of dens mixtures: 83\n"
     ]
    }
   ],
   "source": [
    "get_indiv_comps(tml_dens_usable, 'dens')\n",
    "get_uniquemixs_counts(df_dens, 'dens')"
   ]
  },
  {
   "cell_type": "markdown",
   "metadata": {},
   "source": [
    "## ThermoML Osmotic and Activity Coefficients"
   ]
  },
  {
   "cell_type": "markdown",
   "metadata": {},
   "source": [
    "### FIltering"
   ]
  },
  {
   "cell_type": "code",
   "execution_count": null,
   "metadata": {},
   "outputs": [
    {
     "name": "stdout",
     "output_type": "stream",
     "text": [
      "0\n"
     ]
    },
    {
     "ename": "KeyError",
     "evalue": "'N Components'",
     "output_type": "error",
     "traceback": [
      "\u001b[0;31m---------------------------------------------------------------------------\u001b[0m",
      "\u001b[0;31mKeyError\u001b[0m                                  Traceback (most recent call last)",
      "File \u001b[0;32m~/miniconda3/envs/evaluator-openff/lib/python3.10/site-packages/pandas/core/indexes/base.py:3802\u001b[0m, in \u001b[0;36mIndex.get_loc\u001b[0;34m(self, key, method, tolerance)\u001b[0m\n\u001b[1;32m   3801\u001b[0m \u001b[38;5;28;01mtry\u001b[39;00m:\n\u001b[0;32m-> 3802\u001b[0m     \u001b[38;5;28;01mreturn\u001b[39;00m \u001b[38;5;28;43mself\u001b[39;49m\u001b[38;5;241;43m.\u001b[39;49m\u001b[43m_engine\u001b[49m\u001b[38;5;241;43m.\u001b[39;49m\u001b[43mget_loc\u001b[49m\u001b[43m(\u001b[49m\u001b[43mcasted_key\u001b[49m\u001b[43m)\u001b[49m\n\u001b[1;32m   3803\u001b[0m \u001b[38;5;28;01mexcept\u001b[39;00m \u001b[38;5;167;01mKeyError\u001b[39;00m \u001b[38;5;28;01mas\u001b[39;00m err:\n",
      "File \u001b[0;32m~/miniconda3/envs/evaluator-openff/lib/python3.10/site-packages/pandas/_libs/index.pyx:138\u001b[0m, in \u001b[0;36mpandas._libs.index.IndexEngine.get_loc\u001b[0;34m()\u001b[0m\n",
      "File \u001b[0;32m~/miniconda3/envs/evaluator-openff/lib/python3.10/site-packages/pandas/_libs/index.pyx:165\u001b[0m, in \u001b[0;36mpandas._libs.index.IndexEngine.get_loc\u001b[0;34m()\u001b[0m\n",
      "File \u001b[0;32mpandas/_libs/hashtable_class_helper.pxi:5745\u001b[0m, in \u001b[0;36mpandas._libs.hashtable.PyObjectHashTable.get_item\u001b[0;34m()\u001b[0m\n",
      "File \u001b[0;32mpandas/_libs/hashtable_class_helper.pxi:5753\u001b[0m, in \u001b[0;36mpandas._libs.hashtable.PyObjectHashTable.get_item\u001b[0;34m()\u001b[0m\n",
      "\u001b[0;31mKeyError\u001b[0m: 'N Components'",
      "\nThe above exception was the direct cause of the following exception:\n",
      "\u001b[0;31mKeyError\u001b[0m                                  Traceback (most recent call last)",
      "Cell \u001b[0;32mIn[80], line 4\u001b[0m\n\u001b[1;32m      2\u001b[0m tml_oc_ac\u001b[38;5;241m=\u001b[39m FilterByPropertyTypes\u001b[38;5;241m.\u001b[39mapply(filtered_dataset, oc_ac_schema)\n\u001b[1;32m      3\u001b[0m \u001b[38;5;28mprint\u001b[39m(\u001b[38;5;28mlen\u001b[39m(tml_oc_ac))\n\u001b[0;32m----> 4\u001b[0m tml_2comps\u001b[38;5;241m=\u001b[39m \u001b[43mFilterByNComponents\u001b[49m\u001b[38;5;241;43m.\u001b[39;49m\u001b[43mapply\u001b[49m\u001b[43m(\u001b[49m\u001b[43mtml_oc_ac\u001b[49m\u001b[43m,\u001b[49m\u001b[43m \u001b[49m\u001b[43mncomp_schema\u001b[49m\u001b[43m)\u001b[49m\n\u001b[1;32m      5\u001b[0m \u001b[38;5;28mprint\u001b[39m(\u001b[38;5;28mlen\u001b[39m(tml_2comps))\n",
      "File \u001b[0;32m~/miniconda3/envs/evaluator-openff/lib/python3.10/site-packages/openff/evaluator/datasets/curation/components/components.py:85\u001b[0m, in \u001b[0;36mCurationComponent.apply\u001b[0;34m(cls, data_set, schema, n_processes)\u001b[0m\n\u001b[1;32m     82\u001b[0m \u001b[38;5;28;01mif\u001b[39;00m \u001b[38;5;28misinstance\u001b[39m(data_frame, PhysicalPropertyDataSet):\n\u001b[1;32m     83\u001b[0m     data_frame \u001b[38;5;241m=\u001b[39m data_frame\u001b[38;5;241m.\u001b[39mto_pandas()\n\u001b[0;32m---> 85\u001b[0m modified_data_frame \u001b[38;5;241m=\u001b[39m \u001b[38;5;28;43mcls\u001b[39;49m\u001b[38;5;241;43m.\u001b[39;49m\u001b[43m_apply\u001b[49m\u001b[43m(\u001b[49m\u001b[43mdata_frame\u001b[49m\u001b[43m,\u001b[49m\u001b[43m \u001b[49m\u001b[43mschema\u001b[49m\u001b[43m,\u001b[49m\u001b[43m \u001b[49m\u001b[43mn_processes\u001b[49m\u001b[43m)\u001b[49m\n\u001b[1;32m     87\u001b[0m n_data_points \u001b[38;5;241m=\u001b[39m \u001b[38;5;28mlen\u001b[39m(data_frame)\n\u001b[1;32m     88\u001b[0m n_filtered \u001b[38;5;241m=\u001b[39m \u001b[38;5;28mlen\u001b[39m(modified_data_frame)\n",
      "File \u001b[0;32m~/miniconda3/envs/evaluator-openff/lib/python3.10/site-packages/openff/evaluator/datasets/curation/components/filtering.py:962\u001b[0m, in \u001b[0;36mFilterByNComponents._apply\u001b[0;34m(cls, data_frame, schema, n_processes)\u001b[0m\n\u001b[1;32m    955\u001b[0m \u001b[38;5;129m@classmethod\u001b[39m\n\u001b[1;32m    956\u001b[0m \u001b[38;5;28;01mdef\u001b[39;00m \u001b[38;5;21m_apply\u001b[39m(\n\u001b[1;32m    957\u001b[0m     \u001b[38;5;28mcls\u001b[39m,\n\u001b[0;32m   (...)\u001b[0m\n\u001b[1;32m    960\u001b[0m     n_processes,\n\u001b[1;32m    961\u001b[0m ) \u001b[38;5;241m-\u001b[39m\u001b[38;5;241m>\u001b[39m pandas\u001b[38;5;241m.\u001b[39mDataFrame:\n\u001b[0;32m--> 962\u001b[0m     \u001b[38;5;28;01mreturn\u001b[39;00m data_frame[\u001b[43mdata_frame\u001b[49m\u001b[43m[\u001b[49m\u001b[38;5;124;43m\"\u001b[39;49m\u001b[38;5;124;43mN Components\u001b[39;49m\u001b[38;5;124;43m\"\u001b[39;49m\u001b[43m]\u001b[49m\u001b[38;5;241m.\u001b[39misin(schema\u001b[38;5;241m.\u001b[39mn_components)]\n",
      "File \u001b[0;32m~/miniconda3/envs/evaluator-openff/lib/python3.10/site-packages/pandas/core/frame.py:3807\u001b[0m, in \u001b[0;36mDataFrame.__getitem__\u001b[0;34m(self, key)\u001b[0m\n\u001b[1;32m   3805\u001b[0m \u001b[38;5;28;01mif\u001b[39;00m \u001b[38;5;28mself\u001b[39m\u001b[38;5;241m.\u001b[39mcolumns\u001b[38;5;241m.\u001b[39mnlevels \u001b[38;5;241m>\u001b[39m \u001b[38;5;241m1\u001b[39m:\n\u001b[1;32m   3806\u001b[0m     \u001b[38;5;28;01mreturn\u001b[39;00m \u001b[38;5;28mself\u001b[39m\u001b[38;5;241m.\u001b[39m_getitem_multilevel(key)\n\u001b[0;32m-> 3807\u001b[0m indexer \u001b[38;5;241m=\u001b[39m \u001b[38;5;28;43mself\u001b[39;49m\u001b[38;5;241;43m.\u001b[39;49m\u001b[43mcolumns\u001b[49m\u001b[38;5;241;43m.\u001b[39;49m\u001b[43mget_loc\u001b[49m\u001b[43m(\u001b[49m\u001b[43mkey\u001b[49m\u001b[43m)\u001b[49m\n\u001b[1;32m   3808\u001b[0m \u001b[38;5;28;01mif\u001b[39;00m is_integer(indexer):\n\u001b[1;32m   3809\u001b[0m     indexer \u001b[38;5;241m=\u001b[39m [indexer]\n",
      "File \u001b[0;32m~/miniconda3/envs/evaluator-openff/lib/python3.10/site-packages/pandas/core/indexes/base.py:3804\u001b[0m, in \u001b[0;36mIndex.get_loc\u001b[0;34m(self, key, method, tolerance)\u001b[0m\n\u001b[1;32m   3802\u001b[0m     \u001b[38;5;28;01mreturn\u001b[39;00m \u001b[38;5;28mself\u001b[39m\u001b[38;5;241m.\u001b[39m_engine\u001b[38;5;241m.\u001b[39mget_loc(casted_key)\n\u001b[1;32m   3803\u001b[0m \u001b[38;5;28;01mexcept\u001b[39;00m \u001b[38;5;167;01mKeyError\u001b[39;00m \u001b[38;5;28;01mas\u001b[39;00m err:\n\u001b[0;32m-> 3804\u001b[0m     \u001b[38;5;28;01mraise\u001b[39;00m \u001b[38;5;167;01mKeyError\u001b[39;00m(key) \u001b[38;5;28;01mfrom\u001b[39;00m \u001b[38;5;21;01merr\u001b[39;00m\n\u001b[1;32m   3805\u001b[0m \u001b[38;5;28;01mexcept\u001b[39;00m \u001b[38;5;167;01mTypeError\u001b[39;00m:\n\u001b[1;32m   3806\u001b[0m     \u001b[38;5;66;03m# If we have a listlike key, _check_indexing_error will raise\u001b[39;00m\n\u001b[1;32m   3807\u001b[0m     \u001b[38;5;66;03m#  InvalidIndexError. Otherwise we fall through and re-raise\u001b[39;00m\n\u001b[1;32m   3808\u001b[0m     \u001b[38;5;66;03m#  the TypeError.\u001b[39;00m\n\u001b[1;32m   3809\u001b[0m     \u001b[38;5;28mself\u001b[39m\u001b[38;5;241m.\u001b[39m_check_indexing_error(key)\n",
      "\u001b[0;31mKeyError\u001b[0m: 'N Components'"
     ]
    }
   ],
   "source": [
    "# Osmotic + Activity\n",
    "tml_ocac_usable= FilterByPropertyTypes.apply(filtered_dataset, oc_ac_strict_schema)\n",
    "print(len(tml_ocac_usable))\n",
    "\n",
    "# save for future use\n",
    "tml_ocac_path = Path(f'filtered_merged/tml_filtered_ocac_usable.json')\n",
    "tml_ocac_usable.json(tml_ocac_path, format=True)\n",
    "\n",
    "df_ocac=tml_ocac_usable.to_pandas()\n",
    "df_ocac.to_csv(f'filtered_merged/tml_ocac_usable_database.csv',index=False)"
   ]
  },
  {
   "cell_type": "code",
   "execution_count": null,
   "metadata": {},
   "outputs": [
    {
     "ename": "KeyError",
     "evalue": "'Pressure (kPa)'",
     "output_type": "error",
     "traceback": [
      "\u001b[0;31m---------------------------------------------------------------------------\u001b[0m",
      "\u001b[0;31mKeyError\u001b[0m                                  Traceback (most recent call last)",
      "File \u001b[0;32m~/miniconda3/envs/evaluator-openff/lib/python3.10/site-packages/pandas/core/indexes/base.py:3802\u001b[0m, in \u001b[0;36mIndex.get_loc\u001b[0;34m(self, key, method, tolerance)\u001b[0m\n\u001b[1;32m   3801\u001b[0m \u001b[38;5;28;01mtry\u001b[39;00m:\n\u001b[0;32m-> 3802\u001b[0m     \u001b[38;5;28;01mreturn\u001b[39;00m \u001b[38;5;28;43mself\u001b[39;49m\u001b[38;5;241;43m.\u001b[39;49m\u001b[43m_engine\u001b[49m\u001b[38;5;241;43m.\u001b[39;49m\u001b[43mget_loc\u001b[49m\u001b[43m(\u001b[49m\u001b[43mcasted_key\u001b[49m\u001b[43m)\u001b[49m\n\u001b[1;32m   3803\u001b[0m \u001b[38;5;28;01mexcept\u001b[39;00m \u001b[38;5;167;01mKeyError\u001b[39;00m \u001b[38;5;28;01mas\u001b[39;00m err:\n",
      "File \u001b[0;32m~/miniconda3/envs/evaluator-openff/lib/python3.10/site-packages/pandas/_libs/index.pyx:138\u001b[0m, in \u001b[0;36mpandas._libs.index.IndexEngine.get_loc\u001b[0;34m()\u001b[0m\n",
      "File \u001b[0;32m~/miniconda3/envs/evaluator-openff/lib/python3.10/site-packages/pandas/_libs/index.pyx:165\u001b[0m, in \u001b[0;36mpandas._libs.index.IndexEngine.get_loc\u001b[0;34m()\u001b[0m\n",
      "File \u001b[0;32mpandas/_libs/hashtable_class_helper.pxi:5745\u001b[0m, in \u001b[0;36mpandas._libs.hashtable.PyObjectHashTable.get_item\u001b[0;34m()\u001b[0m\n",
      "File \u001b[0;32mpandas/_libs/hashtable_class_helper.pxi:5753\u001b[0m, in \u001b[0;36mpandas._libs.hashtable.PyObjectHashTable.get_item\u001b[0;34m()\u001b[0m\n",
      "\u001b[0;31mKeyError\u001b[0m: 'Pressure (kPa)'",
      "\nThe above exception was the direct cause of the following exception:\n",
      "\u001b[0;31mKeyError\u001b[0m                                  Traceback (most recent call last)",
      "Cell \u001b[0;32mIn[82], line 3\u001b[0m\n\u001b[1;32m      1\u001b[0m \u001b[38;5;66;03m# Osmotic only\u001b[39;00m\n\u001b[1;32m      2\u001b[0m tml_oc_ds \u001b[38;5;241m=\u001b[39m FilterByPropertyTypes\u001b[38;5;241m.\u001b[39mapply(tml_data_set, osmotic_schema)\n\u001b[0;32m----> 3\u001b[0m tml_oc_press\u001b[38;5;241m=\u001b[39m \u001b[43mFilterByPressure\u001b[49m\u001b[38;5;241;43m.\u001b[39;49m\u001b[43mapply\u001b[49m\u001b[43m(\u001b[49m\u001b[43mtml_oc_ds\u001b[49m\u001b[43m,\u001b[49m\u001b[43m \u001b[49m\u001b[43mpressure_schema\u001b[49m\u001b[43m)\u001b[49m\n\u001b[1;32m      4\u001b[0m tml_oc_usable\u001b[38;5;241m=\u001b[39m FilterByTemperature\u001b[38;5;241m.\u001b[39mapply(tml_oc_press, temp_schema)\n\u001b[1;32m      5\u001b[0m \u001b[38;5;28mprint\u001b[39m(\u001b[38;5;28mlen\u001b[39m(tml_oc_usable))\n",
      "File \u001b[0;32m~/miniconda3/envs/evaluator-openff/lib/python3.10/site-packages/openff/evaluator/datasets/curation/components/components.py:85\u001b[0m, in \u001b[0;36mCurationComponent.apply\u001b[0;34m(cls, data_set, schema, n_processes)\u001b[0m\n\u001b[1;32m     82\u001b[0m \u001b[38;5;28;01mif\u001b[39;00m \u001b[38;5;28misinstance\u001b[39m(data_frame, PhysicalPropertyDataSet):\n\u001b[1;32m     83\u001b[0m     data_frame \u001b[38;5;241m=\u001b[39m data_frame\u001b[38;5;241m.\u001b[39mto_pandas()\n\u001b[0;32m---> 85\u001b[0m modified_data_frame \u001b[38;5;241m=\u001b[39m \u001b[38;5;28;43mcls\u001b[39;49m\u001b[38;5;241;43m.\u001b[39;49m\u001b[43m_apply\u001b[49m\u001b[43m(\u001b[49m\u001b[43mdata_frame\u001b[49m\u001b[43m,\u001b[49m\u001b[43m \u001b[49m\u001b[43mschema\u001b[49m\u001b[43m,\u001b[49m\u001b[43m \u001b[49m\u001b[43mn_processes\u001b[49m\u001b[43m)\u001b[49m\n\u001b[1;32m     87\u001b[0m n_data_points \u001b[38;5;241m=\u001b[39m \u001b[38;5;28mlen\u001b[39m(data_frame)\n\u001b[1;32m     88\u001b[0m n_filtered \u001b[38;5;241m=\u001b[39m \u001b[38;5;28mlen\u001b[39m(modified_data_frame)\n",
      "File \u001b[0;32m~/miniconda3/envs/evaluator-openff/lib/python3.10/site-packages/openff/evaluator/datasets/curation/components/filtering.py:232\u001b[0m, in \u001b[0;36mFilterByPressure._apply\u001b[0;34m(cls, data_frame, schema, n_processes)\u001b[0m\n\u001b[1;32m    228\u001b[0m filtered_frame \u001b[38;5;241m=\u001b[39m data_frame\n\u001b[1;32m    230\u001b[0m \u001b[38;5;28;01mif\u001b[39;00m schema\u001b[38;5;241m.\u001b[39mminimum_pressure \u001b[38;5;129;01mis\u001b[39;00m \u001b[38;5;129;01mnot\u001b[39;00m \u001b[38;5;28;01mNone\u001b[39;00m:\n\u001b[1;32m    231\u001b[0m     filtered_frame \u001b[38;5;241m=\u001b[39m filtered_frame[\n\u001b[0;32m--> 232\u001b[0m         schema\u001b[38;5;241m.\u001b[39mminimum_pressure \u001b[38;5;241m<\u001b[39m \u001b[43mfiltered_frame\u001b[49m\u001b[43m[\u001b[49m\u001b[38;5;124;43m\"\u001b[39;49m\u001b[38;5;124;43mPressure (kPa)\u001b[39;49m\u001b[38;5;124;43m\"\u001b[39;49m\u001b[43m]\u001b[49m\n\u001b[1;32m    233\u001b[0m     ]\n\u001b[1;32m    235\u001b[0m \u001b[38;5;28;01mif\u001b[39;00m schema\u001b[38;5;241m.\u001b[39mmaximum_pressure \u001b[38;5;129;01mis\u001b[39;00m \u001b[38;5;129;01mnot\u001b[39;00m \u001b[38;5;28;01mNone\u001b[39;00m:\n\u001b[1;32m    236\u001b[0m     filtered_frame \u001b[38;5;241m=\u001b[39m filtered_frame[\n\u001b[1;32m    237\u001b[0m         filtered_frame[\u001b[38;5;124m\"\u001b[39m\u001b[38;5;124mPressure (kPa)\u001b[39m\u001b[38;5;124m\"\u001b[39m] \u001b[38;5;241m<\u001b[39m schema\u001b[38;5;241m.\u001b[39mmaximum_pressure\n\u001b[1;32m    238\u001b[0m     ]\n",
      "File \u001b[0;32m~/miniconda3/envs/evaluator-openff/lib/python3.10/site-packages/pandas/core/frame.py:3807\u001b[0m, in \u001b[0;36mDataFrame.__getitem__\u001b[0;34m(self, key)\u001b[0m\n\u001b[1;32m   3805\u001b[0m \u001b[38;5;28;01mif\u001b[39;00m \u001b[38;5;28mself\u001b[39m\u001b[38;5;241m.\u001b[39mcolumns\u001b[38;5;241m.\u001b[39mnlevels \u001b[38;5;241m>\u001b[39m \u001b[38;5;241m1\u001b[39m:\n\u001b[1;32m   3806\u001b[0m     \u001b[38;5;28;01mreturn\u001b[39;00m \u001b[38;5;28mself\u001b[39m\u001b[38;5;241m.\u001b[39m_getitem_multilevel(key)\n\u001b[0;32m-> 3807\u001b[0m indexer \u001b[38;5;241m=\u001b[39m \u001b[38;5;28;43mself\u001b[39;49m\u001b[38;5;241;43m.\u001b[39;49m\u001b[43mcolumns\u001b[49m\u001b[38;5;241;43m.\u001b[39;49m\u001b[43mget_loc\u001b[49m\u001b[43m(\u001b[49m\u001b[43mkey\u001b[49m\u001b[43m)\u001b[49m\n\u001b[1;32m   3808\u001b[0m \u001b[38;5;28;01mif\u001b[39;00m is_integer(indexer):\n\u001b[1;32m   3809\u001b[0m     indexer \u001b[38;5;241m=\u001b[39m [indexer]\n",
      "File \u001b[0;32m~/miniconda3/envs/evaluator-openff/lib/python3.10/site-packages/pandas/core/indexes/base.py:3804\u001b[0m, in \u001b[0;36mIndex.get_loc\u001b[0;34m(self, key, method, tolerance)\u001b[0m\n\u001b[1;32m   3802\u001b[0m     \u001b[38;5;28;01mreturn\u001b[39;00m \u001b[38;5;28mself\u001b[39m\u001b[38;5;241m.\u001b[39m_engine\u001b[38;5;241m.\u001b[39mget_loc(casted_key)\n\u001b[1;32m   3803\u001b[0m \u001b[38;5;28;01mexcept\u001b[39;00m \u001b[38;5;167;01mKeyError\u001b[39;00m \u001b[38;5;28;01mas\u001b[39;00m err:\n\u001b[0;32m-> 3804\u001b[0m     \u001b[38;5;28;01mraise\u001b[39;00m \u001b[38;5;167;01mKeyError\u001b[39;00m(key) \u001b[38;5;28;01mfrom\u001b[39;00m \u001b[38;5;21;01merr\u001b[39;00m\n\u001b[1;32m   3805\u001b[0m \u001b[38;5;28;01mexcept\u001b[39;00m \u001b[38;5;167;01mTypeError\u001b[39;00m:\n\u001b[1;32m   3806\u001b[0m     \u001b[38;5;66;03m# If we have a listlike key, _check_indexing_error will raise\u001b[39;00m\n\u001b[1;32m   3807\u001b[0m     \u001b[38;5;66;03m#  InvalidIndexError. Otherwise we fall through and re-raise\u001b[39;00m\n\u001b[1;32m   3808\u001b[0m     \u001b[38;5;66;03m#  the TypeError.\u001b[39;00m\n\u001b[1;32m   3809\u001b[0m     \u001b[38;5;28mself\u001b[39m\u001b[38;5;241m.\u001b[39m_check_indexing_error(key)\n",
      "\u001b[0;31mKeyError\u001b[0m: 'Pressure (kPa)'"
     ]
    }
   ],
   "source": [
    "# Osmotic only\n",
    "tml_oc_usable = FilterByPropertyTypes.apply(filtered_dataset, osmotic_schema)\n",
    "print(len(tml_oc_usable))\n",
    "\n",
    "# save for future use\n",
    "tml_oc_path = Path(f'filtered_merged/tml_filtered_oc_usable.json')\n",
    "tml_oc_usable.json(tml_oc_path, format=True)\n",
    "\n",
    "df_oc=tml_oc_usable.to_pandas()\n",
    "df_oc.to_csv(f'filtered_merged/tml_oc_usable_database.csv',index=False)"
   ]
  },
  {
   "cell_type": "code",
   "execution_count": null,
   "metadata": {},
   "outputs": [
    {
     "ename": "KeyError",
     "evalue": "'Pressure (kPa)'",
     "output_type": "error",
     "traceback": [
      "\u001b[0;31m---------------------------------------------------------------------------\u001b[0m",
      "\u001b[0;31mKeyError\u001b[0m                                  Traceback (most recent call last)",
      "File \u001b[0;32m~/miniconda3/envs/evaluator-openff/lib/python3.10/site-packages/pandas/core/indexes/base.py:3802\u001b[0m, in \u001b[0;36mIndex.get_loc\u001b[0;34m(self, key, method, tolerance)\u001b[0m\n\u001b[1;32m   3801\u001b[0m \u001b[38;5;28;01mtry\u001b[39;00m:\n\u001b[0;32m-> 3802\u001b[0m     \u001b[38;5;28;01mreturn\u001b[39;00m \u001b[38;5;28;43mself\u001b[39;49m\u001b[38;5;241;43m.\u001b[39;49m\u001b[43m_engine\u001b[49m\u001b[38;5;241;43m.\u001b[39;49m\u001b[43mget_loc\u001b[49m\u001b[43m(\u001b[49m\u001b[43mcasted_key\u001b[49m\u001b[43m)\u001b[49m\n\u001b[1;32m   3803\u001b[0m \u001b[38;5;28;01mexcept\u001b[39;00m \u001b[38;5;167;01mKeyError\u001b[39;00m \u001b[38;5;28;01mas\u001b[39;00m err:\n",
      "File \u001b[0;32m~/miniconda3/envs/evaluator-openff/lib/python3.10/site-packages/pandas/_libs/index.pyx:138\u001b[0m, in \u001b[0;36mpandas._libs.index.IndexEngine.get_loc\u001b[0;34m()\u001b[0m\n",
      "File \u001b[0;32m~/miniconda3/envs/evaluator-openff/lib/python3.10/site-packages/pandas/_libs/index.pyx:165\u001b[0m, in \u001b[0;36mpandas._libs.index.IndexEngine.get_loc\u001b[0;34m()\u001b[0m\n",
      "File \u001b[0;32mpandas/_libs/hashtable_class_helper.pxi:5745\u001b[0m, in \u001b[0;36mpandas._libs.hashtable.PyObjectHashTable.get_item\u001b[0;34m()\u001b[0m\n",
      "File \u001b[0;32mpandas/_libs/hashtable_class_helper.pxi:5753\u001b[0m, in \u001b[0;36mpandas._libs.hashtable.PyObjectHashTable.get_item\u001b[0;34m()\u001b[0m\n",
      "\u001b[0;31mKeyError\u001b[0m: 'Pressure (kPa)'",
      "\nThe above exception was the direct cause of the following exception:\n",
      "\u001b[0;31mKeyError\u001b[0m                                  Traceback (most recent call last)",
      "Cell \u001b[0;32mIn[83], line 3\u001b[0m\n\u001b[1;32m      1\u001b[0m \u001b[38;5;66;03m# Activity only\u001b[39;00m\n\u001b[1;32m      2\u001b[0m tml_ac_ds \u001b[38;5;241m=\u001b[39m FilterByPropertyTypes\u001b[38;5;241m.\u001b[39mapply(tml_data_set, activity_schema)\n\u001b[0;32m----> 3\u001b[0m tml_ac_press\u001b[38;5;241m=\u001b[39m \u001b[43mFilterByPressure\u001b[49m\u001b[38;5;241;43m.\u001b[39;49m\u001b[43mapply\u001b[49m\u001b[43m(\u001b[49m\u001b[43mtml_ac_ds\u001b[49m\u001b[43m,\u001b[49m\u001b[43m \u001b[49m\u001b[43mpressure_schema\u001b[49m\u001b[43m)\u001b[49m\n\u001b[1;32m      4\u001b[0m tml_ac_usable\u001b[38;5;241m=\u001b[39m FilterByTemperature\u001b[38;5;241m.\u001b[39mapply(tml_ac_press, temp_schema)\n\u001b[1;32m      5\u001b[0m \u001b[38;5;28mprint\u001b[39m(\u001b[38;5;28mlen\u001b[39m(tml_ac_usable))\n",
      "File \u001b[0;32m~/miniconda3/envs/evaluator-openff/lib/python3.10/site-packages/openff/evaluator/datasets/curation/components/components.py:85\u001b[0m, in \u001b[0;36mCurationComponent.apply\u001b[0;34m(cls, data_set, schema, n_processes)\u001b[0m\n\u001b[1;32m     82\u001b[0m \u001b[38;5;28;01mif\u001b[39;00m \u001b[38;5;28misinstance\u001b[39m(data_frame, PhysicalPropertyDataSet):\n\u001b[1;32m     83\u001b[0m     data_frame \u001b[38;5;241m=\u001b[39m data_frame\u001b[38;5;241m.\u001b[39mto_pandas()\n\u001b[0;32m---> 85\u001b[0m modified_data_frame \u001b[38;5;241m=\u001b[39m \u001b[38;5;28;43mcls\u001b[39;49m\u001b[38;5;241;43m.\u001b[39;49m\u001b[43m_apply\u001b[49m\u001b[43m(\u001b[49m\u001b[43mdata_frame\u001b[49m\u001b[43m,\u001b[49m\u001b[43m \u001b[49m\u001b[43mschema\u001b[49m\u001b[43m,\u001b[49m\u001b[43m \u001b[49m\u001b[43mn_processes\u001b[49m\u001b[43m)\u001b[49m\n\u001b[1;32m     87\u001b[0m n_data_points \u001b[38;5;241m=\u001b[39m \u001b[38;5;28mlen\u001b[39m(data_frame)\n\u001b[1;32m     88\u001b[0m n_filtered \u001b[38;5;241m=\u001b[39m \u001b[38;5;28mlen\u001b[39m(modified_data_frame)\n",
      "File \u001b[0;32m~/miniconda3/envs/evaluator-openff/lib/python3.10/site-packages/openff/evaluator/datasets/curation/components/filtering.py:232\u001b[0m, in \u001b[0;36mFilterByPressure._apply\u001b[0;34m(cls, data_frame, schema, n_processes)\u001b[0m\n\u001b[1;32m    228\u001b[0m filtered_frame \u001b[38;5;241m=\u001b[39m data_frame\n\u001b[1;32m    230\u001b[0m \u001b[38;5;28;01mif\u001b[39;00m schema\u001b[38;5;241m.\u001b[39mminimum_pressure \u001b[38;5;129;01mis\u001b[39;00m \u001b[38;5;129;01mnot\u001b[39;00m \u001b[38;5;28;01mNone\u001b[39;00m:\n\u001b[1;32m    231\u001b[0m     filtered_frame \u001b[38;5;241m=\u001b[39m filtered_frame[\n\u001b[0;32m--> 232\u001b[0m         schema\u001b[38;5;241m.\u001b[39mminimum_pressure \u001b[38;5;241m<\u001b[39m \u001b[43mfiltered_frame\u001b[49m\u001b[43m[\u001b[49m\u001b[38;5;124;43m\"\u001b[39;49m\u001b[38;5;124;43mPressure (kPa)\u001b[39;49m\u001b[38;5;124;43m\"\u001b[39;49m\u001b[43m]\u001b[49m\n\u001b[1;32m    233\u001b[0m     ]\n\u001b[1;32m    235\u001b[0m \u001b[38;5;28;01mif\u001b[39;00m schema\u001b[38;5;241m.\u001b[39mmaximum_pressure \u001b[38;5;129;01mis\u001b[39;00m \u001b[38;5;129;01mnot\u001b[39;00m \u001b[38;5;28;01mNone\u001b[39;00m:\n\u001b[1;32m    236\u001b[0m     filtered_frame \u001b[38;5;241m=\u001b[39m filtered_frame[\n\u001b[1;32m    237\u001b[0m         filtered_frame[\u001b[38;5;124m\"\u001b[39m\u001b[38;5;124mPressure (kPa)\u001b[39m\u001b[38;5;124m\"\u001b[39m] \u001b[38;5;241m<\u001b[39m schema\u001b[38;5;241m.\u001b[39mmaximum_pressure\n\u001b[1;32m    238\u001b[0m     ]\n",
      "File \u001b[0;32m~/miniconda3/envs/evaluator-openff/lib/python3.10/site-packages/pandas/core/frame.py:3807\u001b[0m, in \u001b[0;36mDataFrame.__getitem__\u001b[0;34m(self, key)\u001b[0m\n\u001b[1;32m   3805\u001b[0m \u001b[38;5;28;01mif\u001b[39;00m \u001b[38;5;28mself\u001b[39m\u001b[38;5;241m.\u001b[39mcolumns\u001b[38;5;241m.\u001b[39mnlevels \u001b[38;5;241m>\u001b[39m \u001b[38;5;241m1\u001b[39m:\n\u001b[1;32m   3806\u001b[0m     \u001b[38;5;28;01mreturn\u001b[39;00m \u001b[38;5;28mself\u001b[39m\u001b[38;5;241m.\u001b[39m_getitem_multilevel(key)\n\u001b[0;32m-> 3807\u001b[0m indexer \u001b[38;5;241m=\u001b[39m \u001b[38;5;28;43mself\u001b[39;49m\u001b[38;5;241;43m.\u001b[39;49m\u001b[43mcolumns\u001b[49m\u001b[38;5;241;43m.\u001b[39;49m\u001b[43mget_loc\u001b[49m\u001b[43m(\u001b[49m\u001b[43mkey\u001b[49m\u001b[43m)\u001b[49m\n\u001b[1;32m   3808\u001b[0m \u001b[38;5;28;01mif\u001b[39;00m is_integer(indexer):\n\u001b[1;32m   3809\u001b[0m     indexer \u001b[38;5;241m=\u001b[39m [indexer]\n",
      "File \u001b[0;32m~/miniconda3/envs/evaluator-openff/lib/python3.10/site-packages/pandas/core/indexes/base.py:3804\u001b[0m, in \u001b[0;36mIndex.get_loc\u001b[0;34m(self, key, method, tolerance)\u001b[0m\n\u001b[1;32m   3802\u001b[0m     \u001b[38;5;28;01mreturn\u001b[39;00m \u001b[38;5;28mself\u001b[39m\u001b[38;5;241m.\u001b[39m_engine\u001b[38;5;241m.\u001b[39mget_loc(casted_key)\n\u001b[1;32m   3803\u001b[0m \u001b[38;5;28;01mexcept\u001b[39;00m \u001b[38;5;167;01mKeyError\u001b[39;00m \u001b[38;5;28;01mas\u001b[39;00m err:\n\u001b[0;32m-> 3804\u001b[0m     \u001b[38;5;28;01mraise\u001b[39;00m \u001b[38;5;167;01mKeyError\u001b[39;00m(key) \u001b[38;5;28;01mfrom\u001b[39;00m \u001b[38;5;21;01merr\u001b[39;00m\n\u001b[1;32m   3805\u001b[0m \u001b[38;5;28;01mexcept\u001b[39;00m \u001b[38;5;167;01mTypeError\u001b[39;00m:\n\u001b[1;32m   3806\u001b[0m     \u001b[38;5;66;03m# If we have a listlike key, _check_indexing_error will raise\u001b[39;00m\n\u001b[1;32m   3807\u001b[0m     \u001b[38;5;66;03m#  InvalidIndexError. Otherwise we fall through and re-raise\u001b[39;00m\n\u001b[1;32m   3808\u001b[0m     \u001b[38;5;66;03m#  the TypeError.\u001b[39;00m\n\u001b[1;32m   3809\u001b[0m     \u001b[38;5;28mself\u001b[39m\u001b[38;5;241m.\u001b[39m_check_indexing_error(key)\n",
      "\u001b[0;31mKeyError\u001b[0m: 'Pressure (kPa)'"
     ]
    }
   ],
   "source": [
    "# Activity only\n",
    "tml_ac_usable = FilterByPropertyTypes.apply(filtered_dataset, activity_schema)\n",
    "print(len(tml_ac_usable))\n",
    "\n",
    "# save for future use\n",
    "tml_ac_path = Path(f'filtered_merged/tml_filtered_ac_usable.json')\n",
    "tml_ac_usable.json(tml_ac_path, format=True)\n",
    "\n",
    "df_ac=tml_ac_usable.to_pandas()\n",
    "df_ac.to_csv(f'filtered_merged/tml_ac_usable_database.csv',index=False)"
   ]
  },
  {
   "cell_type": "markdown",
   "metadata": {},
   "source": [
    "### Get data information"
   ]
  },
  {
   "cell_type": "code",
   "execution_count": null,
   "metadata": {},
   "outputs": [
    {
     "ename": "NameError",
     "evalue": "name 'tml_ocac_usable' is not defined",
     "output_type": "error",
     "traceback": [
      "\u001b[0;31m---------------------------------------------------------------------------\u001b[0m",
      "\u001b[0;31mNameError\u001b[0m                                 Traceback (most recent call last)",
      "Cell \u001b[0;32mIn[44], line 1\u001b[0m\n\u001b[0;32m----> 1\u001b[0m get_indiv_comps(\u001b[43mtml_ocac_usable\u001b[49m, \u001b[38;5;124m'\u001b[39m\u001b[38;5;124mocac\u001b[39m\u001b[38;5;124m'\u001b[39m)\n\u001b[1;32m      2\u001b[0m get_uniquemixs_counts(df_ocac, \u001b[38;5;124m'\u001b[39m\u001b[38;5;124mocac\u001b[39m\u001b[38;5;124m'\u001b[39m)\n",
      "\u001b[0;31mNameError\u001b[0m: name 'tml_ocac_usable' is not defined"
     ]
    }
   ],
   "source": [
    "get_indiv_comps(tml_ocac_usable, 'ocac')\n",
    "get_uniquemixs_counts(df_ocac, 'ocac')"
   ]
  },
  {
   "cell_type": "code",
   "execution_count": null,
   "metadata": {},
   "outputs": [
    {
     "name": "stdout",
     "output_type": "stream",
     "text": [
      "Number of initial data points: 1822\n",
      "Number of individual mixtures: 1297\n",
      "Number of individual components: 53\n",
      "ThermoML - Number of oc mixtures: 96\n"
     ]
    }
   ],
   "source": [
    "get_indiv_comps(tml_oc_usable, 'oc')\n",
    "get_uniquemixs_counts(df_oc, 'oc')"
   ]
  },
  {
   "cell_type": "code",
   "execution_count": null,
   "metadata": {},
   "outputs": [
    {
     "name": "stdout",
     "output_type": "stream",
     "text": [
      "Number of initial data points: 9108\n",
      "Number of individual mixtures: 333\n",
      "Number of individual components: 99\n",
      "ThermoML - Number of ac mixtures: 99\n"
     ]
    }
   ],
   "source": [
    "get_indiv_comps(tml_ac_usable, 'ac')\n",
    "get_uniquemixs_counts(df_ac, 'ac')"
   ]
  },
  {
   "cell_type": "code",
   "execution_count": null,
   "metadata": {},
   "outputs": [],
   "source": []
  }
 ],
 "metadata": {
  "kernelspec": {
   "display_name": "evaluator-openff",
   "language": "python",
   "name": "python3"
  },
  "language_info": {
   "codemirror_mode": {
    "name": "ipython",
    "version": 3
   },
   "file_extension": ".py",
   "mimetype": "text/x-python",
   "name": "python",
   "nbconvert_exporter": "python",
   "pygments_lexer": "ipython3",
   "version": "3.10.13"
  }
 },
 "nbformat": 4,
 "nbformat_minor": 2
}
